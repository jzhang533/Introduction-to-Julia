{
 "cells": [
  {
   "cell_type": "markdown",
   "metadata": {},
   "source": [
    "# Julia is fast\n",
    "\n",
    "Very often, benchmarks are used to compare languages.  These benchmarks can lead to long discussions, first as to exactly what is being benchmarked and secondly what explains the differences.  These simple questions can sometimes get more complicated than you at first might imagine.\n",
    "\n",
    "The purpose of this notebook is for you to see a simple benchmark for yourself.  One can read the notebook and see what happened on the author's Macbook Pro with a 4-core Intel Core I7, or run the notebook yourself.\n",
    "\n",
    "(This material began life as a wonderful lecture by Steven Johnson at MIT: https://github.com/stevengj/18S096/blob/master/lectures/lecture1/Boxes-and-registers.ipynb.)"
   ]
  },
  {
   "cell_type": "markdown",
   "metadata": {},
   "source": [
    "# Outline of this notebook\n",
    "\n",
    "- Define the sum function\n",
    "- Implementations & benchmarking of sum in...\n",
    "    - C (hand-written)\n",
    "    - C (hand-written with -ffast-math)\n",
    "    - python (built-in)\n",
    "    - python (numpy)\n",
    "    - python (hand-written)\n",
    "    - Julia (built-in)\n",
    "    - Julia (hand-written)\n",
    "    - Julia (hand-written with SIMD)\n",
    "- Summary of benchmarks"
   ]
  },
  {
   "cell_type": "markdown",
   "metadata": {},
   "source": [
    "# `sum`: An easy enough function to understand"
   ]
  },
  {
   "cell_type": "markdown",
   "metadata": {},
   "source": [
    "Consider the  **sum** function `sum(a)`, which computes\n",
    "$$\n",
    "\\mathrm{sum}(a) = \\sum_{i=1}^n a_i,\n",
    "$$\n",
    "where $n$ is the length of `a`."
   ]
  },
  {
   "cell_type": "code",
   "execution_count": 1,
   "metadata": {},
   "outputs": [
    {
     "data": {
      "text/plain": [
       "10000000-element Vector{Float64}:\n",
       " 0.5012541803539059\n",
       " 0.9933609203401452\n",
       " 0.3944893180676192\n",
       " 0.2446035212262776\n",
       " 0.8143940529013705\n",
       " 0.032887372314962526\n",
       " 0.8262733282856822\n",
       " 0.3912114710559349\n",
       " 0.43529567366601785\n",
       " 0.1542058799204118\n",
       " 0.05746977526966601\n",
       " 0.18317127845215508\n",
       " 0.6431322872083249\n",
       " ⋮\n",
       " 0.4063528564437253\n",
       " 0.026866494828949206\n",
       " 0.9339921977019192\n",
       " 0.310028849252449\n",
       " 0.739042234752626\n",
       " 0.1699746236340145\n",
       " 0.9504883470305974\n",
       " 0.7248007274709465\n",
       " 0.36192938797492036\n",
       " 0.7400797699007593\n",
       " 0.6721029424239575\n",
       " 0.06318143950068444"
      ]
     },
     "execution_count": 1,
     "metadata": {},
     "output_type": "execute_result"
    }
   ],
   "source": [
    "a = rand(10^7) # 1D vector of random numbers, uniform on [0,1)"
   ]
  },
  {
   "cell_type": "code",
   "execution_count": 2,
   "metadata": {},
   "outputs": [
    {
     "data": {
      "text/plain": [
       "5.001596529905331e6"
      ]
     },
     "execution_count": 2,
     "metadata": {},
     "output_type": "execute_result"
    }
   ],
   "source": [
    "sum(a)"
   ]
  },
  {
   "cell_type": "markdown",
   "metadata": {},
   "source": [
    "The expected result is 0.5 * 10^7, since the mean of each entry is 0.5"
   ]
  },
  {
   "cell_type": "markdown",
   "metadata": {},
   "source": [
    "# Benchmarking a few ways in a few languages"
   ]
  },
  {
   "cell_type": "code",
   "execution_count": 3,
   "metadata": {},
   "outputs": [
    {
     "name": "stdout",
     "output_type": "stream",
     "text": [
      "  0.005433 seconds (1 allocation: 16 bytes)\n"
     ]
    },
    {
     "data": {
      "text/plain": [
       "5.001596529905331e6"
      ]
     },
     "execution_count": 3,
     "metadata": {},
     "output_type": "execute_result"
    }
   ],
   "source": [
    "@time sum(a)"
   ]
  },
  {
   "cell_type": "code",
   "execution_count": 4,
   "metadata": {},
   "outputs": [
    {
     "name": "stdout",
     "output_type": "stream",
     "text": [
      "  0.006755 seconds (1 allocation: 16 bytes)\n"
     ]
    },
    {
     "data": {
      "text/plain": [
       "5.001596529905331e6"
      ]
     },
     "execution_count": 4,
     "metadata": {},
     "output_type": "execute_result"
    }
   ],
   "source": [
    "@time sum(a)"
   ]
  },
  {
   "cell_type": "code",
   "execution_count": 5,
   "metadata": {},
   "outputs": [
    {
     "name": "stdout",
     "output_type": "stream",
     "text": [
      "  0.005820 seconds (1 allocation: 16 bytes)\n"
     ]
    },
    {
     "data": {
      "text/plain": [
       "5.001596529905331e6"
      ]
     },
     "execution_count": 5,
     "metadata": {},
     "output_type": "execute_result"
    }
   ],
   "source": [
    "@time sum(a)"
   ]
  },
  {
   "cell_type": "markdown",
   "metadata": {},
   "source": [
    "The `@time` macro can yield noisy results, so it's not our best choice for benchmarking!\n",
    "\n",
    "Luckily, Julia has a `BenchmarkTools.jl` package to make benchmarking easy and accurate:"
   ]
  },
  {
   "cell_type": "code",
   "execution_count": null,
   "metadata": {},
   "outputs": [],
   "source": [
    "using Pkg\n",
    "Pkg.add(\"BenchmarkTools\")"
   ]
  },
  {
   "cell_type": "code",
   "execution_count": 7,
   "metadata": {},
   "outputs": [],
   "source": [
    "using BenchmarkTools  "
   ]
  },
  {
   "cell_type": "markdown",
   "metadata": {},
   "source": [
    "#  1. The C language\n",
    "\n",
    "C is often considered the gold standard: difficult on the human, nice for the machine. Getting within a factor of 2 of C is often satisfying. Nonetheless, even within C, there are many kinds of optimizations possible that a naive C writer may or may not get the advantage of.\n",
    "\n",
    "The current author does not speak C, so he does not read the cell below, but is happy to know that you can put C code in a Julia session, compile it, and run it. Note that the `\"\"\"` wrap a multi-line string."
   ]
  },
  {
   "cell_type": "code",
   "execution_count": 8,
   "metadata": {},
   "outputs": [
    {
     "data": {
      "text/plain": [
       "c_sum (generic function with 1 method)"
      ]
     },
     "execution_count": 8,
     "metadata": {},
     "output_type": "execute_result"
    }
   ],
   "source": [
    "using Libdl\n",
    "C_code = \"\"\"\n",
    "#include <stddef.h>\n",
    "double c_sum(size_t n, double *X) {\n",
    "    double s = 0.0;\n",
    "    for (size_t i = 0; i < n; ++i) {\n",
    "        s += X[i];\n",
    "    }\n",
    "    return s;\n",
    "}\n",
    "\"\"\"\n",
    "\n",
    "const Clib = tempname()   # make a temporary file\n",
    "\n",
    "\n",
    "# compile to a shared library by piping C_code to gcc\n",
    "# (works only if you have gcc installed):\n",
    "\n",
    "open(`gcc -fPIC -O3 -msse3 -xc -shared -o $(Clib * \".\" * Libdl.dlext) -`, \"w\") do f\n",
    "    print(f, C_code) \n",
    "end\n",
    "\n",
    "# define a Julia function that calls the C function:\n",
    "c_sum(X::Array{Float64}) = ccall((\"c_sum\", Clib), Float64, (Csize_t, Ptr{Float64}), length(X), X)"
   ]
  },
  {
   "cell_type": "code",
   "execution_count": 9,
   "metadata": {},
   "outputs": [
    {
     "data": {
      "text/plain": [
       "5.001596529905427e6"
      ]
     },
     "execution_count": 9,
     "metadata": {},
     "output_type": "execute_result"
    }
   ],
   "source": [
    "c_sum(a)"
   ]
  },
  {
   "cell_type": "code",
   "execution_count": 10,
   "metadata": {},
   "outputs": [
    {
     "data": {
      "text/plain": [
       "true"
      ]
     },
     "execution_count": 10,
     "metadata": {},
     "output_type": "execute_result"
    }
   ],
   "source": [
    "c_sum(a) ≈ sum(a) # type \\approx and then <TAB> to get the ≈ symbolb"
   ]
  },
  {
   "cell_type": "code",
   "execution_count": 11,
   "metadata": {},
   "outputs": [
    {
     "data": {
      "text/plain": [
       "9.592622518539429e-8"
      ]
     },
     "execution_count": 11,
     "metadata": {},
     "output_type": "execute_result"
    }
   ],
   "source": [
    "c_sum(a) - sum(a)  "
   ]
  },
  {
   "cell_type": "code",
   "execution_count": 12,
   "metadata": {
    "scrolled": true
   },
   "outputs": [
    {
     "data": {
      "text/plain": [
       "isapprox (generic function with 9 methods)"
      ]
     },
     "execution_count": 12,
     "metadata": {},
     "output_type": "execute_result"
    }
   ],
   "source": [
    "≈  # alias for the `isapprox` function"
   ]
  },
  {
   "cell_type": "code",
   "execution_count": 13,
   "metadata": {
    "scrolled": true
   },
   "outputs": [
    {
     "name": "stdout",
     "output_type": "stream",
     "text": [
      "search: \u001b[0m\u001b[1mi\u001b[22m\u001b[0m\u001b[1ms\u001b[22m\u001b[0m\u001b[1ma\u001b[22m\u001b[0m\u001b[1mp\u001b[22m\u001b[0m\u001b[1mp\u001b[22m\u001b[0m\u001b[1mr\u001b[22m\u001b[0m\u001b[1mo\u001b[22m\u001b[0m\u001b[1mx\u001b[22m\n",
      "\n"
     ]
    },
    {
     "data": {
      "text/latex": [
       "\\begin{verbatim}\n",
       "isapprox(x, y; atol::Real=0, rtol::Real=atol>0 ? 0 : √eps, nans::Bool=false[, norm::Function])\n",
       "\\end{verbatim}\n",
       "Inexact equality comparison: \\texttt{true} if \\texttt{norm(x-y) <= max(atol, rtol*max(norm(x), norm(y)))}. The default \\texttt{atol} is zero and the default \\texttt{rtol} depends on the types of \\texttt{x} and \\texttt{y}. The keyword argument \\texttt{nans} determines whether or not NaN values are considered equal (defaults to false).\n",
       "\n",
       "For real or complex floating-point values, if an \\texttt{atol > 0} is not specified, \\texttt{rtol} defaults to the square root of \\href{@ref}{\\texttt{eps}} of the type of \\texttt{x} or \\texttt{y}, whichever is bigger (least precise). This corresponds to requiring equality of about half of the significand digits. Otherwise, e.g. for integer arguments or if an \\texttt{atol > 0} is supplied, \\texttt{rtol} defaults to zero.\n",
       "\n",
       "The \\texttt{norm} keyword defaults to \\texttt{abs} for numeric \\texttt{(x,y)} and to \\texttt{LinearAlgebra.norm} for arrays (where an alternative \\texttt{norm} choice is sometimes useful). When \\texttt{x} and \\texttt{y} are arrays, if \\texttt{norm(x-y)} is not finite (i.e. \\texttt{±Inf} or \\texttt{NaN}), the comparison falls back to checking whether all elements of \\texttt{x} and \\texttt{y} are approximately equal component-wise.\n",
       "\n",
       "The binary operator \\texttt{≈} is equivalent to \\texttt{isapprox} with the default arguments, and \\texttt{x ≉ y} is equivalent to \\texttt{!isapprox(x,y)}.\n",
       "\n",
       "Note that \\texttt{x ≈ 0} (i.e., comparing to zero with the default tolerances) is equivalent to \\texttt{x == 0} since the default \\texttt{atol} is \\texttt{0}.  In such cases, you should either supply an appropriate \\texttt{atol} (or use \\texttt{norm(x) ≤ atol}) or rearrange your code (e.g. use \\texttt{x ≈ y} rather than \\texttt{x - y ≈ 0}).   It is not possible to pick a nonzero \\texttt{atol} automatically because it depends on the overall scaling (the \"units\") of your problem: for example, in \\texttt{x - y ≈ 0}, \\texttt{atol=1e-9} is an absurdly small tolerance if \\texttt{x} is the \\href{https://en.wikipedia.org/wiki/Earth_radius}{radius of the Earth} in meters, but an absurdly large tolerance if \\texttt{x} is the \\href{https://en.wikipedia.org/wiki/Bohr_radius}{radius of a Hydrogen atom} in meters.\n",
       "\n",
       "\\begin{quote}\n",
       "\\textbf{compat}\n",
       "\n",
       "Julia 1.6\n",
       "\n",
       "Passing the \\texttt{norm} keyword argument when comparing numeric (non-array) arguments requires Julia 1.6 or later.\n",
       "\n",
       "\\end{quote}\n",
       "\\section{Examples}\n",
       "\\begin{verbatim}\n",
       "julia> 0.1 ≈ (0.1 - 1e-10)\n",
       "true\n",
       "\n",
       "julia> isapprox(10, 11; atol = 2)\n",
       "true\n",
       "\n",
       "julia> isapprox([10.0^9, 1.0], [10.0^9, 2.0])\n",
       "true\n",
       "\n",
       "julia> 1e-10 ≈ 0\n",
       "false\n",
       "\n",
       "julia> isapprox(1e-10, 0, atol=1e-8)\n",
       "true\n",
       "\\end{verbatim}\n",
       "\\rule{\\textwidth}{1pt}\n",
       "\\begin{verbatim}\n",
       "isapprox(x; kwargs...) / ≈(x; kwargs...)\n",
       "\\end{verbatim}\n",
       "Create a function that compares its argument to \\texttt{x} using \\texttt{≈}, i.e. a function equivalent to \\texttt{y -> y ≈ x}.\n",
       "\n",
       "The keyword arguments supported here are the same as those in the 2-argument \\texttt{isapprox}.\n",
       "\n"
      ],
      "text/markdown": [
       "```\n",
       "isapprox(x, y; atol::Real=0, rtol::Real=atol>0 ? 0 : √eps, nans::Bool=false[, norm::Function])\n",
       "```\n",
       "\n",
       "Inexact equality comparison: `true` if `norm(x-y) <= max(atol, rtol*max(norm(x), norm(y)))`. The default `atol` is zero and the default `rtol` depends on the types of `x` and `y`. The keyword argument `nans` determines whether or not NaN values are considered equal (defaults to false).\n",
       "\n",
       "For real or complex floating-point values, if an `atol > 0` is not specified, `rtol` defaults to the square root of [`eps`](@ref) of the type of `x` or `y`, whichever is bigger (least precise). This corresponds to requiring equality of about half of the significand digits. Otherwise, e.g. for integer arguments or if an `atol > 0` is supplied, `rtol` defaults to zero.\n",
       "\n",
       "The `norm` keyword defaults to `abs` for numeric `(x,y)` and to `LinearAlgebra.norm` for arrays (where an alternative `norm` choice is sometimes useful). When `x` and `y` are arrays, if `norm(x-y)` is not finite (i.e. `±Inf` or `NaN`), the comparison falls back to checking whether all elements of `x` and `y` are approximately equal component-wise.\n",
       "\n",
       "The binary operator `≈` is equivalent to `isapprox` with the default arguments, and `x ≉ y` is equivalent to `!isapprox(x,y)`.\n",
       "\n",
       "Note that `x ≈ 0` (i.e., comparing to zero with the default tolerances) is equivalent to `x == 0` since the default `atol` is `0`.  In such cases, you should either supply an appropriate `atol` (or use `norm(x) ≤ atol`) or rearrange your code (e.g. use `x ≈ y` rather than `x - y ≈ 0`).   It is not possible to pick a nonzero `atol` automatically because it depends on the overall scaling (the \"units\") of your problem: for example, in `x - y ≈ 0`, `atol=1e-9` is an absurdly small tolerance if `x` is the [radius of the Earth](https://en.wikipedia.org/wiki/Earth_radius) in meters, but an absurdly large tolerance if `x` is the [radius of a Hydrogen atom](https://en.wikipedia.org/wiki/Bohr_radius) in meters.\n",
       "\n",
       "!!! compat \"Julia 1.6\"\n",
       "    Passing the `norm` keyword argument when comparing numeric (non-array) arguments requires Julia 1.6 or later.\n",
       "\n",
       "\n",
       "# Examples\n",
       "\n",
       "```jldoctest\n",
       "julia> 0.1 ≈ (0.1 - 1e-10)\n",
       "true\n",
       "\n",
       "julia> isapprox(10, 11; atol = 2)\n",
       "true\n",
       "\n",
       "julia> isapprox([10.0^9, 1.0], [10.0^9, 2.0])\n",
       "true\n",
       "\n",
       "julia> 1e-10 ≈ 0\n",
       "false\n",
       "\n",
       "julia> isapprox(1e-10, 0, atol=1e-8)\n",
       "true\n",
       "```\n",
       "\n",
       "---\n",
       "\n",
       "```\n",
       "isapprox(x; kwargs...) / ≈(x; kwargs...)\n",
       "```\n",
       "\n",
       "Create a function that compares its argument to `x` using `≈`, i.e. a function equivalent to `y -> y ≈ x`.\n",
       "\n",
       "The keyword arguments supported here are the same as those in the 2-argument `isapprox`.\n"
      ],
      "text/plain": [
       "\u001b[36m  isapprox(x, y; atol::Real=0, rtol::Real=atol>0 ? 0 : √eps, nans::Bool=false[, norm::Function])\u001b[39m\n",
       "\n",
       "  Inexact equality comparison: \u001b[36mtrue\u001b[39m if \u001b[36mnorm(x-y) <= max(atol,\n",
       "  rtol*max(norm(x), norm(y)))\u001b[39m. The default \u001b[36matol\u001b[39m is zero and the default \u001b[36mrtol\u001b[39m\n",
       "  depends on the types of \u001b[36mx\u001b[39m and \u001b[36my\u001b[39m. The keyword argument \u001b[36mnans\u001b[39m determines\n",
       "  whether or not NaN values are considered equal (defaults to false).\n",
       "\n",
       "  For real or complex floating-point values, if an \u001b[36matol > 0\u001b[39m is not specified,\n",
       "  \u001b[36mrtol\u001b[39m defaults to the square root of \u001b[36meps\u001b[39m of the type of \u001b[36mx\u001b[39m or \u001b[36my\u001b[39m, whichever is\n",
       "  bigger (least precise). This corresponds to requiring equality of about half\n",
       "  of the significand digits. Otherwise, e.g. for integer arguments or if an\n",
       "  \u001b[36matol > 0\u001b[39m is supplied, \u001b[36mrtol\u001b[39m defaults to zero.\n",
       "\n",
       "  The \u001b[36mnorm\u001b[39m keyword defaults to \u001b[36mabs\u001b[39m for numeric \u001b[36m(x,y)\u001b[39m and to \u001b[36mLinearAlgebra.norm\u001b[39m\n",
       "  for arrays (where an alternative \u001b[36mnorm\u001b[39m choice is sometimes useful). When \u001b[36mx\u001b[39m\n",
       "  and \u001b[36my\u001b[39m are arrays, if \u001b[36mnorm(x-y)\u001b[39m is not finite (i.e. \u001b[36m±Inf\u001b[39m or \u001b[36mNaN\u001b[39m), the\n",
       "  comparison falls back to checking whether all elements of \u001b[36mx\u001b[39m and \u001b[36my\u001b[39m are\n",
       "  approximately equal component-wise.\n",
       "\n",
       "  The binary operator \u001b[36m≈\u001b[39m is equivalent to \u001b[36misapprox\u001b[39m with the default arguments,\n",
       "  and \u001b[36mx ≉ y\u001b[39m is equivalent to \u001b[36m!isapprox(x,y)\u001b[39m.\n",
       "\n",
       "  Note that \u001b[36mx ≈ 0\u001b[39m (i.e., comparing to zero with the default tolerances) is\n",
       "  equivalent to \u001b[36mx == 0\u001b[39m since the default \u001b[36matol\u001b[39m is \u001b[36m0\u001b[39m. In such cases, you should\n",
       "  either supply an appropriate \u001b[36matol\u001b[39m (or use \u001b[36mnorm(x) ≤ atol\u001b[39m) or rearrange your\n",
       "  code (e.g. use \u001b[36mx ≈ y\u001b[39m rather than \u001b[36mx - y ≈ 0\u001b[39m). It is not possible to pick a\n",
       "  nonzero \u001b[36matol\u001b[39m automatically because it depends on the overall scaling (the\n",
       "  \"units\") of your problem: for example, in \u001b[36mx - y ≈ 0\u001b[39m, \u001b[36matol=1e-9\u001b[39m is an\n",
       "  absurdly small tolerance if \u001b[36mx\u001b[39m is the radius of the Earth\n",
       "  (https://en.wikipedia.org/wiki/Earth_radius) in meters, but an absurdly\n",
       "  large tolerance if \u001b[36mx\u001b[39m is the radius of a Hydrogen atom\n",
       "  (https://en.wikipedia.org/wiki/Bohr_radius) in meters.\n",
       "\n",
       "\u001b[39m\u001b[1m  │ \u001b[22m\u001b[39m\u001b[1mJulia 1.6\u001b[22m\n",
       "\u001b[39m\u001b[1m  │\u001b[22m\n",
       "\u001b[39m\u001b[1m  │\u001b[22m  Passing the \u001b[36mnorm\u001b[39m keyword argument when comparing numeric\n",
       "\u001b[39m\u001b[1m  │\u001b[22m  (non-array) arguments requires Julia 1.6 or later.\n",
       "\n",
       "\u001b[1m  Examples\u001b[22m\n",
       "\u001b[1m  ≡≡≡≡≡≡≡≡≡≡\u001b[22m\n",
       "\n",
       "\u001b[36m  julia> 0.1 ≈ (0.1 - 1e-10)\u001b[39m\n",
       "\u001b[36m  true\u001b[39m\n",
       "\u001b[36m  \u001b[39m\n",
       "\u001b[36m  julia> isapprox(10, 11; atol = 2)\u001b[39m\n",
       "\u001b[36m  true\u001b[39m\n",
       "\u001b[36m  \u001b[39m\n",
       "\u001b[36m  julia> isapprox([10.0^9, 1.0], [10.0^9, 2.0])\u001b[39m\n",
       "\u001b[36m  true\u001b[39m\n",
       "\u001b[36m  \u001b[39m\n",
       "\u001b[36m  julia> 1e-10 ≈ 0\u001b[39m\n",
       "\u001b[36m  false\u001b[39m\n",
       "\u001b[36m  \u001b[39m\n",
       "\u001b[36m  julia> isapprox(1e-10, 0, atol=1e-8)\u001b[39m\n",
       "\u001b[36m  true\u001b[39m\n",
       "\n",
       "  ────────────────────────────────────────────────────────────────────────────\n",
       "\n",
       "\u001b[36m  isapprox(x; kwargs...) / ≈(x; kwargs...)\u001b[39m\n",
       "\n",
       "  Create a function that compares its argument to \u001b[36mx\u001b[39m using \u001b[36m≈\u001b[39m, i.e. a function\n",
       "  equivalent to \u001b[36my -> y ≈ x\u001b[39m.\n",
       "\n",
       "  The keyword arguments supported here are the same as those in the 2-argument\n",
       "  \u001b[36misapprox\u001b[39m."
      ]
     },
     "execution_count": 13,
     "metadata": {},
     "output_type": "execute_result"
    }
   ],
   "source": [
    "?isapprox"
   ]
  },
  {
   "cell_type": "markdown",
   "metadata": {},
   "source": [
    "We can now benchmark the C code directly from Julia:"
   ]
  },
  {
   "cell_type": "code",
   "execution_count": null,
   "metadata": {},
   "outputs": [],
   "source": [
    "c_bench = @benchmark c_sum($a)"
   ]
  },
  {
   "cell_type": "code",
   "execution_count": 15,
   "metadata": {},
   "outputs": [
    {
     "name": "stdout",
     "output_type": "stream",
     "text": [
      "C: Fastest time was 11.610195 msec\n"
     ]
    }
   ],
   "source": [
    "println(\"C: Fastest time was $(minimum(c_bench.times) / 1e6) msec\")"
   ]
  },
  {
   "cell_type": "code",
   "execution_count": 16,
   "metadata": {
    "scrolled": true
   },
   "outputs": [
    {
     "data": {
      "text/plain": [
       "Dict{Any, Any} with 1 entry:\n",
       "  \"C\" => 11.6102"
      ]
     },
     "execution_count": 16,
     "metadata": {},
     "output_type": "execute_result"
    }
   ],
   "source": [
    "d = Dict()  # a \"dictionary\", i.e. an associative array\n",
    "d[\"C\"] = minimum(c_bench.times) / 1e6  # in milliseconds\n",
    "d"
   ]
  },
  {
   "cell_type": "code",
   "execution_count": 17,
   "metadata": {
    "scrolled": true
   },
   "outputs": [
    {
     "data": {
      "text/plain": [
       "Plots.GRBackend()"
      ]
     },
     "execution_count": 17,
     "metadata": {},
     "output_type": "execute_result"
    }
   ],
   "source": [
    "using Plots\n",
    "gr()"
   ]
  },
  {
   "cell_type": "code",
   "execution_count": 18,
   "metadata": {},
   "outputs": [
    {
     "data": {
      "image/svg+xml": [
       "<?xml version=\"1.0\" encoding=\"utf-8\"?>\n",
       "<svg xmlns=\"http://www.w3.org/2000/svg\" xmlns:xlink=\"http://www.w3.org/1999/xlink\" width=\"600\" height=\"400\" viewBox=\"0 0 2400 1600\">\n",
       "<defs>\n",
       "  <clipPath id=\"clip140\">\n",
       "    <rect x=\"0\" y=\"0\" width=\"2400\" height=\"1600\"/>\n",
       "  </clipPath>\n",
       "</defs>\n",
       "<path clip-path=\"url(#clip140)\" d=\"\n",
       "M0 1600 L2400 1600 L2400 0 L0 0  Z\n",
       "  \" fill=\"#ffffff\" fill-rule=\"evenodd\" fill-opacity=\"1\"/>\n",
       "<defs>\n",
       "  <clipPath id=\"clip141\">\n",
       "    <rect x=\"480\" y=\"0\" width=\"1681\" height=\"1600\"/>\n",
       "  </clipPath>\n",
       "</defs>\n",
       "<path clip-path=\"url(#clip140)\" d=\"\n",
       "M205.121 1423.18 L2352.76 1423.18 L2352.76 47.2441 L205.121 47.2441  Z\n",
       "  \" fill=\"#ffffff\" fill-rule=\"evenodd\" fill-opacity=\"1\"/>\n",
       "<defs>\n",
       "  <clipPath id=\"clip142\">\n",
       "    <rect x=\"205\" y=\"47\" width=\"2149\" height=\"1377\"/>\n",
       "  </clipPath>\n",
       "</defs>\n",
       "<polyline clip-path=\"url(#clip142)\" style=\"stroke:#000000; stroke-linecap:butt; stroke-linejoin:round; stroke-width:2; stroke-opacity:0.1; fill:none\" points=\"\n",
       "  635.246,1423.18 635.246,47.2441 \n",
       "  \"/>\n",
       "<polyline clip-path=\"url(#clip142)\" style=\"stroke:#000000; stroke-linecap:butt; stroke-linejoin:round; stroke-width:2; stroke-opacity:0.1; fill:none\" points=\"\n",
       "  1173.16,1423.18 1173.16,47.2441 \n",
       "  \"/>\n",
       "<polyline clip-path=\"url(#clip142)\" style=\"stroke:#000000; stroke-linecap:butt; stroke-linejoin:round; stroke-width:2; stroke-opacity:0.1; fill:none\" points=\"\n",
       "  1711.08,1423.18 1711.08,47.2441 \n",
       "  \"/>\n",
       "<polyline clip-path=\"url(#clip142)\" style=\"stroke:#000000; stroke-linecap:butt; stroke-linejoin:round; stroke-width:2; stroke-opacity:0.1; fill:none\" points=\"\n",
       "  2249,1423.18 2249,47.2441 \n",
       "  \"/>\n",
       "<polyline clip-path=\"url(#clip140)\" style=\"stroke:#000000; stroke-linecap:butt; stroke-linejoin:round; stroke-width:4; stroke-opacity:1; fill:none\" points=\"\n",
       "  205.121,1423.18 2352.76,1423.18 \n",
       "  \"/>\n",
       "<polyline clip-path=\"url(#clip140)\" style=\"stroke:#000000; stroke-linecap:butt; stroke-linejoin:round; stroke-width:4; stroke-opacity:1; fill:none\" points=\"\n",
       "  635.246,1423.18 635.246,1404.28 \n",
       "  \"/>\n",
       "<polyline clip-path=\"url(#clip140)\" style=\"stroke:#000000; stroke-linecap:butt; stroke-linejoin:round; stroke-width:4; stroke-opacity:1; fill:none\" points=\"\n",
       "  1173.16,1423.18 1173.16,1404.28 \n",
       "  \"/>\n",
       "<polyline clip-path=\"url(#clip140)\" style=\"stroke:#000000; stroke-linecap:butt; stroke-linejoin:round; stroke-width:4; stroke-opacity:1; fill:none\" points=\"\n",
       "  1711.08,1423.18 1711.08,1404.28 \n",
       "  \"/>\n",
       "<polyline clip-path=\"url(#clip140)\" style=\"stroke:#000000; stroke-linecap:butt; stroke-linejoin:round; stroke-width:4; stroke-opacity:1; fill:none\" points=\"\n",
       "  2249,1423.18 2249,1404.28 \n",
       "  \"/>\n",
       "<path clip-path=\"url(#clip140)\" d=\"M587.318 1479.92 L594.956 1479.92 L594.956 1453.55 L586.646 1455.22 L586.646 1450.96 L594.91 1449.29 L599.586 1449.29 L599.586 1479.92 L607.225 1479.92 L607.225 1483.85 L587.318 1483.85 L587.318 1479.92 Z\" fill=\"#000000\" fill-rule=\"evenodd\" fill-opacity=\"1\" /><path clip-path=\"url(#clip140)\" d=\"M620.697 1479.92 L637.016 1479.92 L637.016 1483.85 L615.072 1483.85 L615.072 1479.92 Q617.734 1477.16 622.317 1472.53 Q626.924 1467.88 628.104 1466.54 Q630.35 1464.01 631.229 1462.28 Q632.132 1460.52 632.132 1458.83 Q632.132 1456.07 630.188 1454.34 Q628.266 1452.6 625.165 1452.6 Q622.966 1452.6 620.512 1453.37 Q618.081 1454.13 615.304 1455.68 L615.304 1450.96 Q618.128 1449.82 620.581 1449.25 Q623.035 1448.67 625.072 1448.67 Q630.442 1448.67 633.637 1451.35 Q636.831 1454.04 636.831 1458.53 Q636.831 1460.66 636.021 1462.58 Q635.234 1464.48 633.128 1467.07 Q632.549 1467.74 629.447 1470.96 Q626.345 1474.15 620.697 1479.92 Z\" fill=\"#000000\" fill-rule=\"evenodd\" fill-opacity=\"1\" /><path clip-path=\"url(#clip140)\" d=\"M646.831 1477.97 L651.715 1477.97 L651.715 1483.85 L646.831 1483.85 L646.831 1477.97 Z\" fill=\"#000000\" fill-rule=\"evenodd\" fill-opacity=\"1\" /><path clip-path=\"url(#clip140)\" d=\"M671.9 1452.37 Q668.289 1452.37 666.461 1455.94 Q664.655 1459.48 664.655 1466.61 Q664.655 1473.71 666.461 1477.28 Q668.289 1480.82 671.9 1480.82 Q675.535 1480.82 677.34 1477.28 Q679.169 1473.71 679.169 1466.61 Q679.169 1459.48 677.34 1455.94 Q675.535 1452.37 671.9 1452.37 M671.9 1448.67 Q677.711 1448.67 680.766 1453.27 Q683.845 1457.86 683.845 1466.61 Q683.845 1475.33 680.766 1479.94 Q677.711 1484.52 671.9 1484.52 Q666.09 1484.52 663.012 1479.94 Q659.956 1475.33 659.956 1466.61 Q659.956 1457.86 663.012 1453.27 Q666.09 1448.67 671.9 1448.67 Z\" fill=\"#000000\" fill-rule=\"evenodd\" fill-opacity=\"1\" /><path clip-path=\"url(#clip140)\" d=\"M1125.73 1479.92 L1133.37 1479.92 L1133.37 1453.55 L1125.06 1455.22 L1125.06 1450.96 L1133.33 1449.29 L1138 1449.29 L1138 1479.92 L1145.64 1479.92 L1145.64 1483.85 L1125.73 1483.85 L1125.73 1479.92 Z\" fill=\"#000000\" fill-rule=\"evenodd\" fill-opacity=\"1\" /><path clip-path=\"url(#clip140)\" d=\"M1159.11 1479.92 L1175.43 1479.92 L1175.43 1483.85 L1153.49 1483.85 L1153.49 1479.92 Q1156.15 1477.16 1160.73 1472.53 Q1165.34 1467.88 1166.52 1466.54 Q1168.77 1464.01 1169.65 1462.28 Q1170.55 1460.52 1170.55 1458.83 Q1170.55 1456.07 1168.6 1454.34 Q1166.68 1452.6 1163.58 1452.6 Q1161.38 1452.6 1158.93 1453.37 Q1156.5 1454.13 1153.72 1455.68 L1153.72 1450.96 Q1156.54 1449.82 1159 1449.25 Q1161.45 1448.67 1163.49 1448.67 Q1168.86 1448.67 1172.05 1451.35 Q1175.25 1454.04 1175.25 1458.53 Q1175.25 1460.66 1174.44 1462.58 Q1173.65 1464.48 1171.54 1467.07 Q1170.96 1467.74 1167.86 1470.96 Q1164.76 1474.15 1159.11 1479.92 Z\" fill=\"#000000\" fill-rule=\"evenodd\" fill-opacity=\"1\" /><path clip-path=\"url(#clip140)\" d=\"M1185.25 1477.97 L1190.13 1477.97 L1190.13 1483.85 L1185.25 1483.85 L1185.25 1477.97 Z\" fill=\"#000000\" fill-rule=\"evenodd\" fill-opacity=\"1\" /><path clip-path=\"url(#clip140)\" d=\"M1200.36 1449.29 L1218.72 1449.29 L1218.72 1453.23 L1204.64 1453.23 L1204.64 1461.7 Q1205.66 1461.35 1206.68 1461.19 Q1207.7 1461 1208.72 1461 Q1214.51 1461 1217.89 1464.18 Q1221.27 1467.35 1221.27 1472.76 Q1221.27 1478.34 1217.79 1481.44 Q1214.32 1484.52 1208 1484.52 Q1205.83 1484.52 1203.56 1484.15 Q1201.31 1483.78 1198.9 1483.04 L1198.9 1478.34 Q1200.99 1479.48 1203.21 1480.03 Q1205.43 1480.59 1207.91 1480.59 Q1211.91 1480.59 1214.25 1478.48 Q1216.59 1476.38 1216.59 1472.76 Q1216.59 1469.15 1214.25 1467.05 Q1211.91 1464.94 1207.91 1464.94 Q1206.03 1464.94 1204.16 1465.36 Q1202.31 1465.77 1200.36 1466.65 L1200.36 1449.29 Z\" fill=\"#000000\" fill-rule=\"evenodd\" fill-opacity=\"1\" /><path clip-path=\"url(#clip140)\" d=\"M1663.15 1479.92 L1670.79 1479.92 L1670.79 1453.55 L1662.48 1455.22 L1662.48 1450.96 L1670.75 1449.29 L1675.42 1449.29 L1675.42 1479.92 L1683.06 1479.92 L1683.06 1483.85 L1663.15 1483.85 L1663.15 1479.92 Z\" fill=\"#000000\" fill-rule=\"evenodd\" fill-opacity=\"1\" /><path clip-path=\"url(#clip140)\" d=\"M1706.67 1465.22 Q1710.03 1465.94 1711.9 1468.2 Q1713.8 1470.47 1713.8 1473.81 Q1713.8 1478.92 1710.28 1481.72 Q1706.76 1484.52 1700.28 1484.52 Q1698.11 1484.52 1695.79 1484.08 Q1693.5 1483.67 1691.05 1482.81 L1691.05 1478.3 Q1692.99 1479.43 1695.31 1480.01 Q1697.62 1480.59 1700.14 1480.59 Q1704.54 1480.59 1706.83 1478.85 Q1709.15 1477.12 1709.15 1473.81 Q1709.15 1470.75 1707 1469.04 Q1704.87 1467.3 1701.05 1467.3 L1697.02 1467.3 L1697.02 1463.46 L1701.23 1463.46 Q1704.68 1463.46 1706.51 1462.09 Q1708.34 1460.7 1708.34 1458.11 Q1708.34 1455.45 1706.44 1454.04 Q1704.57 1452.6 1701.05 1452.6 Q1699.13 1452.6 1696.93 1453.02 Q1694.73 1453.44 1692.09 1454.31 L1692.09 1450.15 Q1694.75 1449.41 1697.07 1449.04 Q1699.4 1448.67 1701.46 1448.67 Q1706.79 1448.67 1709.89 1451.1 Q1712.99 1453.5 1712.99 1457.63 Q1712.99 1460.5 1711.35 1462.49 Q1709.7 1464.45 1706.67 1465.22 Z\" fill=\"#000000\" fill-rule=\"evenodd\" fill-opacity=\"1\" /><path clip-path=\"url(#clip140)\" d=\"M1722.67 1477.97 L1727.55 1477.97 L1727.55 1483.85 L1722.67 1483.85 L1722.67 1477.97 Z\" fill=\"#000000\" fill-rule=\"evenodd\" fill-opacity=\"1\" /><path clip-path=\"url(#clip140)\" d=\"M1747.74 1452.37 Q1744.13 1452.37 1742.3 1455.94 Q1740.49 1459.48 1740.49 1466.61 Q1740.49 1473.71 1742.3 1477.28 Q1744.13 1480.82 1747.74 1480.82 Q1751.37 1480.82 1753.18 1477.28 Q1755 1473.71 1755 1466.61 Q1755 1459.48 1753.18 1455.94 Q1751.37 1452.37 1747.74 1452.37 M1747.74 1448.67 Q1753.55 1448.67 1756.6 1453.27 Q1759.68 1457.86 1759.68 1466.61 Q1759.68 1475.33 1756.6 1479.94 Q1753.55 1484.52 1747.74 1484.52 Q1741.93 1484.52 1738.85 1479.94 Q1735.79 1475.33 1735.79 1466.61 Q1735.79 1457.86 1738.85 1453.27 Q1741.93 1448.67 1747.74 1448.67 Z\" fill=\"#000000\" fill-rule=\"evenodd\" fill-opacity=\"1\" /><path clip-path=\"url(#clip140)\" d=\"M2201.57 1479.92 L2209.21 1479.92 L2209.21 1453.55 L2200.9 1455.22 L2200.9 1450.96 L2209.16 1449.29 L2213.84 1449.29 L2213.84 1479.92 L2221.48 1479.92 L2221.48 1483.85 L2201.57 1483.85 L2201.57 1479.92 Z\" fill=\"#000000\" fill-rule=\"evenodd\" fill-opacity=\"1\" /><path clip-path=\"url(#clip140)\" d=\"M2245.09 1465.22 Q2248.44 1465.94 2250.32 1468.2 Q2252.22 1470.47 2252.22 1473.81 Q2252.22 1478.92 2248.7 1481.72 Q2245.18 1484.52 2238.7 1484.52 Q2236.52 1484.52 2234.21 1484.08 Q2231.92 1483.67 2229.46 1482.81 L2229.46 1478.3 Q2231.41 1479.43 2233.72 1480.01 Q2236.04 1480.59 2238.56 1480.59 Q2242.96 1480.59 2245.25 1478.85 Q2247.56 1477.12 2247.56 1473.81 Q2247.56 1470.75 2245.41 1469.04 Q2243.28 1467.3 2239.46 1467.3 L2235.43 1467.3 L2235.43 1463.46 L2239.65 1463.46 Q2243.1 1463.46 2244.93 1462.09 Q2246.75 1460.7 2246.75 1458.11 Q2246.75 1455.45 2244.86 1454.04 Q2242.98 1452.6 2239.46 1452.6 Q2237.54 1452.6 2235.34 1453.02 Q2233.14 1453.44 2230.5 1454.31 L2230.5 1450.15 Q2233.17 1449.41 2235.48 1449.04 Q2237.82 1448.67 2239.88 1448.67 Q2245.2 1448.67 2248.31 1451.1 Q2251.41 1453.5 2251.41 1457.63 Q2251.41 1460.5 2249.76 1462.49 Q2248.12 1464.45 2245.09 1465.22 Z\" fill=\"#000000\" fill-rule=\"evenodd\" fill-opacity=\"1\" /><path clip-path=\"url(#clip140)\" d=\"M2261.08 1477.97 L2265.97 1477.97 L2265.97 1483.85 L2261.08 1483.85 L2261.08 1477.97 Z\" fill=\"#000000\" fill-rule=\"evenodd\" fill-opacity=\"1\" /><path clip-path=\"url(#clip140)\" d=\"M2276.2 1449.29 L2294.55 1449.29 L2294.55 1453.23 L2280.48 1453.23 L2280.48 1461.7 Q2281.5 1461.35 2282.52 1461.19 Q2283.54 1461 2284.55 1461 Q2290.34 1461 2293.72 1464.18 Q2297.1 1467.35 2297.1 1472.76 Q2297.1 1478.34 2293.63 1481.44 Q2290.16 1484.52 2283.84 1484.52 Q2281.66 1484.52 2279.39 1484.15 Q2277.15 1483.78 2274.74 1483.04 L2274.74 1478.34 Q2276.82 1479.48 2279.05 1480.03 Q2281.27 1480.59 2283.74 1480.59 Q2287.75 1480.59 2290.09 1478.48 Q2292.43 1476.38 2292.43 1472.76 Q2292.43 1469.15 2290.09 1467.05 Q2287.75 1464.94 2283.74 1464.94 Q2281.87 1464.94 2279.99 1465.36 Q2278.14 1465.77 2276.2 1466.65 L2276.2 1449.29 Z\" fill=\"#000000\" fill-rule=\"evenodd\" fill-opacity=\"1\" /><path clip-path=\"url(#clip140)\" d=\"M1110.28 1539.24 Q1112.48 1535.29 1115.53 1533.41 Q1118.59 1531.54 1122.72 1531.54 Q1128.29 1531.54 1131.32 1535.45 Q1134.34 1539.33 1134.34 1546.53 L1134.34 1568.04 L1128.45 1568.04 L1128.45 1546.72 Q1128.45 1541.59 1126.64 1539.11 Q1124.82 1536.63 1121.1 1536.63 Q1116.55 1536.63 1113.91 1539.65 Q1111.27 1542.68 1111.27 1547.9 L1111.27 1568.04 L1105.38 1568.04 L1105.38 1546.72 Q1105.38 1541.56 1103.56 1539.11 Q1101.75 1536.63 1097.96 1536.63 Q1093.47 1536.63 1090.83 1539.68 Q1088.19 1542.71 1088.19 1547.9 L1088.19 1568.04 L1082.3 1568.04 L1082.3 1532.4 L1088.19 1532.4 L1088.19 1537.93 Q1090.2 1534.66 1093 1533.1 Q1095.8 1531.54 1099.65 1531.54 Q1103.53 1531.54 1106.24 1533.51 Q1108.97 1535.48 1110.28 1539.24 Z\" fill=\"#000000\" fill-rule=\"evenodd\" fill-opacity=\"1\" /><path clip-path=\"url(#clip140)\" d=\"M1146.02 1532.4 L1151.88 1532.4 L1151.88 1568.04 L1146.02 1568.04 L1146.02 1532.4 M1146.02 1518.52 L1151.88 1518.52 L1151.88 1525.93 L1146.02 1525.93 L1146.02 1518.52 Z\" fill=\"#000000\" fill-rule=\"evenodd\" fill-opacity=\"1\" /><path clip-path=\"url(#clip140)\" d=\"M1164.13 1518.52 L1169.99 1518.52 L1169.99 1568.04 L1164.13 1568.04 L1164.13 1518.52 Z\" fill=\"#000000\" fill-rule=\"evenodd\" fill-opacity=\"1\" /><path clip-path=\"url(#clip140)\" d=\"M1182.24 1518.52 L1188.1 1518.52 L1188.1 1568.04 L1182.24 1568.04 L1182.24 1518.52 Z\" fill=\"#000000\" fill-rule=\"evenodd\" fill-opacity=\"1\" /><path clip-path=\"url(#clip140)\" d=\"M1200.35 1532.4 L1206.21 1532.4 L1206.21 1568.04 L1200.35 1568.04 L1200.35 1532.4 M1200.35 1518.52 L1206.21 1518.52 L1206.21 1525.93 L1200.35 1525.93 L1200.35 1518.52 Z\" fill=\"#000000\" fill-rule=\"evenodd\" fill-opacity=\"1\" /><path clip-path=\"url(#clip140)\" d=\"M1241.19 1533.45 L1241.19 1538.98 Q1238.71 1537.71 1236.03 1537.07 Q1233.36 1536.44 1230.5 1536.44 Q1226.13 1536.44 1223.94 1537.77 Q1221.77 1539.11 1221.77 1541.79 Q1221.77 1543.82 1223.33 1545 Q1224.89 1546.15 1229.6 1547.2 L1231.61 1547.64 Q1237.85 1548.98 1240.46 1551.43 Q1243.1 1553.85 1243.1 1558.21 Q1243.1 1563.17 1239.15 1566.07 Q1235.24 1568.97 1228.36 1568.97 Q1225.5 1568.97 1222.38 1568.39 Q1219.29 1567.85 1215.85 1566.74 L1215.85 1560.69 Q1219.1 1562.38 1222.25 1563.24 Q1225.4 1564.07 1228.49 1564.07 Q1232.63 1564.07 1234.86 1562.66 Q1237.08 1561.23 1237.08 1558.65 Q1237.08 1556.27 1235.46 1554.99 Q1233.87 1553.72 1228.43 1552.54 L1226.39 1552.07 Q1220.95 1550.92 1218.53 1548.56 Q1216.11 1546.18 1216.11 1542.04 Q1216.11 1537.01 1219.67 1534.27 Q1223.24 1531.54 1229.8 1531.54 Q1233.04 1531.54 1235.91 1532.01 Q1238.77 1532.49 1241.19 1533.45 Z\" fill=\"#000000\" fill-rule=\"evenodd\" fill-opacity=\"1\" /><path clip-path=\"url(#clip140)\" d=\"M1282.92 1548.76 L1282.92 1551.62 L1255.99 1551.62 Q1256.37 1557.67 1259.62 1560.85 Q1262.9 1564 1268.72 1564 Q1272.1 1564 1275.25 1563.17 Q1278.43 1562.35 1281.55 1560.69 L1281.55 1566.23 Q1278.4 1567.57 1275.09 1568.27 Q1271.78 1568.97 1268.37 1568.97 Q1259.84 1568.97 1254.84 1564 Q1249.88 1559.04 1249.88 1550.57 Q1249.88 1541.82 1254.59 1536.69 Q1259.33 1531.54 1267.35 1531.54 Q1274.55 1531.54 1278.72 1536.18 Q1282.92 1540.8 1282.92 1548.76 M1277.06 1547.04 Q1277 1542.23 1274.36 1539.37 Q1271.75 1536.5 1267.42 1536.5 Q1262.51 1536.5 1259.55 1539.27 Q1256.63 1542.04 1256.18 1547.07 L1277.06 1547.04 Z\" fill=\"#000000\" fill-rule=\"evenodd\" fill-opacity=\"1\" /><path clip-path=\"url(#clip140)\" d=\"M1318.18 1533.76 L1318.18 1539.24 Q1315.7 1537.87 1313.19 1537.2 Q1310.7 1536.5 1308.16 1536.5 Q1302.46 1536.5 1299.31 1540.13 Q1296.16 1543.73 1296.16 1550.25 Q1296.16 1556.78 1299.31 1560.4 Q1302.46 1564 1308.16 1564 Q1310.7 1564 1313.19 1563.33 Q1315.7 1562.63 1318.18 1561.26 L1318.18 1566.68 Q1315.73 1567.82 1313.09 1568.39 Q1310.48 1568.97 1307.52 1568.97 Q1299.47 1568.97 1294.73 1563.91 Q1289.98 1558.85 1289.98 1550.25 Q1289.98 1541.53 1294.76 1536.53 Q1299.56 1531.54 1307.9 1531.54 Q1310.61 1531.54 1313.19 1532.11 Q1315.76 1532.65 1318.18 1533.76 Z\" fill=\"#000000\" fill-rule=\"evenodd\" fill-opacity=\"1\" /><path clip-path=\"url(#clip140)\" d=\"M1342.18 1536.5 Q1337.47 1536.5 1334.73 1540.19 Q1332 1543.85 1332 1550.25 Q1332 1556.65 1334.7 1560.34 Q1337.44 1564 1342.18 1564 Q1346.86 1564 1349.6 1560.31 Q1352.34 1556.62 1352.34 1550.25 Q1352.34 1543.92 1349.6 1540.23 Q1346.86 1536.5 1342.18 1536.5 M1342.18 1531.54 Q1349.82 1531.54 1354.18 1536.5 Q1358.54 1541.47 1358.54 1550.25 Q1358.54 1559 1354.18 1564 Q1349.82 1568.97 1342.18 1568.97 Q1334.51 1568.97 1330.15 1564 Q1325.82 1559 1325.82 1550.25 Q1325.82 1541.47 1330.15 1536.5 Q1334.51 1531.54 1342.18 1531.54 Z\" fill=\"#000000\" fill-rule=\"evenodd\" fill-opacity=\"1\" /><path clip-path=\"url(#clip140)\" d=\"M1397.88 1546.53 L1397.88 1568.04 L1392.03 1568.04 L1392.03 1546.72 Q1392.03 1541.66 1390.05 1539.14 Q1388.08 1536.63 1384.13 1536.63 Q1379.39 1536.63 1376.65 1539.65 Q1373.91 1542.68 1373.91 1547.9 L1373.91 1568.04 L1368.03 1568.04 L1368.03 1532.4 L1373.91 1532.4 L1373.91 1537.93 Q1376.02 1534.72 1378.85 1533.13 Q1381.71 1531.54 1385.44 1531.54 Q1391.58 1531.54 1394.73 1535.36 Q1397.88 1539.14 1397.88 1546.53 Z\" fill=\"#000000\" fill-rule=\"evenodd\" fill-opacity=\"1\" /><path clip-path=\"url(#clip140)\" d=\"M1433.02 1537.81 L1433.02 1518.52 L1438.88 1518.52 L1438.88 1568.04 L1433.02 1568.04 L1433.02 1562.7 Q1431.17 1565.88 1428.34 1567.44 Q1425.54 1568.97 1421.59 1568.97 Q1415.13 1568.97 1411.06 1563.81 Q1407.02 1558.65 1407.02 1550.25 Q1407.02 1541.85 1411.06 1536.69 Q1415.13 1531.54 1421.59 1531.54 Q1425.54 1531.54 1428.34 1533.1 Q1431.17 1534.62 1433.02 1537.81 M1413.06 1550.25 Q1413.06 1556.71 1415.71 1560.4 Q1418.38 1564.07 1423.03 1564.07 Q1427.67 1564.07 1430.35 1560.4 Q1433.02 1556.71 1433.02 1550.25 Q1433.02 1543.79 1430.35 1540.13 Q1427.67 1536.44 1423.03 1536.44 Q1418.38 1536.44 1415.71 1540.13 Q1413.06 1543.79 1413.06 1550.25 Z\" fill=\"#000000\" fill-rule=\"evenodd\" fill-opacity=\"1\" /><path clip-path=\"url(#clip140)\" d=\"M1473.67 1533.45 L1473.67 1538.98 Q1471.18 1537.71 1468.51 1537.07 Q1465.84 1536.44 1462.97 1536.44 Q1458.61 1536.44 1456.41 1537.77 Q1454.25 1539.11 1454.25 1541.79 Q1454.25 1543.82 1455.81 1545 Q1457.37 1546.15 1462.08 1547.2 L1464.09 1547.64 Q1470.32 1548.98 1472.93 1551.43 Q1475.58 1553.85 1475.58 1558.21 Q1475.58 1563.17 1471.63 1566.07 Q1467.71 1568.97 1460.84 1568.97 Q1457.97 1568.97 1454.85 1568.39 Q1451.77 1567.85 1448.33 1566.74 L1448.33 1560.69 Q1451.58 1562.38 1454.73 1563.24 Q1457.88 1564.07 1460.97 1564.07 Q1465.1 1564.07 1467.33 1562.66 Q1469.56 1561.23 1469.56 1558.65 Q1469.56 1556.27 1467.94 1554.99 Q1466.34 1553.72 1460.9 1552.54 L1458.87 1552.07 Q1453.42 1550.92 1451 1548.56 Q1448.58 1546.18 1448.58 1542.04 Q1448.58 1537.01 1452.15 1534.27 Q1455.71 1531.54 1462.27 1531.54 Q1465.52 1531.54 1468.38 1532.01 Q1471.25 1532.49 1473.67 1533.45 Z\" fill=\"#000000\" fill-rule=\"evenodd\" fill-opacity=\"1\" /><polyline clip-path=\"url(#clip142)\" style=\"stroke:#000000; stroke-linecap:butt; stroke-linejoin:round; stroke-width:2; stroke-opacity:0.1; fill:none\" points=\"\n",
       "  205.121,1384.24 2352.76,1384.24 \n",
       "  \"/>\n",
       "<polyline clip-path=\"url(#clip142)\" style=\"stroke:#000000; stroke-linecap:butt; stroke-linejoin:round; stroke-width:2; stroke-opacity:0.1; fill:none\" points=\"\n",
       "  205.121,1181.42 2352.76,1181.42 \n",
       "  \"/>\n",
       "<polyline clip-path=\"url(#clip142)\" style=\"stroke:#000000; stroke-linecap:butt; stroke-linejoin:round; stroke-width:2; stroke-opacity:0.1; fill:none\" points=\"\n",
       "  205.121,978.597 2352.76,978.597 \n",
       "  \"/>\n",
       "<polyline clip-path=\"url(#clip142)\" style=\"stroke:#000000; stroke-linecap:butt; stroke-linejoin:round; stroke-width:2; stroke-opacity:0.1; fill:none\" points=\"\n",
       "  205.121,775.776 2352.76,775.776 \n",
       "  \"/>\n",
       "<polyline clip-path=\"url(#clip142)\" style=\"stroke:#000000; stroke-linecap:butt; stroke-linejoin:round; stroke-width:2; stroke-opacity:0.1; fill:none\" points=\"\n",
       "  205.121,572.955 2352.76,572.955 \n",
       "  \"/>\n",
       "<polyline clip-path=\"url(#clip142)\" style=\"stroke:#000000; stroke-linecap:butt; stroke-linejoin:round; stroke-width:2; stroke-opacity:0.1; fill:none\" points=\"\n",
       "  205.121,370.135 2352.76,370.135 \n",
       "  \"/>\n",
       "<polyline clip-path=\"url(#clip142)\" style=\"stroke:#000000; stroke-linecap:butt; stroke-linejoin:round; stroke-width:2; stroke-opacity:0.1; fill:none\" points=\"\n",
       "  205.121,167.314 2352.76,167.314 \n",
       "  \"/>\n",
       "<polyline clip-path=\"url(#clip140)\" style=\"stroke:#000000; stroke-linecap:butt; stroke-linejoin:round; stroke-width:4; stroke-opacity:1; fill:none\" points=\"\n",
       "  205.121,1423.18 205.121,47.2441 \n",
       "  \"/>\n",
       "<polyline clip-path=\"url(#clip140)\" style=\"stroke:#000000; stroke-linecap:butt; stroke-linejoin:round; stroke-width:4; stroke-opacity:1; fill:none\" points=\"\n",
       "  205.121,1384.24 224.019,1384.24 \n",
       "  \"/>\n",
       "<polyline clip-path=\"url(#clip140)\" style=\"stroke:#000000; stroke-linecap:butt; stroke-linejoin:round; stroke-width:4; stroke-opacity:1; fill:none\" points=\"\n",
       "  205.121,1181.42 224.019,1181.42 \n",
       "  \"/>\n",
       "<polyline clip-path=\"url(#clip140)\" style=\"stroke:#000000; stroke-linecap:butt; stroke-linejoin:round; stroke-width:4; stroke-opacity:1; fill:none\" points=\"\n",
       "  205.121,978.597 224.019,978.597 \n",
       "  \"/>\n",
       "<polyline clip-path=\"url(#clip140)\" style=\"stroke:#000000; stroke-linecap:butt; stroke-linejoin:round; stroke-width:4; stroke-opacity:1; fill:none\" points=\"\n",
       "  205.121,775.776 224.019,775.776 \n",
       "  \"/>\n",
       "<polyline clip-path=\"url(#clip140)\" style=\"stroke:#000000; stroke-linecap:butt; stroke-linejoin:round; stroke-width:4; stroke-opacity:1; fill:none\" points=\"\n",
       "  205.121,572.955 224.019,572.955 \n",
       "  \"/>\n",
       "<polyline clip-path=\"url(#clip140)\" style=\"stroke:#000000; stroke-linecap:butt; stroke-linejoin:round; stroke-width:4; stroke-opacity:1; fill:none\" points=\"\n",
       "  205.121,370.135 224.019,370.135 \n",
       "  \"/>\n",
       "<polyline clip-path=\"url(#clip140)\" style=\"stroke:#000000; stroke-linecap:butt; stroke-linejoin:round; stroke-width:4; stroke-opacity:1; fill:none\" points=\"\n",
       "  205.121,167.314 224.019,167.314 \n",
       "  \"/>\n",
       "<path clip-path=\"url(#clip140)\" d=\"M157.177 1370.04 Q153.566 1370.04 151.737 1373.6 Q149.931 1377.14 149.931 1384.27 Q149.931 1391.38 151.737 1394.94 Q153.566 1398.49 157.177 1398.49 Q160.811 1398.49 162.616 1394.94 Q164.445 1391.38 164.445 1384.27 Q164.445 1377.14 162.616 1373.6 Q160.811 1370.04 157.177 1370.04 M157.177 1366.33 Q162.987 1366.33 166.042 1370.94 Q169.121 1375.52 169.121 1384.27 Q169.121 1393 166.042 1397.61 Q162.987 1402.19 157.177 1402.19 Q151.366 1402.19 148.288 1397.61 Q145.232 1393 145.232 1384.27 Q145.232 1375.52 148.288 1370.94 Q151.366 1366.33 157.177 1366.33 Z\" fill=\"#000000\" fill-rule=\"evenodd\" fill-opacity=\"1\" /><path clip-path=\"url(#clip140)\" d=\"M117.825 1194.76 L125.464 1194.76 L125.464 1168.4 L117.154 1170.06 L117.154 1165.8 L125.418 1164.14 L130.093 1164.14 L130.093 1194.76 L137.732 1194.76 L137.732 1198.7 L117.825 1198.7 L117.825 1194.76 Z\" fill=\"#000000\" fill-rule=\"evenodd\" fill-opacity=\"1\" /><path clip-path=\"url(#clip140)\" d=\"M157.177 1167.22 Q153.566 1167.22 151.737 1170.78 Q149.931 1174.32 149.931 1181.45 Q149.931 1188.56 151.737 1192.12 Q153.566 1195.67 157.177 1195.67 Q160.811 1195.67 162.616 1192.12 Q164.445 1188.56 164.445 1181.45 Q164.445 1174.32 162.616 1170.78 Q160.811 1167.22 157.177 1167.22 M157.177 1163.51 Q162.987 1163.51 166.042 1168.12 Q169.121 1172.7 169.121 1181.45 Q169.121 1190.18 166.042 1194.79 Q162.987 1199.37 157.177 1199.37 Q151.366 1199.37 148.288 1194.79 Q145.232 1190.18 145.232 1181.45 Q145.232 1172.7 148.288 1168.12 Q151.366 1163.51 157.177 1163.51 Z\" fill=\"#000000\" fill-rule=\"evenodd\" fill-opacity=\"1\" /><path clip-path=\"url(#clip140)\" d=\"M121.043 991.942 L137.362 991.942 L137.362 995.877 L115.418 995.877 L115.418 991.942 Q118.08 989.187 122.663 984.557 Q127.269 979.905 128.45 978.562 Q130.695 976.039 131.575 974.303 Q132.478 972.544 132.478 970.854 Q132.478 968.099 130.533 966.363 Q128.612 964.627 125.51 964.627 Q123.311 964.627 120.857 965.391 Q118.427 966.155 115.649 967.706 L115.649 962.983 Q118.473 961.849 120.927 961.271 Q123.38 960.692 125.418 960.692 Q130.788 960.692 133.982 963.377 Q137.177 966.062 137.177 970.553 Q137.177 972.683 136.367 974.604 Q135.579 976.502 133.473 979.095 Q132.894 979.766 129.792 982.983 Q126.691 986.178 121.043 991.942 Z\" fill=\"#000000\" fill-rule=\"evenodd\" fill-opacity=\"1\" /><path clip-path=\"url(#clip140)\" d=\"M157.177 964.396 Q153.566 964.396 151.737 967.96 Q149.931 971.502 149.931 978.632 Q149.931 985.738 151.737 989.303 Q153.566 992.844 157.177 992.844 Q160.811 992.844 162.616 989.303 Q164.445 985.738 164.445 978.632 Q164.445 971.502 162.616 967.96 Q160.811 964.396 157.177 964.396 M157.177 960.692 Q162.987 960.692 166.042 965.298 Q169.121 969.882 169.121 978.632 Q169.121 987.358 166.042 991.965 Q162.987 996.548 157.177 996.548 Q151.366 996.548 148.288 991.965 Q145.232 987.358 145.232 978.632 Q145.232 969.882 148.288 965.298 Q151.366 960.692 157.177 960.692 Z\" fill=\"#000000\" fill-rule=\"evenodd\" fill-opacity=\"1\" /><path clip-path=\"url(#clip140)\" d=\"M131.181 774.422 Q134.538 775.14 136.413 777.408 Q138.311 779.677 138.311 783.01 Q138.311 788.126 134.792 790.926 Q131.274 793.727 124.793 793.727 Q122.617 793.727 120.302 793.288 Q118.01 792.871 115.556 792.014 L115.556 787.501 Q117.501 788.635 119.816 789.214 Q122.13 789.792 124.654 789.792 Q129.052 789.792 131.343 788.056 Q133.658 786.32 133.658 783.01 Q133.658 779.954 131.505 778.241 Q129.376 776.505 125.556 776.505 L121.529 776.505 L121.529 772.663 L125.742 772.663 Q129.191 772.663 131.019 771.297 Q132.848 769.908 132.848 767.316 Q132.848 764.653 130.95 763.241 Q129.075 761.806 125.556 761.806 Q123.635 761.806 121.436 762.223 Q119.237 762.64 116.598 763.519 L116.598 759.353 Q119.26 758.612 121.575 758.241 Q123.913 757.871 125.973 757.871 Q131.297 757.871 134.399 760.302 Q137.501 762.709 137.501 766.829 Q137.501 769.7 135.857 771.69 Q134.214 773.658 131.181 774.422 Z\" fill=\"#000000\" fill-rule=\"evenodd\" fill-opacity=\"1\" /><path clip-path=\"url(#clip140)\" d=\"M157.177 761.575 Q153.566 761.575 151.737 765.14 Q149.931 768.681 149.931 775.811 Q149.931 782.917 151.737 786.482 Q153.566 790.024 157.177 790.024 Q160.811 790.024 162.616 786.482 Q164.445 782.917 164.445 775.811 Q164.445 768.681 162.616 765.14 Q160.811 761.575 157.177 761.575 M157.177 757.871 Q162.987 757.871 166.042 762.478 Q169.121 767.061 169.121 775.811 Q169.121 784.538 166.042 789.144 Q162.987 793.727 157.177 793.727 Q151.366 793.727 148.288 789.144 Q145.232 784.538 145.232 775.811 Q145.232 767.061 148.288 762.478 Q151.366 757.871 157.177 757.871 Z\" fill=\"#000000\" fill-rule=\"evenodd\" fill-opacity=\"1\" /><path clip-path=\"url(#clip140)\" d=\"M129.862 559.749 L118.056 578.198 L129.862 578.198 L129.862 559.749 M128.635 555.675 L134.515 555.675 L134.515 578.198 L139.445 578.198 L139.445 582.087 L134.515 582.087 L134.515 590.235 L129.862 590.235 L129.862 582.087 L114.26 582.087 L114.26 577.573 L128.635 555.675 Z\" fill=\"#000000\" fill-rule=\"evenodd\" fill-opacity=\"1\" /><path clip-path=\"url(#clip140)\" d=\"M157.177 558.754 Q153.566 558.754 151.737 562.319 Q149.931 565.861 149.931 572.99 Q149.931 580.097 151.737 583.661 Q153.566 587.203 157.177 587.203 Q160.811 587.203 162.616 583.661 Q164.445 580.097 164.445 572.99 Q164.445 565.861 162.616 562.319 Q160.811 558.754 157.177 558.754 M157.177 555.05 Q162.987 555.05 166.042 559.657 Q169.121 564.24 169.121 572.99 Q169.121 581.717 166.042 586.323 Q162.987 590.907 157.177 590.907 Q151.366 590.907 148.288 586.323 Q145.232 581.717 145.232 572.99 Q145.232 564.24 148.288 559.657 Q151.366 555.05 157.177 555.05 Z\" fill=\"#000000\" fill-rule=\"evenodd\" fill-opacity=\"1\" /><path clip-path=\"url(#clip140)\" d=\"M117.061 352.855 L135.417 352.855 L135.417 356.79 L121.343 356.79 L121.343 365.262 Q122.362 364.915 123.38 364.753 Q124.399 364.568 125.418 364.568 Q131.205 364.568 134.584 367.739 Q137.964 370.91 137.964 376.327 Q137.964 381.905 134.492 385.007 Q131.019 388.086 124.7 388.086 Q122.524 388.086 120.255 387.716 Q118.01 387.345 115.603 386.604 L115.603 381.905 Q117.686 383.04 119.908 383.595 Q122.13 384.151 124.607 384.151 Q128.612 384.151 130.95 382.044 Q133.288 379.938 133.288 376.327 Q133.288 372.716 130.95 370.609 Q128.612 368.503 124.607 368.503 Q122.732 368.503 120.857 368.919 Q119.006 369.336 117.061 370.216 L117.061 352.855 Z\" fill=\"#000000\" fill-rule=\"evenodd\" fill-opacity=\"1\" /><path clip-path=\"url(#clip140)\" d=\"M157.177 355.933 Q153.566 355.933 151.737 359.498 Q149.931 363.04 149.931 370.169 Q149.931 377.276 151.737 380.841 Q153.566 384.382 157.177 384.382 Q160.811 384.382 162.616 380.841 Q164.445 377.276 164.445 370.169 Q164.445 363.04 162.616 359.498 Q160.811 355.933 157.177 355.933 M157.177 352.23 Q162.987 352.23 166.042 356.836 Q169.121 361.419 169.121 370.169 Q169.121 378.896 166.042 383.503 Q162.987 388.086 157.177 388.086 Q151.366 388.086 148.288 383.503 Q145.232 378.896 145.232 370.169 Q145.232 361.419 148.288 356.836 Q151.366 352.23 157.177 352.23 Z\" fill=\"#000000\" fill-rule=\"evenodd\" fill-opacity=\"1\" /><path clip-path=\"url(#clip140)\" d=\"M127.593 165.451 Q124.445 165.451 122.593 167.603 Q120.765 169.756 120.765 173.506 Q120.765 177.233 122.593 179.409 Q124.445 181.562 127.593 181.562 Q130.742 181.562 132.57 179.409 Q134.422 177.233 134.422 173.506 Q134.422 169.756 132.57 167.603 Q130.742 165.451 127.593 165.451 M136.876 150.798 L136.876 155.057 Q135.117 154.224 133.311 153.784 Q131.529 153.344 129.769 153.344 Q125.14 153.344 122.686 156.469 Q120.255 159.594 119.908 165.914 Q121.274 163.9 123.334 162.835 Q125.394 161.747 127.871 161.747 Q133.08 161.747 136.089 164.918 Q139.121 168.066 139.121 173.506 Q139.121 178.83 135.973 182.048 Q132.825 185.265 127.593 185.265 Q121.598 185.265 118.427 180.682 Q115.256 176.075 115.256 167.349 Q115.256 159.154 119.144 154.293 Q123.033 149.409 129.584 149.409 Q131.343 149.409 133.126 149.756 Q134.931 150.103 136.876 150.798 Z\" fill=\"#000000\" fill-rule=\"evenodd\" fill-opacity=\"1\" /><path clip-path=\"url(#clip140)\" d=\"M157.177 153.113 Q153.566 153.113 151.737 156.677 Q149.931 160.219 149.931 167.349 Q149.931 174.455 151.737 178.02 Q153.566 181.562 157.177 181.562 Q160.811 181.562 162.616 178.02 Q164.445 174.455 164.445 167.349 Q164.445 160.219 162.616 156.677 Q160.811 153.113 157.177 153.113 M157.177 149.409 Q162.987 149.409 166.042 154.015 Q169.121 158.599 169.121 167.349 Q169.121 176.075 166.042 180.682 Q162.987 185.265 157.177 185.265 Q151.366 185.265 148.288 180.682 Q145.232 176.075 145.232 167.349 Q145.232 158.599 148.288 154.015 Q151.366 149.409 157.177 149.409 Z\" fill=\"#000000\" fill-rule=\"evenodd\" fill-opacity=\"1\" /><path clip-path=\"url(#clip140)\" d=\"M29.7248 796.386 L35.1993 796.386 Q33.8307 798.869 33.1623 801.383 Q32.4621 803.866 32.4621 806.412 Q32.4621 812.11 36.0905 815.261 Q39.6872 818.412 46.212 818.412 Q52.7369 818.412 56.3653 815.261 Q59.9619 812.11 59.9619 806.412 Q59.9619 803.866 59.2935 801.383 Q58.5933 798.869 57.2247 796.386 L62.6355 796.386 Q63.7814 798.837 64.3543 801.479 Q64.9272 804.089 64.9272 807.049 Q64.9272 815.102 59.8664 819.844 Q54.8057 824.586 46.212 824.586 Q37.491 824.586 32.4939 819.812 Q27.4968 815.006 27.4968 806.667 Q27.4968 803.962 28.0697 801.383 Q28.6108 798.805 29.7248 796.386 Z\" fill=\"#000000\" fill-rule=\"evenodd\" fill-opacity=\"1\" /><path clip-path=\"url(#clip140)\" d=\"M32.4621 772.388 Q32.4621 777.098 36.1542 779.836 Q39.8145 782.573 46.212 782.573 Q52.6095 782.573 56.3017 779.867 Q59.9619 777.13 59.9619 772.388 Q59.9619 767.709 56.2698 764.972 Q52.5777 762.234 46.212 762.234 Q39.8781 762.234 36.186 764.972 Q32.4621 767.709 32.4621 772.388 M27.4968 772.388 Q27.4968 764.749 32.4621 760.388 Q37.4273 756.028 46.212 756.028 Q54.9649 756.028 59.9619 760.388 Q64.9272 764.749 64.9272 772.388 Q64.9272 780.058 59.9619 784.419 Q54.9649 788.748 46.212 788.748 Q37.4273 788.748 32.4621 784.419 Q27.4968 780.058 27.4968 772.388 Z\" fill=\"#000000\" fill-rule=\"evenodd\" fill-opacity=\"1\" /><path clip-path=\"url(#clip140)\" d=\"M49.9359 746.925 L28.3562 746.925 L28.3562 741.068 L49.7131 741.068 Q54.7739 741.068 57.3202 739.095 Q59.8346 737.122 59.8346 733.175 Q59.8346 728.432 56.8109 725.695 Q53.7872 722.926 48.5673 722.926 L28.3562 722.926 L28.3562 717.07 L64.0042 717.07 L64.0042 722.926 L58.5296 722.926 Q61.7762 725.059 63.3676 727.891 Q64.9272 730.692 64.9272 734.416 Q64.9272 740.559 61.1078 743.742 Q57.2883 746.925 49.9359 746.925 M27.4968 732.188 L27.4968 732.188 Z\" fill=\"#000000\" fill-rule=\"evenodd\" fill-opacity=\"1\" /><path clip-path=\"url(#clip140)\" d=\"M42.4881 675.374 L64.0042 675.374 L64.0042 681.231 L42.679 681.231 Q37.6183 681.231 35.1038 683.204 Q32.5894 685.178 32.5894 689.124 Q32.5894 693.867 35.6131 696.604 Q38.6368 699.341 43.8567 699.341 L64.0042 699.341 L64.0042 705.229 L28.3562 705.229 L28.3562 699.341 L33.8944 699.341 Q30.6797 697.241 29.0883 694.408 Q27.4968 691.543 27.4968 687.819 Q27.4968 681.676 31.3163 678.525 Q35.1038 675.374 42.4881 675.374 Z\" fill=\"#000000\" fill-rule=\"evenodd\" fill-opacity=\"1\" /><path clip-path=\"url(#clip140)\" d=\"M18.2347 657.9 L28.3562 657.9 L28.3562 645.837 L32.9077 645.837 L32.9077 657.9 L52.2594 657.9 Q56.6199 657.9 57.8613 656.723 Q59.1026 655.513 59.1026 651.853 L59.1026 645.837 L64.0042 645.837 L64.0042 651.853 Q64.0042 658.633 61.4897 661.211 Q58.9434 663.789 52.2594 663.789 L32.9077 663.789 L32.9077 668.086 L28.3562 668.086 L28.3562 663.789 L18.2347 663.789 L18.2347 657.9 Z\" fill=\"#000000\" fill-rule=\"evenodd\" fill-opacity=\"1\" /><path clip-path=\"url(#clip142)\" d=\"\n",
       "M204.911 1343.67 L204.911 1384.24 L258.703 1384.24 L258.703 1343.67 L204.911 1343.67 L204.911 1343.67  Z\n",
       "  \" fill=\"#009af9\" fill-rule=\"evenodd\" fill-opacity=\"1\"/>\n",
       "<polyline clip-path=\"url(#clip142)\" style=\"stroke:#000000; stroke-linecap:butt; stroke-linejoin:round; stroke-width:4; stroke-opacity:1; fill:none\" points=\"\n",
       "  204.911,1343.67 204.911,1384.24 258.703,1384.24 258.703,1343.67 204.911,1343.67 \n",
       "  \"/>\n",
       "<path clip-path=\"url(#clip142)\" d=\"\n",
       "M258.703 228.16 L258.703 1384.24 L312.495 1384.24 L312.495 228.16 L258.703 228.16 L258.703 228.16  Z\n",
       "  \" fill=\"#009af9\" fill-rule=\"evenodd\" fill-opacity=\"1\"/>\n",
       "<polyline clip-path=\"url(#clip142)\" style=\"stroke:#000000; stroke-linecap:butt; stroke-linejoin:round; stroke-width:4; stroke-opacity:1; fill:none\" points=\"\n",
       "  258.703,228.16 258.703,1384.24 312.495,1384.24 312.495,228.16 258.703,228.16 \n",
       "  \"/>\n",
       "<path clip-path=\"url(#clip142)\" d=\"\n",
       "M312.495 86.1857 L312.495 1384.24 L366.287 1384.24 L366.287 86.1857 L312.495 86.1857 L312.495 86.1857  Z\n",
       "  \" fill=\"#009af9\" fill-rule=\"evenodd\" fill-opacity=\"1\"/>\n",
       "<polyline clip-path=\"url(#clip142)\" style=\"stroke:#000000; stroke-linecap:butt; stroke-linejoin:round; stroke-width:4; stroke-opacity:1; fill:none\" points=\"\n",
       "  312.495,86.1857 312.495,1384.24 366.287,1384.24 366.287,86.1857 312.495,86.1857 \n",
       "  \"/>\n",
       "<path clip-path=\"url(#clip142)\" d=\"\n",
       "M366.287 694.648 L366.287 1384.24 L420.078 1384.24 L420.078 694.648 L366.287 694.648 L366.287 694.648  Z\n",
       "  \" fill=\"#009af9\" fill-rule=\"evenodd\" fill-opacity=\"1\"/>\n",
       "<polyline clip-path=\"url(#clip142)\" style=\"stroke:#000000; stroke-linecap:butt; stroke-linejoin:round; stroke-width:4; stroke-opacity:1; fill:none\" points=\"\n",
       "  366.287,694.648 366.287,1384.24 420.078,1384.24 420.078,694.648 366.287,694.648 \n",
       "  \"/>\n",
       "<path clip-path=\"url(#clip142)\" d=\"\n",
       "M420.078 1080.01 L420.078 1384.24 L473.87 1384.24 L473.87 1080.01 L420.078 1080.01 L420.078 1080.01  Z\n",
       "  \" fill=\"#009af9\" fill-rule=\"evenodd\" fill-opacity=\"1\"/>\n",
       "<polyline clip-path=\"url(#clip142)\" style=\"stroke:#000000; stroke-linecap:butt; stroke-linejoin:round; stroke-width:4; stroke-opacity:1; fill:none\" points=\"\n",
       "  420.078,1080.01 420.078,1384.24 473.87,1384.24 473.87,1080.01 420.078,1080.01 \n",
       "  \"/>\n",
       "<path clip-path=\"url(#clip142)\" d=\"\n",
       "M473.87 1080.01 L473.87 1384.24 L527.662 1384.24 L527.662 1080.01 L473.87 1080.01 L473.87 1080.01  Z\n",
       "  \" fill=\"#009af9\" fill-rule=\"evenodd\" fill-opacity=\"1\"/>\n",
       "<polyline clip-path=\"url(#clip142)\" style=\"stroke:#000000; stroke-linecap:butt; stroke-linejoin:round; stroke-width:4; stroke-opacity:1; fill:none\" points=\"\n",
       "  473.87,1080.01 473.87,1384.24 527.662,1384.24 527.662,1080.01 473.87,1080.01 \n",
       "  \"/>\n",
       "<path clip-path=\"url(#clip142)\" d=\"\n",
       "M527.662 1140.85 L527.662 1384.24 L581.454 1384.24 L581.454 1140.85 L527.662 1140.85 L527.662 1140.85  Z\n",
       "  \" fill=\"#009af9\" fill-rule=\"evenodd\" fill-opacity=\"1\"/>\n",
       "<polyline clip-path=\"url(#clip142)\" style=\"stroke:#000000; stroke-linecap:butt; stroke-linejoin:round; stroke-width:4; stroke-opacity:1; fill:none\" points=\"\n",
       "  527.662,1140.85 527.662,1384.24 581.454,1384.24 581.454,1140.85 527.662,1140.85 \n",
       "  \"/>\n",
       "<path clip-path=\"url(#clip142)\" d=\"\n",
       "M581.454 1140.85 L581.454 1384.24 L635.246 1384.24 L635.246 1140.85 L581.454 1140.85 L581.454 1140.85  Z\n",
       "  \" fill=\"#009af9\" fill-rule=\"evenodd\" fill-opacity=\"1\"/>\n",
       "<polyline clip-path=\"url(#clip142)\" style=\"stroke:#000000; stroke-linecap:butt; stroke-linejoin:round; stroke-width:4; stroke-opacity:1; fill:none\" points=\"\n",
       "  581.454,1140.85 581.454,1384.24 635.246,1384.24 635.246,1140.85 581.454,1140.85 \n",
       "  \"/>\n",
       "<path clip-path=\"url(#clip142)\" d=\"\n",
       "M635.246 1303.11 L635.246 1384.24 L689.037 1384.24 L689.037 1303.11 L635.246 1303.11 L635.246 1303.11  Z\n",
       "  \" fill=\"#009af9\" fill-rule=\"evenodd\" fill-opacity=\"1\"/>\n",
       "<polyline clip-path=\"url(#clip142)\" style=\"stroke:#000000; stroke-linecap:butt; stroke-linejoin:round; stroke-width:4; stroke-opacity:1; fill:none\" points=\"\n",
       "  635.246,1303.11 635.246,1384.24 689.037,1384.24 689.037,1303.11 635.246,1303.11 \n",
       "  \"/>\n",
       "<path clip-path=\"url(#clip142)\" d=\"\n",
       "M689.037 1262.55 L689.037 1384.24 L742.829 1384.24 L742.829 1262.55 L689.037 1262.55 L689.037 1262.55  Z\n",
       "  \" fill=\"#009af9\" fill-rule=\"evenodd\" fill-opacity=\"1\"/>\n",
       "<polyline clip-path=\"url(#clip142)\" style=\"stroke:#000000; stroke-linecap:butt; stroke-linejoin:round; stroke-width:4; stroke-opacity:1; fill:none\" points=\"\n",
       "  689.037,1262.55 689.037,1384.24 742.829,1384.24 742.829,1262.55 689.037,1262.55 \n",
       "  \"/>\n",
       "<path clip-path=\"url(#clip142)\" d=\"\n",
       "M742.829 1282.83 L742.829 1384.24 L796.621 1384.24 L796.621 1282.83 L742.829 1282.83 L742.829 1282.83  Z\n",
       "  \" fill=\"#009af9\" fill-rule=\"evenodd\" fill-opacity=\"1\"/>\n",
       "<polyline clip-path=\"url(#clip142)\" style=\"stroke:#000000; stroke-linecap:butt; stroke-linejoin:round; stroke-width:4; stroke-opacity:1; fill:none\" points=\"\n",
       "  742.829,1282.83 742.829,1384.24 796.621,1384.24 796.621,1282.83 742.829,1282.83 \n",
       "  \"/>\n",
       "<path clip-path=\"url(#clip142)\" d=\"\n",
       "M796.621 1363.96 L796.621 1384.24 L850.413 1384.24 L850.413 1363.96 L796.621 1363.96 L796.621 1363.96  Z\n",
       "  \" fill=\"#009af9\" fill-rule=\"evenodd\" fill-opacity=\"1\"/>\n",
       "<polyline clip-path=\"url(#clip142)\" style=\"stroke:#000000; stroke-linecap:butt; stroke-linejoin:round; stroke-width:4; stroke-opacity:1; fill:none\" points=\"\n",
       "  796.621,1363.96 796.621,1384.24 850.413,1384.24 850.413,1363.96 796.621,1363.96 \n",
       "  \"/>\n",
       "<path clip-path=\"url(#clip142)\" d=\"\n",
       "M850.413 1282.83 L850.413 1384.24 L904.205 1384.24 L904.205 1282.83 L850.413 1282.83 L850.413 1282.83  Z\n",
       "  \" fill=\"#009af9\" fill-rule=\"evenodd\" fill-opacity=\"1\"/>\n",
       "<polyline clip-path=\"url(#clip142)\" style=\"stroke:#000000; stroke-linecap:butt; stroke-linejoin:round; stroke-width:4; stroke-opacity:1; fill:none\" points=\"\n",
       "  850.413,1282.83 850.413,1384.24 904.205,1384.24 904.205,1282.83 850.413,1282.83 \n",
       "  \"/>\n",
       "<path clip-path=\"url(#clip142)\" d=\"\n",
       "M904.205 1343.67 L904.205 1384.24 L957.996 1384.24 L957.996 1343.67 L904.205 1343.67 L904.205 1343.67  Z\n",
       "  \" fill=\"#009af9\" fill-rule=\"evenodd\" fill-opacity=\"1\"/>\n",
       "<polyline clip-path=\"url(#clip142)\" style=\"stroke:#000000; stroke-linecap:butt; stroke-linejoin:round; stroke-width:4; stroke-opacity:1; fill:none\" points=\"\n",
       "  904.205,1343.67 904.205,1384.24 957.996,1384.24 957.996,1343.67 904.205,1343.67 \n",
       "  \"/>\n",
       "<path clip-path=\"url(#clip142)\" d=\"\n",
       "M957.996 1363.96 L957.996 1384.24 L1011.79 1384.24 L1011.79 1363.96 L957.996 1363.96 L957.996 1363.96  Z\n",
       "  \" fill=\"#009af9\" fill-rule=\"evenodd\" fill-opacity=\"1\"/>\n",
       "<polyline clip-path=\"url(#clip142)\" style=\"stroke:#000000; stroke-linecap:butt; stroke-linejoin:round; stroke-width:4; stroke-opacity:1; fill:none\" points=\"\n",
       "  957.996,1363.96 957.996,1384.24 1011.79,1384.24 1011.79,1363.96 957.996,1363.96 \n",
       "  \"/>\n",
       "<path clip-path=\"url(#clip142)\" d=\"\n",
       "M1011.79 1343.67 L1011.79 1384.24 L1065.58 1384.24 L1065.58 1343.67 L1011.79 1343.67 L1011.79 1343.67  Z\n",
       "  \" fill=\"#009af9\" fill-rule=\"evenodd\" fill-opacity=\"1\"/>\n",
       "<polyline clip-path=\"url(#clip142)\" style=\"stroke:#000000; stroke-linecap:butt; stroke-linejoin:round; stroke-width:4; stroke-opacity:1; fill:none\" points=\"\n",
       "  1011.79,1343.67 1011.79,1384.24 1065.58,1384.24 1065.58,1343.67 1011.79,1343.67 \n",
       "  \"/>\n",
       "<path clip-path=\"url(#clip142)\" d=\"\n",
       "M1065.58 1363.96 L1065.58 1384.24 L1119.37 1384.24 L1119.37 1363.96 L1065.58 1363.96 L1065.58 1363.96  Z\n",
       "  \" fill=\"#009af9\" fill-rule=\"evenodd\" fill-opacity=\"1\"/>\n",
       "<polyline clip-path=\"url(#clip142)\" style=\"stroke:#000000; stroke-linecap:butt; stroke-linejoin:round; stroke-width:4; stroke-opacity:1; fill:none\" points=\"\n",
       "  1065.58,1363.96 1065.58,1384.24 1119.37,1384.24 1119.37,1363.96 1065.58,1363.96 \n",
       "  \"/>\n",
       "<path clip-path=\"url(#clip142)\" d=\"\n",
       "M1119.37 1282.83 L1119.37 1384.24 L1173.16 1384.24 L1173.16 1282.83 L1119.37 1282.83 L1119.37 1282.83  Z\n",
       "  \" fill=\"#009af9\" fill-rule=\"evenodd\" fill-opacity=\"1\"/>\n",
       "<polyline clip-path=\"url(#clip142)\" style=\"stroke:#000000; stroke-linecap:butt; stroke-linejoin:round; stroke-width:4; stroke-opacity:1; fill:none\" points=\"\n",
       "  1119.37,1282.83 1119.37,1384.24 1173.16,1384.24 1173.16,1282.83 1119.37,1282.83 \n",
       "  \"/>\n",
       "<path clip-path=\"url(#clip142)\" d=\"\n",
       "M1173.16 1242.26 L1173.16 1384.24 L1226.96 1384.24 L1226.96 1242.26 L1173.16 1242.26 L1173.16 1242.26  Z\n",
       "  \" fill=\"#009af9\" fill-rule=\"evenodd\" fill-opacity=\"1\"/>\n",
       "<polyline clip-path=\"url(#clip142)\" style=\"stroke:#000000; stroke-linecap:butt; stroke-linejoin:round; stroke-width:4; stroke-opacity:1; fill:none\" points=\"\n",
       "  1173.16,1242.26 1173.16,1384.24 1226.96,1384.24 1226.96,1242.26 1173.16,1242.26 \n",
       "  \"/>\n",
       "<path clip-path=\"url(#clip142)\" d=\"\n",
       "M1226.96 1323.39 L1226.96 1384.24 L1280.75 1384.24 L1280.75 1323.39 L1226.96 1323.39 L1226.96 1323.39  Z\n",
       "  \" fill=\"#009af9\" fill-rule=\"evenodd\" fill-opacity=\"1\"/>\n",
       "<polyline clip-path=\"url(#clip142)\" style=\"stroke:#000000; stroke-linecap:butt; stroke-linejoin:round; stroke-width:4; stroke-opacity:1; fill:none\" points=\"\n",
       "  1226.96,1323.39 1226.96,1384.24 1280.75,1384.24 1280.75,1323.39 1226.96,1323.39 \n",
       "  \"/>\n",
       "<path clip-path=\"url(#clip142)\" d=\"\n",
       "M1280.75 1343.67 L1280.75 1384.24 L1334.54 1384.24 L1334.54 1343.67 L1280.75 1343.67 L1280.75 1343.67  Z\n",
       "  \" fill=\"#009af9\" fill-rule=\"evenodd\" fill-opacity=\"1\"/>\n",
       "<polyline clip-path=\"url(#clip142)\" style=\"stroke:#000000; stroke-linecap:butt; stroke-linejoin:round; stroke-width:4; stroke-opacity:1; fill:none\" points=\"\n",
       "  1280.75,1343.67 1280.75,1384.24 1334.54,1384.24 1334.54,1343.67 1280.75,1343.67 \n",
       "  \"/>\n",
       "<path clip-path=\"url(#clip142)\" d=\"\n",
       "M1334.54 1363.96 L1334.54 1384.24 L1388.33 1384.24 L1388.33 1363.96 L1334.54 1363.96 L1334.54 1363.96  Z\n",
       "  \" fill=\"#009af9\" fill-rule=\"evenodd\" fill-opacity=\"1\"/>\n",
       "<polyline clip-path=\"url(#clip142)\" style=\"stroke:#000000; stroke-linecap:butt; stroke-linejoin:round; stroke-width:4; stroke-opacity:1; fill:none\" points=\"\n",
       "  1334.54,1363.96 1334.54,1384.24 1388.33,1384.24 1388.33,1363.96 1334.54,1363.96 \n",
       "  \"/>\n",
       "<path clip-path=\"url(#clip142)\" d=\"\n",
       "M1388.33 1323.39 L1388.33 1384.24 L1442.12 1384.24 L1442.12 1323.39 L1388.33 1323.39 L1388.33 1323.39  Z\n",
       "  \" fill=\"#009af9\" fill-rule=\"evenodd\" fill-opacity=\"1\"/>\n",
       "<polyline clip-path=\"url(#clip142)\" style=\"stroke:#000000; stroke-linecap:butt; stroke-linejoin:round; stroke-width:4; stroke-opacity:1; fill:none\" points=\"\n",
       "  1388.33,1323.39 1388.33,1384.24 1442.12,1384.24 1442.12,1323.39 1388.33,1323.39 \n",
       "  \"/>\n",
       "<path clip-path=\"url(#clip142)\" d=\"\n",
       "M1442.12 1323.39 L1442.12 1384.24 L1495.91 1384.24 L1495.91 1323.39 L1442.12 1323.39 L1442.12 1323.39  Z\n",
       "  \" fill=\"#009af9\" fill-rule=\"evenodd\" fill-opacity=\"1\"/>\n",
       "<polyline clip-path=\"url(#clip142)\" style=\"stroke:#000000; stroke-linecap:butt; stroke-linejoin:round; stroke-width:4; stroke-opacity:1; fill:none\" points=\"\n",
       "  1442.12,1323.39 1442.12,1384.24 1495.91,1384.24 1495.91,1323.39 1442.12,1323.39 \n",
       "  \"/>\n",
       "<path clip-path=\"url(#clip142)\" d=\"\n",
       "M1495.91 1384.24 L1495.91 1384.24 L1549.71 1384.24 L1549.71 1384.24 L1495.91 1384.24 L1495.91 1384.24  Z\n",
       "  \" fill=\"#009af9\" fill-rule=\"evenodd\" fill-opacity=\"1\"/>\n",
       "<polyline clip-path=\"url(#clip142)\" style=\"stroke:#000000; stroke-linecap:butt; stroke-linejoin:round; stroke-width:4; stroke-opacity:1; fill:none\" points=\"\n",
       "  1495.91,1384.24 1495.91,1384.24 1549.71,1384.24 1495.91,1384.24 \n",
       "  \"/>\n",
       "<path clip-path=\"url(#clip142)\" d=\"\n",
       "M1549.71 1323.39 L1549.71 1384.24 L1603.5 1384.24 L1603.5 1323.39 L1549.71 1323.39 L1549.71 1323.39  Z\n",
       "  \" fill=\"#009af9\" fill-rule=\"evenodd\" fill-opacity=\"1\"/>\n",
       "<polyline clip-path=\"url(#clip142)\" style=\"stroke:#000000; stroke-linecap:butt; stroke-linejoin:round; stroke-width:4; stroke-opacity:1; fill:none\" points=\"\n",
       "  1549.71,1323.39 1549.71,1384.24 1603.5,1384.24 1603.5,1323.39 1549.71,1323.39 \n",
       "  \"/>\n",
       "<path clip-path=\"url(#clip142)\" d=\"\n",
       "M1603.5 1343.67 L1603.5 1384.24 L1657.29 1384.24 L1657.29 1343.67 L1603.5 1343.67 L1603.5 1343.67  Z\n",
       "  \" fill=\"#009af9\" fill-rule=\"evenodd\" fill-opacity=\"1\"/>\n",
       "<polyline clip-path=\"url(#clip142)\" style=\"stroke:#000000; stroke-linecap:butt; stroke-linejoin:round; stroke-width:4; stroke-opacity:1; fill:none\" points=\"\n",
       "  1603.5,1343.67 1603.5,1384.24 1657.29,1384.24 1657.29,1343.67 1603.5,1343.67 \n",
       "  \"/>\n",
       "<path clip-path=\"url(#clip142)\" d=\"\n",
       "M1657.29 1363.96 L1657.29 1384.24 L1711.08 1384.24 L1711.08 1363.96 L1657.29 1363.96 L1657.29 1363.96  Z\n",
       "  \" fill=\"#009af9\" fill-rule=\"evenodd\" fill-opacity=\"1\"/>\n",
       "<polyline clip-path=\"url(#clip142)\" style=\"stroke:#000000; stroke-linecap:butt; stroke-linejoin:round; stroke-width:4; stroke-opacity:1; fill:none\" points=\"\n",
       "  1657.29,1363.96 1657.29,1384.24 1711.08,1384.24 1711.08,1363.96 1657.29,1363.96 \n",
       "  \"/>\n",
       "<path clip-path=\"url(#clip142)\" d=\"\n",
       "M1711.08 1363.96 L1711.08 1384.24 L1764.87 1384.24 L1764.87 1363.96 L1711.08 1363.96 L1711.08 1363.96  Z\n",
       "  \" fill=\"#009af9\" fill-rule=\"evenodd\" fill-opacity=\"1\"/>\n",
       "<polyline clip-path=\"url(#clip142)\" style=\"stroke:#000000; stroke-linecap:butt; stroke-linejoin:round; stroke-width:4; stroke-opacity:1; fill:none\" points=\"\n",
       "  1711.08,1363.96 1711.08,1384.24 1764.87,1384.24 1764.87,1363.96 1711.08,1363.96 \n",
       "  \"/>\n",
       "<path clip-path=\"url(#clip142)\" d=\"\n",
       "M1764.87 1343.67 L1764.87 1384.24 L1818.67 1384.24 L1818.67 1343.67 L1764.87 1343.67 L1764.87 1343.67  Z\n",
       "  \" fill=\"#009af9\" fill-rule=\"evenodd\" fill-opacity=\"1\"/>\n",
       "<polyline clip-path=\"url(#clip142)\" style=\"stroke:#000000; stroke-linecap:butt; stroke-linejoin:round; stroke-width:4; stroke-opacity:1; fill:none\" points=\"\n",
       "  1764.87,1343.67 1764.87,1384.24 1818.67,1384.24 1818.67,1343.67 1764.87,1343.67 \n",
       "  \"/>\n",
       "<path clip-path=\"url(#clip142)\" d=\"\n",
       "M1818.67 1384.24 L1818.67 1384.24 L1872.46 1384.24 L1872.46 1384.24 L1818.67 1384.24 L1818.67 1384.24  Z\n",
       "  \" fill=\"#009af9\" fill-rule=\"evenodd\" fill-opacity=\"1\"/>\n",
       "<polyline clip-path=\"url(#clip142)\" style=\"stroke:#000000; stroke-linecap:butt; stroke-linejoin:round; stroke-width:4; stroke-opacity:1; fill:none\" points=\"\n",
       "  1818.67,1384.24 1818.67,1384.24 1872.46,1384.24 1818.67,1384.24 \n",
       "  \"/>\n",
       "<path clip-path=\"url(#clip142)\" d=\"\n",
       "M1872.46 1343.67 L1872.46 1384.24 L1926.25 1384.24 L1926.25 1343.67 L1872.46 1343.67 L1872.46 1343.67  Z\n",
       "  \" fill=\"#009af9\" fill-rule=\"evenodd\" fill-opacity=\"1\"/>\n",
       "<polyline clip-path=\"url(#clip142)\" style=\"stroke:#000000; stroke-linecap:butt; stroke-linejoin:round; stroke-width:4; stroke-opacity:1; fill:none\" points=\"\n",
       "  1872.46,1343.67 1872.46,1384.24 1926.25,1384.24 1926.25,1343.67 1872.46,1343.67 \n",
       "  \"/>\n",
       "<path clip-path=\"url(#clip142)\" d=\"\n",
       "M1926.25 1384.24 L1926.25 1384.24 L1980.04 1384.24 L1980.04 1384.24 L1926.25 1384.24 L1926.25 1384.24  Z\n",
       "  \" fill=\"#009af9\" fill-rule=\"evenodd\" fill-opacity=\"1\"/>\n",
       "<polyline clip-path=\"url(#clip142)\" style=\"stroke:#000000; stroke-linecap:butt; stroke-linejoin:round; stroke-width:4; stroke-opacity:1; fill:none\" points=\"\n",
       "  1926.25,1384.24 1926.25,1384.24 1980.04,1384.24 1926.25,1384.24 \n",
       "  \"/>\n",
       "<path clip-path=\"url(#clip142)\" d=\"\n",
       "M1980.04 1363.96 L1980.04 1384.24 L2033.83 1384.24 L2033.83 1363.96 L1980.04 1363.96 L1980.04 1363.96  Z\n",
       "  \" fill=\"#009af9\" fill-rule=\"evenodd\" fill-opacity=\"1\"/>\n",
       "<polyline clip-path=\"url(#clip142)\" style=\"stroke:#000000; stroke-linecap:butt; stroke-linejoin:round; stroke-width:4; stroke-opacity:1; fill:none\" points=\"\n",
       "  1980.04,1363.96 1980.04,1384.24 2033.83,1384.24 2033.83,1363.96 1980.04,1363.96 \n",
       "  \"/>\n",
       "<path clip-path=\"url(#clip142)\" d=\"\n",
       "M2033.83 1363.96 L2033.83 1384.24 L2087.62 1384.24 L2087.62 1363.96 L2033.83 1363.96 L2033.83 1363.96  Z\n",
       "  \" fill=\"#009af9\" fill-rule=\"evenodd\" fill-opacity=\"1\"/>\n",
       "<polyline clip-path=\"url(#clip142)\" style=\"stroke:#000000; stroke-linecap:butt; stroke-linejoin:round; stroke-width:4; stroke-opacity:1; fill:none\" points=\"\n",
       "  2033.83,1363.96 2033.83,1384.24 2087.62,1384.24 2087.62,1363.96 2033.83,1363.96 \n",
       "  \"/>\n",
       "<path clip-path=\"url(#clip142)\" d=\"\n",
       "M2087.62 1343.67 L2087.62 1384.24 L2141.42 1384.24 L2141.42 1343.67 L2087.62 1343.67 L2087.62 1343.67  Z\n",
       "  \" fill=\"#009af9\" fill-rule=\"evenodd\" fill-opacity=\"1\"/>\n",
       "<polyline clip-path=\"url(#clip142)\" style=\"stroke:#000000; stroke-linecap:butt; stroke-linejoin:round; stroke-width:4; stroke-opacity:1; fill:none\" points=\"\n",
       "  2087.62,1343.67 2087.62,1384.24 2141.42,1384.24 2141.42,1343.67 2087.62,1343.67 \n",
       "  \"/>\n",
       "<path clip-path=\"url(#clip142)\" d=\"\n",
       "M2141.42 1262.55 L2141.42 1384.24 L2195.21 1384.24 L2195.21 1262.55 L2141.42 1262.55 L2141.42 1262.55  Z\n",
       "  \" fill=\"#009af9\" fill-rule=\"evenodd\" fill-opacity=\"1\"/>\n",
       "<polyline clip-path=\"url(#clip142)\" style=\"stroke:#000000; stroke-linecap:butt; stroke-linejoin:round; stroke-width:4; stroke-opacity:1; fill:none\" points=\"\n",
       "  2141.42,1262.55 2141.42,1384.24 2195.21,1384.24 2195.21,1262.55 2141.42,1262.55 \n",
       "  \"/>\n",
       "<path clip-path=\"url(#clip142)\" d=\"\n",
       "M2195.21 1384.24 L2195.21 1384.24 L2249 1384.24 L2249 1384.24 L2195.21 1384.24 L2195.21 1384.24  Z\n",
       "  \" fill=\"#009af9\" fill-rule=\"evenodd\" fill-opacity=\"1\"/>\n",
       "<polyline clip-path=\"url(#clip142)\" style=\"stroke:#000000; stroke-linecap:butt; stroke-linejoin:round; stroke-width:4; stroke-opacity:1; fill:none\" points=\"\n",
       "  2195.21,1384.24 2195.21,1384.24 2249,1384.24 2195.21,1384.24 \n",
       "  \"/>\n",
       "<path clip-path=\"url(#clip142)\" d=\"\n",
       "M2249 1323.39 L2249 1384.24 L2302.79 1384.24 L2302.79 1323.39 L2249 1323.39 L2249 1323.39  Z\n",
       "  \" fill=\"#009af9\" fill-rule=\"evenodd\" fill-opacity=\"1\"/>\n",
       "<polyline clip-path=\"url(#clip142)\" style=\"stroke:#000000; stroke-linecap:butt; stroke-linejoin:round; stroke-width:4; stroke-opacity:1; fill:none\" points=\"\n",
       "  2249,1323.39 2249,1384.24 2302.79,1384.24 2302.79,1323.39 2249,1323.39 \n",
       "  \"/>\n",
       "<path clip-path=\"url(#clip142)\" d=\"\n",
       "M2302.79 1363.96 L2302.79 1384.24 L2356.58 1384.24 L2356.58 1363.96 L2302.79 1363.96 L2302.79 1363.96  Z\n",
       "  \" fill=\"#009af9\" fill-rule=\"evenodd\" fill-opacity=\"1\"/>\n",
       "<polyline clip-path=\"url(#clip142)\" style=\"stroke:#000000; stroke-linecap:butt; stroke-linejoin:round; stroke-width:4; stroke-opacity:1; fill:none\" points=\"\n",
       "  2302.79,1363.96 2302.79,1384.24 2356.58,1384.24 2356.58,1363.96 2302.79,1363.96 \n",
       "  \"/>\n",
       "<path clip-path=\"url(#clip142)\" d=\"\n",
       "M2356.58 1363.96 L2356.58 1384.24 L2410.37 1384.24 L2410.37 1363.96 L2356.58 1363.96 L2356.58 1363.96  Z\n",
       "  \" fill=\"#009af9\" fill-rule=\"evenodd\" fill-opacity=\"1\"/>\n",
       "<polyline clip-path=\"url(#clip142)\" style=\"stroke:#000000; stroke-linecap:butt; stroke-linejoin:round; stroke-width:4; stroke-opacity:1; fill:none\" points=\"\n",
       "  2356.58,1363.96 2356.58,1384.24 2410.37,1384.24 2410.37,1363.96 2356.58,1363.96 \n",
       "  \"/>\n",
       "<path clip-path=\"url(#clip142)\" d=\"\n",
       "M2410.37 1384.24 L2410.37 1384.24 L2464.17 1384.24 L2464.17 1384.24 L2410.37 1384.24 L2410.37 1384.24  Z\n",
       "  \" fill=\"#009af9\" fill-rule=\"evenodd\" fill-opacity=\"1\"/>\n",
       "<polyline clip-path=\"url(#clip142)\" style=\"stroke:#000000; stroke-linecap:butt; stroke-linejoin:round; stroke-width:4; stroke-opacity:1; fill:none\" points=\"\n",
       "  2410.37,1384.24 2410.37,1384.24 2464.17,1384.24 2410.37,1384.24 \n",
       "  \"/>\n",
       "<path clip-path=\"url(#clip142)\" d=\"\n",
       "M2464.17 1363.96 L2464.17 1384.24 L2517.96 1384.24 L2517.96 1363.96 L2464.17 1363.96 L2464.17 1363.96  Z\n",
       "  \" fill=\"#009af9\" fill-rule=\"evenodd\" fill-opacity=\"1\"/>\n",
       "<polyline clip-path=\"url(#clip142)\" style=\"stroke:#000000; stroke-linecap:butt; stroke-linejoin:round; stroke-width:4; stroke-opacity:1; fill:none\" points=\"\n",
       "  2464.17,1363.96 2464.17,1384.24 2517.96,1384.24 2517.96,1363.96 2464.17,1363.96 \n",
       "  \"/>\n",
       "<path clip-path=\"url(#clip142)\" d=\"\n",
       "M2517.96 1363.96 L2517.96 1384.24 L2571.75 1384.24 L2571.75 1363.96 L2517.96 1363.96 L2517.96 1363.96  Z\n",
       "  \" fill=\"#009af9\" fill-rule=\"evenodd\" fill-opacity=\"1\"/>\n",
       "<polyline clip-path=\"url(#clip142)\" style=\"stroke:#000000; stroke-linecap:butt; stroke-linejoin:round; stroke-width:4; stroke-opacity:1; fill:none\" points=\"\n",
       "  2517.96,1363.96 2517.96,1384.24 2571.75,1384.24 2571.75,1363.96 2517.96,1363.96 \n",
       "  \"/>\n",
       "<path clip-path=\"url(#clip142)\" d=\"\n",
       "M2571.75 1343.67 L2571.75 1384.24 L2625.54 1384.24 L2625.54 1343.67 L2571.75 1343.67 L2571.75 1343.67  Z\n",
       "  \" fill=\"#009af9\" fill-rule=\"evenodd\" fill-opacity=\"1\"/>\n",
       "<polyline clip-path=\"url(#clip142)\" style=\"stroke:#000000; stroke-linecap:butt; stroke-linejoin:round; stroke-width:4; stroke-opacity:1; fill:none\" points=\"\n",
       "  2571.75,1343.67 2571.75,1384.24 2625.54,1384.24 2625.54,1343.67 2571.75,1343.67 \n",
       "  \"/>\n",
       "<path clip-path=\"url(#clip142)\" d=\"\n",
       "M2625.54 1363.96 L2625.54 1384.24 L2679.33 1384.24 L2679.33 1363.96 L2625.54 1363.96 L2625.54 1363.96  Z\n",
       "  \" fill=\"#009af9\" fill-rule=\"evenodd\" fill-opacity=\"1\"/>\n",
       "<polyline clip-path=\"url(#clip142)\" style=\"stroke:#000000; stroke-linecap:butt; stroke-linejoin:round; stroke-width:4; stroke-opacity:1; fill:none\" points=\"\n",
       "  2625.54,1363.96 2625.54,1384.24 2679.33,1384.24 2679.33,1363.96 2625.54,1363.96 \n",
       "  \"/>\n",
       "<path clip-path=\"url(#clip142)\" d=\"\n",
       "M2679.33 1303.11 L2679.33 1384.24 L2733.13 1384.24 L2733.13 1303.11 L2679.33 1303.11 L2679.33 1303.11  Z\n",
       "  \" fill=\"#009af9\" fill-rule=\"evenodd\" fill-opacity=\"1\"/>\n",
       "<polyline clip-path=\"url(#clip142)\" style=\"stroke:#000000; stroke-linecap:butt; stroke-linejoin:round; stroke-width:4; stroke-opacity:1; fill:none\" points=\"\n",
       "  2679.33,1303.11 2679.33,1384.24 2733.13,1384.24 2733.13,1303.11 2679.33,1303.11 \n",
       "  \"/>\n",
       "<path clip-path=\"url(#clip142)\" d=\"\n",
       "M2733.13 1363.96 L2733.13 1384.24 L2786.92 1384.24 L2786.92 1363.96 L2733.13 1363.96 L2733.13 1363.96  Z\n",
       "  \" fill=\"#009af9\" fill-rule=\"evenodd\" fill-opacity=\"1\"/>\n",
       "<polyline clip-path=\"url(#clip142)\" style=\"stroke:#000000; stroke-linecap:butt; stroke-linejoin:round; stroke-width:4; stroke-opacity:1; fill:none\" points=\"\n",
       "  2733.13,1363.96 2733.13,1384.24 2786.92,1384.24 2786.92,1363.96 2733.13,1363.96 \n",
       "  \"/>\n",
       "<path clip-path=\"url(#clip142)\" d=\"\n",
       "M2786.92 1221.98 L2786.92 1384.24 L2840.71 1384.24 L2840.71 1221.98 L2786.92 1221.98 L2786.92 1221.98  Z\n",
       "  \" fill=\"#009af9\" fill-rule=\"evenodd\" fill-opacity=\"1\"/>\n",
       "<polyline clip-path=\"url(#clip142)\" style=\"stroke:#000000; stroke-linecap:butt; stroke-linejoin:round; stroke-width:4; stroke-opacity:1; fill:none\" points=\"\n",
       "  2786.92,1221.98 2786.92,1384.24 2840.71,1384.24 2840.71,1221.98 2786.92,1221.98 \n",
       "  \"/>\n",
       "<path clip-path=\"url(#clip142)\" d=\"\n",
       "M2840.71 1343.67 L2840.71 1384.24 L2894.5 1384.24 L2894.5 1343.67 L2840.71 1343.67 L2840.71 1343.67  Z\n",
       "  \" fill=\"#009af9\" fill-rule=\"evenodd\" fill-opacity=\"1\"/>\n",
       "<polyline clip-path=\"url(#clip142)\" style=\"stroke:#000000; stroke-linecap:butt; stroke-linejoin:round; stroke-width:4; stroke-opacity:1; fill:none\" points=\"\n",
       "  2840.71,1343.67 2840.71,1384.24 2894.5,1384.24 2894.5,1343.67 2840.71,1343.67 \n",
       "  \"/>\n",
       "<path clip-path=\"url(#clip142)\" d=\"\n",
       "M2894.5 1363.96 L2894.5 1384.24 L2948.29 1384.24 L2948.29 1363.96 L2894.5 1363.96 L2894.5 1363.96  Z\n",
       "  \" fill=\"#009af9\" fill-rule=\"evenodd\" fill-opacity=\"1\"/>\n",
       "<polyline clip-path=\"url(#clip142)\" style=\"stroke:#000000; stroke-linecap:butt; stroke-linejoin:round; stroke-width:4; stroke-opacity:1; fill:none\" points=\"\n",
       "  2894.5,1363.96 2894.5,1384.24 2948.29,1384.24 2948.29,1363.96 2894.5,1363.96 \n",
       "  \"/>\n",
       "<path clip-path=\"url(#clip142)\" d=\"\n",
       "M2948.29 1303.11 L2948.29 1384.24 L3002.08 1384.24 L3002.08 1303.11 L2948.29 1303.11 L2948.29 1303.11  Z\n",
       "  \" fill=\"#009af9\" fill-rule=\"evenodd\" fill-opacity=\"1\"/>\n",
       "<polyline clip-path=\"url(#clip142)\" style=\"stroke:#000000; stroke-linecap:butt; stroke-linejoin:round; stroke-width:4; stroke-opacity:1; fill:none\" points=\"\n",
       "  2948.29,1303.11 2948.29,1384.24 3002.08,1384.24 3002.08,1303.11 2948.29,1303.11 \n",
       "  \"/>\n",
       "<path clip-path=\"url(#clip142)\" d=\"\n",
       "M3002.08 1323.39 L3002.08 1384.24 L3055.88 1384.24 L3055.88 1323.39 L3002.08 1323.39 L3002.08 1323.39  Z\n",
       "  \" fill=\"#009af9\" fill-rule=\"evenodd\" fill-opacity=\"1\"/>\n",
       "<polyline clip-path=\"url(#clip142)\" style=\"stroke:#000000; stroke-linecap:butt; stroke-linejoin:round; stroke-width:4; stroke-opacity:1; fill:none\" points=\"\n",
       "  3002.08,1323.39 3002.08,1384.24 3055.88,1384.24 3055.88,1323.39 3002.08,1323.39 \n",
       "  \"/>\n",
       "<path clip-path=\"url(#clip142)\" d=\"\n",
       "M3055.88 1303.11 L3055.88 1384.24 L3109.67 1384.24 L3109.67 1303.11 L3055.88 1303.11 L3055.88 1303.11  Z\n",
       "  \" fill=\"#009af9\" fill-rule=\"evenodd\" fill-opacity=\"1\"/>\n",
       "<polyline clip-path=\"url(#clip142)\" style=\"stroke:#000000; stroke-linecap:butt; stroke-linejoin:round; stroke-width:4; stroke-opacity:1; fill:none\" points=\"\n",
       "  3055.88,1303.11 3055.88,1384.24 3109.67,1384.24 3109.67,1303.11 3055.88,1303.11 \n",
       "  \"/>\n",
       "<path clip-path=\"url(#clip142)\" d=\"\n",
       "M3109.67 1384.24 L3109.67 1384.24 L3163.46 1384.24 L3163.46 1384.24 L3109.67 1384.24 L3109.67 1384.24  Z\n",
       "  \" fill=\"#009af9\" fill-rule=\"evenodd\" fill-opacity=\"1\"/>\n",
       "<polyline clip-path=\"url(#clip142)\" style=\"stroke:#000000; stroke-linecap:butt; stroke-linejoin:round; stroke-width:4; stroke-opacity:1; fill:none\" points=\"\n",
       "  3109.67,1384.24 3109.67,1384.24 3163.46,1384.24 3109.67,1384.24 \n",
       "  \"/>\n",
       "<path clip-path=\"url(#clip142)\" d=\"\n",
       "M3163.46 1282.83 L3163.46 1384.24 L3217.25 1384.24 L3217.25 1282.83 L3163.46 1282.83 L3163.46 1282.83  Z\n",
       "  \" fill=\"#009af9\" fill-rule=\"evenodd\" fill-opacity=\"1\"/>\n",
       "<polyline clip-path=\"url(#clip142)\" style=\"stroke:#000000; stroke-linecap:butt; stroke-linejoin:round; stroke-width:4; stroke-opacity:1; fill:none\" points=\"\n",
       "  3163.46,1282.83 3163.46,1384.24 3217.25,1384.24 3217.25,1282.83 3163.46,1282.83 \n",
       "  \"/>\n",
       "<path clip-path=\"url(#clip142)\" d=\"\n",
       "M3217.25 1201.7 L3217.25 1384.24 L3271.04 1384.24 L3271.04 1201.7 L3217.25 1201.7 L3217.25 1201.7  Z\n",
       "  \" fill=\"#009af9\" fill-rule=\"evenodd\" fill-opacity=\"1\"/>\n",
       "<polyline clip-path=\"url(#clip142)\" style=\"stroke:#000000; stroke-linecap:butt; stroke-linejoin:round; stroke-width:4; stroke-opacity:1; fill:none\" points=\"\n",
       "  3217.25,1201.7 3217.25,1384.24 3271.04,1384.24 3271.04,1201.7 3217.25,1201.7 \n",
       "  \"/>\n",
       "<path clip-path=\"url(#clip142)\" d=\"\n",
       "M3271.04 1262.55 L3271.04 1384.24 L3324.84 1384.24 L3324.84 1262.55 L3271.04 1262.55 L3271.04 1262.55  Z\n",
       "  \" fill=\"#009af9\" fill-rule=\"evenodd\" fill-opacity=\"1\"/>\n",
       "<polyline clip-path=\"url(#clip142)\" style=\"stroke:#000000; stroke-linecap:butt; stroke-linejoin:round; stroke-width:4; stroke-opacity:1; fill:none\" points=\"\n",
       "  3271.04,1262.55 3271.04,1384.24 3324.84,1384.24 3324.84,1262.55 3271.04,1262.55 \n",
       "  \"/>\n",
       "<path clip-path=\"url(#clip142)\" d=\"\n",
       "M3324.84 1384.24 L3324.84 1384.24 L3378.63 1384.24 L3378.63 1384.24 L3324.84 1384.24 L3324.84 1384.24  Z\n",
       "  \" fill=\"#009af9\" fill-rule=\"evenodd\" fill-opacity=\"1\"/>\n",
       "<polyline clip-path=\"url(#clip142)\" style=\"stroke:#000000; stroke-linecap:butt; stroke-linejoin:round; stroke-width:4; stroke-opacity:1; fill:none\" points=\"\n",
       "  3324.84,1384.24 3324.84,1384.24 3378.63,1384.24 3324.84,1384.24 \n",
       "  \"/>\n",
       "<path clip-path=\"url(#clip142)\" d=\"\n",
       "M3378.63 1363.96 L3378.63 1384.24 L3432.42 1384.24 L3432.42 1363.96 L3378.63 1363.96 L3378.63 1363.96  Z\n",
       "  \" fill=\"#009af9\" fill-rule=\"evenodd\" fill-opacity=\"1\"/>\n",
       "<polyline clip-path=\"url(#clip142)\" style=\"stroke:#000000; stroke-linecap:butt; stroke-linejoin:round; stroke-width:4; stroke-opacity:1; fill:none\" points=\"\n",
       "  3378.63,1363.96 3378.63,1384.24 3432.42,1384.24 3432.42,1363.96 3378.63,1363.96 \n",
       "  \"/>\n",
       "<path clip-path=\"url(#clip142)\" d=\"\n",
       "M3432.42 1363.96 L3432.42 1384.24 L3486.21 1384.24 L3486.21 1363.96 L3432.42 1363.96 L3432.42 1363.96  Z\n",
       "  \" fill=\"#009af9\" fill-rule=\"evenodd\" fill-opacity=\"1\"/>\n",
       "<polyline clip-path=\"url(#clip142)\" style=\"stroke:#000000; stroke-linecap:butt; stroke-linejoin:round; stroke-width:4; stroke-opacity:1; fill:none\" points=\"\n",
       "  3432.42,1363.96 3432.42,1384.24 3486.21,1384.24 3486.21,1363.96 3432.42,1363.96 \n",
       "  \"/>\n",
       "<path clip-path=\"url(#clip142)\" d=\"\n",
       "M3486.21 1343.67 L3486.21 1384.24 L3540 1384.24 L3540 1343.67 L3486.21 1343.67 L3486.21 1343.67  Z\n",
       "  \" fill=\"#009af9\" fill-rule=\"evenodd\" fill-opacity=\"1\"/>\n",
       "<polyline clip-path=\"url(#clip142)\" style=\"stroke:#000000; stroke-linecap:butt; stroke-linejoin:round; stroke-width:4; stroke-opacity:1; fill:none\" points=\"\n",
       "  3486.21,1343.67 3486.21,1384.24 3540,1384.24 3540,1343.67 3486.21,1343.67 \n",
       "  \"/>\n",
       "<path clip-path=\"url(#clip142)\" d=\"\n",
       "M3540 1384.24 L3540 1384.24 L3593.79 1384.24 L3593.79 1384.24 L3540 1384.24 L3540 1384.24  Z\n",
       "  \" fill=\"#009af9\" fill-rule=\"evenodd\" fill-opacity=\"1\"/>\n",
       "<polyline clip-path=\"url(#clip142)\" style=\"stroke:#000000; stroke-linecap:butt; stroke-linejoin:round; stroke-width:4; stroke-opacity:1; fill:none\" points=\"\n",
       "  3540,1384.24 3540,1384.24 3593.79,1384.24 3540,1384.24 \n",
       "  \"/>\n",
       "<path clip-path=\"url(#clip142)\" d=\"\n",
       "M3593.79 1303.11 L3593.79 1384.24 L3647.59 1384.24 L3647.59 1303.11 L3593.79 1303.11 L3593.79 1303.11  Z\n",
       "  \" fill=\"#009af9\" fill-rule=\"evenodd\" fill-opacity=\"1\"/>\n",
       "<polyline clip-path=\"url(#clip142)\" style=\"stroke:#000000; stroke-linecap:butt; stroke-linejoin:round; stroke-width:4; stroke-opacity:1; fill:none\" points=\"\n",
       "  3593.79,1303.11 3593.79,1384.24 3647.59,1384.24 3647.59,1303.11 3593.79,1303.11 \n",
       "  \"/>\n",
       "<path clip-path=\"url(#clip142)\" d=\"\n",
       "M3647.59 1363.96 L3647.59 1384.24 L3701.38 1384.24 L3701.38 1363.96 L3647.59 1363.96 L3647.59 1363.96  Z\n",
       "  \" fill=\"#009af9\" fill-rule=\"evenodd\" fill-opacity=\"1\"/>\n",
       "<polyline clip-path=\"url(#clip142)\" style=\"stroke:#000000; stroke-linecap:butt; stroke-linejoin:round; stroke-width:4; stroke-opacity:1; fill:none\" points=\"\n",
       "  3647.59,1363.96 3647.59,1384.24 3701.38,1384.24 3701.38,1363.96 3647.59,1363.96 \n",
       "  \"/>\n",
       "<path clip-path=\"url(#clip142)\" d=\"\n",
       "M3701.38 1343.67 L3701.38 1384.24 L3755.17 1384.24 L3755.17 1343.67 L3701.38 1343.67 L3701.38 1343.67  Z\n",
       "  \" fill=\"#009af9\" fill-rule=\"evenodd\" fill-opacity=\"1\"/>\n",
       "<polyline clip-path=\"url(#clip142)\" style=\"stroke:#000000; stroke-linecap:butt; stroke-linejoin:round; stroke-width:4; stroke-opacity:1; fill:none\" points=\"\n",
       "  3701.38,1343.67 3701.38,1384.24 3755.17,1384.24 3755.17,1343.67 3701.38,1343.67 \n",
       "  \"/>\n",
       "<path clip-path=\"url(#clip142)\" d=\"\n",
       "M3755.17 1343.67 L3755.17 1384.24 L3808.96 1384.24 L3808.96 1343.67 L3755.17 1343.67 L3755.17 1343.67  Z\n",
       "  \" fill=\"#009af9\" fill-rule=\"evenodd\" fill-opacity=\"1\"/>\n",
       "<polyline clip-path=\"url(#clip142)\" style=\"stroke:#000000; stroke-linecap:butt; stroke-linejoin:round; stroke-width:4; stroke-opacity:1; fill:none\" points=\"\n",
       "  3755.17,1343.67 3755.17,1384.24 3808.96,1384.24 3808.96,1343.67 3755.17,1343.67 \n",
       "  \"/>\n",
       "<path clip-path=\"url(#clip142)\" d=\"\n",
       "M3808.96 1384.24 L3808.96 1384.24 L3862.75 1384.24 L3862.75 1384.24 L3808.96 1384.24 L3808.96 1384.24  Z\n",
       "  \" fill=\"#009af9\" fill-rule=\"evenodd\" fill-opacity=\"1\"/>\n",
       "<polyline clip-path=\"url(#clip142)\" style=\"stroke:#000000; stroke-linecap:butt; stroke-linejoin:round; stroke-width:4; stroke-opacity:1; fill:none\" points=\"\n",
       "  3808.96,1384.24 3808.96,1384.24 3862.75,1384.24 3808.96,1384.24 \n",
       "  \"/>\n",
       "<path clip-path=\"url(#clip142)\" d=\"\n",
       "M3862.75 1384.24 L3862.75 1384.24 L3916.55 1384.24 L3916.55 1384.24 L3862.75 1384.24 L3862.75 1384.24  Z\n",
       "  \" fill=\"#009af9\" fill-rule=\"evenodd\" fill-opacity=\"1\"/>\n",
       "<polyline clip-path=\"url(#clip142)\" style=\"stroke:#000000; stroke-linecap:butt; stroke-linejoin:round; stroke-width:4; stroke-opacity:1; fill:none\" points=\"\n",
       "  3862.75,1384.24 3862.75,1384.24 3916.55,1384.24 3862.75,1384.24 \n",
       "  \"/>\n",
       "<path clip-path=\"url(#clip142)\" d=\"\n",
       "M3916.55 1363.96 L3916.55 1384.24 L3970.34 1384.24 L3970.34 1363.96 L3916.55 1363.96 L3916.55 1363.96  Z\n",
       "  \" fill=\"#009af9\" fill-rule=\"evenodd\" fill-opacity=\"1\"/>\n",
       "<polyline clip-path=\"url(#clip142)\" style=\"stroke:#000000; stroke-linecap:butt; stroke-linejoin:round; stroke-width:4; stroke-opacity:1; fill:none\" points=\"\n",
       "  3916.55,1363.96 3916.55,1384.24 3970.34,1384.24 3970.34,1363.96 3916.55,1363.96 \n",
       "  \"/>\n",
       "<path clip-path=\"url(#clip142)\" d=\"\n",
       "M3970.34 1363.96 L3970.34 1384.24 L4024.13 1384.24 L4024.13 1363.96 L3970.34 1363.96 L3970.34 1363.96  Z\n",
       "  \" fill=\"#009af9\" fill-rule=\"evenodd\" fill-opacity=\"1\"/>\n",
       "<polyline clip-path=\"url(#clip142)\" style=\"stroke:#000000; stroke-linecap:butt; stroke-linejoin:round; stroke-width:4; stroke-opacity:1; fill:none\" points=\"\n",
       "  3970.34,1363.96 3970.34,1384.24 4024.13,1384.24 4024.13,1363.96 3970.34,1363.96 \n",
       "  \"/>\n",
       "<path clip-path=\"url(#clip142)\" d=\"\n",
       "M4024.13 1343.67 L4024.13 1384.24 L4077.92 1384.24 L4077.92 1343.67 L4024.13 1343.67 L4024.13 1343.67  Z\n",
       "  \" fill=\"#009af9\" fill-rule=\"evenodd\" fill-opacity=\"1\"/>\n",
       "<polyline clip-path=\"url(#clip142)\" style=\"stroke:#000000; stroke-linecap:butt; stroke-linejoin:round; stroke-width:4; stroke-opacity:1; fill:none\" points=\"\n",
       "  4024.13,1343.67 4024.13,1384.24 4077.92,1384.24 4077.92,1343.67 4024.13,1343.67 \n",
       "  \"/>\n",
       "<path clip-path=\"url(#clip142)\" d=\"\n",
       "M4077.92 1384.24 L4077.92 1384.24 L4131.71 1384.24 L4131.71 1384.24 L4077.92 1384.24 L4077.92 1384.24  Z\n",
       "  \" fill=\"#009af9\" fill-rule=\"evenodd\" fill-opacity=\"1\"/>\n",
       "<polyline clip-path=\"url(#clip142)\" style=\"stroke:#000000; stroke-linecap:butt; stroke-linejoin:round; stroke-width:4; stroke-opacity:1; fill:none\" points=\"\n",
       "  4077.92,1384.24 4077.92,1384.24 4131.71,1384.24 4077.92,1384.24 \n",
       "  \"/>\n",
       "<path clip-path=\"url(#clip142)\" d=\"\n",
       "M4131.71 1363.96 L4131.71 1384.24 L4185.5 1384.24 L4185.5 1363.96 L4131.71 1363.96 L4131.71 1363.96  Z\n",
       "  \" fill=\"#009af9\" fill-rule=\"evenodd\" fill-opacity=\"1\"/>\n",
       "<polyline clip-path=\"url(#clip142)\" style=\"stroke:#000000; stroke-linecap:butt; stroke-linejoin:round; stroke-width:4; stroke-opacity:1; fill:none\" points=\"\n",
       "  4131.71,1363.96 4131.71,1384.24 4185.5,1384.24 4185.5,1363.96 4131.71,1363.96 \n",
       "  \"/>\n",
       "<path clip-path=\"url(#clip142)\" d=\"\n",
       "M4185.5 1363.96 L4185.5 1384.24 L4239.3 1384.24 L4239.3 1363.96 L4185.5 1363.96 L4185.5 1363.96  Z\n",
       "  \" fill=\"#009af9\" fill-rule=\"evenodd\" fill-opacity=\"1\"/>\n",
       "<polyline clip-path=\"url(#clip142)\" style=\"stroke:#000000; stroke-linecap:butt; stroke-linejoin:round; stroke-width:4; stroke-opacity:1; fill:none\" points=\"\n",
       "  4185.5,1363.96 4185.5,1384.24 4239.3,1384.24 4239.3,1363.96 4185.5,1363.96 \n",
       "  \"/>\n",
       "<path clip-path=\"url(#clip142)\" d=\"\n",
       "M4239.3 1363.96 L4239.3 1384.24 L4293.09 1384.24 L4293.09 1363.96 L4239.3 1363.96 L4239.3 1363.96  Z\n",
       "  \" fill=\"#009af9\" fill-rule=\"evenodd\" fill-opacity=\"1\"/>\n",
       "<polyline clip-path=\"url(#clip142)\" style=\"stroke:#000000; stroke-linecap:butt; stroke-linejoin:round; stroke-width:4; stroke-opacity:1; fill:none\" points=\"\n",
       "  4239.3,1363.96 4239.3,1384.24 4293.09,1384.24 4293.09,1363.96 4239.3,1363.96 \n",
       "  \"/>\n",
       "<path clip-path=\"url(#clip142)\" d=\"\n",
       "M4293.09 1384.24 L4293.09 1384.24 L4346.88 1384.24 L4346.88 1384.24 L4293.09 1384.24 L4293.09 1384.24  Z\n",
       "  \" fill=\"#009af9\" fill-rule=\"evenodd\" fill-opacity=\"1\"/>\n",
       "<polyline clip-path=\"url(#clip142)\" style=\"stroke:#000000; stroke-linecap:butt; stroke-linejoin:round; stroke-width:4; stroke-opacity:1; fill:none\" points=\"\n",
       "  4293.09,1384.24 4293.09,1384.24 4346.88,1384.24 4293.09,1384.24 \n",
       "  \"/>\n",
       "<path clip-path=\"url(#clip142)\" d=\"\n",
       "M4346.88 1343.67 L4346.88 1384.24 L4400.67 1384.24 L4400.67 1343.67 L4346.88 1343.67 L4346.88 1343.67  Z\n",
       "  \" fill=\"#009af9\" fill-rule=\"evenodd\" fill-opacity=\"1\"/>\n",
       "<polyline clip-path=\"url(#clip142)\" style=\"stroke:#000000; stroke-linecap:butt; stroke-linejoin:round; stroke-width:4; stroke-opacity:1; fill:none\" points=\"\n",
       "  4346.88,1343.67 4346.88,1384.24 4400.67,1384.24 4400.67,1343.67 4346.88,1343.67 \n",
       "  \"/>\n",
       "<path clip-path=\"url(#clip142)\" d=\"\n",
       "M4400.67 1343.67 L4400.67 1384.24 L4454.46 1384.24 L4454.46 1343.67 L4400.67 1343.67 L4400.67 1343.67  Z\n",
       "  \" fill=\"#009af9\" fill-rule=\"evenodd\" fill-opacity=\"1\"/>\n",
       "<polyline clip-path=\"url(#clip142)\" style=\"stroke:#000000; stroke-linecap:butt; stroke-linejoin:round; stroke-width:4; stroke-opacity:1; fill:none\" points=\"\n",
       "  4400.67,1343.67 4400.67,1384.24 4454.46,1384.24 4454.46,1343.67 4400.67,1343.67 \n",
       "  \"/>\n",
       "<path clip-path=\"url(#clip142)\" d=\"\n",
       "M4454.46 1384.24 L4454.46 1384.24 L4508.26 1384.24 L4508.26 1384.24 L4454.46 1384.24 L4454.46 1384.24  Z\n",
       "  \" fill=\"#009af9\" fill-rule=\"evenodd\" fill-opacity=\"1\"/>\n",
       "<polyline clip-path=\"url(#clip142)\" style=\"stroke:#000000; stroke-linecap:butt; stroke-linejoin:round; stroke-width:4; stroke-opacity:1; fill:none\" points=\"\n",
       "  4454.46,1384.24 4454.46,1384.24 4508.26,1384.24 4454.46,1384.24 \n",
       "  \"/>\n",
       "<path clip-path=\"url(#clip142)\" d=\"\n",
       "M4508.26 1384.24 L4508.26 1384.24 L4562.05 1384.24 L4562.05 1384.24 L4508.26 1384.24 L4508.26 1384.24  Z\n",
       "  \" fill=\"#009af9\" fill-rule=\"evenodd\" fill-opacity=\"1\"/>\n",
       "<polyline clip-path=\"url(#clip142)\" style=\"stroke:#000000; stroke-linecap:butt; stroke-linejoin:round; stroke-width:4; stroke-opacity:1; fill:none\" points=\"\n",
       "  4508.26,1384.24 4508.26,1384.24 4562.05,1384.24 4508.26,1384.24 \n",
       "  \"/>\n",
       "<path clip-path=\"url(#clip142)\" d=\"\n",
       "M4562.05 1323.39 L4562.05 1384.24 L4615.84 1384.24 L4615.84 1323.39 L4562.05 1323.39 L4562.05 1323.39  Z\n",
       "  \" fill=\"#009af9\" fill-rule=\"evenodd\" fill-opacity=\"1\"/>\n",
       "<polyline clip-path=\"url(#clip142)\" style=\"stroke:#000000; stroke-linecap:butt; stroke-linejoin:round; stroke-width:4; stroke-opacity:1; fill:none\" points=\"\n",
       "  4562.05,1323.39 4562.05,1384.24 4615.84,1384.24 4615.84,1323.39 4562.05,1323.39 \n",
       "  \"/>\n",
       "<path clip-path=\"url(#clip142)\" d=\"\n",
       "M4615.84 1343.67 L4615.84 1384.24 L4669.63 1384.24 L4669.63 1343.67 L4615.84 1343.67 L4615.84 1343.67  Z\n",
       "  \" fill=\"#009af9\" fill-rule=\"evenodd\" fill-opacity=\"1\"/>\n",
       "<polyline clip-path=\"url(#clip142)\" style=\"stroke:#000000; stroke-linecap:butt; stroke-linejoin:round; stroke-width:4; stroke-opacity:1; fill:none\" points=\"\n",
       "  4615.84,1343.67 4615.84,1384.24 4669.63,1384.24 4669.63,1343.67 4615.84,1343.67 \n",
       "  \"/>\n",
       "<path clip-path=\"url(#clip142)\" d=\"\n",
       "M4669.63 1384.24 L4669.63 1384.24 L4723.42 1384.24 L4723.42 1384.24 L4669.63 1384.24 L4669.63 1384.24  Z\n",
       "  \" fill=\"#009af9\" fill-rule=\"evenodd\" fill-opacity=\"1\"/>\n",
       "<polyline clip-path=\"url(#clip142)\" style=\"stroke:#000000; stroke-linecap:butt; stroke-linejoin:round; stroke-width:4; stroke-opacity:1; fill:none\" points=\"\n",
       "  4669.63,1384.24 4669.63,1384.24 4723.42,1384.24 4669.63,1384.24 \n",
       "  \"/>\n",
       "<path clip-path=\"url(#clip142)\" d=\"\n",
       "M4723.42 1384.24 L4723.42 1384.24 L4777.21 1384.24 L4777.21 1384.24 L4723.42 1384.24 L4723.42 1384.24  Z\n",
       "  \" fill=\"#009af9\" fill-rule=\"evenodd\" fill-opacity=\"1\"/>\n",
       "<polyline clip-path=\"url(#clip142)\" style=\"stroke:#000000; stroke-linecap:butt; stroke-linejoin:round; stroke-width:4; stroke-opacity:1; fill:none\" points=\"\n",
       "  4723.42,1384.24 4723.42,1384.24 4777.21,1384.24 4723.42,1384.24 \n",
       "  \"/>\n",
       "<path clip-path=\"url(#clip142)\" d=\"\n",
       "M4777.21 1363.96 L4777.21 1384.24 L4831.01 1384.24 L4831.01 1363.96 L4777.21 1363.96 L4777.21 1363.96  Z\n",
       "  \" fill=\"#009af9\" fill-rule=\"evenodd\" fill-opacity=\"1\"/>\n",
       "<polyline clip-path=\"url(#clip142)\" style=\"stroke:#000000; stroke-linecap:butt; stroke-linejoin:round; stroke-width:4; stroke-opacity:1; fill:none\" points=\"\n",
       "  4777.21,1363.96 4777.21,1384.24 4831.01,1384.24 4831.01,1363.96 4777.21,1363.96 \n",
       "  \"/>\n",
       "<path clip-path=\"url(#clip142)\" d=\"\n",
       "M4831.01 1384.24 L4831.01 1384.24 L4884.8 1384.24 L4884.8 1384.24 L4831.01 1384.24 L4831.01 1384.24  Z\n",
       "  \" fill=\"#009af9\" fill-rule=\"evenodd\" fill-opacity=\"1\"/>\n",
       "<polyline clip-path=\"url(#clip142)\" style=\"stroke:#000000; stroke-linecap:butt; stroke-linejoin:round; stroke-width:4; stroke-opacity:1; fill:none\" points=\"\n",
       "  4831.01,1384.24 4831.01,1384.24 4884.8,1384.24 4831.01,1384.24 \n",
       "  \"/>\n",
       "<path clip-path=\"url(#clip142)\" d=\"\n",
       "M4884.8 1384.24 L4884.8 1384.24 L4938.59 1384.24 L4938.59 1384.24 L4884.8 1384.24 L4884.8 1384.24  Z\n",
       "  \" fill=\"#009af9\" fill-rule=\"evenodd\" fill-opacity=\"1\"/>\n",
       "<polyline clip-path=\"url(#clip142)\" style=\"stroke:#000000; stroke-linecap:butt; stroke-linejoin:round; stroke-width:4; stroke-opacity:1; fill:none\" points=\"\n",
       "  4884.8,1384.24 4884.8,1384.24 4938.59,1384.24 4884.8,1384.24 \n",
       "  \"/>\n",
       "<path clip-path=\"url(#clip142)\" d=\"\n",
       "M4938.59 1384.24 L4938.59 1384.24 L4992.38 1384.24 L4992.38 1384.24 L4938.59 1384.24 L4938.59 1384.24  Z\n",
       "  \" fill=\"#009af9\" fill-rule=\"evenodd\" fill-opacity=\"1\"/>\n",
       "<polyline clip-path=\"url(#clip142)\" style=\"stroke:#000000; stroke-linecap:butt; stroke-linejoin:round; stroke-width:4; stroke-opacity:1; fill:none\" points=\"\n",
       "  4938.59,1384.24 4938.59,1384.24 4992.38,1384.24 4938.59,1384.24 \n",
       "  \"/>\n",
       "<path clip-path=\"url(#clip142)\" d=\"\n",
       "M4992.38 1384.24 L4992.38 1384.24 L5046.17 1384.24 L5046.17 1384.24 L4992.38 1384.24 L4992.38 1384.24  Z\n",
       "  \" fill=\"#009af9\" fill-rule=\"evenodd\" fill-opacity=\"1\"/>\n",
       "<polyline clip-path=\"url(#clip142)\" style=\"stroke:#000000; stroke-linecap:butt; stroke-linejoin:round; stroke-width:4; stroke-opacity:1; fill:none\" points=\"\n",
       "  4992.38,1384.24 4992.38,1384.24 5046.17,1384.24 4992.38,1384.24 \n",
       "  \"/>\n",
       "<path clip-path=\"url(#clip142)\" d=\"\n",
       "M5046.17 1384.24 L5046.17 1384.24 L5099.96 1384.24 L5099.96 1384.24 L5046.17 1384.24 L5046.17 1384.24  Z\n",
       "  \" fill=\"#009af9\" fill-rule=\"evenodd\" fill-opacity=\"1\"/>\n",
       "<polyline clip-path=\"url(#clip142)\" style=\"stroke:#000000; stroke-linecap:butt; stroke-linejoin:round; stroke-width:4; stroke-opacity:1; fill:none\" points=\"\n",
       "  5046.17,1384.24 5046.17,1384.24 5099.96,1384.24 5046.17,1384.24 \n",
       "  \"/>\n",
       "<path clip-path=\"url(#clip142)\" d=\"\n",
       "M5099.96 1363.96 L5099.96 1384.24 L5153.76 1384.24 L5153.76 1363.96 L5099.96 1363.96 L5099.96 1363.96  Z\n",
       "  \" fill=\"#009af9\" fill-rule=\"evenodd\" fill-opacity=\"1\"/>\n",
       "<polyline clip-path=\"url(#clip142)\" style=\"stroke:#000000; stroke-linecap:butt; stroke-linejoin:round; stroke-width:4; stroke-opacity:1; fill:none\" points=\"\n",
       "  5099.96,1363.96 5099.96,1384.24 5153.76,1384.24 5153.76,1363.96 5099.96,1363.96 \n",
       "  \"/>\n",
       "<path clip-path=\"url(#clip142)\" d=\"\n",
       "M5153.76 1384.24 L5153.76 1384.24 L5207.55 1384.24 L5207.55 1384.24 L5153.76 1384.24 L5153.76 1384.24  Z\n",
       "  \" fill=\"#009af9\" fill-rule=\"evenodd\" fill-opacity=\"1\"/>\n",
       "<polyline clip-path=\"url(#clip142)\" style=\"stroke:#000000; stroke-linecap:butt; stroke-linejoin:round; stroke-width:4; stroke-opacity:1; fill:none\" points=\"\n",
       "  5153.76,1384.24 5153.76,1384.24 5207.55,1384.24 5153.76,1384.24 \n",
       "  \"/>\n",
       "<path clip-path=\"url(#clip142)\" d=\"\n",
       "M5207.55 1384.24 L5207.55 1384.24 L5261.34 1384.24 L5261.34 1384.24 L5207.55 1384.24 L5207.55 1384.24  Z\n",
       "  \" fill=\"#009af9\" fill-rule=\"evenodd\" fill-opacity=\"1\"/>\n",
       "<polyline clip-path=\"url(#clip142)\" style=\"stroke:#000000; stroke-linecap:butt; stroke-linejoin:round; stroke-width:4; stroke-opacity:1; fill:none\" points=\"\n",
       "  5207.55,1384.24 5207.55,1384.24 5261.34,1384.24 5207.55,1384.24 \n",
       "  \"/>\n",
       "<path clip-path=\"url(#clip142)\" d=\"\n",
       "M5261.34 1384.24 L5261.34 1384.24 L5315.13 1384.24 L5315.13 1384.24 L5261.34 1384.24 L5261.34 1384.24  Z\n",
       "  \" fill=\"#009af9\" fill-rule=\"evenodd\" fill-opacity=\"1\"/>\n",
       "<polyline clip-path=\"url(#clip142)\" style=\"stroke:#000000; stroke-linecap:butt; stroke-linejoin:round; stroke-width:4; stroke-opacity:1; fill:none\" points=\"\n",
       "  5261.34,1384.24 5261.34,1384.24 5315.13,1384.24 5261.34,1384.24 \n",
       "  \"/>\n",
       "<path clip-path=\"url(#clip142)\" d=\"\n",
       "M5315.13 1384.24 L5315.13 1384.24 L5368.92 1384.24 L5368.92 1384.24 L5315.13 1384.24 L5315.13 1384.24  Z\n",
       "  \" fill=\"#009af9\" fill-rule=\"evenodd\" fill-opacity=\"1\"/>\n",
       "<polyline clip-path=\"url(#clip142)\" style=\"stroke:#000000; stroke-linecap:butt; stroke-linejoin:round; stroke-width:4; stroke-opacity:1; fill:none\" points=\"\n",
       "  5315.13,1384.24 5315.13,1384.24 5368.92,1384.24 5315.13,1384.24 \n",
       "  \"/>\n",
       "<path clip-path=\"url(#clip142)\" d=\"\n",
       "M5368.92 1384.24 L5368.92 1384.24 L5422.72 1384.24 L5422.72 1384.24 L5368.92 1384.24 L5368.92 1384.24  Z\n",
       "  \" fill=\"#009af9\" fill-rule=\"evenodd\" fill-opacity=\"1\"/>\n",
       "<polyline clip-path=\"url(#clip142)\" style=\"stroke:#000000; stroke-linecap:butt; stroke-linejoin:round; stroke-width:4; stroke-opacity:1; fill:none\" points=\"\n",
       "  5368.92,1384.24 5368.92,1384.24 5422.72,1384.24 5368.92,1384.24 \n",
       "  \"/>\n",
       "<path clip-path=\"url(#clip142)\" d=\"\n",
       "M5422.72 1384.24 L5422.72 1384.24 L5476.51 1384.24 L5476.51 1384.24 L5422.72 1384.24 L5422.72 1384.24  Z\n",
       "  \" fill=\"#009af9\" fill-rule=\"evenodd\" fill-opacity=\"1\"/>\n",
       "<polyline clip-path=\"url(#clip142)\" style=\"stroke:#000000; stroke-linecap:butt; stroke-linejoin:round; stroke-width:4; stroke-opacity:1; fill:none\" points=\"\n",
       "  5422.72,1384.24 5422.72,1384.24 5476.51,1384.24 5422.72,1384.24 \n",
       "  \"/>\n",
       "<path clip-path=\"url(#clip142)\" d=\"\n",
       "M5476.51 1363.96 L5476.51 1384.24 L5530.3 1384.24 L5530.3 1363.96 L5476.51 1363.96 L5476.51 1363.96  Z\n",
       "  \" fill=\"#009af9\" fill-rule=\"evenodd\" fill-opacity=\"1\"/>\n",
       "<polyline clip-path=\"url(#clip142)\" style=\"stroke:#000000; stroke-linecap:butt; stroke-linejoin:round; stroke-width:4; stroke-opacity:1; fill:none\" points=\"\n",
       "  5476.51,1363.96 5476.51,1384.24 5530.3,1384.24 5530.3,1363.96 5476.51,1363.96 \n",
       "  \"/>\n",
       "<path clip-path=\"url(#clip142)\" d=\"\n",
       "M5530.3 1384.24 L5530.3 1384.24 L5584.09 1384.24 L5584.09 1384.24 L5530.3 1384.24 L5530.3 1384.24  Z\n",
       "  \" fill=\"#009af9\" fill-rule=\"evenodd\" fill-opacity=\"1\"/>\n",
       "<polyline clip-path=\"url(#clip142)\" style=\"stroke:#000000; stroke-linecap:butt; stroke-linejoin:round; stroke-width:4; stroke-opacity:1; fill:none\" points=\"\n",
       "  5530.3,1384.24 5530.3,1384.24 5584.09,1384.24 5530.3,1384.24 \n",
       "  \"/>\n",
       "<path clip-path=\"url(#clip142)\" d=\"\n",
       "M5584.09 1384.24 L5584.09 1384.24 L5637.88 1384.24 L5637.88 1384.24 L5584.09 1384.24 L5584.09 1384.24  Z\n",
       "  \" fill=\"#009af9\" fill-rule=\"evenodd\" fill-opacity=\"1\"/>\n",
       "<polyline clip-path=\"url(#clip142)\" style=\"stroke:#000000; stroke-linecap:butt; stroke-linejoin:round; stroke-width:4; stroke-opacity:1; fill:none\" points=\"\n",
       "  5584.09,1384.24 5584.09,1384.24 5637.88,1384.24 5584.09,1384.24 \n",
       "  \"/>\n",
       "<path clip-path=\"url(#clip142)\" d=\"\n",
       "M5637.88 1384.24 L5637.88 1384.24 L5691.67 1384.24 L5691.67 1384.24 L5637.88 1384.24 L5637.88 1384.24  Z\n",
       "  \" fill=\"#009af9\" fill-rule=\"evenodd\" fill-opacity=\"1\"/>\n",
       "<polyline clip-path=\"url(#clip142)\" style=\"stroke:#000000; stroke-linecap:butt; stroke-linejoin:round; stroke-width:4; stroke-opacity:1; fill:none\" points=\"\n",
       "  5637.88,1384.24 5637.88,1384.24 5691.67,1384.24 5637.88,1384.24 \n",
       "  \"/>\n",
       "<path clip-path=\"url(#clip142)\" d=\"\n",
       "M5691.67 1384.24 L5691.67 1384.24 L5745.47 1384.24 L5745.47 1384.24 L5691.67 1384.24 L5691.67 1384.24  Z\n",
       "  \" fill=\"#009af9\" fill-rule=\"evenodd\" fill-opacity=\"1\"/>\n",
       "<polyline clip-path=\"url(#clip142)\" style=\"stroke:#000000; stroke-linecap:butt; stroke-linejoin:round; stroke-width:4; stroke-opacity:1; fill:none\" points=\"\n",
       "  5691.67,1384.24 5691.67,1384.24 5745.47,1384.24 5691.67,1384.24 \n",
       "  \"/>\n",
       "<path clip-path=\"url(#clip142)\" d=\"\n",
       "M5745.47 1384.24 L5745.47 1384.24 L5799.26 1384.24 L5799.26 1384.24 L5745.47 1384.24 L5745.47 1384.24  Z\n",
       "  \" fill=\"#009af9\" fill-rule=\"evenodd\" fill-opacity=\"1\"/>\n",
       "<polyline clip-path=\"url(#clip142)\" style=\"stroke:#000000; stroke-linecap:butt; stroke-linejoin:round; stroke-width:4; stroke-opacity:1; fill:none\" points=\"\n",
       "  5745.47,1384.24 5745.47,1384.24 5799.26,1384.24 5745.47,1384.24 \n",
       "  \"/>\n",
       "<path clip-path=\"url(#clip142)\" d=\"\n",
       "M5799.26 1363.96 L5799.26 1384.24 L5853.05 1384.24 L5853.05 1363.96 L5799.26 1363.96 L5799.26 1363.96  Z\n",
       "  \" fill=\"#009af9\" fill-rule=\"evenodd\" fill-opacity=\"1\"/>\n",
       "<polyline clip-path=\"url(#clip142)\" style=\"stroke:#000000; stroke-linecap:butt; stroke-linejoin:round; stroke-width:4; stroke-opacity:1; fill:none\" points=\"\n",
       "  5799.26,1363.96 5799.26,1384.24 5853.05,1384.24 5853.05,1363.96 5799.26,1363.96 \n",
       "  \"/>\n",
       "<path clip-path=\"url(#clip142)\" d=\"\n",
       "M5853.05 1363.96 L5853.05 1384.24 L5906.84 1384.24 L5906.84 1363.96 L5853.05 1363.96 L5853.05 1363.96  Z\n",
       "  \" fill=\"#009af9\" fill-rule=\"evenodd\" fill-opacity=\"1\"/>\n",
       "<polyline clip-path=\"url(#clip142)\" style=\"stroke:#000000; stroke-linecap:butt; stroke-linejoin:round; stroke-width:4; stroke-opacity:1; fill:none\" points=\"\n",
       "  5853.05,1363.96 5853.05,1384.24 5906.84,1384.24 5906.84,1363.96 5853.05,1363.96 \n",
       "  \"/>\n",
       "<path clip-path=\"url(#clip142)\" d=\"\n",
       "M5906.84 1363.96 L5906.84 1384.24 L5960.63 1384.24 L5960.63 1363.96 L5906.84 1363.96 L5906.84 1363.96  Z\n",
       "  \" fill=\"#009af9\" fill-rule=\"evenodd\" fill-opacity=\"1\"/>\n",
       "<polyline clip-path=\"url(#clip142)\" style=\"stroke:#000000; stroke-linecap:butt; stroke-linejoin:round; stroke-width:4; stroke-opacity:1; fill:none\" points=\"\n",
       "  5906.84,1363.96 5906.84,1384.24 5960.63,1384.24 5960.63,1363.96 5906.84,1363.96 \n",
       "  \"/>\n",
       "<path clip-path=\"url(#clip142)\" d=\"\n",
       "M5960.63 1363.96 L5960.63 1384.24 L6014.43 1384.24 L6014.43 1363.96 L5960.63 1363.96 L5960.63 1363.96  Z\n",
       "  \" fill=\"#009af9\" fill-rule=\"evenodd\" fill-opacity=\"1\"/>\n",
       "<polyline clip-path=\"url(#clip142)\" style=\"stroke:#000000; stroke-linecap:butt; stroke-linejoin:round; stroke-width:4; stroke-opacity:1; fill:none\" points=\"\n",
       "  5960.63,1363.96 5960.63,1384.24 6014.43,1384.24 6014.43,1363.96 5960.63,1363.96 \n",
       "  \"/>\n",
       "<path clip-path=\"url(#clip142)\" d=\"\n",
       "M6014.43 1384.24 L6014.43 1384.24 L6068.22 1384.24 L6068.22 1384.24 L6014.43 1384.24 L6014.43 1384.24  Z\n",
       "  \" fill=\"#009af9\" fill-rule=\"evenodd\" fill-opacity=\"1\"/>\n",
       "<polyline clip-path=\"url(#clip142)\" style=\"stroke:#000000; stroke-linecap:butt; stroke-linejoin:round; stroke-width:4; stroke-opacity:1; fill:none\" points=\"\n",
       "  6014.43,1384.24 6014.43,1384.24 6068.22,1384.24 6014.43,1384.24 \n",
       "  \"/>\n",
       "<path clip-path=\"url(#clip142)\" d=\"\n",
       "M6068.22 1384.24 L6068.22 1384.24 L6122.01 1384.24 L6122.01 1384.24 L6068.22 1384.24 L6068.22 1384.24  Z\n",
       "  \" fill=\"#009af9\" fill-rule=\"evenodd\" fill-opacity=\"1\"/>\n",
       "<polyline clip-path=\"url(#clip142)\" style=\"stroke:#000000; stroke-linecap:butt; stroke-linejoin:round; stroke-width:4; stroke-opacity:1; fill:none\" points=\"\n",
       "  6068.22,1384.24 6068.22,1384.24 6122.01,1384.24 6068.22,1384.24 \n",
       "  \"/>\n",
       "<path clip-path=\"url(#clip142)\" d=\"\n",
       "M6122.01 1384.24 L6122.01 1384.24 L6175.8 1384.24 L6175.8 1384.24 L6122.01 1384.24 L6122.01 1384.24  Z\n",
       "  \" fill=\"#009af9\" fill-rule=\"evenodd\" fill-opacity=\"1\"/>\n",
       "<polyline clip-path=\"url(#clip142)\" style=\"stroke:#000000; stroke-linecap:butt; stroke-linejoin:round; stroke-width:4; stroke-opacity:1; fill:none\" points=\"\n",
       "  6122.01,1384.24 6122.01,1384.24 6175.8,1384.24 6122.01,1384.24 \n",
       "  \"/>\n",
       "<path clip-path=\"url(#clip142)\" d=\"\n",
       "M6175.8 1384.24 L6175.8 1384.24 L6229.59 1384.24 L6229.59 1384.24 L6175.8 1384.24 L6175.8 1384.24  Z\n",
       "  \" fill=\"#009af9\" fill-rule=\"evenodd\" fill-opacity=\"1\"/>\n",
       "<polyline clip-path=\"url(#clip142)\" style=\"stroke:#000000; stroke-linecap:butt; stroke-linejoin:round; stroke-width:4; stroke-opacity:1; fill:none\" points=\"\n",
       "  6175.8,1384.24 6175.8,1384.24 6229.59,1384.24 6175.8,1384.24 \n",
       "  \"/>\n",
       "<path clip-path=\"url(#clip142)\" d=\"\n",
       "M6229.59 1384.24 L6229.59 1384.24 L6283.38 1384.24 L6283.38 1384.24 L6229.59 1384.24 L6229.59 1384.24  Z\n",
       "  \" fill=\"#009af9\" fill-rule=\"evenodd\" fill-opacity=\"1\"/>\n",
       "<polyline clip-path=\"url(#clip142)\" style=\"stroke:#000000; stroke-linecap:butt; stroke-linejoin:round; stroke-width:4; stroke-opacity:1; fill:none\" points=\"\n",
       "  6229.59,1384.24 6229.59,1384.24 6283.38,1384.24 6229.59,1384.24 \n",
       "  \"/>\n",
       "<path clip-path=\"url(#clip142)\" d=\"\n",
       "M6283.38 1384.24 L6283.38 1384.24 L6337.18 1384.24 L6337.18 1384.24 L6283.38 1384.24 L6283.38 1384.24  Z\n",
       "  \" fill=\"#009af9\" fill-rule=\"evenodd\" fill-opacity=\"1\"/>\n",
       "<polyline clip-path=\"url(#clip142)\" style=\"stroke:#000000; stroke-linecap:butt; stroke-linejoin:round; stroke-width:4; stroke-opacity:1; fill:none\" points=\"\n",
       "  6283.38,1384.24 6283.38,1384.24 6337.18,1384.24 6283.38,1384.24 \n",
       "  \"/>\n",
       "<path clip-path=\"url(#clip142)\" d=\"\n",
       "M6337.18 1363.96 L6337.18 1384.24 L6390.97 1384.24 L6390.97 1363.96 L6337.18 1363.96 L6337.18 1363.96  Z\n",
       "  \" fill=\"#009af9\" fill-rule=\"evenodd\" fill-opacity=\"1\"/>\n",
       "<polyline clip-path=\"url(#clip142)\" style=\"stroke:#000000; stroke-linecap:butt; stroke-linejoin:round; stroke-width:4; stroke-opacity:1; fill:none\" points=\"\n",
       "  6337.18,1363.96 6337.18,1384.24 6390.97,1384.24 6390.97,1363.96 6337.18,1363.96 \n",
       "  \"/>\n",
       "<path clip-path=\"url(#clip142)\" d=\"\n",
       "M6390.97 1384.24 L6390.97 1384.24 L6444.76 1384.24 L6444.76 1384.24 L6390.97 1384.24 L6390.97 1384.24  Z\n",
       "  \" fill=\"#009af9\" fill-rule=\"evenodd\" fill-opacity=\"1\"/>\n",
       "<polyline clip-path=\"url(#clip142)\" style=\"stroke:#000000; stroke-linecap:butt; stroke-linejoin:round; stroke-width:4; stroke-opacity:1; fill:none\" points=\"\n",
       "  6390.97,1384.24 6390.97,1384.24 6444.76,1384.24 6390.97,1384.24 \n",
       "  \"/>\n",
       "<path clip-path=\"url(#clip142)\" d=\"\n",
       "M6444.76 1363.96 L6444.76 1384.24 L6498.55 1384.24 L6498.55 1363.96 L6444.76 1363.96 L6444.76 1363.96  Z\n",
       "  \" fill=\"#009af9\" fill-rule=\"evenodd\" fill-opacity=\"1\"/>\n",
       "<polyline clip-path=\"url(#clip142)\" style=\"stroke:#000000; stroke-linecap:butt; stroke-linejoin:round; stroke-width:4; stroke-opacity:1; fill:none\" points=\"\n",
       "  6444.76,1363.96 6444.76,1384.24 6498.55,1384.24 6498.55,1363.96 6444.76,1363.96 \n",
       "  \"/>\n",
       "<path clip-path=\"url(#clip142)\" d=\"\n",
       "M6498.55 1384.24 L6498.55 1384.24 L6552.34 1384.24 L6552.34 1384.24 L6498.55 1384.24 L6498.55 1384.24  Z\n",
       "  \" fill=\"#009af9\" fill-rule=\"evenodd\" fill-opacity=\"1\"/>\n",
       "<polyline clip-path=\"url(#clip142)\" style=\"stroke:#000000; stroke-linecap:butt; stroke-linejoin:round; stroke-width:4; stroke-opacity:1; fill:none\" points=\"\n",
       "  6498.55,1384.24 6498.55,1384.24 6552.34,1384.24 6498.55,1384.24 \n",
       "  \"/>\n",
       "<path clip-path=\"url(#clip142)\" d=\"\n",
       "M6552.34 1384.24 L6552.34 1384.24 L6606.14 1384.24 L6606.14 1384.24 L6552.34 1384.24 L6552.34 1384.24  Z\n",
       "  \" fill=\"#009af9\" fill-rule=\"evenodd\" fill-opacity=\"1\"/>\n",
       "<polyline clip-path=\"url(#clip142)\" style=\"stroke:#000000; stroke-linecap:butt; stroke-linejoin:round; stroke-width:4; stroke-opacity:1; fill:none\" points=\"\n",
       "  6552.34,1384.24 6552.34,1384.24 6606.14,1384.24 6552.34,1384.24 \n",
       "  \"/>\n",
       "<path clip-path=\"url(#clip142)\" d=\"\n",
       "M6606.14 1384.24 L6606.14 1384.24 L6659.93 1384.24 L6659.93 1384.24 L6606.14 1384.24 L6606.14 1384.24  Z\n",
       "  \" fill=\"#009af9\" fill-rule=\"evenodd\" fill-opacity=\"1\"/>\n",
       "<polyline clip-path=\"url(#clip142)\" style=\"stroke:#000000; stroke-linecap:butt; stroke-linejoin:round; stroke-width:4; stroke-opacity:1; fill:none\" points=\"\n",
       "  6606.14,1384.24 6606.14,1384.24 6659.93,1384.24 6606.14,1384.24 \n",
       "  \"/>\n",
       "<path clip-path=\"url(#clip142)\" d=\"\n",
       "M6659.93 1384.24 L6659.93 1384.24 L6713.72 1384.24 L6713.72 1384.24 L6659.93 1384.24 L6659.93 1384.24  Z\n",
       "  \" fill=\"#009af9\" fill-rule=\"evenodd\" fill-opacity=\"1\"/>\n",
       "<polyline clip-path=\"url(#clip142)\" style=\"stroke:#000000; stroke-linecap:butt; stroke-linejoin:round; stroke-width:4; stroke-opacity:1; fill:none\" points=\"\n",
       "  6659.93,1384.24 6659.93,1384.24 6713.72,1384.24 6659.93,1384.24 \n",
       "  \"/>\n",
       "<path clip-path=\"url(#clip142)\" d=\"\n",
       "M6713.72 1363.96 L6713.72 1384.24 L6767.51 1384.24 L6767.51 1363.96 L6713.72 1363.96 L6713.72 1363.96  Z\n",
       "  \" fill=\"#009af9\" fill-rule=\"evenodd\" fill-opacity=\"1\"/>\n",
       "<polyline clip-path=\"url(#clip142)\" style=\"stroke:#000000; stroke-linecap:butt; stroke-linejoin:round; stroke-width:4; stroke-opacity:1; fill:none\" points=\"\n",
       "  6713.72,1363.96 6713.72,1384.24 6767.51,1384.24 6767.51,1363.96 6713.72,1363.96 \n",
       "  \"/>\n",
       "<path clip-path=\"url(#clip142)\" d=\"\n",
       "M6767.51 1363.96 L6767.51 1384.24 L6821.3 1384.24 L6821.3 1363.96 L6767.51 1363.96 L6767.51 1363.96  Z\n",
       "  \" fill=\"#009af9\" fill-rule=\"evenodd\" fill-opacity=\"1\"/>\n",
       "<polyline clip-path=\"url(#clip142)\" style=\"stroke:#000000; stroke-linecap:butt; stroke-linejoin:round; stroke-width:4; stroke-opacity:1; fill:none\" points=\"\n",
       "  6767.51,1363.96 6767.51,1384.24 6821.3,1384.24 6821.3,1363.96 6767.51,1363.96 \n",
       "  \"/>\n",
       "<path clip-path=\"url(#clip142)\" d=\"\n",
       "M6821.3 1363.96 L6821.3 1384.24 L6875.09 1384.24 L6875.09 1363.96 L6821.3 1363.96 L6821.3 1363.96  Z\n",
       "  \" fill=\"#009af9\" fill-rule=\"evenodd\" fill-opacity=\"1\"/>\n",
       "<polyline clip-path=\"url(#clip142)\" style=\"stroke:#000000; stroke-linecap:butt; stroke-linejoin:round; stroke-width:4; stroke-opacity:1; fill:none\" points=\"\n",
       "  6821.3,1363.96 6821.3,1384.24 6875.09,1384.24 6875.09,1363.96 6821.3,1363.96 \n",
       "  \"/>\n",
       "<path clip-path=\"url(#clip142)\" d=\"\n",
       "M6875.09 1384.24 L6875.09 1384.24 L6928.89 1384.24 L6928.89 1384.24 L6875.09 1384.24 L6875.09 1384.24  Z\n",
       "  \" fill=\"#009af9\" fill-rule=\"evenodd\" fill-opacity=\"1\"/>\n",
       "<polyline clip-path=\"url(#clip142)\" style=\"stroke:#000000; stroke-linecap:butt; stroke-linejoin:round; stroke-width:4; stroke-opacity:1; fill:none\" points=\"\n",
       "  6875.09,1384.24 6875.09,1384.24 6928.89,1384.24 6875.09,1384.24 \n",
       "  \"/>\n",
       "<path clip-path=\"url(#clip142)\" d=\"\n",
       "M6928.89 1384.24 L6928.89 1384.24 L6982.68 1384.24 L6982.68 1384.24 L6928.89 1384.24 L6928.89 1384.24  Z\n",
       "  \" fill=\"#009af9\" fill-rule=\"evenodd\" fill-opacity=\"1\"/>\n",
       "<polyline clip-path=\"url(#clip142)\" style=\"stroke:#000000; stroke-linecap:butt; stroke-linejoin:round; stroke-width:4; stroke-opacity:1; fill:none\" points=\"\n",
       "  6928.89,1384.24 6928.89,1384.24 6982.68,1384.24 6928.89,1384.24 \n",
       "  \"/>\n",
       "<path clip-path=\"url(#clip142)\" d=\"\n",
       "M6982.68 1384.24 L6982.68 1384.24 L7036.47 1384.24 L7036.47 1384.24 L6982.68 1384.24 L6982.68 1384.24  Z\n",
       "  \" fill=\"#009af9\" fill-rule=\"evenodd\" fill-opacity=\"1\"/>\n",
       "<polyline clip-path=\"url(#clip142)\" style=\"stroke:#000000; stroke-linecap:butt; stroke-linejoin:round; stroke-width:4; stroke-opacity:1; fill:none\" points=\"\n",
       "  6982.68,1384.24 6982.68,1384.24 7036.47,1384.24 6982.68,1384.24 \n",
       "  \"/>\n",
       "<path clip-path=\"url(#clip142)\" d=\"\n",
       "M7036.47 1384.24 L7036.47 1384.24 L7090.26 1384.24 L7090.26 1384.24 L7036.47 1384.24 L7036.47 1384.24  Z\n",
       "  \" fill=\"#009af9\" fill-rule=\"evenodd\" fill-opacity=\"1\"/>\n",
       "<polyline clip-path=\"url(#clip142)\" style=\"stroke:#000000; stroke-linecap:butt; stroke-linejoin:round; stroke-width:4; stroke-opacity:1; fill:none\" points=\"\n",
       "  7036.47,1384.24 7036.47,1384.24 7090.26,1384.24 7036.47,1384.24 \n",
       "  \"/>\n",
       "<path clip-path=\"url(#clip142)\" d=\"\n",
       "M7090.26 1384.24 L7090.26 1384.24 L7144.05 1384.24 L7144.05 1384.24 L7090.26 1384.24 L7090.26 1384.24  Z\n",
       "  \" fill=\"#009af9\" fill-rule=\"evenodd\" fill-opacity=\"1\"/>\n",
       "<polyline clip-path=\"url(#clip142)\" style=\"stroke:#000000; stroke-linecap:butt; stroke-linejoin:round; stroke-width:4; stroke-opacity:1; fill:none\" points=\"\n",
       "  7090.26,1384.24 7090.26,1384.24 7144.05,1384.24 7090.26,1384.24 \n",
       "  \"/>\n",
       "<path clip-path=\"url(#clip142)\" d=\"\n",
       "M7144.05 1384.24 L7144.05 1384.24 L7197.85 1384.24 L7197.85 1384.24 L7144.05 1384.24 L7144.05 1384.24  Z\n",
       "  \" fill=\"#009af9\" fill-rule=\"evenodd\" fill-opacity=\"1\"/>\n",
       "<polyline clip-path=\"url(#clip142)\" style=\"stroke:#000000; stroke-linecap:butt; stroke-linejoin:round; stroke-width:4; stroke-opacity:1; fill:none\" points=\"\n",
       "  7144.05,1384.24 7144.05,1384.24 7197.85,1384.24 7144.05,1384.24 \n",
       "  \"/>\n",
       "<path clip-path=\"url(#clip142)\" d=\"\n",
       "M7197.85 1384.24 L7197.85 1384.24 L7251.64 1384.24 L7251.64 1384.24 L7197.85 1384.24 L7197.85 1384.24  Z\n",
       "  \" fill=\"#009af9\" fill-rule=\"evenodd\" fill-opacity=\"1\"/>\n",
       "<polyline clip-path=\"url(#clip142)\" style=\"stroke:#000000; stroke-linecap:butt; stroke-linejoin:round; stroke-width:4; stroke-opacity:1; fill:none\" points=\"\n",
       "  7197.85,1384.24 7197.85,1384.24 7251.64,1384.24 7197.85,1384.24 \n",
       "  \"/>\n",
       "<path clip-path=\"url(#clip142)\" d=\"\n",
       "M7251.64 1363.96 L7251.64 1384.24 L7305.43 1384.24 L7305.43 1363.96 L7251.64 1363.96 L7251.64 1363.96  Z\n",
       "  \" fill=\"#009af9\" fill-rule=\"evenodd\" fill-opacity=\"1\"/>\n",
       "<polyline clip-path=\"url(#clip142)\" style=\"stroke:#000000; stroke-linecap:butt; stroke-linejoin:round; stroke-width:4; stroke-opacity:1; fill:none\" points=\"\n",
       "  7251.64,1363.96 7251.64,1384.24 7305.43,1384.24 7305.43,1363.96 7251.64,1363.96 \n",
       "  \"/>\n",
       "<path clip-path=\"url(#clip142)\" d=\"\n",
       "M7305.43 1384.24 L7305.43 1384.24 L7359.22 1384.24 L7359.22 1384.24 L7305.43 1384.24 L7305.43 1384.24  Z\n",
       "  \" fill=\"#009af9\" fill-rule=\"evenodd\" fill-opacity=\"1\"/>\n",
       "<polyline clip-path=\"url(#clip142)\" style=\"stroke:#000000; stroke-linecap:butt; stroke-linejoin:round; stroke-width:4; stroke-opacity:1; fill:none\" points=\"\n",
       "  7305.43,1384.24 7305.43,1384.24 7359.22,1384.24 7305.43,1384.24 \n",
       "  \"/>\n",
       "<path clip-path=\"url(#clip142)\" d=\"\n",
       "M7359.22 1384.24 L7359.22 1384.24 L7413.01 1384.24 L7413.01 1384.24 L7359.22 1384.24 L7359.22 1384.24  Z\n",
       "  \" fill=\"#009af9\" fill-rule=\"evenodd\" fill-opacity=\"1\"/>\n",
       "<polyline clip-path=\"url(#clip142)\" style=\"stroke:#000000; stroke-linecap:butt; stroke-linejoin:round; stroke-width:4; stroke-opacity:1; fill:none\" points=\"\n",
       "  7359.22,1384.24 7359.22,1384.24 7413.01,1384.24 7359.22,1384.24 \n",
       "  \"/>\n",
       "<path clip-path=\"url(#clip142)\" d=\"\n",
       "M7413.01 1384.24 L7413.01 1384.24 L7466.8 1384.24 L7466.8 1384.24 L7413.01 1384.24 L7413.01 1384.24  Z\n",
       "  \" fill=\"#009af9\" fill-rule=\"evenodd\" fill-opacity=\"1\"/>\n",
       "<polyline clip-path=\"url(#clip142)\" style=\"stroke:#000000; stroke-linecap:butt; stroke-linejoin:round; stroke-width:4; stroke-opacity:1; fill:none\" points=\"\n",
       "  7413.01,1384.24 7413.01,1384.24 7466.8,1384.24 7413.01,1384.24 \n",
       "  \"/>\n",
       "<path clip-path=\"url(#clip142)\" d=\"\n",
       "M7466.8 1384.24 L7466.8 1384.24 L7520.6 1384.24 L7520.6 1384.24 L7466.8 1384.24 L7466.8 1384.24  Z\n",
       "  \" fill=\"#009af9\" fill-rule=\"evenodd\" fill-opacity=\"1\"/>\n",
       "<polyline clip-path=\"url(#clip142)\" style=\"stroke:#000000; stroke-linecap:butt; stroke-linejoin:round; stroke-width:4; stroke-opacity:1; fill:none\" points=\"\n",
       "  7466.8,1384.24 7466.8,1384.24 7520.6,1384.24 7466.8,1384.24 \n",
       "  \"/>\n",
       "<path clip-path=\"url(#clip142)\" d=\"\n",
       "M7520.6 1384.24 L7520.6 1384.24 L7574.39 1384.24 L7574.39 1384.24 L7520.6 1384.24 L7520.6 1384.24  Z\n",
       "  \" fill=\"#009af9\" fill-rule=\"evenodd\" fill-opacity=\"1\"/>\n",
       "<polyline clip-path=\"url(#clip142)\" style=\"stroke:#000000; stroke-linecap:butt; stroke-linejoin:round; stroke-width:4; stroke-opacity:1; fill:none\" points=\"\n",
       "  7520.6,1384.24 7520.6,1384.24 7574.39,1384.24 7520.6,1384.24 \n",
       "  \"/>\n",
       "<path clip-path=\"url(#clip142)\" d=\"\n",
       "M7574.39 1384.24 L7574.39 1384.24 L7628.18 1384.24 L7628.18 1384.24 L7574.39 1384.24 L7574.39 1384.24  Z\n",
       "  \" fill=\"#009af9\" fill-rule=\"evenodd\" fill-opacity=\"1\"/>\n",
       "<polyline clip-path=\"url(#clip142)\" style=\"stroke:#000000; stroke-linecap:butt; stroke-linejoin:round; stroke-width:4; stroke-opacity:1; fill:none\" points=\"\n",
       "  7574.39,1384.24 7574.39,1384.24 7628.18,1384.24 7574.39,1384.24 \n",
       "  \"/>\n",
       "<path clip-path=\"url(#clip142)\" d=\"\n",
       "M7628.18 1384.24 L7628.18 1384.24 L7681.97 1384.24 L7681.97 1384.24 L7628.18 1384.24 L7628.18 1384.24  Z\n",
       "  \" fill=\"#009af9\" fill-rule=\"evenodd\" fill-opacity=\"1\"/>\n",
       "<polyline clip-path=\"url(#clip142)\" style=\"stroke:#000000; stroke-linecap:butt; stroke-linejoin:round; stroke-width:4; stroke-opacity:1; fill:none\" points=\"\n",
       "  7628.18,1384.24 7628.18,1384.24 7681.97,1384.24 7628.18,1384.24 \n",
       "  \"/>\n",
       "<path clip-path=\"url(#clip142)\" d=\"\n",
       "M7681.97 1384.24 L7681.97 1384.24 L7735.76 1384.24 L7735.76 1384.24 L7681.97 1384.24 L7681.97 1384.24  Z\n",
       "  \" fill=\"#009af9\" fill-rule=\"evenodd\" fill-opacity=\"1\"/>\n",
       "<polyline clip-path=\"url(#clip142)\" style=\"stroke:#000000; stroke-linecap:butt; stroke-linejoin:round; stroke-width:4; stroke-opacity:1; fill:none\" points=\"\n",
       "  7681.97,1384.24 7681.97,1384.24 7735.76,1384.24 7681.97,1384.24 \n",
       "  \"/>\n",
       "<path clip-path=\"url(#clip142)\" d=\"\n",
       "M7735.76 1384.24 L7735.76 1384.24 L7789.55 1384.24 L7789.55 1384.24 L7735.76 1384.24 L7735.76 1384.24  Z\n",
       "  \" fill=\"#009af9\" fill-rule=\"evenodd\" fill-opacity=\"1\"/>\n",
       "<polyline clip-path=\"url(#clip142)\" style=\"stroke:#000000; stroke-linecap:butt; stroke-linejoin:round; stroke-width:4; stroke-opacity:1; fill:none\" points=\"\n",
       "  7735.76,1384.24 7735.76,1384.24 7789.55,1384.24 7735.76,1384.24 \n",
       "  \"/>\n",
       "<path clip-path=\"url(#clip142)\" d=\"\n",
       "M7789.55 1384.24 L7789.55 1384.24 L7843.35 1384.24 L7843.35 1384.24 L7789.55 1384.24 L7789.55 1384.24  Z\n",
       "  \" fill=\"#009af9\" fill-rule=\"evenodd\" fill-opacity=\"1\"/>\n",
       "<polyline clip-path=\"url(#clip142)\" style=\"stroke:#000000; stroke-linecap:butt; stroke-linejoin:round; stroke-width:4; stroke-opacity:1; fill:none\" points=\"\n",
       "  7789.55,1384.24 7789.55,1384.24 7843.35,1384.24 7789.55,1384.24 \n",
       "  \"/>\n",
       "<path clip-path=\"url(#clip142)\" d=\"\n",
       "M7843.35 1384.24 L7843.35 1384.24 L7897.14 1384.24 L7897.14 1384.24 L7843.35 1384.24 L7843.35 1384.24  Z\n",
       "  \" fill=\"#009af9\" fill-rule=\"evenodd\" fill-opacity=\"1\"/>\n",
       "<polyline clip-path=\"url(#clip142)\" style=\"stroke:#000000; stroke-linecap:butt; stroke-linejoin:round; stroke-width:4; stroke-opacity:1; fill:none\" points=\"\n",
       "  7843.35,1384.24 7843.35,1384.24 7897.14,1384.24 7843.35,1384.24 \n",
       "  \"/>\n",
       "<path clip-path=\"url(#clip142)\" d=\"\n",
       "M7897.14 1384.24 L7897.14 1384.24 L7950.93 1384.24 L7950.93 1384.24 L7897.14 1384.24 L7897.14 1384.24  Z\n",
       "  \" fill=\"#009af9\" fill-rule=\"evenodd\" fill-opacity=\"1\"/>\n",
       "<polyline clip-path=\"url(#clip142)\" style=\"stroke:#000000; stroke-linecap:butt; stroke-linejoin:round; stroke-width:4; stroke-opacity:1; fill:none\" points=\"\n",
       "  7897.14,1384.24 7897.14,1384.24 7950.93,1384.24 7897.14,1384.24 \n",
       "  \"/>\n",
       "<path clip-path=\"url(#clip142)\" d=\"\n",
       "M7950.93 1384.24 L7950.93 1384.24 L8004.72 1384.24 L8004.72 1384.24 L7950.93 1384.24 L7950.93 1384.24  Z\n",
       "  \" fill=\"#009af9\" fill-rule=\"evenodd\" fill-opacity=\"1\"/>\n",
       "<polyline clip-path=\"url(#clip142)\" style=\"stroke:#000000; stroke-linecap:butt; stroke-linejoin:round; stroke-width:4; stroke-opacity:1; fill:none\" points=\"\n",
       "  7950.93,1384.24 7950.93,1384.24 8004.72,1384.24 7950.93,1384.24 \n",
       "  \"/>\n",
       "<path clip-path=\"url(#clip142)\" d=\"\n",
       "M8004.72 1384.24 L8004.72 1384.24 L8058.51 1384.24 L8058.51 1384.24 L8004.72 1384.24 L8004.72 1384.24  Z\n",
       "  \" fill=\"#009af9\" fill-rule=\"evenodd\" fill-opacity=\"1\"/>\n",
       "<polyline clip-path=\"url(#clip142)\" style=\"stroke:#000000; stroke-linecap:butt; stroke-linejoin:round; stroke-width:4; stroke-opacity:1; fill:none\" points=\"\n",
       "  8004.72,1384.24 8004.72,1384.24 8058.51,1384.24 8004.72,1384.24 \n",
       "  \"/>\n",
       "<path clip-path=\"url(#clip142)\" d=\"\n",
       "M8058.51 1384.24 L8058.51 1384.24 L8112.31 1384.24 L8112.31 1384.24 L8058.51 1384.24 L8058.51 1384.24  Z\n",
       "  \" fill=\"#009af9\" fill-rule=\"evenodd\" fill-opacity=\"1\"/>\n",
       "<polyline clip-path=\"url(#clip142)\" style=\"stroke:#000000; stroke-linecap:butt; stroke-linejoin:round; stroke-width:4; stroke-opacity:1; fill:none\" points=\"\n",
       "  8058.51,1384.24 8058.51,1384.24 8112.31,1384.24 8058.51,1384.24 \n",
       "  \"/>\n",
       "<path clip-path=\"url(#clip142)\" d=\"\n",
       "M8112.31 1384.24 L8112.31 1384.24 L8166.1 1384.24 L8166.1 1384.24 L8112.31 1384.24 L8112.31 1384.24  Z\n",
       "  \" fill=\"#009af9\" fill-rule=\"evenodd\" fill-opacity=\"1\"/>\n",
       "<polyline clip-path=\"url(#clip142)\" style=\"stroke:#000000; stroke-linecap:butt; stroke-linejoin:round; stroke-width:4; stroke-opacity:1; fill:none\" points=\"\n",
       "  8112.31,1384.24 8112.31,1384.24 8166.1,1384.24 8112.31,1384.24 \n",
       "  \"/>\n",
       "<path clip-path=\"url(#clip142)\" d=\"\n",
       "M8166.1 1384.24 L8166.1 1384.24 L8219.89 1384.24 L8219.89 1384.24 L8166.1 1384.24 L8166.1 1384.24  Z\n",
       "  \" fill=\"#009af9\" fill-rule=\"evenodd\" fill-opacity=\"1\"/>\n",
       "<polyline clip-path=\"url(#clip142)\" style=\"stroke:#000000; stroke-linecap:butt; stroke-linejoin:round; stroke-width:4; stroke-opacity:1; fill:none\" points=\"\n",
       "  8166.1,1384.24 8166.1,1384.24 8219.89,1384.24 8166.1,1384.24 \n",
       "  \"/>\n",
       "<path clip-path=\"url(#clip142)\" d=\"\n",
       "M8219.89 1384.24 L8219.89 1384.24 L8273.68 1384.24 L8273.68 1384.24 L8219.89 1384.24 L8219.89 1384.24  Z\n",
       "  \" fill=\"#009af9\" fill-rule=\"evenodd\" fill-opacity=\"1\"/>\n",
       "<polyline clip-path=\"url(#clip142)\" style=\"stroke:#000000; stroke-linecap:butt; stroke-linejoin:round; stroke-width:4; stroke-opacity:1; fill:none\" points=\"\n",
       "  8219.89,1384.24 8219.89,1384.24 8273.68,1384.24 8219.89,1384.24 \n",
       "  \"/>\n",
       "<path clip-path=\"url(#clip142)\" d=\"\n",
       "M8273.68 1384.24 L8273.68 1384.24 L8327.47 1384.24 L8327.47 1384.24 L8273.68 1384.24 L8273.68 1384.24  Z\n",
       "  \" fill=\"#009af9\" fill-rule=\"evenodd\" fill-opacity=\"1\"/>\n",
       "<polyline clip-path=\"url(#clip142)\" style=\"stroke:#000000; stroke-linecap:butt; stroke-linejoin:round; stroke-width:4; stroke-opacity:1; fill:none\" points=\"\n",
       "  8273.68,1384.24 8273.68,1384.24 8327.47,1384.24 8273.68,1384.24 \n",
       "  \"/>\n",
       "<path clip-path=\"url(#clip142)\" d=\"\n",
       "M8327.47 1384.24 L8327.47 1384.24 L8381.26 1384.24 L8381.26 1384.24 L8327.47 1384.24 L8327.47 1384.24  Z\n",
       "  \" fill=\"#009af9\" fill-rule=\"evenodd\" fill-opacity=\"1\"/>\n",
       "<polyline clip-path=\"url(#clip142)\" style=\"stroke:#000000; stroke-linecap:butt; stroke-linejoin:round; stroke-width:4; stroke-opacity:1; fill:none\" points=\"\n",
       "  8327.47,1384.24 8327.47,1384.24 8381.26,1384.24 8327.47,1384.24 \n",
       "  \"/>\n",
       "<path clip-path=\"url(#clip142)\" d=\"\n",
       "M8381.26 1363.96 L8381.26 1384.24 L8435.06 1384.24 L8435.06 1363.96 L8381.26 1363.96 L8381.26 1363.96  Z\n",
       "  \" fill=\"#009af9\" fill-rule=\"evenodd\" fill-opacity=\"1\"/>\n",
       "<polyline clip-path=\"url(#clip142)\" style=\"stroke:#000000; stroke-linecap:butt; stroke-linejoin:round; stroke-width:4; stroke-opacity:1; fill:none\" points=\"\n",
       "  8381.26,1363.96 8381.26,1384.24 8435.06,1384.24 8435.06,1363.96 8381.26,1363.96 \n",
       "  \"/>\n",
       "<path clip-path=\"url(#clip142)\" d=\"\n",
       "M8435.06 1384.24 L8435.06 1384.24 L8488.85 1384.24 L8488.85 1384.24 L8435.06 1384.24 L8435.06 1384.24  Z\n",
       "  \" fill=\"#009af9\" fill-rule=\"evenodd\" fill-opacity=\"1\"/>\n",
       "<polyline clip-path=\"url(#clip142)\" style=\"stroke:#000000; stroke-linecap:butt; stroke-linejoin:round; stroke-width:4; stroke-opacity:1; fill:none\" points=\"\n",
       "  8435.06,1384.24 8435.06,1384.24 8488.85,1384.24 8435.06,1384.24 \n",
       "  \"/>\n",
       "<path clip-path=\"url(#clip142)\" d=\"\n",
       "M8488.85 1384.24 L8488.85 1384.24 L8542.64 1384.24 L8542.64 1384.24 L8488.85 1384.24 L8488.85 1384.24  Z\n",
       "  \" fill=\"#009af9\" fill-rule=\"evenodd\" fill-opacity=\"1\"/>\n",
       "<polyline clip-path=\"url(#clip142)\" style=\"stroke:#000000; stroke-linecap:butt; stroke-linejoin:round; stroke-width:4; stroke-opacity:1; fill:none\" points=\"\n",
       "  8488.85,1384.24 8488.85,1384.24 8542.64,1384.24 8488.85,1384.24 \n",
       "  \"/>\n",
       "<path clip-path=\"url(#clip142)\" d=\"\n",
       "M8542.64 1384.24 L8542.64 1384.24 L8596.43 1384.24 L8596.43 1384.24 L8542.64 1384.24 L8542.64 1384.24  Z\n",
       "  \" fill=\"#009af9\" fill-rule=\"evenodd\" fill-opacity=\"1\"/>\n",
       "<polyline clip-path=\"url(#clip142)\" style=\"stroke:#000000; stroke-linecap:butt; stroke-linejoin:round; stroke-width:4; stroke-opacity:1; fill:none\" points=\"\n",
       "  8542.64,1384.24 8542.64,1384.24 8596.43,1384.24 8542.64,1384.24 \n",
       "  \"/>\n",
       "<path clip-path=\"url(#clip142)\" d=\"\n",
       "M8596.43 1384.24 L8596.43 1384.24 L8650.22 1384.24 L8650.22 1384.24 L8596.43 1384.24 L8596.43 1384.24  Z\n",
       "  \" fill=\"#009af9\" fill-rule=\"evenodd\" fill-opacity=\"1\"/>\n",
       "<polyline clip-path=\"url(#clip142)\" style=\"stroke:#000000; stroke-linecap:butt; stroke-linejoin:round; stroke-width:4; stroke-opacity:1; fill:none\" points=\"\n",
       "  8596.43,1384.24 8596.43,1384.24 8650.22,1384.24 8596.43,1384.24 \n",
       "  \"/>\n",
       "<path clip-path=\"url(#clip142)\" d=\"\n",
       "M8650.22 1384.24 L8650.22 1384.24 L8704.02 1384.24 L8704.02 1384.24 L8650.22 1384.24 L8650.22 1384.24  Z\n",
       "  \" fill=\"#009af9\" fill-rule=\"evenodd\" fill-opacity=\"1\"/>\n",
       "<polyline clip-path=\"url(#clip142)\" style=\"stroke:#000000; stroke-linecap:butt; stroke-linejoin:round; stroke-width:4; stroke-opacity:1; fill:none\" points=\"\n",
       "  8650.22,1384.24 8650.22,1384.24 8704.02,1384.24 8650.22,1384.24 \n",
       "  \"/>\n",
       "<path clip-path=\"url(#clip142)\" d=\"\n",
       "M8704.02 1384.24 L8704.02 1384.24 L8757.81 1384.24 L8757.81 1384.24 L8704.02 1384.24 L8704.02 1384.24  Z\n",
       "  \" fill=\"#009af9\" fill-rule=\"evenodd\" fill-opacity=\"1\"/>\n",
       "<polyline clip-path=\"url(#clip142)\" style=\"stroke:#000000; stroke-linecap:butt; stroke-linejoin:round; stroke-width:4; stroke-opacity:1; fill:none\" points=\"\n",
       "  8704.02,1384.24 8704.02,1384.24 8757.81,1384.24 8704.02,1384.24 \n",
       "  \"/>\n",
       "<path clip-path=\"url(#clip142)\" d=\"\n",
       "M8757.81 1384.24 L8757.81 1384.24 L8811.6 1384.24 L8811.6 1384.24 L8757.81 1384.24 L8757.81 1384.24  Z\n",
       "  \" fill=\"#009af9\" fill-rule=\"evenodd\" fill-opacity=\"1\"/>\n",
       "<polyline clip-path=\"url(#clip142)\" style=\"stroke:#000000; stroke-linecap:butt; stroke-linejoin:round; stroke-width:4; stroke-opacity:1; fill:none\" points=\"\n",
       "  8757.81,1384.24 8757.81,1384.24 8811.6,1384.24 8757.81,1384.24 \n",
       "  \"/>\n",
       "<path clip-path=\"url(#clip142)\" d=\"\n",
       "M8811.6 1384.24 L8811.6 1384.24 L8865.39 1384.24 L8865.39 1384.24 L8811.6 1384.24 L8811.6 1384.24  Z\n",
       "  \" fill=\"#009af9\" fill-rule=\"evenodd\" fill-opacity=\"1\"/>\n",
       "<polyline clip-path=\"url(#clip142)\" style=\"stroke:#000000; stroke-linecap:butt; stroke-linejoin:round; stroke-width:4; stroke-opacity:1; fill:none\" points=\"\n",
       "  8811.6,1384.24 8811.6,1384.24 8865.39,1384.24 8811.6,1384.24 \n",
       "  \"/>\n",
       "<path clip-path=\"url(#clip142)\" d=\"\n",
       "M8865.39 1363.96 L8865.39 1384.24 L8919.18 1384.24 L8919.18 1363.96 L8865.39 1363.96 L8865.39 1363.96  Z\n",
       "  \" fill=\"#009af9\" fill-rule=\"evenodd\" fill-opacity=\"1\"/>\n",
       "<polyline clip-path=\"url(#clip142)\" style=\"stroke:#000000; stroke-linecap:butt; stroke-linejoin:round; stroke-width:4; stroke-opacity:1; fill:none\" points=\"\n",
       "  8865.39,1363.96 8865.39,1384.24 8919.18,1384.24 8919.18,1363.96 8865.39,1363.96 \n",
       "  \"/>\n",
       "<path clip-path=\"url(#clip142)\" d=\"\n",
       "M8919.18 1384.24 L8919.18 1384.24 L8972.97 1384.24 L8972.97 1384.24 L8919.18 1384.24 L8919.18 1384.24  Z\n",
       "  \" fill=\"#009af9\" fill-rule=\"evenodd\" fill-opacity=\"1\"/>\n",
       "<polyline clip-path=\"url(#clip142)\" style=\"stroke:#000000; stroke-linecap:butt; stroke-linejoin:round; stroke-width:4; stroke-opacity:1; fill:none\" points=\"\n",
       "  8919.18,1384.24 8919.18,1384.24 8972.97,1384.24 8919.18,1384.24 \n",
       "  \"/>\n",
       "<path clip-path=\"url(#clip142)\" d=\"\n",
       "M8972.97 1384.24 L8972.97 1384.24 L9026.77 1384.24 L9026.77 1384.24 L8972.97 1384.24 L8972.97 1384.24  Z\n",
       "  \" fill=\"#009af9\" fill-rule=\"evenodd\" fill-opacity=\"1\"/>\n",
       "<polyline clip-path=\"url(#clip142)\" style=\"stroke:#000000; stroke-linecap:butt; stroke-linejoin:round; stroke-width:4; stroke-opacity:1; fill:none\" points=\"\n",
       "  8972.97,1384.24 8972.97,1384.24 9026.77,1384.24 8972.97,1384.24 \n",
       "  \"/>\n",
       "<path clip-path=\"url(#clip142)\" d=\"\n",
       "M9026.77 1363.96 L9026.77 1384.24 L9080.56 1384.24 L9080.56 1363.96 L9026.77 1363.96 L9026.77 1363.96  Z\n",
       "  \" fill=\"#009af9\" fill-rule=\"evenodd\" fill-opacity=\"1\"/>\n",
       "<polyline clip-path=\"url(#clip142)\" style=\"stroke:#000000; stroke-linecap:butt; stroke-linejoin:round; stroke-width:4; stroke-opacity:1; fill:none\" points=\"\n",
       "  9026.77,1363.96 9026.77,1384.24 9080.56,1384.24 9080.56,1363.96 9026.77,1363.96 \n",
       "  \"/>\n",
       "<path clip-path=\"url(#clip142)\" d=\"\n",
       "M9080.56 1384.24 L9080.56 1384.24 L9134.35 1384.24 L9134.35 1384.24 L9080.56 1384.24 L9080.56 1384.24  Z\n",
       "  \" fill=\"#009af9\" fill-rule=\"evenodd\" fill-opacity=\"1\"/>\n",
       "<polyline clip-path=\"url(#clip142)\" style=\"stroke:#000000; stroke-linecap:butt; stroke-linejoin:round; stroke-width:4; stroke-opacity:1; fill:none\" points=\"\n",
       "  9080.56,1384.24 9080.56,1384.24 9134.35,1384.24 9080.56,1384.24 \n",
       "  \"/>\n",
       "<path clip-path=\"url(#clip142)\" d=\"\n",
       "M9134.35 1384.24 L9134.35 1384.24 L9188.14 1384.24 L9188.14 1384.24 L9134.35 1384.24 L9134.35 1384.24  Z\n",
       "  \" fill=\"#009af9\" fill-rule=\"evenodd\" fill-opacity=\"1\"/>\n",
       "<polyline clip-path=\"url(#clip142)\" style=\"stroke:#000000; stroke-linecap:butt; stroke-linejoin:round; stroke-width:4; stroke-opacity:1; fill:none\" points=\"\n",
       "  9134.35,1384.24 9134.35,1384.24 9188.14,1384.24 9134.35,1384.24 \n",
       "  \"/>\n",
       "<path clip-path=\"url(#clip142)\" d=\"\n",
       "M9188.14 1384.24 L9188.14 1384.24 L9241.93 1384.24 L9241.93 1384.24 L9188.14 1384.24 L9188.14 1384.24  Z\n",
       "  \" fill=\"#009af9\" fill-rule=\"evenodd\" fill-opacity=\"1\"/>\n",
       "<polyline clip-path=\"url(#clip142)\" style=\"stroke:#000000; stroke-linecap:butt; stroke-linejoin:round; stroke-width:4; stroke-opacity:1; fill:none\" points=\"\n",
       "  9188.14,1384.24 9188.14,1384.24 9241.93,1384.24 9188.14,1384.24 \n",
       "  \"/>\n",
       "<path clip-path=\"url(#clip142)\" d=\"\n",
       "M9241.93 1384.24 L9241.93 1384.24 L9295.73 1384.24 L9295.73 1384.24 L9241.93 1384.24 L9241.93 1384.24  Z\n",
       "  \" fill=\"#009af9\" fill-rule=\"evenodd\" fill-opacity=\"1\"/>\n",
       "<polyline clip-path=\"url(#clip142)\" style=\"stroke:#000000; stroke-linecap:butt; stroke-linejoin:round; stroke-width:4; stroke-opacity:1; fill:none\" points=\"\n",
       "  9241.93,1384.24 9241.93,1384.24 9295.73,1384.24 9241.93,1384.24 \n",
       "  \"/>\n",
       "<path clip-path=\"url(#clip142)\" d=\"\n",
       "M9295.73 1384.24 L9295.73 1384.24 L9349.52 1384.24 L9349.52 1384.24 L9295.73 1384.24 L9295.73 1384.24  Z\n",
       "  \" fill=\"#009af9\" fill-rule=\"evenodd\" fill-opacity=\"1\"/>\n",
       "<polyline clip-path=\"url(#clip142)\" style=\"stroke:#000000; stroke-linecap:butt; stroke-linejoin:round; stroke-width:4; stroke-opacity:1; fill:none\" points=\"\n",
       "  9295.73,1384.24 9295.73,1384.24 9349.52,1384.24 9295.73,1384.24 \n",
       "  \"/>\n",
       "<path clip-path=\"url(#clip142)\" d=\"\n",
       "M9349.52 1384.24 L9349.52 1384.24 L9403.31 1384.24 L9403.31 1384.24 L9349.52 1384.24 L9349.52 1384.24  Z\n",
       "  \" fill=\"#009af9\" fill-rule=\"evenodd\" fill-opacity=\"1\"/>\n",
       "<polyline clip-path=\"url(#clip142)\" style=\"stroke:#000000; stroke-linecap:butt; stroke-linejoin:round; stroke-width:4; stroke-opacity:1; fill:none\" points=\"\n",
       "  9349.52,1384.24 9349.52,1384.24 9403.31,1384.24 9349.52,1384.24 \n",
       "  \"/>\n",
       "<path clip-path=\"url(#clip142)\" d=\"\n",
       "M9403.31 1384.24 L9403.31 1384.24 L9457.1 1384.24 L9457.1 1384.24 L9403.31 1384.24 L9403.31 1384.24  Z\n",
       "  \" fill=\"#009af9\" fill-rule=\"evenodd\" fill-opacity=\"1\"/>\n",
       "<polyline clip-path=\"url(#clip142)\" style=\"stroke:#000000; stroke-linecap:butt; stroke-linejoin:round; stroke-width:4; stroke-opacity:1; fill:none\" points=\"\n",
       "  9403.31,1384.24 9403.31,1384.24 9457.1,1384.24 9403.31,1384.24 \n",
       "  \"/>\n",
       "<path clip-path=\"url(#clip142)\" d=\"\n",
       "M9457.1 1384.24 L9457.1 1384.24 L9510.89 1384.24 L9510.89 1384.24 L9457.1 1384.24 L9457.1 1384.24  Z\n",
       "  \" fill=\"#009af9\" fill-rule=\"evenodd\" fill-opacity=\"1\"/>\n",
       "<polyline clip-path=\"url(#clip142)\" style=\"stroke:#000000; stroke-linecap:butt; stroke-linejoin:round; stroke-width:4; stroke-opacity:1; fill:none\" points=\"\n",
       "  9457.1,1384.24 9457.1,1384.24 9510.89,1384.24 9457.1,1384.24 \n",
       "  \"/>\n",
       "<path clip-path=\"url(#clip142)\" d=\"\n",
       "M9510.89 1384.24 L9510.89 1384.24 L9564.68 1384.24 L9564.68 1384.24 L9510.89 1384.24 L9510.89 1384.24  Z\n",
       "  \" fill=\"#009af9\" fill-rule=\"evenodd\" fill-opacity=\"1\"/>\n",
       "<polyline clip-path=\"url(#clip142)\" style=\"stroke:#000000; stroke-linecap:butt; stroke-linejoin:round; stroke-width:4; stroke-opacity:1; fill:none\" points=\"\n",
       "  9510.89,1384.24 9510.89,1384.24 9564.68,1384.24 9510.89,1384.24 \n",
       "  \"/>\n",
       "<path clip-path=\"url(#clip142)\" d=\"\n",
       "M9564.68 1384.24 L9564.68 1384.24 L9618.48 1384.24 L9618.48 1384.24 L9564.68 1384.24 L9564.68 1384.24  Z\n",
       "  \" fill=\"#009af9\" fill-rule=\"evenodd\" fill-opacity=\"1\"/>\n",
       "<polyline clip-path=\"url(#clip142)\" style=\"stroke:#000000; stroke-linecap:butt; stroke-linejoin:round; stroke-width:4; stroke-opacity:1; fill:none\" points=\"\n",
       "  9564.68,1384.24 9564.68,1384.24 9618.48,1384.24 9564.68,1384.24 \n",
       "  \"/>\n",
       "<path clip-path=\"url(#clip142)\" d=\"\n",
       "M9618.48 1384.24 L9618.48 1384.24 L9672.27 1384.24 L9672.27 1384.24 L9618.48 1384.24 L9618.48 1384.24  Z\n",
       "  \" fill=\"#009af9\" fill-rule=\"evenodd\" fill-opacity=\"1\"/>\n",
       "<polyline clip-path=\"url(#clip142)\" style=\"stroke:#000000; stroke-linecap:butt; stroke-linejoin:round; stroke-width:4; stroke-opacity:1; fill:none\" points=\"\n",
       "  9618.48,1384.24 9618.48,1384.24 9672.27,1384.24 9618.48,1384.24 \n",
       "  \"/>\n",
       "<path clip-path=\"url(#clip142)\" d=\"\n",
       "M9672.27 1384.24 L9672.27 1384.24 L9726.06 1384.24 L9726.06 1384.24 L9672.27 1384.24 L9672.27 1384.24  Z\n",
       "  \" fill=\"#009af9\" fill-rule=\"evenodd\" fill-opacity=\"1\"/>\n",
       "<polyline clip-path=\"url(#clip142)\" style=\"stroke:#000000; stroke-linecap:butt; stroke-linejoin:round; stroke-width:4; stroke-opacity:1; fill:none\" points=\"\n",
       "  9672.27,1384.24 9672.27,1384.24 9726.06,1384.24 9672.27,1384.24 \n",
       "  \"/>\n",
       "<path clip-path=\"url(#clip142)\" d=\"\n",
       "M9726.06 1384.24 L9726.06 1384.24 L9779.85 1384.24 L9779.85 1384.24 L9726.06 1384.24 L9726.06 1384.24  Z\n",
       "  \" fill=\"#009af9\" fill-rule=\"evenodd\" fill-opacity=\"1\"/>\n",
       "<polyline clip-path=\"url(#clip142)\" style=\"stroke:#000000; stroke-linecap:butt; stroke-linejoin:round; stroke-width:4; stroke-opacity:1; fill:none\" points=\"\n",
       "  9726.06,1384.24 9726.06,1384.24 9779.85,1384.24 9726.06,1384.24 \n",
       "  \"/>\n",
       "<path clip-path=\"url(#clip142)\" d=\"\n",
       "M9779.85 1384.24 L9779.85 1384.24 L9833.64 1384.24 L9833.64 1384.24 L9779.85 1384.24 L9779.85 1384.24  Z\n",
       "  \" fill=\"#009af9\" fill-rule=\"evenodd\" fill-opacity=\"1\"/>\n",
       "<polyline clip-path=\"url(#clip142)\" style=\"stroke:#000000; stroke-linecap:butt; stroke-linejoin:round; stroke-width:4; stroke-opacity:1; fill:none\" points=\"\n",
       "  9779.85,1384.24 9779.85,1384.24 9833.64,1384.24 9779.85,1384.24 \n",
       "  \"/>\n",
       "<path clip-path=\"url(#clip142)\" d=\"\n",
       "M9833.64 1384.24 L9833.64 1384.24 L9887.44 1384.24 L9887.44 1384.24 L9833.64 1384.24 L9833.64 1384.24  Z\n",
       "  \" fill=\"#009af9\" fill-rule=\"evenodd\" fill-opacity=\"1\"/>\n",
       "<polyline clip-path=\"url(#clip142)\" style=\"stroke:#000000; stroke-linecap:butt; stroke-linejoin:round; stroke-width:4; stroke-opacity:1; fill:none\" points=\"\n",
       "  9833.64,1384.24 9833.64,1384.24 9887.44,1384.24 9833.64,1384.24 \n",
       "  \"/>\n",
       "<path clip-path=\"url(#clip142)\" d=\"\n",
       "M9887.44 1384.24 L9887.44 1384.24 L9941.23 1384.24 L9941.23 1384.24 L9887.44 1384.24 L9887.44 1384.24  Z\n",
       "  \" fill=\"#009af9\" fill-rule=\"evenodd\" fill-opacity=\"1\"/>\n",
       "<polyline clip-path=\"url(#clip142)\" style=\"stroke:#000000; stroke-linecap:butt; stroke-linejoin:round; stroke-width:4; stroke-opacity:1; fill:none\" points=\"\n",
       "  9887.44,1384.24 9887.44,1384.24 9941.23,1384.24 9887.44,1384.24 \n",
       "  \"/>\n",
       "<path clip-path=\"url(#clip142)\" d=\"\n",
       "M9941.23 1384.24 L9941.23 1384.24 L9995.02 1384.24 L9995.02 1384.24 L9941.23 1384.24 L9941.23 1384.24  Z\n",
       "  \" fill=\"#009af9\" fill-rule=\"evenodd\" fill-opacity=\"1\"/>\n",
       "<polyline clip-path=\"url(#clip142)\" style=\"stroke:#000000; stroke-linecap:butt; stroke-linejoin:round; stroke-width:4; stroke-opacity:1; fill:none\" points=\"\n",
       "  9941.23,1384.24 9941.23,1384.24 9995.02,1384.24 9941.23,1384.24 \n",
       "  \"/>\n",
       "<path clip-path=\"url(#clip142)\" d=\"\n",
       "M9995.02 1384.24 L9995.02 1384.24 L10048.8 1384.24 L10048.8 1384.24 L9995.02 1384.24 L9995.02 1384.24  Z\n",
       "  \" fill=\"#009af9\" fill-rule=\"evenodd\" fill-opacity=\"1\"/>\n",
       "<polyline clip-path=\"url(#clip142)\" style=\"stroke:#000000; stroke-linecap:butt; stroke-linejoin:round; stroke-width:4; stroke-opacity:1; fill:none\" points=\"\n",
       "  9995.02,1384.24 9995.02,1384.24 10048.8,1384.24 9995.02,1384.24 \n",
       "  \"/>\n",
       "<path clip-path=\"url(#clip142)\" d=\"\n",
       "M10048.8 1384.24 L10048.8 1384.24 L10102.6 1384.24 L10102.6 1384.24 L10048.8 1384.24 L10048.8 1384.24  Z\n",
       "  \" fill=\"#009af9\" fill-rule=\"evenodd\" fill-opacity=\"1\"/>\n",
       "<polyline clip-path=\"url(#clip142)\" style=\"stroke:#000000; stroke-linecap:butt; stroke-linejoin:round; stroke-width:4; stroke-opacity:1; fill:none\" points=\"\n",
       "  10048.8,1384.24 10048.8,1384.24 10102.6,1384.24 10048.8,1384.24 \n",
       "  \"/>\n",
       "<path clip-path=\"url(#clip142)\" d=\"\n",
       "M10102.6 1384.24 L10102.6 1384.24 L10156.4 1384.24 L10156.4 1384.24 L10102.6 1384.24 L10102.6 1384.24  Z\n",
       "  \" fill=\"#009af9\" fill-rule=\"evenodd\" fill-opacity=\"1\"/>\n",
       "<polyline clip-path=\"url(#clip142)\" style=\"stroke:#000000; stroke-linecap:butt; stroke-linejoin:round; stroke-width:4; stroke-opacity:1; fill:none\" points=\"\n",
       "  10102.6,1384.24 10102.6,1384.24 10156.4,1384.24 10102.6,1384.24 \n",
       "  \"/>\n",
       "<path clip-path=\"url(#clip142)\" d=\"\n",
       "M10156.4 1384.24 L10156.4 1384.24 L10210.2 1384.24 L10210.2 1384.24 L10156.4 1384.24 L10156.4 1384.24  Z\n",
       "  \" fill=\"#009af9\" fill-rule=\"evenodd\" fill-opacity=\"1\"/>\n",
       "<polyline clip-path=\"url(#clip142)\" style=\"stroke:#000000; stroke-linecap:butt; stroke-linejoin:round; stroke-width:4; stroke-opacity:1; fill:none\" points=\"\n",
       "  10156.4,1384.24 10156.4,1384.24 10210.2,1384.24 10156.4,1384.24 \n",
       "  \"/>\n",
       "<path clip-path=\"url(#clip142)\" d=\"\n",
       "M10210.2 1384.24 L10210.2 1384.24 L10264 1384.24 L10264 1384.24 L10210.2 1384.24 L10210.2 1384.24  Z\n",
       "  \" fill=\"#009af9\" fill-rule=\"evenodd\" fill-opacity=\"1\"/>\n",
       "<polyline clip-path=\"url(#clip142)\" style=\"stroke:#000000; stroke-linecap:butt; stroke-linejoin:round; stroke-width:4; stroke-opacity:1; fill:none\" points=\"\n",
       "  10210.2,1384.24 10210.2,1384.24 10264,1384.24 10210.2,1384.24 \n",
       "  \"/>\n",
       "<path clip-path=\"url(#clip142)\" d=\"\n",
       "M10264 1384.24 L10264 1384.24 L10317.8 1384.24 L10317.8 1384.24 L10264 1384.24 L10264 1384.24  Z\n",
       "  \" fill=\"#009af9\" fill-rule=\"evenodd\" fill-opacity=\"1\"/>\n",
       "<polyline clip-path=\"url(#clip142)\" style=\"stroke:#000000; stroke-linecap:butt; stroke-linejoin:round; stroke-width:4; stroke-opacity:1; fill:none\" points=\"\n",
       "  10264,1384.24 10264,1384.24 10317.8,1384.24 10264,1384.24 \n",
       "  \"/>\n",
       "<path clip-path=\"url(#clip142)\" d=\"\n",
       "M10317.8 1384.24 L10317.8 1384.24 L10371.6 1384.24 L10371.6 1384.24 L10317.8 1384.24 L10317.8 1384.24  Z\n",
       "  \" fill=\"#009af9\" fill-rule=\"evenodd\" fill-opacity=\"1\"/>\n",
       "<polyline clip-path=\"url(#clip142)\" style=\"stroke:#000000; stroke-linecap:butt; stroke-linejoin:round; stroke-width:4; stroke-opacity:1; fill:none\" points=\"\n",
       "  10317.8,1384.24 10317.8,1384.24 10371.6,1384.24 10317.8,1384.24 \n",
       "  \"/>\n",
       "<path clip-path=\"url(#clip142)\" d=\"\n",
       "M10371.6 1384.24 L10371.6 1384.24 L10425.4 1384.24 L10425.4 1384.24 L10371.6 1384.24 L10371.6 1384.24  Z\n",
       "  \" fill=\"#009af9\" fill-rule=\"evenodd\" fill-opacity=\"1\"/>\n",
       "<polyline clip-path=\"url(#clip142)\" style=\"stroke:#000000; stroke-linecap:butt; stroke-linejoin:round; stroke-width:4; stroke-opacity:1; fill:none\" points=\"\n",
       "  10371.6,1384.24 10371.6,1384.24 10425.4,1384.24 10371.6,1384.24 \n",
       "  \"/>\n",
       "<path clip-path=\"url(#clip142)\" d=\"\n",
       "M10425.4 1384.24 L10425.4 1384.24 L10479.1 1384.24 L10479.1 1384.24 L10425.4 1384.24 L10425.4 1384.24  Z\n",
       "  \" fill=\"#009af9\" fill-rule=\"evenodd\" fill-opacity=\"1\"/>\n",
       "<polyline clip-path=\"url(#clip142)\" style=\"stroke:#000000; stroke-linecap:butt; stroke-linejoin:round; stroke-width:4; stroke-opacity:1; fill:none\" points=\"\n",
       "  10425.4,1384.24 10425.4,1384.24 10479.1,1384.24 10425.4,1384.24 \n",
       "  \"/>\n",
       "<path clip-path=\"url(#clip142)\" d=\"\n",
       "M10479.1 1384.24 L10479.1 1384.24 L10532.9 1384.24 L10532.9 1384.24 L10479.1 1384.24 L10479.1 1384.24  Z\n",
       "  \" fill=\"#009af9\" fill-rule=\"evenodd\" fill-opacity=\"1\"/>\n",
       "<polyline clip-path=\"url(#clip142)\" style=\"stroke:#000000; stroke-linecap:butt; stroke-linejoin:round; stroke-width:4; stroke-opacity:1; fill:none\" points=\"\n",
       "  10479.1,1384.24 10479.1,1384.24 10532.9,1384.24 10479.1,1384.24 \n",
       "  \"/>\n",
       "<path clip-path=\"url(#clip142)\" d=\"\n",
       "M10532.9 1384.24 L10532.9 1384.24 L10586.7 1384.24 L10586.7 1384.24 L10532.9 1384.24 L10532.9 1384.24  Z\n",
       "  \" fill=\"#009af9\" fill-rule=\"evenodd\" fill-opacity=\"1\"/>\n",
       "<polyline clip-path=\"url(#clip142)\" style=\"stroke:#000000; stroke-linecap:butt; stroke-linejoin:round; stroke-width:4; stroke-opacity:1; fill:none\" points=\"\n",
       "  10532.9,1384.24 10532.9,1384.24 10586.7,1384.24 10532.9,1384.24 \n",
       "  \"/>\n",
       "<path clip-path=\"url(#clip142)\" d=\"\n",
       "M10586.7 1384.24 L10586.7 1384.24 L10640.5 1384.24 L10640.5 1384.24 L10586.7 1384.24 L10586.7 1384.24  Z\n",
       "  \" fill=\"#009af9\" fill-rule=\"evenodd\" fill-opacity=\"1\"/>\n",
       "<polyline clip-path=\"url(#clip142)\" style=\"stroke:#000000; stroke-linecap:butt; stroke-linejoin:round; stroke-width:4; stroke-opacity:1; fill:none\" points=\"\n",
       "  10586.7,1384.24 10586.7,1384.24 10640.5,1384.24 10586.7,1384.24 \n",
       "  \"/>\n",
       "<path clip-path=\"url(#clip142)\" d=\"\n",
       "M10640.5 1384.24 L10640.5 1384.24 L10694.3 1384.24 L10694.3 1384.24 L10640.5 1384.24 L10640.5 1384.24  Z\n",
       "  \" fill=\"#009af9\" fill-rule=\"evenodd\" fill-opacity=\"1\"/>\n",
       "<polyline clip-path=\"url(#clip142)\" style=\"stroke:#000000; stroke-linecap:butt; stroke-linejoin:round; stroke-width:4; stroke-opacity:1; fill:none\" points=\"\n",
       "  10640.5,1384.24 10640.5,1384.24 10694.3,1384.24 10640.5,1384.24 \n",
       "  \"/>\n",
       "<path clip-path=\"url(#clip142)\" d=\"\n",
       "M10694.3 1384.24 L10694.3 1384.24 L10748.1 1384.24 L10748.1 1384.24 L10694.3 1384.24 L10694.3 1384.24  Z\n",
       "  \" fill=\"#009af9\" fill-rule=\"evenodd\" fill-opacity=\"1\"/>\n",
       "<polyline clip-path=\"url(#clip142)\" style=\"stroke:#000000; stroke-linecap:butt; stroke-linejoin:round; stroke-width:4; stroke-opacity:1; fill:none\" points=\"\n",
       "  10694.3,1384.24 10694.3,1384.24 10748.1,1384.24 10694.3,1384.24 \n",
       "  \"/>\n",
       "<path clip-path=\"url(#clip142)\" d=\"\n",
       "M10748.1 1384.24 L10748.1 1384.24 L10801.9 1384.24 L10801.9 1384.24 L10748.1 1384.24 L10748.1 1384.24  Z\n",
       "  \" fill=\"#009af9\" fill-rule=\"evenodd\" fill-opacity=\"1\"/>\n",
       "<polyline clip-path=\"url(#clip142)\" style=\"stroke:#000000; stroke-linecap:butt; stroke-linejoin:round; stroke-width:4; stroke-opacity:1; fill:none\" points=\"\n",
       "  10748.1,1384.24 10748.1,1384.24 10801.9,1384.24 10748.1,1384.24 \n",
       "  \"/>\n",
       "<path clip-path=\"url(#clip142)\" d=\"\n",
       "M10801.9 1384.24 L10801.9 1384.24 L10855.7 1384.24 L10855.7 1384.24 L10801.9 1384.24 L10801.9 1384.24  Z\n",
       "  \" fill=\"#009af9\" fill-rule=\"evenodd\" fill-opacity=\"1\"/>\n",
       "<polyline clip-path=\"url(#clip142)\" style=\"stroke:#000000; stroke-linecap:butt; stroke-linejoin:round; stroke-width:4; stroke-opacity:1; fill:none\" points=\"\n",
       "  10801.9,1384.24 10801.9,1384.24 10855.7,1384.24 10801.9,1384.24 \n",
       "  \"/>\n",
       "<path clip-path=\"url(#clip142)\" d=\"\n",
       "M10855.7 1384.24 L10855.7 1384.24 L10909.5 1384.24 L10909.5 1384.24 L10855.7 1384.24 L10855.7 1384.24  Z\n",
       "  \" fill=\"#009af9\" fill-rule=\"evenodd\" fill-opacity=\"1\"/>\n",
       "<polyline clip-path=\"url(#clip142)\" style=\"stroke:#000000; stroke-linecap:butt; stroke-linejoin:round; stroke-width:4; stroke-opacity:1; fill:none\" points=\"\n",
       "  10855.7,1384.24 10855.7,1384.24 10909.5,1384.24 10855.7,1384.24 \n",
       "  \"/>\n",
       "<path clip-path=\"url(#clip142)\" d=\"\n",
       "M10909.5 1384.24 L10909.5 1384.24 L10963.3 1384.24 L10963.3 1384.24 L10909.5 1384.24 L10909.5 1384.24  Z\n",
       "  \" fill=\"#009af9\" fill-rule=\"evenodd\" fill-opacity=\"1\"/>\n",
       "<polyline clip-path=\"url(#clip142)\" style=\"stroke:#000000; stroke-linecap:butt; stroke-linejoin:round; stroke-width:4; stroke-opacity:1; fill:none\" points=\"\n",
       "  10909.5,1384.24 10909.5,1384.24 10963.3,1384.24 10909.5,1384.24 \n",
       "  \"/>\n",
       "<path clip-path=\"url(#clip142)\" d=\"\n",
       "M10963.3 1384.24 L10963.3 1384.24 L11017.1 1384.24 L11017.1 1384.24 L10963.3 1384.24 L10963.3 1384.24  Z\n",
       "  \" fill=\"#009af9\" fill-rule=\"evenodd\" fill-opacity=\"1\"/>\n",
       "<polyline clip-path=\"url(#clip142)\" style=\"stroke:#000000; stroke-linecap:butt; stroke-linejoin:round; stroke-width:4; stroke-opacity:1; fill:none\" points=\"\n",
       "  10963.3,1384.24 10963.3,1384.24 11017.1,1384.24 10963.3,1384.24 \n",
       "  \"/>\n",
       "<path clip-path=\"url(#clip142)\" d=\"\n",
       "M11017.1 1384.24 L11017.1 1384.24 L11070.9 1384.24 L11070.9 1384.24 L11017.1 1384.24 L11017.1 1384.24  Z\n",
       "  \" fill=\"#009af9\" fill-rule=\"evenodd\" fill-opacity=\"1\"/>\n",
       "<polyline clip-path=\"url(#clip142)\" style=\"stroke:#000000; stroke-linecap:butt; stroke-linejoin:round; stroke-width:4; stroke-opacity:1; fill:none\" points=\"\n",
       "  11017.1,1384.24 11017.1,1384.24 11070.9,1384.24 11017.1,1384.24 \n",
       "  \"/>\n",
       "<path clip-path=\"url(#clip142)\" d=\"\n",
       "M11070.9 1384.24 L11070.9 1384.24 L11124.6 1384.24 L11124.6 1384.24 L11070.9 1384.24 L11070.9 1384.24  Z\n",
       "  \" fill=\"#009af9\" fill-rule=\"evenodd\" fill-opacity=\"1\"/>\n",
       "<polyline clip-path=\"url(#clip142)\" style=\"stroke:#000000; stroke-linecap:butt; stroke-linejoin:round; stroke-width:4; stroke-opacity:1; fill:none\" points=\"\n",
       "  11070.9,1384.24 11070.9,1384.24 11124.6,1384.24 11070.9,1384.24 \n",
       "  \"/>\n",
       "<path clip-path=\"url(#clip142)\" d=\"\n",
       "M11124.6 1384.24 L11124.6 1384.24 L11178.4 1384.24 L11178.4 1384.24 L11124.6 1384.24 L11124.6 1384.24  Z\n",
       "  \" fill=\"#009af9\" fill-rule=\"evenodd\" fill-opacity=\"1\"/>\n",
       "<polyline clip-path=\"url(#clip142)\" style=\"stroke:#000000; stroke-linecap:butt; stroke-linejoin:round; stroke-width:4; stroke-opacity:1; fill:none\" points=\"\n",
       "  11124.6,1384.24 11124.6,1384.24 11178.4,1384.24 11124.6,1384.24 \n",
       "  \"/>\n",
       "<path clip-path=\"url(#clip142)\" d=\"\n",
       "M11178.4 1384.24 L11178.4 1384.24 L11232.2 1384.24 L11232.2 1384.24 L11178.4 1384.24 L11178.4 1384.24  Z\n",
       "  \" fill=\"#009af9\" fill-rule=\"evenodd\" fill-opacity=\"1\"/>\n",
       "<polyline clip-path=\"url(#clip142)\" style=\"stroke:#000000; stroke-linecap:butt; stroke-linejoin:round; stroke-width:4; stroke-opacity:1; fill:none\" points=\"\n",
       "  11178.4,1384.24 11178.4,1384.24 11232.2,1384.24 11178.4,1384.24 \n",
       "  \"/>\n",
       "<path clip-path=\"url(#clip142)\" d=\"\n",
       "M11232.2 1384.24 L11232.2 1384.24 L11286 1384.24 L11286 1384.24 L11232.2 1384.24 L11232.2 1384.24  Z\n",
       "  \" fill=\"#009af9\" fill-rule=\"evenodd\" fill-opacity=\"1\"/>\n",
       "<polyline clip-path=\"url(#clip142)\" style=\"stroke:#000000; stroke-linecap:butt; stroke-linejoin:round; stroke-width:4; stroke-opacity:1; fill:none\" points=\"\n",
       "  11232.2,1384.24 11232.2,1384.24 11286,1384.24 11232.2,1384.24 \n",
       "  \"/>\n",
       "<path clip-path=\"url(#clip142)\" d=\"\n",
       "M11286 1384.24 L11286 1384.24 L11339.8 1384.24 L11339.8 1384.24 L11286 1384.24 L11286 1384.24  Z\n",
       "  \" fill=\"#009af9\" fill-rule=\"evenodd\" fill-opacity=\"1\"/>\n",
       "<polyline clip-path=\"url(#clip142)\" style=\"stroke:#000000; stroke-linecap:butt; stroke-linejoin:round; stroke-width:4; stroke-opacity:1; fill:none\" points=\"\n",
       "  11286,1384.24 11286,1384.24 11339.8,1384.24 11286,1384.24 \n",
       "  \"/>\n",
       "<path clip-path=\"url(#clip142)\" d=\"\n",
       "M11339.8 1384.24 L11339.8 1384.24 L11393.6 1384.24 L11393.6 1384.24 L11339.8 1384.24 L11339.8 1384.24  Z\n",
       "  \" fill=\"#009af9\" fill-rule=\"evenodd\" fill-opacity=\"1\"/>\n",
       "<polyline clip-path=\"url(#clip142)\" style=\"stroke:#000000; stroke-linecap:butt; stroke-linejoin:round; stroke-width:4; stroke-opacity:1; fill:none\" points=\"\n",
       "  11339.8,1384.24 11339.8,1384.24 11393.6,1384.24 11339.8,1384.24 \n",
       "  \"/>\n",
       "<path clip-path=\"url(#clip142)\" d=\"\n",
       "M11393.6 1384.24 L11393.6 1384.24 L11447.4 1384.24 L11447.4 1384.24 L11393.6 1384.24 L11393.6 1384.24  Z\n",
       "  \" fill=\"#009af9\" fill-rule=\"evenodd\" fill-opacity=\"1\"/>\n",
       "<polyline clip-path=\"url(#clip142)\" style=\"stroke:#000000; stroke-linecap:butt; stroke-linejoin:round; stroke-width:4; stroke-opacity:1; fill:none\" points=\"\n",
       "  11393.6,1384.24 11393.6,1384.24 11447.4,1384.24 11393.6,1384.24 \n",
       "  \"/>\n",
       "<path clip-path=\"url(#clip142)\" d=\"\n",
       "M11447.4 1384.24 L11447.4 1384.24 L11501.2 1384.24 L11501.2 1384.24 L11447.4 1384.24 L11447.4 1384.24  Z\n",
       "  \" fill=\"#009af9\" fill-rule=\"evenodd\" fill-opacity=\"1\"/>\n",
       "<polyline clip-path=\"url(#clip142)\" style=\"stroke:#000000; stroke-linecap:butt; stroke-linejoin:round; stroke-width:4; stroke-opacity:1; fill:none\" points=\"\n",
       "  11447.4,1384.24 11447.4,1384.24 11501.2,1384.24 11447.4,1384.24 \n",
       "  \"/>\n",
       "<path clip-path=\"url(#clip142)\" d=\"\n",
       "M11501.2 1384.24 L11501.2 1384.24 L11555 1384.24 L11555 1384.24 L11501.2 1384.24 L11501.2 1384.24  Z\n",
       "  \" fill=\"#009af9\" fill-rule=\"evenodd\" fill-opacity=\"1\"/>\n",
       "<polyline clip-path=\"url(#clip142)\" style=\"stroke:#000000; stroke-linecap:butt; stroke-linejoin:round; stroke-width:4; stroke-opacity:1; fill:none\" points=\"\n",
       "  11501.2,1384.24 11501.2,1384.24 11555,1384.24 11501.2,1384.24 \n",
       "  \"/>\n",
       "<path clip-path=\"url(#clip142)\" d=\"\n",
       "M11555 1384.24 L11555 1384.24 L11608.8 1384.24 L11608.8 1384.24 L11555 1384.24 L11555 1384.24  Z\n",
       "  \" fill=\"#009af9\" fill-rule=\"evenodd\" fill-opacity=\"1\"/>\n",
       "<polyline clip-path=\"url(#clip142)\" style=\"stroke:#000000; stroke-linecap:butt; stroke-linejoin:round; stroke-width:4; stroke-opacity:1; fill:none\" points=\"\n",
       "  11555,1384.24 11555,1384.24 11608.8,1384.24 11555,1384.24 \n",
       "  \"/>\n",
       "<path clip-path=\"url(#clip142)\" d=\"\n",
       "M11608.8 1384.24 L11608.8 1384.24 L11662.6 1384.24 L11662.6 1384.24 L11608.8 1384.24 L11608.8 1384.24  Z\n",
       "  \" fill=\"#009af9\" fill-rule=\"evenodd\" fill-opacity=\"1\"/>\n",
       "<polyline clip-path=\"url(#clip142)\" style=\"stroke:#000000; stroke-linecap:butt; stroke-linejoin:round; stroke-width:4; stroke-opacity:1; fill:none\" points=\"\n",
       "  11608.8,1384.24 11608.8,1384.24 11662.6,1384.24 11608.8,1384.24 \n",
       "  \"/>\n",
       "<path clip-path=\"url(#clip142)\" d=\"\n",
       "M11662.6 1384.24 L11662.6 1384.24 L11716.4 1384.24 L11716.4 1384.24 L11662.6 1384.24 L11662.6 1384.24  Z\n",
       "  \" fill=\"#009af9\" fill-rule=\"evenodd\" fill-opacity=\"1\"/>\n",
       "<polyline clip-path=\"url(#clip142)\" style=\"stroke:#000000; stroke-linecap:butt; stroke-linejoin:round; stroke-width:4; stroke-opacity:1; fill:none\" points=\"\n",
       "  11662.6,1384.24 11662.6,1384.24 11716.4,1384.24 11662.6,1384.24 \n",
       "  \"/>\n",
       "<path clip-path=\"url(#clip142)\" d=\"\n",
       "M11716.4 1384.24 L11716.4 1384.24 L11770.1 1384.24 L11770.1 1384.24 L11716.4 1384.24 L11716.4 1384.24  Z\n",
       "  \" fill=\"#009af9\" fill-rule=\"evenodd\" fill-opacity=\"1\"/>\n",
       "<polyline clip-path=\"url(#clip142)\" style=\"stroke:#000000; stroke-linecap:butt; stroke-linejoin:round; stroke-width:4; stroke-opacity:1; fill:none\" points=\"\n",
       "  11716.4,1384.24 11716.4,1384.24 11770.1,1384.24 11716.4,1384.24 \n",
       "  \"/>\n",
       "<path clip-path=\"url(#clip142)\" d=\"\n",
       "M11770.1 1384.24 L11770.1 1384.24 L11823.9 1384.24 L11823.9 1384.24 L11770.1 1384.24 L11770.1 1384.24  Z\n",
       "  \" fill=\"#009af9\" fill-rule=\"evenodd\" fill-opacity=\"1\"/>\n",
       "<polyline clip-path=\"url(#clip142)\" style=\"stroke:#000000; stroke-linecap:butt; stroke-linejoin:round; stroke-width:4; stroke-opacity:1; fill:none\" points=\"\n",
       "  11770.1,1384.24 11770.1,1384.24 11823.9,1384.24 11770.1,1384.24 \n",
       "  \"/>\n",
       "<path clip-path=\"url(#clip142)\" d=\"\n",
       "M11823.9 1384.24 L11823.9 1384.24 L11877.7 1384.24 L11877.7 1384.24 L11823.9 1384.24 L11823.9 1384.24  Z\n",
       "  \" fill=\"#009af9\" fill-rule=\"evenodd\" fill-opacity=\"1\"/>\n",
       "<polyline clip-path=\"url(#clip142)\" style=\"stroke:#000000; stroke-linecap:butt; stroke-linejoin:round; stroke-width:4; stroke-opacity:1; fill:none\" points=\"\n",
       "  11823.9,1384.24 11823.9,1384.24 11877.7,1384.24 11823.9,1384.24 \n",
       "  \"/>\n",
       "<path clip-path=\"url(#clip142)\" d=\"\n",
       "M11877.7 1384.24 L11877.7 1384.24 L11931.5 1384.24 L11931.5 1384.24 L11877.7 1384.24 L11877.7 1384.24  Z\n",
       "  \" fill=\"#009af9\" fill-rule=\"evenodd\" fill-opacity=\"1\"/>\n",
       "<polyline clip-path=\"url(#clip142)\" style=\"stroke:#000000; stroke-linecap:butt; stroke-linejoin:round; stroke-width:4; stroke-opacity:1; fill:none\" points=\"\n",
       "  11877.7,1384.24 11877.7,1384.24 11931.5,1384.24 11877.7,1384.24 \n",
       "  \"/>\n",
       "<path clip-path=\"url(#clip142)\" d=\"\n",
       "M11931.5 1384.24 L11931.5 1384.24 L11985.3 1384.24 L11985.3 1384.24 L11931.5 1384.24 L11931.5 1384.24  Z\n",
       "  \" fill=\"#009af9\" fill-rule=\"evenodd\" fill-opacity=\"1\"/>\n",
       "<polyline clip-path=\"url(#clip142)\" style=\"stroke:#000000; stroke-linecap:butt; stroke-linejoin:round; stroke-width:4; stroke-opacity:1; fill:none\" points=\"\n",
       "  11931.5,1384.24 11931.5,1384.24 11985.3,1384.24 11931.5,1384.24 \n",
       "  \"/>\n",
       "<path clip-path=\"url(#clip142)\" d=\"\n",
       "M11985.3 1384.24 L11985.3 1384.24 L12039.1 1384.24 L12039.1 1384.24 L11985.3 1384.24 L11985.3 1384.24  Z\n",
       "  \" fill=\"#009af9\" fill-rule=\"evenodd\" fill-opacity=\"1\"/>\n",
       "<polyline clip-path=\"url(#clip142)\" style=\"stroke:#000000; stroke-linecap:butt; stroke-linejoin:round; stroke-width:4; stroke-opacity:1; fill:none\" points=\"\n",
       "  11985.3,1384.24 11985.3,1384.24 12039.1,1384.24 11985.3,1384.24 \n",
       "  \"/>\n",
       "<path clip-path=\"url(#clip142)\" d=\"\n",
       "M12039.1 1384.24 L12039.1 1384.24 L12092.9 1384.24 L12092.9 1384.24 L12039.1 1384.24 L12039.1 1384.24  Z\n",
       "  \" fill=\"#009af9\" fill-rule=\"evenodd\" fill-opacity=\"1\"/>\n",
       "<polyline clip-path=\"url(#clip142)\" style=\"stroke:#000000; stroke-linecap:butt; stroke-linejoin:round; stroke-width:4; stroke-opacity:1; fill:none\" points=\"\n",
       "  12039.1,1384.24 12039.1,1384.24 12092.9,1384.24 12039.1,1384.24 \n",
       "  \"/>\n",
       "<path clip-path=\"url(#clip142)\" d=\"\n",
       "M12092.9 1384.24 L12092.9 1384.24 L12146.7 1384.24 L12146.7 1384.24 L12092.9 1384.24 L12092.9 1384.24  Z\n",
       "  \" fill=\"#009af9\" fill-rule=\"evenodd\" fill-opacity=\"1\"/>\n",
       "<polyline clip-path=\"url(#clip142)\" style=\"stroke:#000000; stroke-linecap:butt; stroke-linejoin:round; stroke-width:4; stroke-opacity:1; fill:none\" points=\"\n",
       "  12092.9,1384.24 12092.9,1384.24 12146.7,1384.24 12092.9,1384.24 \n",
       "  \"/>\n",
       "<path clip-path=\"url(#clip142)\" d=\"\n",
       "M12146.7 1384.24 L12146.7 1384.24 L12200.5 1384.24 L12200.5 1384.24 L12146.7 1384.24 L12146.7 1384.24  Z\n",
       "  \" fill=\"#009af9\" fill-rule=\"evenodd\" fill-opacity=\"1\"/>\n",
       "<polyline clip-path=\"url(#clip142)\" style=\"stroke:#000000; stroke-linecap:butt; stroke-linejoin:round; stroke-width:4; stroke-opacity:1; fill:none\" points=\"\n",
       "  12146.7,1384.24 12146.7,1384.24 12200.5,1384.24 12146.7,1384.24 \n",
       "  \"/>\n",
       "<path clip-path=\"url(#clip142)\" d=\"\n",
       "M12200.5 1384.24 L12200.5 1384.24 L12254.3 1384.24 L12254.3 1384.24 L12200.5 1384.24 L12200.5 1384.24  Z\n",
       "  \" fill=\"#009af9\" fill-rule=\"evenodd\" fill-opacity=\"1\"/>\n",
       "<polyline clip-path=\"url(#clip142)\" style=\"stroke:#000000; stroke-linecap:butt; stroke-linejoin:round; stroke-width:4; stroke-opacity:1; fill:none\" points=\"\n",
       "  12200.5,1384.24 12200.5,1384.24 12254.3,1384.24 12200.5,1384.24 \n",
       "  \"/>\n",
       "<path clip-path=\"url(#clip142)\" d=\"\n",
       "M12254.3 1384.24 L12254.3 1384.24 L12308.1 1384.24 L12308.1 1384.24 L12254.3 1384.24 L12254.3 1384.24  Z\n",
       "  \" fill=\"#009af9\" fill-rule=\"evenodd\" fill-opacity=\"1\"/>\n",
       "<polyline clip-path=\"url(#clip142)\" style=\"stroke:#000000; stroke-linecap:butt; stroke-linejoin:round; stroke-width:4; stroke-opacity:1; fill:none\" points=\"\n",
       "  12254.3,1384.24 12254.3,1384.24 12308.1,1384.24 12254.3,1384.24 \n",
       "  \"/>\n",
       "<path clip-path=\"url(#clip142)\" d=\"\n",
       "M12308.1 1384.24 L12308.1 1384.24 L12361.9 1384.24 L12361.9 1384.24 L12308.1 1384.24 L12308.1 1384.24  Z\n",
       "  \" fill=\"#009af9\" fill-rule=\"evenodd\" fill-opacity=\"1\"/>\n",
       "<polyline clip-path=\"url(#clip142)\" style=\"stroke:#000000; stroke-linecap:butt; stroke-linejoin:round; stroke-width:4; stroke-opacity:1; fill:none\" points=\"\n",
       "  12308.1,1384.24 12308.1,1384.24 12361.9,1384.24 12308.1,1384.24 \n",
       "  \"/>\n",
       "<path clip-path=\"url(#clip142)\" d=\"\n",
       "M12361.9 1384.24 L12361.9 1384.24 L12415.6 1384.24 L12415.6 1384.24 L12361.9 1384.24 L12361.9 1384.24  Z\n",
       "  \" fill=\"#009af9\" fill-rule=\"evenodd\" fill-opacity=\"1\"/>\n",
       "<polyline clip-path=\"url(#clip142)\" style=\"stroke:#000000; stroke-linecap:butt; stroke-linejoin:round; stroke-width:4; stroke-opacity:1; fill:none\" points=\"\n",
       "  12361.9,1384.24 12361.9,1384.24 12415.6,1384.24 12361.9,1384.24 \n",
       "  \"/>\n",
       "<path clip-path=\"url(#clip142)\" d=\"\n",
       "M12415.6 1384.24 L12415.6 1384.24 L12469.4 1384.24 L12469.4 1384.24 L12415.6 1384.24 L12415.6 1384.24  Z\n",
       "  \" fill=\"#009af9\" fill-rule=\"evenodd\" fill-opacity=\"1\"/>\n",
       "<polyline clip-path=\"url(#clip142)\" style=\"stroke:#000000; stroke-linecap:butt; stroke-linejoin:round; stroke-width:4; stroke-opacity:1; fill:none\" points=\"\n",
       "  12415.6,1384.24 12415.6,1384.24 12469.4,1384.24 12415.6,1384.24 \n",
       "  \"/>\n",
       "<path clip-path=\"url(#clip142)\" d=\"\n",
       "M12469.4 1384.24 L12469.4 1384.24 L12523.2 1384.24 L12523.2 1384.24 L12469.4 1384.24 L12469.4 1384.24  Z\n",
       "  \" fill=\"#009af9\" fill-rule=\"evenodd\" fill-opacity=\"1\"/>\n",
       "<polyline clip-path=\"url(#clip142)\" style=\"stroke:#000000; stroke-linecap:butt; stroke-linejoin:round; stroke-width:4; stroke-opacity:1; fill:none\" points=\"\n",
       "  12469.4,1384.24 12469.4,1384.24 12523.2,1384.24 12469.4,1384.24 \n",
       "  \"/>\n",
       "<path clip-path=\"url(#clip142)\" d=\"\n",
       "M12523.2 1384.24 L12523.2 1384.24 L12577 1384.24 L12577 1384.24 L12523.2 1384.24 L12523.2 1384.24  Z\n",
       "  \" fill=\"#009af9\" fill-rule=\"evenodd\" fill-opacity=\"1\"/>\n",
       "<polyline clip-path=\"url(#clip142)\" style=\"stroke:#000000; stroke-linecap:butt; stroke-linejoin:round; stroke-width:4; stroke-opacity:1; fill:none\" points=\"\n",
       "  12523.2,1384.24 12523.2,1384.24 12577,1384.24 12523.2,1384.24 \n",
       "  \"/>\n",
       "<path clip-path=\"url(#clip142)\" d=\"\n",
       "M12577 1384.24 L12577 1384.24 L12630.8 1384.24 L12630.8 1384.24 L12577 1384.24 L12577 1384.24  Z\n",
       "  \" fill=\"#009af9\" fill-rule=\"evenodd\" fill-opacity=\"1\"/>\n",
       "<polyline clip-path=\"url(#clip142)\" style=\"stroke:#000000; stroke-linecap:butt; stroke-linejoin:round; stroke-width:4; stroke-opacity:1; fill:none\" points=\"\n",
       "  12577,1384.24 12577,1384.24 12630.8,1384.24 12577,1384.24 \n",
       "  \"/>\n",
       "<path clip-path=\"url(#clip142)\" d=\"\n",
       "M12630.8 1384.24 L12630.8 1384.24 L12684.6 1384.24 L12684.6 1384.24 L12630.8 1384.24 L12630.8 1384.24  Z\n",
       "  \" fill=\"#009af9\" fill-rule=\"evenodd\" fill-opacity=\"1\"/>\n",
       "<polyline clip-path=\"url(#clip142)\" style=\"stroke:#000000; stroke-linecap:butt; stroke-linejoin:round; stroke-width:4; stroke-opacity:1; fill:none\" points=\"\n",
       "  12630.8,1384.24 12630.8,1384.24 12684.6,1384.24 12630.8,1384.24 \n",
       "  \"/>\n",
       "<path clip-path=\"url(#clip142)\" d=\"\n",
       "M12684.6 1384.24 L12684.6 1384.24 L12738.4 1384.24 L12738.4 1384.24 L12684.6 1384.24 L12684.6 1384.24  Z\n",
       "  \" fill=\"#009af9\" fill-rule=\"evenodd\" fill-opacity=\"1\"/>\n",
       "<polyline clip-path=\"url(#clip142)\" style=\"stroke:#000000; stroke-linecap:butt; stroke-linejoin:round; stroke-width:4; stroke-opacity:1; fill:none\" points=\"\n",
       "  12684.6,1384.24 12684.6,1384.24 12738.4,1384.24 12684.6,1384.24 \n",
       "  \"/>\n",
       "<path clip-path=\"url(#clip142)\" d=\"\n",
       "M12738.4 1384.24 L12738.4 1384.24 L12792.2 1384.24 L12792.2 1384.24 L12738.4 1384.24 L12738.4 1384.24  Z\n",
       "  \" fill=\"#009af9\" fill-rule=\"evenodd\" fill-opacity=\"1\"/>\n",
       "<polyline clip-path=\"url(#clip142)\" style=\"stroke:#000000; stroke-linecap:butt; stroke-linejoin:round; stroke-width:4; stroke-opacity:1; fill:none\" points=\"\n",
       "  12738.4,1384.24 12738.4,1384.24 12792.2,1384.24 12738.4,1384.24 \n",
       "  \"/>\n",
       "<path clip-path=\"url(#clip142)\" d=\"\n",
       "M12792.2 1384.24 L12792.2 1384.24 L12846 1384.24 L12846 1384.24 L12792.2 1384.24 L12792.2 1384.24  Z\n",
       "  \" fill=\"#009af9\" fill-rule=\"evenodd\" fill-opacity=\"1\"/>\n",
       "<polyline clip-path=\"url(#clip142)\" style=\"stroke:#000000; stroke-linecap:butt; stroke-linejoin:round; stroke-width:4; stroke-opacity:1; fill:none\" points=\"\n",
       "  12792.2,1384.24 12792.2,1384.24 12846,1384.24 12792.2,1384.24 \n",
       "  \"/>\n",
       "<path clip-path=\"url(#clip142)\" d=\"\n",
       "M12846 1384.24 L12846 1384.24 L12899.8 1384.24 L12899.8 1384.24 L12846 1384.24 L12846 1384.24  Z\n",
       "  \" fill=\"#009af9\" fill-rule=\"evenodd\" fill-opacity=\"1\"/>\n",
       "<polyline clip-path=\"url(#clip142)\" style=\"stroke:#000000; stroke-linecap:butt; stroke-linejoin:round; stroke-width:4; stroke-opacity:1; fill:none\" points=\"\n",
       "  12846,1384.24 12846,1384.24 12899.8,1384.24 12846,1384.24 \n",
       "  \"/>\n",
       "<path clip-path=\"url(#clip142)\" d=\"\n",
       "M12899.8 1384.24 L12899.8 1384.24 L12953.6 1384.24 L12953.6 1384.24 L12899.8 1384.24 L12899.8 1384.24  Z\n",
       "  \" fill=\"#009af9\" fill-rule=\"evenodd\" fill-opacity=\"1\"/>\n",
       "<polyline clip-path=\"url(#clip142)\" style=\"stroke:#000000; stroke-linecap:butt; stroke-linejoin:round; stroke-width:4; stroke-opacity:1; fill:none\" points=\"\n",
       "  12899.8,1384.24 12899.8,1384.24 12953.6,1384.24 12899.8,1384.24 \n",
       "  \"/>\n",
       "<path clip-path=\"url(#clip142)\" d=\"\n",
       "M12953.6 1384.24 L12953.6 1384.24 L13007.4 1384.24 L13007.4 1384.24 L12953.6 1384.24 L12953.6 1384.24  Z\n",
       "  \" fill=\"#009af9\" fill-rule=\"evenodd\" fill-opacity=\"1\"/>\n",
       "<polyline clip-path=\"url(#clip142)\" style=\"stroke:#000000; stroke-linecap:butt; stroke-linejoin:round; stroke-width:4; stroke-opacity:1; fill:none\" points=\"\n",
       "  12953.6,1384.24 12953.6,1384.24 13007.4,1384.24 12953.6,1384.24 \n",
       "  \"/>\n",
       "<path clip-path=\"url(#clip142)\" d=\"\n",
       "M13007.4 1384.24 L13007.4 1384.24 L13061.2 1384.24 L13061.2 1384.24 L13007.4 1384.24 L13007.4 1384.24  Z\n",
       "  \" fill=\"#009af9\" fill-rule=\"evenodd\" fill-opacity=\"1\"/>\n",
       "<polyline clip-path=\"url(#clip142)\" style=\"stroke:#000000; stroke-linecap:butt; stroke-linejoin:round; stroke-width:4; stroke-opacity:1; fill:none\" points=\"\n",
       "  13007.4,1384.24 13007.4,1384.24 13061.2,1384.24 13007.4,1384.24 \n",
       "  \"/>\n",
       "<path clip-path=\"url(#clip142)\" d=\"\n",
       "M13061.2 1384.24 L13061.2 1384.24 L13114.9 1384.24 L13114.9 1384.24 L13061.2 1384.24 L13061.2 1384.24  Z\n",
       "  \" fill=\"#009af9\" fill-rule=\"evenodd\" fill-opacity=\"1\"/>\n",
       "<polyline clip-path=\"url(#clip142)\" style=\"stroke:#000000; stroke-linecap:butt; stroke-linejoin:round; stroke-width:4; stroke-opacity:1; fill:none\" points=\"\n",
       "  13061.2,1384.24 13061.2,1384.24 13114.9,1384.24 13061.2,1384.24 \n",
       "  \"/>\n",
       "<path clip-path=\"url(#clip142)\" d=\"\n",
       "M13114.9 1384.24 L13114.9 1384.24 L13168.7 1384.24 L13168.7 1384.24 L13114.9 1384.24 L13114.9 1384.24  Z\n",
       "  \" fill=\"#009af9\" fill-rule=\"evenodd\" fill-opacity=\"1\"/>\n",
       "<polyline clip-path=\"url(#clip142)\" style=\"stroke:#000000; stroke-linecap:butt; stroke-linejoin:round; stroke-width:4; stroke-opacity:1; fill:none\" points=\"\n",
       "  13114.9,1384.24 13114.9,1384.24 13168.7,1384.24 13114.9,1384.24 \n",
       "  \"/>\n",
       "<path clip-path=\"url(#clip142)\" d=\"\n",
       "M13168.7 1384.24 L13168.7 1384.24 L13222.5 1384.24 L13222.5 1384.24 L13168.7 1384.24 L13168.7 1384.24  Z\n",
       "  \" fill=\"#009af9\" fill-rule=\"evenodd\" fill-opacity=\"1\"/>\n",
       "<polyline clip-path=\"url(#clip142)\" style=\"stroke:#000000; stroke-linecap:butt; stroke-linejoin:round; stroke-width:4; stroke-opacity:1; fill:none\" points=\"\n",
       "  13168.7,1384.24 13168.7,1384.24 13222.5,1384.24 13168.7,1384.24 \n",
       "  \"/>\n",
       "<path clip-path=\"url(#clip142)\" d=\"\n",
       "M13222.5 1384.24 L13222.5 1384.24 L13276.3 1384.24 L13276.3 1384.24 L13222.5 1384.24 L13222.5 1384.24  Z\n",
       "  \" fill=\"#009af9\" fill-rule=\"evenodd\" fill-opacity=\"1\"/>\n",
       "<polyline clip-path=\"url(#clip142)\" style=\"stroke:#000000; stroke-linecap:butt; stroke-linejoin:round; stroke-width:4; stroke-opacity:1; fill:none\" points=\"\n",
       "  13222.5,1384.24 13222.5,1384.24 13276.3,1384.24 13222.5,1384.24 \n",
       "  \"/>\n",
       "<path clip-path=\"url(#clip142)\" d=\"\n",
       "M13276.3 1384.24 L13276.3 1384.24 L13330.1 1384.24 L13330.1 1384.24 L13276.3 1384.24 L13276.3 1384.24  Z\n",
       "  \" fill=\"#009af9\" fill-rule=\"evenodd\" fill-opacity=\"1\"/>\n",
       "<polyline clip-path=\"url(#clip142)\" style=\"stroke:#000000; stroke-linecap:butt; stroke-linejoin:round; stroke-width:4; stroke-opacity:1; fill:none\" points=\"\n",
       "  13276.3,1384.24 13276.3,1384.24 13330.1,1384.24 13276.3,1384.24 \n",
       "  \"/>\n",
       "<path clip-path=\"url(#clip142)\" d=\"\n",
       "M13330.1 1384.24 L13330.1 1384.24 L13383.9 1384.24 L13383.9 1384.24 L13330.1 1384.24 L13330.1 1384.24  Z\n",
       "  \" fill=\"#009af9\" fill-rule=\"evenodd\" fill-opacity=\"1\"/>\n",
       "<polyline clip-path=\"url(#clip142)\" style=\"stroke:#000000; stroke-linecap:butt; stroke-linejoin:round; stroke-width:4; stroke-opacity:1; fill:none\" points=\"\n",
       "  13330.1,1384.24 13330.1,1384.24 13383.9,1384.24 13330.1,1384.24 \n",
       "  \"/>\n",
       "<path clip-path=\"url(#clip142)\" d=\"\n",
       "M13383.9 1384.24 L13383.9 1384.24 L13437.7 1384.24 L13437.7 1384.24 L13383.9 1384.24 L13383.9 1384.24  Z\n",
       "  \" fill=\"#009af9\" fill-rule=\"evenodd\" fill-opacity=\"1\"/>\n",
       "<polyline clip-path=\"url(#clip142)\" style=\"stroke:#000000; stroke-linecap:butt; stroke-linejoin:round; stroke-width:4; stroke-opacity:1; fill:none\" points=\"\n",
       "  13383.9,1384.24 13383.9,1384.24 13437.7,1384.24 13383.9,1384.24 \n",
       "  \"/>\n",
       "<path clip-path=\"url(#clip142)\" d=\"\n",
       "M13437.7 1384.24 L13437.7 1384.24 L13491.5 1384.24 L13491.5 1384.24 L13437.7 1384.24 L13437.7 1384.24  Z\n",
       "  \" fill=\"#009af9\" fill-rule=\"evenodd\" fill-opacity=\"1\"/>\n",
       "<polyline clip-path=\"url(#clip142)\" style=\"stroke:#000000; stroke-linecap:butt; stroke-linejoin:round; stroke-width:4; stroke-opacity:1; fill:none\" points=\"\n",
       "  13437.7,1384.24 13437.7,1384.24 13491.5,1384.24 13437.7,1384.24 \n",
       "  \"/>\n",
       "<path clip-path=\"url(#clip142)\" d=\"\n",
       "M13491.5 1384.24 L13491.5 1384.24 L13545.3 1384.24 L13545.3 1384.24 L13491.5 1384.24 L13491.5 1384.24  Z\n",
       "  \" fill=\"#009af9\" fill-rule=\"evenodd\" fill-opacity=\"1\"/>\n",
       "<polyline clip-path=\"url(#clip142)\" style=\"stroke:#000000; stroke-linecap:butt; stroke-linejoin:round; stroke-width:4; stroke-opacity:1; fill:none\" points=\"\n",
       "  13491.5,1384.24 13491.5,1384.24 13545.3,1384.24 13491.5,1384.24 \n",
       "  \"/>\n",
       "<path clip-path=\"url(#clip142)\" d=\"\n",
       "M13545.3 1384.24 L13545.3 1384.24 L13599.1 1384.24 L13599.1 1384.24 L13545.3 1384.24 L13545.3 1384.24  Z\n",
       "  \" fill=\"#009af9\" fill-rule=\"evenodd\" fill-opacity=\"1\"/>\n",
       "<polyline clip-path=\"url(#clip142)\" style=\"stroke:#000000; stroke-linecap:butt; stroke-linejoin:round; stroke-width:4; stroke-opacity:1; fill:none\" points=\"\n",
       "  13545.3,1384.24 13545.3,1384.24 13599.1,1384.24 13545.3,1384.24 \n",
       "  \"/>\n",
       "<path clip-path=\"url(#clip142)\" d=\"\n",
       "M13599.1 1384.24 L13599.1 1384.24 L13652.9 1384.24 L13652.9 1384.24 L13599.1 1384.24 L13599.1 1384.24  Z\n",
       "  \" fill=\"#009af9\" fill-rule=\"evenodd\" fill-opacity=\"1\"/>\n",
       "<polyline clip-path=\"url(#clip142)\" style=\"stroke:#000000; stroke-linecap:butt; stroke-linejoin:round; stroke-width:4; stroke-opacity:1; fill:none\" points=\"\n",
       "  13599.1,1384.24 13599.1,1384.24 13652.9,1384.24 13599.1,1384.24 \n",
       "  \"/>\n",
       "<path clip-path=\"url(#clip142)\" d=\"\n",
       "M13652.9 1384.24 L13652.9 1384.24 L13706.7 1384.24 L13706.7 1384.24 L13652.9 1384.24 L13652.9 1384.24  Z\n",
       "  \" fill=\"#009af9\" fill-rule=\"evenodd\" fill-opacity=\"1\"/>\n",
       "<polyline clip-path=\"url(#clip142)\" style=\"stroke:#000000; stroke-linecap:butt; stroke-linejoin:round; stroke-width:4; stroke-opacity:1; fill:none\" points=\"\n",
       "  13652.9,1384.24 13652.9,1384.24 13706.7,1384.24 13652.9,1384.24 \n",
       "  \"/>\n",
       "<path clip-path=\"url(#clip142)\" d=\"\n",
       "M13706.7 1384.24 L13706.7 1384.24 L13760.4 1384.24 L13760.4 1384.24 L13706.7 1384.24 L13706.7 1384.24  Z\n",
       "  \" fill=\"#009af9\" fill-rule=\"evenodd\" fill-opacity=\"1\"/>\n",
       "<polyline clip-path=\"url(#clip142)\" style=\"stroke:#000000; stroke-linecap:butt; stroke-linejoin:round; stroke-width:4; stroke-opacity:1; fill:none\" points=\"\n",
       "  13706.7,1384.24 13706.7,1384.24 13760.4,1384.24 13706.7,1384.24 \n",
       "  \"/>\n",
       "<path clip-path=\"url(#clip142)\" d=\"\n",
       "M13760.4 1384.24 L13760.4 1384.24 L13814.2 1384.24 L13814.2 1384.24 L13760.4 1384.24 L13760.4 1384.24  Z\n",
       "  \" fill=\"#009af9\" fill-rule=\"evenodd\" fill-opacity=\"1\"/>\n",
       "<polyline clip-path=\"url(#clip142)\" style=\"stroke:#000000; stroke-linecap:butt; stroke-linejoin:round; stroke-width:4; stroke-opacity:1; fill:none\" points=\"\n",
       "  13760.4,1384.24 13760.4,1384.24 13814.2,1384.24 13760.4,1384.24 \n",
       "  \"/>\n",
       "<path clip-path=\"url(#clip142)\" d=\"\n",
       "M13814.2 1384.24 L13814.2 1384.24 L13868 1384.24 L13868 1384.24 L13814.2 1384.24 L13814.2 1384.24  Z\n",
       "  \" fill=\"#009af9\" fill-rule=\"evenodd\" fill-opacity=\"1\"/>\n",
       "<polyline clip-path=\"url(#clip142)\" style=\"stroke:#000000; stroke-linecap:butt; stroke-linejoin:round; stroke-width:4; stroke-opacity:1; fill:none\" points=\"\n",
       "  13814.2,1384.24 13814.2,1384.24 13868,1384.24 13814.2,1384.24 \n",
       "  \"/>\n",
       "<path clip-path=\"url(#clip142)\" d=\"\n",
       "M13868 1384.24 L13868 1384.24 L13921.8 1384.24 L13921.8 1384.24 L13868 1384.24 L13868 1384.24  Z\n",
       "  \" fill=\"#009af9\" fill-rule=\"evenodd\" fill-opacity=\"1\"/>\n",
       "<polyline clip-path=\"url(#clip142)\" style=\"stroke:#000000; stroke-linecap:butt; stroke-linejoin:round; stroke-width:4; stroke-opacity:1; fill:none\" points=\"\n",
       "  13868,1384.24 13868,1384.24 13921.8,1384.24 13868,1384.24 \n",
       "  \"/>\n",
       "<path clip-path=\"url(#clip142)\" d=\"\n",
       "M13921.8 1384.24 L13921.8 1384.24 L13975.6 1384.24 L13975.6 1384.24 L13921.8 1384.24 L13921.8 1384.24  Z\n",
       "  \" fill=\"#009af9\" fill-rule=\"evenodd\" fill-opacity=\"1\"/>\n",
       "<polyline clip-path=\"url(#clip142)\" style=\"stroke:#000000; stroke-linecap:butt; stroke-linejoin:round; stroke-width:4; stroke-opacity:1; fill:none\" points=\"\n",
       "  13921.8,1384.24 13921.8,1384.24 13975.6,1384.24 13921.8,1384.24 \n",
       "  \"/>\n",
       "<path clip-path=\"url(#clip142)\" d=\"\n",
       "M13975.6 1384.24 L13975.6 1384.24 L14029.4 1384.24 L14029.4 1384.24 L13975.6 1384.24 L13975.6 1384.24  Z\n",
       "  \" fill=\"#009af9\" fill-rule=\"evenodd\" fill-opacity=\"1\"/>\n",
       "<polyline clip-path=\"url(#clip142)\" style=\"stroke:#000000; stroke-linecap:butt; stroke-linejoin:round; stroke-width:4; stroke-opacity:1; fill:none\" points=\"\n",
       "  13975.6,1384.24 13975.6,1384.24 14029.4,1384.24 13975.6,1384.24 \n",
       "  \"/>\n",
       "<path clip-path=\"url(#clip142)\" d=\"\n",
       "M14029.4 1384.24 L14029.4 1384.24 L14083.2 1384.24 L14083.2 1384.24 L14029.4 1384.24 L14029.4 1384.24  Z\n",
       "  \" fill=\"#009af9\" fill-rule=\"evenodd\" fill-opacity=\"1\"/>\n",
       "<polyline clip-path=\"url(#clip142)\" style=\"stroke:#000000; stroke-linecap:butt; stroke-linejoin:round; stroke-width:4; stroke-opacity:1; fill:none\" points=\"\n",
       "  14029.4,1384.24 14029.4,1384.24 14083.2,1384.24 14029.4,1384.24 \n",
       "  \"/>\n",
       "<path clip-path=\"url(#clip142)\" d=\"\n",
       "M14083.2 1384.24 L14083.2 1384.24 L14137 1384.24 L14137 1384.24 L14083.2 1384.24 L14083.2 1384.24  Z\n",
       "  \" fill=\"#009af9\" fill-rule=\"evenodd\" fill-opacity=\"1\"/>\n",
       "<polyline clip-path=\"url(#clip142)\" style=\"stroke:#000000; stroke-linecap:butt; stroke-linejoin:round; stroke-width:4; stroke-opacity:1; fill:none\" points=\"\n",
       "  14083.2,1384.24 14083.2,1384.24 14137,1384.24 14083.2,1384.24 \n",
       "  \"/>\n",
       "<path clip-path=\"url(#clip142)\" d=\"\n",
       "M14137 1384.24 L14137 1384.24 L14190.8 1384.24 L14190.8 1384.24 L14137 1384.24 L14137 1384.24  Z\n",
       "  \" fill=\"#009af9\" fill-rule=\"evenodd\" fill-opacity=\"1\"/>\n",
       "<polyline clip-path=\"url(#clip142)\" style=\"stroke:#000000; stroke-linecap:butt; stroke-linejoin:round; stroke-width:4; stroke-opacity:1; fill:none\" points=\"\n",
       "  14137,1384.24 14137,1384.24 14190.8,1384.24 14137,1384.24 \n",
       "  \"/>\n",
       "<path clip-path=\"url(#clip142)\" d=\"\n",
       "M14190.8 1384.24 L14190.8 1384.24 L14244.6 1384.24 L14244.6 1384.24 L14190.8 1384.24 L14190.8 1384.24  Z\n",
       "  \" fill=\"#009af9\" fill-rule=\"evenodd\" fill-opacity=\"1\"/>\n",
       "<polyline clip-path=\"url(#clip142)\" style=\"stroke:#000000; stroke-linecap:butt; stroke-linejoin:round; stroke-width:4; stroke-opacity:1; fill:none\" points=\"\n",
       "  14190.8,1384.24 14190.8,1384.24 14244.6,1384.24 14190.8,1384.24 \n",
       "  \"/>\n",
       "<path clip-path=\"url(#clip142)\" d=\"\n",
       "M14244.6 1384.24 L14244.6 1384.24 L14298.4 1384.24 L14298.4 1384.24 L14244.6 1384.24 L14244.6 1384.24  Z\n",
       "  \" fill=\"#009af9\" fill-rule=\"evenodd\" fill-opacity=\"1\"/>\n",
       "<polyline clip-path=\"url(#clip142)\" style=\"stroke:#000000; stroke-linecap:butt; stroke-linejoin:round; stroke-width:4; stroke-opacity:1; fill:none\" points=\"\n",
       "  14244.6,1384.24 14244.6,1384.24 14298.4,1384.24 14244.6,1384.24 \n",
       "  \"/>\n",
       "<path clip-path=\"url(#clip142)\" d=\"\n",
       "M14298.4 1384.24 L14298.4 1384.24 L14352.2 1384.24 L14352.2 1384.24 L14298.4 1384.24 L14298.4 1384.24  Z\n",
       "  \" fill=\"#009af9\" fill-rule=\"evenodd\" fill-opacity=\"1\"/>\n",
       "<polyline clip-path=\"url(#clip142)\" style=\"stroke:#000000; stroke-linecap:butt; stroke-linejoin:round; stroke-width:4; stroke-opacity:1; fill:none\" points=\"\n",
       "  14298.4,1384.24 14298.4,1384.24 14352.2,1384.24 14298.4,1384.24 \n",
       "  \"/>\n",
       "<path clip-path=\"url(#clip142)\" d=\"\n",
       "M14352.2 1384.24 L14352.2 1384.24 L14405.9 1384.24 L14405.9 1384.24 L14352.2 1384.24 L14352.2 1384.24  Z\n",
       "  \" fill=\"#009af9\" fill-rule=\"evenodd\" fill-opacity=\"1\"/>\n",
       "<polyline clip-path=\"url(#clip142)\" style=\"stroke:#000000; stroke-linecap:butt; stroke-linejoin:round; stroke-width:4; stroke-opacity:1; fill:none\" points=\"\n",
       "  14352.2,1384.24 14352.2,1384.24 14405.9,1384.24 14352.2,1384.24 \n",
       "  \"/>\n",
       "<path clip-path=\"url(#clip142)\" d=\"\n",
       "M14405.9 1384.24 L14405.9 1384.24 L14459.7 1384.24 L14459.7 1384.24 L14405.9 1384.24 L14405.9 1384.24  Z\n",
       "  \" fill=\"#009af9\" fill-rule=\"evenodd\" fill-opacity=\"1\"/>\n",
       "<polyline clip-path=\"url(#clip142)\" style=\"stroke:#000000; stroke-linecap:butt; stroke-linejoin:round; stroke-width:4; stroke-opacity:1; fill:none\" points=\"\n",
       "  14405.9,1384.24 14405.9,1384.24 14459.7,1384.24 14405.9,1384.24 \n",
       "  \"/>\n",
       "<path clip-path=\"url(#clip142)\" d=\"\n",
       "M14459.7 1384.24 L14459.7 1384.24 L14513.5 1384.24 L14513.5 1384.24 L14459.7 1384.24 L14459.7 1384.24  Z\n",
       "  \" fill=\"#009af9\" fill-rule=\"evenodd\" fill-opacity=\"1\"/>\n",
       "<polyline clip-path=\"url(#clip142)\" style=\"stroke:#000000; stroke-linecap:butt; stroke-linejoin:round; stroke-width:4; stroke-opacity:1; fill:none\" points=\"\n",
       "  14459.7,1384.24 14459.7,1384.24 14513.5,1384.24 14459.7,1384.24 \n",
       "  \"/>\n",
       "<path clip-path=\"url(#clip142)\" d=\"\n",
       "M14513.5 1384.24 L14513.5 1384.24 L14567.3 1384.24 L14567.3 1384.24 L14513.5 1384.24 L14513.5 1384.24  Z\n",
       "  \" fill=\"#009af9\" fill-rule=\"evenodd\" fill-opacity=\"1\"/>\n",
       "<polyline clip-path=\"url(#clip142)\" style=\"stroke:#000000; stroke-linecap:butt; stroke-linejoin:round; stroke-width:4; stroke-opacity:1; fill:none\" points=\"\n",
       "  14513.5,1384.24 14513.5,1384.24 14567.3,1384.24 14513.5,1384.24 \n",
       "  \"/>\n",
       "<path clip-path=\"url(#clip142)\" d=\"\n",
       "M14567.3 1384.24 L14567.3 1384.24 L14621.1 1384.24 L14621.1 1384.24 L14567.3 1384.24 L14567.3 1384.24  Z\n",
       "  \" fill=\"#009af9\" fill-rule=\"evenodd\" fill-opacity=\"1\"/>\n",
       "<polyline clip-path=\"url(#clip142)\" style=\"stroke:#000000; stroke-linecap:butt; stroke-linejoin:round; stroke-width:4; stroke-opacity:1; fill:none\" points=\"\n",
       "  14567.3,1384.24 14567.3,1384.24 14621.1,1384.24 14567.3,1384.24 \n",
       "  \"/>\n",
       "<path clip-path=\"url(#clip142)\" d=\"\n",
       "M14621.1 1384.24 L14621.1 1384.24 L14674.9 1384.24 L14674.9 1384.24 L14621.1 1384.24 L14621.1 1384.24  Z\n",
       "  \" fill=\"#009af9\" fill-rule=\"evenodd\" fill-opacity=\"1\"/>\n",
       "<polyline clip-path=\"url(#clip142)\" style=\"stroke:#000000; stroke-linecap:butt; stroke-linejoin:round; stroke-width:4; stroke-opacity:1; fill:none\" points=\"\n",
       "  14621.1,1384.24 14621.1,1384.24 14674.9,1384.24 14621.1,1384.24 \n",
       "  \"/>\n",
       "<path clip-path=\"url(#clip142)\" d=\"\n",
       "M14674.9 1363.96 L14674.9 1384.24 L14728.7 1384.24 L14728.7 1363.96 L14674.9 1363.96 L14674.9 1363.96  Z\n",
       "  \" fill=\"#009af9\" fill-rule=\"evenodd\" fill-opacity=\"1\"/>\n",
       "<polyline clip-path=\"url(#clip142)\" style=\"stroke:#000000; stroke-linecap:butt; stroke-linejoin:round; stroke-width:4; stroke-opacity:1; fill:none\" points=\"\n",
       "  14674.9,1363.96 14674.9,1384.24 14728.7,1384.24 14728.7,1363.96 14674.9,1363.96 \n",
       "  \"/>\n",
       "<path clip-path=\"url(#clip142)\" d=\"\n",
       "M14728.7 1384.24 L14728.7 1384.24 L14782.5 1384.24 L14782.5 1384.24 L14728.7 1384.24 L14728.7 1384.24  Z\n",
       "  \" fill=\"#009af9\" fill-rule=\"evenodd\" fill-opacity=\"1\"/>\n",
       "<polyline clip-path=\"url(#clip142)\" style=\"stroke:#000000; stroke-linecap:butt; stroke-linejoin:round; stroke-width:4; stroke-opacity:1; fill:none\" points=\"\n",
       "  14728.7,1384.24 14728.7,1384.24 14782.5,1384.24 14728.7,1384.24 \n",
       "  \"/>\n",
       "<path clip-path=\"url(#clip142)\" d=\"\n",
       "M14782.5 1384.24 L14782.5 1384.24 L14836.3 1384.24 L14836.3 1384.24 L14782.5 1384.24 L14782.5 1384.24  Z\n",
       "  \" fill=\"#009af9\" fill-rule=\"evenodd\" fill-opacity=\"1\"/>\n",
       "<polyline clip-path=\"url(#clip142)\" style=\"stroke:#000000; stroke-linecap:butt; stroke-linejoin:round; stroke-width:4; stroke-opacity:1; fill:none\" points=\"\n",
       "  14782.5,1384.24 14782.5,1384.24 14836.3,1384.24 14782.5,1384.24 \n",
       "  \"/>\n",
       "<path clip-path=\"url(#clip142)\" d=\"\n",
       "M14836.3 1384.24 L14836.3 1384.24 L14890.1 1384.24 L14890.1 1384.24 L14836.3 1384.24 L14836.3 1384.24  Z\n",
       "  \" fill=\"#009af9\" fill-rule=\"evenodd\" fill-opacity=\"1\"/>\n",
       "<polyline clip-path=\"url(#clip142)\" style=\"stroke:#000000; stroke-linecap:butt; stroke-linejoin:round; stroke-width:4; stroke-opacity:1; fill:none\" points=\"\n",
       "  14836.3,1384.24 14836.3,1384.24 14890.1,1384.24 14836.3,1384.24 \n",
       "  \"/>\n",
       "<path clip-path=\"url(#clip142)\" d=\"\n",
       "M14890.1 1384.24 L14890.1 1384.24 L14943.9 1384.24 L14943.9 1384.24 L14890.1 1384.24 L14890.1 1384.24  Z\n",
       "  \" fill=\"#009af9\" fill-rule=\"evenodd\" fill-opacity=\"1\"/>\n",
       "<polyline clip-path=\"url(#clip142)\" style=\"stroke:#000000; stroke-linecap:butt; stroke-linejoin:round; stroke-width:4; stroke-opacity:1; fill:none\" points=\"\n",
       "  14890.1,1384.24 14890.1,1384.24 14943.9,1384.24 14890.1,1384.24 \n",
       "  \"/>\n",
       "<path clip-path=\"url(#clip142)\" d=\"\n",
       "M14943.9 1384.24 L14943.9 1384.24 L14997.7 1384.24 L14997.7 1384.24 L14943.9 1384.24 L14943.9 1384.24  Z\n",
       "  \" fill=\"#009af9\" fill-rule=\"evenodd\" fill-opacity=\"1\"/>\n",
       "<polyline clip-path=\"url(#clip142)\" style=\"stroke:#000000; stroke-linecap:butt; stroke-linejoin:round; stroke-width:4; stroke-opacity:1; fill:none\" points=\"\n",
       "  14943.9,1384.24 14943.9,1384.24 14997.7,1384.24 14943.9,1384.24 \n",
       "  \"/>\n",
       "<path clip-path=\"url(#clip142)\" d=\"\n",
       "M14997.7 1384.24 L14997.7 1384.24 L15051.4 1384.24 L15051.4 1384.24 L14997.7 1384.24 L14997.7 1384.24  Z\n",
       "  \" fill=\"#009af9\" fill-rule=\"evenodd\" fill-opacity=\"1\"/>\n",
       "<polyline clip-path=\"url(#clip142)\" style=\"stroke:#000000; stroke-linecap:butt; stroke-linejoin:round; stroke-width:4; stroke-opacity:1; fill:none\" points=\"\n",
       "  14997.7,1384.24 14997.7,1384.24 15051.4,1384.24 14997.7,1384.24 \n",
       "  \"/>\n",
       "<path clip-path=\"url(#clip142)\" d=\"\n",
       "M15051.4 1384.24 L15051.4 1384.24 L15105.2 1384.24 L15105.2 1384.24 L15051.4 1384.24 L15051.4 1384.24  Z\n",
       "  \" fill=\"#009af9\" fill-rule=\"evenodd\" fill-opacity=\"1\"/>\n",
       "<polyline clip-path=\"url(#clip142)\" style=\"stroke:#000000; stroke-linecap:butt; stroke-linejoin:round; stroke-width:4; stroke-opacity:1; fill:none\" points=\"\n",
       "  15051.4,1384.24 15051.4,1384.24 15105.2,1384.24 15051.4,1384.24 \n",
       "  \"/>\n",
       "<path clip-path=\"url(#clip142)\" d=\"\n",
       "M15105.2 1384.24 L15105.2 1384.24 L15159 1384.24 L15159 1384.24 L15105.2 1384.24 L15105.2 1384.24  Z\n",
       "  \" fill=\"#009af9\" fill-rule=\"evenodd\" fill-opacity=\"1\"/>\n",
       "<polyline clip-path=\"url(#clip142)\" style=\"stroke:#000000; stroke-linecap:butt; stroke-linejoin:round; stroke-width:4; stroke-opacity:1; fill:none\" points=\"\n",
       "  15105.2,1384.24 15105.2,1384.24 15159,1384.24 15105.2,1384.24 \n",
       "  \"/>\n",
       "<path clip-path=\"url(#clip142)\" d=\"\n",
       "M15159 1384.24 L15159 1384.24 L15212.8 1384.24 L15212.8 1384.24 L15159 1384.24 L15159 1384.24  Z\n",
       "  \" fill=\"#009af9\" fill-rule=\"evenodd\" fill-opacity=\"1\"/>\n",
       "<polyline clip-path=\"url(#clip142)\" style=\"stroke:#000000; stroke-linecap:butt; stroke-linejoin:round; stroke-width:4; stroke-opacity:1; fill:none\" points=\"\n",
       "  15159,1384.24 15159,1384.24 15212.8,1384.24 15159,1384.24 \n",
       "  \"/>\n",
       "<path clip-path=\"url(#clip142)\" d=\"\n",
       "M15212.8 1363.96 L15212.8 1384.24 L15266.6 1384.24 L15266.6 1363.96 L15212.8 1363.96 L15212.8 1363.96  Z\n",
       "  \" fill=\"#009af9\" fill-rule=\"evenodd\" fill-opacity=\"1\"/>\n",
       "<polyline clip-path=\"url(#clip142)\" style=\"stroke:#000000; stroke-linecap:butt; stroke-linejoin:round; stroke-width:4; stroke-opacity:1; fill:none\" points=\"\n",
       "  15212.8,1363.96 15212.8,1384.24 15266.6,1384.24 15266.6,1363.96 15212.8,1363.96 \n",
       "  \"/>\n",
       "<path clip-path=\"url(#clip142)\" d=\"\n",
       "M15266.6 1384.24 L15266.6 1384.24 L15320.4 1384.24 L15320.4 1384.24 L15266.6 1384.24 L15266.6 1384.24  Z\n",
       "  \" fill=\"#009af9\" fill-rule=\"evenodd\" fill-opacity=\"1\"/>\n",
       "<polyline clip-path=\"url(#clip142)\" style=\"stroke:#000000; stroke-linecap:butt; stroke-linejoin:round; stroke-width:4; stroke-opacity:1; fill:none\" points=\"\n",
       "  15266.6,1384.24 15266.6,1384.24 15320.4,1384.24 15266.6,1384.24 \n",
       "  \"/>\n",
       "<path clip-path=\"url(#clip142)\" d=\"\n",
       "M15320.4 1384.24 L15320.4 1384.24 L15374.2 1384.24 L15374.2 1384.24 L15320.4 1384.24 L15320.4 1384.24  Z\n",
       "  \" fill=\"#009af9\" fill-rule=\"evenodd\" fill-opacity=\"1\"/>\n",
       "<polyline clip-path=\"url(#clip142)\" style=\"stroke:#000000; stroke-linecap:butt; stroke-linejoin:round; stroke-width:4; stroke-opacity:1; fill:none\" points=\"\n",
       "  15320.4,1384.24 15320.4,1384.24 15374.2,1384.24 15320.4,1384.24 \n",
       "  \"/>\n",
       "<path clip-path=\"url(#clip142)\" d=\"\n",
       "M15374.2 1384.24 L15374.2 1384.24 L15428 1384.24 L15428 1384.24 L15374.2 1384.24 L15374.2 1384.24  Z\n",
       "  \" fill=\"#009af9\" fill-rule=\"evenodd\" fill-opacity=\"1\"/>\n",
       "<polyline clip-path=\"url(#clip142)\" style=\"stroke:#000000; stroke-linecap:butt; stroke-linejoin:round; stroke-width:4; stroke-opacity:1; fill:none\" points=\"\n",
       "  15374.2,1384.24 15374.2,1384.24 15428,1384.24 15374.2,1384.24 \n",
       "  \"/>\n",
       "<path clip-path=\"url(#clip142)\" d=\"\n",
       "M15428 1384.24 L15428 1384.24 L15481.8 1384.24 L15481.8 1384.24 L15428 1384.24 L15428 1384.24  Z\n",
       "  \" fill=\"#009af9\" fill-rule=\"evenodd\" fill-opacity=\"1\"/>\n",
       "<polyline clip-path=\"url(#clip142)\" style=\"stroke:#000000; stroke-linecap:butt; stroke-linejoin:round; stroke-width:4; stroke-opacity:1; fill:none\" points=\"\n",
       "  15428,1384.24 15428,1384.24 15481.8,1384.24 15428,1384.24 \n",
       "  \"/>\n",
       "<path clip-path=\"url(#clip142)\" d=\"\n",
       "M15481.8 1384.24 L15481.8 1384.24 L15535.6 1384.24 L15535.6 1384.24 L15481.8 1384.24 L15481.8 1384.24  Z\n",
       "  \" fill=\"#009af9\" fill-rule=\"evenodd\" fill-opacity=\"1\"/>\n",
       "<polyline clip-path=\"url(#clip142)\" style=\"stroke:#000000; stroke-linecap:butt; stroke-linejoin:round; stroke-width:4; stroke-opacity:1; fill:none\" points=\"\n",
       "  15481.8,1384.24 15481.8,1384.24 15535.6,1384.24 15481.8,1384.24 \n",
       "  \"/>\n",
       "<path clip-path=\"url(#clip142)\" d=\"\n",
       "M15535.6 1384.24 L15535.6 1384.24 L15589.4 1384.24 L15589.4 1384.24 L15535.6 1384.24 L15535.6 1384.24  Z\n",
       "  \" fill=\"#009af9\" fill-rule=\"evenodd\" fill-opacity=\"1\"/>\n",
       "<polyline clip-path=\"url(#clip142)\" style=\"stroke:#000000; stroke-linecap:butt; stroke-linejoin:round; stroke-width:4; stroke-opacity:1; fill:none\" points=\"\n",
       "  15535.6,1384.24 15535.6,1384.24 15589.4,1384.24 15535.6,1384.24 \n",
       "  \"/>\n",
       "<path clip-path=\"url(#clip142)\" d=\"\n",
       "M15589.4 1384.24 L15589.4 1384.24 L15643.2 1384.24 L15643.2 1384.24 L15589.4 1384.24 L15589.4 1384.24  Z\n",
       "  \" fill=\"#009af9\" fill-rule=\"evenodd\" fill-opacity=\"1\"/>\n",
       "<polyline clip-path=\"url(#clip142)\" style=\"stroke:#000000; stroke-linecap:butt; stroke-linejoin:round; stroke-width:4; stroke-opacity:1; fill:none\" points=\"\n",
       "  15589.4,1384.24 15589.4,1384.24 15643.2,1384.24 15589.4,1384.24 \n",
       "  \"/>\n",
       "<path clip-path=\"url(#clip142)\" d=\"\n",
       "M15643.2 1384.24 L15643.2 1384.24 L15696.9 1384.24 L15696.9 1384.24 L15643.2 1384.24 L15643.2 1384.24  Z\n",
       "  \" fill=\"#009af9\" fill-rule=\"evenodd\" fill-opacity=\"1\"/>\n",
       "<polyline clip-path=\"url(#clip142)\" style=\"stroke:#000000; stroke-linecap:butt; stroke-linejoin:round; stroke-width:4; stroke-opacity:1; fill:none\" points=\"\n",
       "  15643.2,1384.24 15643.2,1384.24 15696.9,1384.24 15643.2,1384.24 \n",
       "  \"/>\n",
       "<path clip-path=\"url(#clip142)\" d=\"\n",
       "M15696.9 1384.24 L15696.9 1384.24 L15750.7 1384.24 L15750.7 1384.24 L15696.9 1384.24 L15696.9 1384.24  Z\n",
       "  \" fill=\"#009af9\" fill-rule=\"evenodd\" fill-opacity=\"1\"/>\n",
       "<polyline clip-path=\"url(#clip142)\" style=\"stroke:#000000; stroke-linecap:butt; stroke-linejoin:round; stroke-width:4; stroke-opacity:1; fill:none\" points=\"\n",
       "  15696.9,1384.24 15696.9,1384.24 15750.7,1384.24 15696.9,1384.24 \n",
       "  \"/>\n",
       "<path clip-path=\"url(#clip142)\" d=\"\n",
       "M15750.7 1384.24 L15750.7 1384.24 L15804.5 1384.24 L15804.5 1384.24 L15750.7 1384.24 L15750.7 1384.24  Z\n",
       "  \" fill=\"#009af9\" fill-rule=\"evenodd\" fill-opacity=\"1\"/>\n",
       "<polyline clip-path=\"url(#clip142)\" style=\"stroke:#000000; stroke-linecap:butt; stroke-linejoin:round; stroke-width:4; stroke-opacity:1; fill:none\" points=\"\n",
       "  15750.7,1384.24 15750.7,1384.24 15804.5,1384.24 15750.7,1384.24 \n",
       "  \"/>\n",
       "<path clip-path=\"url(#clip142)\" d=\"\n",
       "M15804.5 1384.24 L15804.5 1384.24 L15858.3 1384.24 L15858.3 1384.24 L15804.5 1384.24 L15804.5 1384.24  Z\n",
       "  \" fill=\"#009af9\" fill-rule=\"evenodd\" fill-opacity=\"1\"/>\n",
       "<polyline clip-path=\"url(#clip142)\" style=\"stroke:#000000; stroke-linecap:butt; stroke-linejoin:round; stroke-width:4; stroke-opacity:1; fill:none\" points=\"\n",
       "  15804.5,1384.24 15804.5,1384.24 15858.3,1384.24 15804.5,1384.24 \n",
       "  \"/>\n",
       "<path clip-path=\"url(#clip142)\" d=\"\n",
       "M15858.3 1384.24 L15858.3 1384.24 L15912.1 1384.24 L15912.1 1384.24 L15858.3 1384.24 L15858.3 1384.24  Z\n",
       "  \" fill=\"#009af9\" fill-rule=\"evenodd\" fill-opacity=\"1\"/>\n",
       "<polyline clip-path=\"url(#clip142)\" style=\"stroke:#000000; stroke-linecap:butt; stroke-linejoin:round; stroke-width:4; stroke-opacity:1; fill:none\" points=\"\n",
       "  15858.3,1384.24 15858.3,1384.24 15912.1,1384.24 15858.3,1384.24 \n",
       "  \"/>\n",
       "<path clip-path=\"url(#clip142)\" d=\"\n",
       "M15912.1 1384.24 L15912.1 1384.24 L15965.9 1384.24 L15965.9 1384.24 L15912.1 1384.24 L15912.1 1384.24  Z\n",
       "  \" fill=\"#009af9\" fill-rule=\"evenodd\" fill-opacity=\"1\"/>\n",
       "<polyline clip-path=\"url(#clip142)\" style=\"stroke:#000000; stroke-linecap:butt; stroke-linejoin:round; stroke-width:4; stroke-opacity:1; fill:none\" points=\"\n",
       "  15912.1,1384.24 15912.1,1384.24 15965.9,1384.24 15912.1,1384.24 \n",
       "  \"/>\n",
       "<path clip-path=\"url(#clip142)\" d=\"\n",
       "M15965.9 1384.24 L15965.9 1384.24 L16019.7 1384.24 L16019.7 1384.24 L15965.9 1384.24 L15965.9 1384.24  Z\n",
       "  \" fill=\"#009af9\" fill-rule=\"evenodd\" fill-opacity=\"1\"/>\n",
       "<polyline clip-path=\"url(#clip142)\" style=\"stroke:#000000; stroke-linecap:butt; stroke-linejoin:round; stroke-width:4; stroke-opacity:1; fill:none\" points=\"\n",
       "  15965.9,1384.24 15965.9,1384.24 16019.7,1384.24 15965.9,1384.24 \n",
       "  \"/>\n",
       "<path clip-path=\"url(#clip142)\" d=\"\n",
       "M16019.7 1384.24 L16019.7 1384.24 L16073.5 1384.24 L16073.5 1384.24 L16019.7 1384.24 L16019.7 1384.24  Z\n",
       "  \" fill=\"#009af9\" fill-rule=\"evenodd\" fill-opacity=\"1\"/>\n",
       "<polyline clip-path=\"url(#clip142)\" style=\"stroke:#000000; stroke-linecap:butt; stroke-linejoin:round; stroke-width:4; stroke-opacity:1; fill:none\" points=\"\n",
       "  16019.7,1384.24 16019.7,1384.24 16073.5,1384.24 16019.7,1384.24 \n",
       "  \"/>\n",
       "<path clip-path=\"url(#clip142)\" d=\"\n",
       "M16073.5 1384.24 L16073.5 1384.24 L16127.3 1384.24 L16127.3 1384.24 L16073.5 1384.24 L16073.5 1384.24  Z\n",
       "  \" fill=\"#009af9\" fill-rule=\"evenodd\" fill-opacity=\"1\"/>\n",
       "<polyline clip-path=\"url(#clip142)\" style=\"stroke:#000000; stroke-linecap:butt; stroke-linejoin:round; stroke-width:4; stroke-opacity:1; fill:none\" points=\"\n",
       "  16073.5,1384.24 16073.5,1384.24 16127.3,1384.24 16073.5,1384.24 \n",
       "  \"/>\n",
       "<path clip-path=\"url(#clip142)\" d=\"\n",
       "M16127.3 1384.24 L16127.3 1384.24 L16181.1 1384.24 L16181.1 1384.24 L16127.3 1384.24 L16127.3 1384.24  Z\n",
       "  \" fill=\"#009af9\" fill-rule=\"evenodd\" fill-opacity=\"1\"/>\n",
       "<polyline clip-path=\"url(#clip142)\" style=\"stroke:#000000; stroke-linecap:butt; stroke-linejoin:round; stroke-width:4; stroke-opacity:1; fill:none\" points=\"\n",
       "  16127.3,1384.24 16127.3,1384.24 16181.1,1384.24 16127.3,1384.24 \n",
       "  \"/>\n",
       "<path clip-path=\"url(#clip142)\" d=\"\n",
       "M16181.1 1384.24 L16181.1 1384.24 L16234.9 1384.24 L16234.9 1384.24 L16181.1 1384.24 L16181.1 1384.24  Z\n",
       "  \" fill=\"#009af9\" fill-rule=\"evenodd\" fill-opacity=\"1\"/>\n",
       "<polyline clip-path=\"url(#clip142)\" style=\"stroke:#000000; stroke-linecap:butt; stroke-linejoin:round; stroke-width:4; stroke-opacity:1; fill:none\" points=\"\n",
       "  16181.1,1384.24 16181.1,1384.24 16234.9,1384.24 16181.1,1384.24 \n",
       "  \"/>\n",
       "<path clip-path=\"url(#clip142)\" d=\"\n",
       "M16234.9 1384.24 L16234.9 1384.24 L16288.7 1384.24 L16288.7 1384.24 L16234.9 1384.24 L16234.9 1384.24  Z\n",
       "  \" fill=\"#009af9\" fill-rule=\"evenodd\" fill-opacity=\"1\"/>\n",
       "<polyline clip-path=\"url(#clip142)\" style=\"stroke:#000000; stroke-linecap:butt; stroke-linejoin:round; stroke-width:4; stroke-opacity:1; fill:none\" points=\"\n",
       "  16234.9,1384.24 16234.9,1384.24 16288.7,1384.24 16234.9,1384.24 \n",
       "  \"/>\n",
       "<path clip-path=\"url(#clip142)\" d=\"\n",
       "M16288.7 1384.24 L16288.7 1384.24 L16342.5 1384.24 L16342.5 1384.24 L16288.7 1384.24 L16288.7 1384.24  Z\n",
       "  \" fill=\"#009af9\" fill-rule=\"evenodd\" fill-opacity=\"1\"/>\n",
       "<polyline clip-path=\"url(#clip142)\" style=\"stroke:#000000; stroke-linecap:butt; stroke-linejoin:round; stroke-width:4; stroke-opacity:1; fill:none\" points=\"\n",
       "  16288.7,1384.24 16288.7,1384.24 16342.5,1384.24 16288.7,1384.24 \n",
       "  \"/>\n",
       "<path clip-path=\"url(#clip142)\" d=\"\n",
       "M16342.5 1384.24 L16342.5 1384.24 L16396.2 1384.24 L16396.2 1384.24 L16342.5 1384.24 L16342.5 1384.24  Z\n",
       "  \" fill=\"#009af9\" fill-rule=\"evenodd\" fill-opacity=\"1\"/>\n",
       "<polyline clip-path=\"url(#clip142)\" style=\"stroke:#000000; stroke-linecap:butt; stroke-linejoin:round; stroke-width:4; stroke-opacity:1; fill:none\" points=\"\n",
       "  16342.5,1384.24 16342.5,1384.24 16396.2,1384.24 16342.5,1384.24 \n",
       "  \"/>\n",
       "<path clip-path=\"url(#clip142)\" d=\"\n",
       "M16396.2 1384.24 L16396.2 1384.24 L16450 1384.24 L16450 1384.24 L16396.2 1384.24 L16396.2 1384.24  Z\n",
       "  \" fill=\"#009af9\" fill-rule=\"evenodd\" fill-opacity=\"1\"/>\n",
       "<polyline clip-path=\"url(#clip142)\" style=\"stroke:#000000; stroke-linecap:butt; stroke-linejoin:round; stroke-width:4; stroke-opacity:1; fill:none\" points=\"\n",
       "  16396.2,1384.24 16396.2,1384.24 16450,1384.24 16396.2,1384.24 \n",
       "  \"/>\n",
       "<path clip-path=\"url(#clip142)\" d=\"\n",
       "M16450 1384.24 L16450 1384.24 L16503.8 1384.24 L16503.8 1384.24 L16450 1384.24 L16450 1384.24  Z\n",
       "  \" fill=\"#009af9\" fill-rule=\"evenodd\" fill-opacity=\"1\"/>\n",
       "<polyline clip-path=\"url(#clip142)\" style=\"stroke:#000000; stroke-linecap:butt; stroke-linejoin:round; stroke-width:4; stroke-opacity:1; fill:none\" points=\"\n",
       "  16450,1384.24 16450,1384.24 16503.8,1384.24 16450,1384.24 \n",
       "  \"/>\n",
       "<path clip-path=\"url(#clip142)\" d=\"\n",
       "M16503.8 1384.24 L16503.8 1384.24 L16557.6 1384.24 L16557.6 1384.24 L16503.8 1384.24 L16503.8 1384.24  Z\n",
       "  \" fill=\"#009af9\" fill-rule=\"evenodd\" fill-opacity=\"1\"/>\n",
       "<polyline clip-path=\"url(#clip142)\" style=\"stroke:#000000; stroke-linecap:butt; stroke-linejoin:round; stroke-width:4; stroke-opacity:1; fill:none\" points=\"\n",
       "  16503.8,1384.24 16503.8,1384.24 16557.6,1384.24 16503.8,1384.24 \n",
       "  \"/>\n",
       "<path clip-path=\"url(#clip142)\" d=\"\n",
       "M16557.6 1384.24 L16557.6 1384.24 L16611.4 1384.24 L16611.4 1384.24 L16557.6 1384.24 L16557.6 1384.24  Z\n",
       "  \" fill=\"#009af9\" fill-rule=\"evenodd\" fill-opacity=\"1\"/>\n",
       "<polyline clip-path=\"url(#clip142)\" style=\"stroke:#000000; stroke-linecap:butt; stroke-linejoin:round; stroke-width:4; stroke-opacity:1; fill:none\" points=\"\n",
       "  16557.6,1384.24 16557.6,1384.24 16611.4,1384.24 16557.6,1384.24 \n",
       "  \"/>\n",
       "<path clip-path=\"url(#clip142)\" d=\"\n",
       "M16611.4 1384.24 L16611.4 1384.24 L16665.2 1384.24 L16665.2 1384.24 L16611.4 1384.24 L16611.4 1384.24  Z\n",
       "  \" fill=\"#009af9\" fill-rule=\"evenodd\" fill-opacity=\"1\"/>\n",
       "<polyline clip-path=\"url(#clip142)\" style=\"stroke:#000000; stroke-linecap:butt; stroke-linejoin:round; stroke-width:4; stroke-opacity:1; fill:none\" points=\"\n",
       "  16611.4,1384.24 16611.4,1384.24 16665.2,1384.24 16611.4,1384.24 \n",
       "  \"/>\n",
       "<path clip-path=\"url(#clip142)\" d=\"\n",
       "M16665.2 1384.24 L16665.2 1384.24 L16719 1384.24 L16719 1384.24 L16665.2 1384.24 L16665.2 1384.24  Z\n",
       "  \" fill=\"#009af9\" fill-rule=\"evenodd\" fill-opacity=\"1\"/>\n",
       "<polyline clip-path=\"url(#clip142)\" style=\"stroke:#000000; stroke-linecap:butt; stroke-linejoin:round; stroke-width:4; stroke-opacity:1; fill:none\" points=\"\n",
       "  16665.2,1384.24 16665.2,1384.24 16719,1384.24 16665.2,1384.24 \n",
       "  \"/>\n",
       "<path clip-path=\"url(#clip142)\" d=\"\n",
       "M16719 1384.24 L16719 1384.24 L16772.8 1384.24 L16772.8 1384.24 L16719 1384.24 L16719 1384.24  Z\n",
       "  \" fill=\"#009af9\" fill-rule=\"evenodd\" fill-opacity=\"1\"/>\n",
       "<polyline clip-path=\"url(#clip142)\" style=\"stroke:#000000; stroke-linecap:butt; stroke-linejoin:round; stroke-width:4; stroke-opacity:1; fill:none\" points=\"\n",
       "  16719,1384.24 16719,1384.24 16772.8,1384.24 16719,1384.24 \n",
       "  \"/>\n",
       "<path clip-path=\"url(#clip142)\" d=\"\n",
       "M16772.8 1384.24 L16772.8 1384.24 L16826.6 1384.24 L16826.6 1384.24 L16772.8 1384.24 L16772.8 1384.24  Z\n",
       "  \" fill=\"#009af9\" fill-rule=\"evenodd\" fill-opacity=\"1\"/>\n",
       "<polyline clip-path=\"url(#clip142)\" style=\"stroke:#000000; stroke-linecap:butt; stroke-linejoin:round; stroke-width:4; stroke-opacity:1; fill:none\" points=\"\n",
       "  16772.8,1384.24 16772.8,1384.24 16826.6,1384.24 16772.8,1384.24 \n",
       "  \"/>\n",
       "<path clip-path=\"url(#clip142)\" d=\"\n",
       "M16826.6 1384.24 L16826.6 1384.24 L16880.4 1384.24 L16880.4 1384.24 L16826.6 1384.24 L16826.6 1384.24  Z\n",
       "  \" fill=\"#009af9\" fill-rule=\"evenodd\" fill-opacity=\"1\"/>\n",
       "<polyline clip-path=\"url(#clip142)\" style=\"stroke:#000000; stroke-linecap:butt; stroke-linejoin:round; stroke-width:4; stroke-opacity:1; fill:none\" points=\"\n",
       "  16826.6,1384.24 16826.6,1384.24 16880.4,1384.24 16826.6,1384.24 \n",
       "  \"/>\n",
       "<path clip-path=\"url(#clip142)\" d=\"\n",
       "M16880.4 1384.24 L16880.4 1384.24 L16934.2 1384.24 L16934.2 1384.24 L16880.4 1384.24 L16880.4 1384.24  Z\n",
       "  \" fill=\"#009af9\" fill-rule=\"evenodd\" fill-opacity=\"1\"/>\n",
       "<polyline clip-path=\"url(#clip142)\" style=\"stroke:#000000; stroke-linecap:butt; stroke-linejoin:round; stroke-width:4; stroke-opacity:1; fill:none\" points=\"\n",
       "  16880.4,1384.24 16880.4,1384.24 16934.2,1384.24 16880.4,1384.24 \n",
       "  \"/>\n",
       "<path clip-path=\"url(#clip142)\" d=\"\n",
       "M16934.2 1384.24 L16934.2 1384.24 L16988 1384.24 L16988 1384.24 L16934.2 1384.24 L16934.2 1384.24  Z\n",
       "  \" fill=\"#009af9\" fill-rule=\"evenodd\" fill-opacity=\"1\"/>\n",
       "<polyline clip-path=\"url(#clip142)\" style=\"stroke:#000000; stroke-linecap:butt; stroke-linejoin:round; stroke-width:4; stroke-opacity:1; fill:none\" points=\"\n",
       "  16934.2,1384.24 16934.2,1384.24 16988,1384.24 16934.2,1384.24 \n",
       "  \"/>\n",
       "<path clip-path=\"url(#clip142)\" d=\"\n",
       "M16988 1384.24 L16988 1384.24 L17041.7 1384.24 L17041.7 1384.24 L16988 1384.24 L16988 1384.24  Z\n",
       "  \" fill=\"#009af9\" fill-rule=\"evenodd\" fill-opacity=\"1\"/>\n",
       "<polyline clip-path=\"url(#clip142)\" style=\"stroke:#000000; stroke-linecap:butt; stroke-linejoin:round; stroke-width:4; stroke-opacity:1; fill:none\" points=\"\n",
       "  16988,1384.24 16988,1384.24 17041.7,1384.24 16988,1384.24 \n",
       "  \"/>\n",
       "<path clip-path=\"url(#clip142)\" d=\"\n",
       "M17041.7 1384.24 L17041.7 1384.24 L17095.5 1384.24 L17095.5 1384.24 L17041.7 1384.24 L17041.7 1384.24  Z\n",
       "  \" fill=\"#009af9\" fill-rule=\"evenodd\" fill-opacity=\"1\"/>\n",
       "<polyline clip-path=\"url(#clip142)\" style=\"stroke:#000000; stroke-linecap:butt; stroke-linejoin:round; stroke-width:4; stroke-opacity:1; fill:none\" points=\"\n",
       "  17041.7,1384.24 17041.7,1384.24 17095.5,1384.24 17041.7,1384.24 \n",
       "  \"/>\n",
       "<path clip-path=\"url(#clip142)\" d=\"\n",
       "M17095.5 1384.24 L17095.5 1384.24 L17149.3 1384.24 L17149.3 1384.24 L17095.5 1384.24 L17095.5 1384.24  Z\n",
       "  \" fill=\"#009af9\" fill-rule=\"evenodd\" fill-opacity=\"1\"/>\n",
       "<polyline clip-path=\"url(#clip142)\" style=\"stroke:#000000; stroke-linecap:butt; stroke-linejoin:round; stroke-width:4; stroke-opacity:1; fill:none\" points=\"\n",
       "  17095.5,1384.24 17095.5,1384.24 17149.3,1384.24 17095.5,1384.24 \n",
       "  \"/>\n",
       "<path clip-path=\"url(#clip142)\" d=\"\n",
       "M17149.3 1384.24 L17149.3 1384.24 L17203.1 1384.24 L17203.1 1384.24 L17149.3 1384.24 L17149.3 1384.24  Z\n",
       "  \" fill=\"#009af9\" fill-rule=\"evenodd\" fill-opacity=\"1\"/>\n",
       "<polyline clip-path=\"url(#clip142)\" style=\"stroke:#000000; stroke-linecap:butt; stroke-linejoin:round; stroke-width:4; stroke-opacity:1; fill:none\" points=\"\n",
       "  17149.3,1384.24 17149.3,1384.24 17203.1,1384.24 17149.3,1384.24 \n",
       "  \"/>\n",
       "<path clip-path=\"url(#clip142)\" d=\"\n",
       "M17203.1 1384.24 L17203.1 1384.24 L17256.9 1384.24 L17256.9 1384.24 L17203.1 1384.24 L17203.1 1384.24  Z\n",
       "  \" fill=\"#009af9\" fill-rule=\"evenodd\" fill-opacity=\"1\"/>\n",
       "<polyline clip-path=\"url(#clip142)\" style=\"stroke:#000000; stroke-linecap:butt; stroke-linejoin:round; stroke-width:4; stroke-opacity:1; fill:none\" points=\"\n",
       "  17203.1,1384.24 17203.1,1384.24 17256.9,1384.24 17203.1,1384.24 \n",
       "  \"/>\n",
       "<path clip-path=\"url(#clip142)\" d=\"\n",
       "M17256.9 1384.24 L17256.9 1384.24 L17310.7 1384.24 L17310.7 1384.24 L17256.9 1384.24 L17256.9 1384.24  Z\n",
       "  \" fill=\"#009af9\" fill-rule=\"evenodd\" fill-opacity=\"1\"/>\n",
       "<polyline clip-path=\"url(#clip142)\" style=\"stroke:#000000; stroke-linecap:butt; stroke-linejoin:round; stroke-width:4; stroke-opacity:1; fill:none\" points=\"\n",
       "  17256.9,1384.24 17256.9,1384.24 17310.7,1384.24 17256.9,1384.24 \n",
       "  \"/>\n",
       "<path clip-path=\"url(#clip142)\" d=\"\n",
       "M17310.7 1384.24 L17310.7 1384.24 L17364.5 1384.24 L17364.5 1384.24 L17310.7 1384.24 L17310.7 1384.24  Z\n",
       "  \" fill=\"#009af9\" fill-rule=\"evenodd\" fill-opacity=\"1\"/>\n",
       "<polyline clip-path=\"url(#clip142)\" style=\"stroke:#000000; stroke-linecap:butt; stroke-linejoin:round; stroke-width:4; stroke-opacity:1; fill:none\" points=\"\n",
       "  17310.7,1384.24 17310.7,1384.24 17364.5,1384.24 17310.7,1384.24 \n",
       "  \"/>\n",
       "<path clip-path=\"url(#clip142)\" d=\"\n",
       "M17364.5 1384.24 L17364.5 1384.24 L17418.3 1384.24 L17418.3 1384.24 L17364.5 1384.24 L17364.5 1384.24  Z\n",
       "  \" fill=\"#009af9\" fill-rule=\"evenodd\" fill-opacity=\"1\"/>\n",
       "<polyline clip-path=\"url(#clip142)\" style=\"stroke:#000000; stroke-linecap:butt; stroke-linejoin:round; stroke-width:4; stroke-opacity:1; fill:none\" points=\"\n",
       "  17364.5,1384.24 17364.5,1384.24 17418.3,1384.24 17364.5,1384.24 \n",
       "  \"/>\n",
       "<path clip-path=\"url(#clip142)\" d=\"\n",
       "M17418.3 1384.24 L17418.3 1384.24 L17472.1 1384.24 L17472.1 1384.24 L17418.3 1384.24 L17418.3 1384.24  Z\n",
       "  \" fill=\"#009af9\" fill-rule=\"evenodd\" fill-opacity=\"1\"/>\n",
       "<polyline clip-path=\"url(#clip142)\" style=\"stroke:#000000; stroke-linecap:butt; stroke-linejoin:round; stroke-width:4; stroke-opacity:1; fill:none\" points=\"\n",
       "  17418.3,1384.24 17418.3,1384.24 17472.1,1384.24 17418.3,1384.24 \n",
       "  \"/>\n",
       "<path clip-path=\"url(#clip142)\" d=\"\n",
       "M17472.1 1384.24 L17472.1 1384.24 L17525.9 1384.24 L17525.9 1384.24 L17472.1 1384.24 L17472.1 1384.24  Z\n",
       "  \" fill=\"#009af9\" fill-rule=\"evenodd\" fill-opacity=\"1\"/>\n",
       "<polyline clip-path=\"url(#clip142)\" style=\"stroke:#000000; stroke-linecap:butt; stroke-linejoin:round; stroke-width:4; stroke-opacity:1; fill:none\" points=\"\n",
       "  17472.1,1384.24 17472.1,1384.24 17525.9,1384.24 17472.1,1384.24 \n",
       "  \"/>\n",
       "<path clip-path=\"url(#clip142)\" d=\"\n",
       "M17525.9 1384.24 L17525.9 1384.24 L17579.7 1384.24 L17579.7 1384.24 L17525.9 1384.24 L17525.9 1384.24  Z\n",
       "  \" fill=\"#009af9\" fill-rule=\"evenodd\" fill-opacity=\"1\"/>\n",
       "<polyline clip-path=\"url(#clip142)\" style=\"stroke:#000000; stroke-linecap:butt; stroke-linejoin:round; stroke-width:4; stroke-opacity:1; fill:none\" points=\"\n",
       "  17525.9,1384.24 17525.9,1384.24 17579.7,1384.24 17525.9,1384.24 \n",
       "  \"/>\n",
       "<path clip-path=\"url(#clip142)\" d=\"\n",
       "M17579.7 1384.24 L17579.7 1384.24 L17633.5 1384.24 L17633.5 1384.24 L17579.7 1384.24 L17579.7 1384.24  Z\n",
       "  \" fill=\"#009af9\" fill-rule=\"evenodd\" fill-opacity=\"1\"/>\n",
       "<polyline clip-path=\"url(#clip142)\" style=\"stroke:#000000; stroke-linecap:butt; stroke-linejoin:round; stroke-width:4; stroke-opacity:1; fill:none\" points=\"\n",
       "  17579.7,1384.24 17579.7,1384.24 17633.5,1384.24 17579.7,1384.24 \n",
       "  \"/>\n",
       "<path clip-path=\"url(#clip142)\" d=\"\n",
       "M17633.5 1384.24 L17633.5 1384.24 L17687.2 1384.24 L17687.2 1384.24 L17633.5 1384.24 L17633.5 1384.24  Z\n",
       "  \" fill=\"#009af9\" fill-rule=\"evenodd\" fill-opacity=\"1\"/>\n",
       "<polyline clip-path=\"url(#clip142)\" style=\"stroke:#000000; stroke-linecap:butt; stroke-linejoin:round; stroke-width:4; stroke-opacity:1; fill:none\" points=\"\n",
       "  17633.5,1384.24 17633.5,1384.24 17687.2,1384.24 17633.5,1384.24 \n",
       "  \"/>\n",
       "<path clip-path=\"url(#clip142)\" d=\"\n",
       "M17687.2 1384.24 L17687.2 1384.24 L17741 1384.24 L17741 1384.24 L17687.2 1384.24 L17687.2 1384.24  Z\n",
       "  \" fill=\"#009af9\" fill-rule=\"evenodd\" fill-opacity=\"1\"/>\n",
       "<polyline clip-path=\"url(#clip142)\" style=\"stroke:#000000; stroke-linecap:butt; stroke-linejoin:round; stroke-width:4; stroke-opacity:1; fill:none\" points=\"\n",
       "  17687.2,1384.24 17687.2,1384.24 17741,1384.24 17687.2,1384.24 \n",
       "  \"/>\n",
       "<path clip-path=\"url(#clip142)\" d=\"\n",
       "M17741 1384.24 L17741 1384.24 L17794.8 1384.24 L17794.8 1384.24 L17741 1384.24 L17741 1384.24  Z\n",
       "  \" fill=\"#009af9\" fill-rule=\"evenodd\" fill-opacity=\"1\"/>\n",
       "<polyline clip-path=\"url(#clip142)\" style=\"stroke:#000000; stroke-linecap:butt; stroke-linejoin:round; stroke-width:4; stroke-opacity:1; fill:none\" points=\"\n",
       "  17741,1384.24 17741,1384.24 17794.8,1384.24 17741,1384.24 \n",
       "  \"/>\n",
       "<path clip-path=\"url(#clip142)\" d=\"\n",
       "M17794.8 1384.24 L17794.8 1384.24 L17848.6 1384.24 L17848.6 1384.24 L17794.8 1384.24 L17794.8 1384.24  Z\n",
       "  \" fill=\"#009af9\" fill-rule=\"evenodd\" fill-opacity=\"1\"/>\n",
       "<polyline clip-path=\"url(#clip142)\" style=\"stroke:#000000; stroke-linecap:butt; stroke-linejoin:round; stroke-width:4; stroke-opacity:1; fill:none\" points=\"\n",
       "  17794.8,1384.24 17794.8,1384.24 17848.6,1384.24 17794.8,1384.24 \n",
       "  \"/>\n",
       "<path clip-path=\"url(#clip142)\" d=\"\n",
       "M17848.6 1384.24 L17848.6 1384.24 L17902.4 1384.24 L17902.4 1384.24 L17848.6 1384.24 L17848.6 1384.24  Z\n",
       "  \" fill=\"#009af9\" fill-rule=\"evenodd\" fill-opacity=\"1\"/>\n",
       "<polyline clip-path=\"url(#clip142)\" style=\"stroke:#000000; stroke-linecap:butt; stroke-linejoin:round; stroke-width:4; stroke-opacity:1; fill:none\" points=\"\n",
       "  17848.6,1384.24 17848.6,1384.24 17902.4,1384.24 17848.6,1384.24 \n",
       "  \"/>\n",
       "<path clip-path=\"url(#clip142)\" d=\"\n",
       "M17902.4 1384.24 L17902.4 1384.24 L17956.2 1384.24 L17956.2 1384.24 L17902.4 1384.24 L17902.4 1384.24  Z\n",
       "  \" fill=\"#009af9\" fill-rule=\"evenodd\" fill-opacity=\"1\"/>\n",
       "<polyline clip-path=\"url(#clip142)\" style=\"stroke:#000000; stroke-linecap:butt; stroke-linejoin:round; stroke-width:4; stroke-opacity:1; fill:none\" points=\"\n",
       "  17902.4,1384.24 17902.4,1384.24 17956.2,1384.24 17902.4,1384.24 \n",
       "  \"/>\n",
       "<path clip-path=\"url(#clip142)\" d=\"\n",
       "M17956.2 1384.24 L17956.2 1384.24 L18010 1384.24 L18010 1384.24 L17956.2 1384.24 L17956.2 1384.24  Z\n",
       "  \" fill=\"#009af9\" fill-rule=\"evenodd\" fill-opacity=\"1\"/>\n",
       "<polyline clip-path=\"url(#clip142)\" style=\"stroke:#000000; stroke-linecap:butt; stroke-linejoin:round; stroke-width:4; stroke-opacity:1; fill:none\" points=\"\n",
       "  17956.2,1384.24 17956.2,1384.24 18010,1384.24 17956.2,1384.24 \n",
       "  \"/>\n",
       "<path clip-path=\"url(#clip142)\" d=\"\n",
       "M18010 1384.24 L18010 1384.24 L18063.8 1384.24 L18063.8 1384.24 L18010 1384.24 L18010 1384.24  Z\n",
       "  \" fill=\"#009af9\" fill-rule=\"evenodd\" fill-opacity=\"1\"/>\n",
       "<polyline clip-path=\"url(#clip142)\" style=\"stroke:#000000; stroke-linecap:butt; stroke-linejoin:round; stroke-width:4; stroke-opacity:1; fill:none\" points=\"\n",
       "  18010,1384.24 18010,1384.24 18063.8,1384.24 18010,1384.24 \n",
       "  \"/>\n",
       "<path clip-path=\"url(#clip142)\" d=\"\n",
       "M18063.8 1384.24 L18063.8 1384.24 L18117.6 1384.24 L18117.6 1384.24 L18063.8 1384.24 L18063.8 1384.24  Z\n",
       "  \" fill=\"#009af9\" fill-rule=\"evenodd\" fill-opacity=\"1\"/>\n",
       "<polyline clip-path=\"url(#clip142)\" style=\"stroke:#000000; stroke-linecap:butt; stroke-linejoin:round; stroke-width:4; stroke-opacity:1; fill:none\" points=\"\n",
       "  18063.8,1384.24 18063.8,1384.24 18117.6,1384.24 18063.8,1384.24 \n",
       "  \"/>\n",
       "<path clip-path=\"url(#clip142)\" d=\"\n",
       "M18117.6 1384.24 L18117.6 1384.24 L18171.4 1384.24 L18171.4 1384.24 L18117.6 1384.24 L18117.6 1384.24  Z\n",
       "  \" fill=\"#009af9\" fill-rule=\"evenodd\" fill-opacity=\"1\"/>\n",
       "<polyline clip-path=\"url(#clip142)\" style=\"stroke:#000000; stroke-linecap:butt; stroke-linejoin:round; stroke-width:4; stroke-opacity:1; fill:none\" points=\"\n",
       "  18117.6,1384.24 18117.6,1384.24 18171.4,1384.24 18117.6,1384.24 \n",
       "  \"/>\n",
       "<path clip-path=\"url(#clip142)\" d=\"\n",
       "M18171.4 1384.24 L18171.4 1384.24 L18225.2 1384.24 L18225.2 1384.24 L18171.4 1384.24 L18171.4 1384.24  Z\n",
       "  \" fill=\"#009af9\" fill-rule=\"evenodd\" fill-opacity=\"1\"/>\n",
       "<polyline clip-path=\"url(#clip142)\" style=\"stroke:#000000; stroke-linecap:butt; stroke-linejoin:round; stroke-width:4; stroke-opacity:1; fill:none\" points=\"\n",
       "  18171.4,1384.24 18171.4,1384.24 18225.2,1384.24 18171.4,1384.24 \n",
       "  \"/>\n",
       "<path clip-path=\"url(#clip142)\" d=\"\n",
       "M18225.2 1384.24 L18225.2 1384.24 L18279 1384.24 L18279 1384.24 L18225.2 1384.24 L18225.2 1384.24  Z\n",
       "  \" fill=\"#009af9\" fill-rule=\"evenodd\" fill-opacity=\"1\"/>\n",
       "<polyline clip-path=\"url(#clip142)\" style=\"stroke:#000000; stroke-linecap:butt; stroke-linejoin:round; stroke-width:4; stroke-opacity:1; fill:none\" points=\"\n",
       "  18225.2,1384.24 18225.2,1384.24 18279,1384.24 18225.2,1384.24 \n",
       "  \"/>\n",
       "<path clip-path=\"url(#clip142)\" d=\"\n",
       "M18279 1384.24 L18279 1384.24 L18332.7 1384.24 L18332.7 1384.24 L18279 1384.24 L18279 1384.24  Z\n",
       "  \" fill=\"#009af9\" fill-rule=\"evenodd\" fill-opacity=\"1\"/>\n",
       "<polyline clip-path=\"url(#clip142)\" style=\"stroke:#000000; stroke-linecap:butt; stroke-linejoin:round; stroke-width:4; stroke-opacity:1; fill:none\" points=\"\n",
       "  18279,1384.24 18279,1384.24 18332.7,1384.24 18279,1384.24 \n",
       "  \"/>\n",
       "<path clip-path=\"url(#clip142)\" d=\"\n",
       "M18332.7 1384.24 L18332.7 1384.24 L18386.5 1384.24 L18386.5 1384.24 L18332.7 1384.24 L18332.7 1384.24  Z\n",
       "  \" fill=\"#009af9\" fill-rule=\"evenodd\" fill-opacity=\"1\"/>\n",
       "<polyline clip-path=\"url(#clip142)\" style=\"stroke:#000000; stroke-linecap:butt; stroke-linejoin:round; stroke-width:4; stroke-opacity:1; fill:none\" points=\"\n",
       "  18332.7,1384.24 18332.7,1384.24 18386.5,1384.24 18332.7,1384.24 \n",
       "  \"/>\n",
       "<path clip-path=\"url(#clip142)\" d=\"\n",
       "M18386.5 1384.24 L18386.5 1384.24 L18440.3 1384.24 L18440.3 1384.24 L18386.5 1384.24 L18386.5 1384.24  Z\n",
       "  \" fill=\"#009af9\" fill-rule=\"evenodd\" fill-opacity=\"1\"/>\n",
       "<polyline clip-path=\"url(#clip142)\" style=\"stroke:#000000; stroke-linecap:butt; stroke-linejoin:round; stroke-width:4; stroke-opacity:1; fill:none\" points=\"\n",
       "  18386.5,1384.24 18386.5,1384.24 18440.3,1384.24 18386.5,1384.24 \n",
       "  \"/>\n",
       "<path clip-path=\"url(#clip142)\" d=\"\n",
       "M18440.3 1384.24 L18440.3 1384.24 L18494.1 1384.24 L18494.1 1384.24 L18440.3 1384.24 L18440.3 1384.24  Z\n",
       "  \" fill=\"#009af9\" fill-rule=\"evenodd\" fill-opacity=\"1\"/>\n",
       "<polyline clip-path=\"url(#clip142)\" style=\"stroke:#000000; stroke-linecap:butt; stroke-linejoin:round; stroke-width:4; stroke-opacity:1; fill:none\" points=\"\n",
       "  18440.3,1384.24 18440.3,1384.24 18494.1,1384.24 18440.3,1384.24 \n",
       "  \"/>\n",
       "<path clip-path=\"url(#clip142)\" d=\"\n",
       "M18494.1 1384.24 L18494.1 1384.24 L18547.9 1384.24 L18547.9 1384.24 L18494.1 1384.24 L18494.1 1384.24  Z\n",
       "  \" fill=\"#009af9\" fill-rule=\"evenodd\" fill-opacity=\"1\"/>\n",
       "<polyline clip-path=\"url(#clip142)\" style=\"stroke:#000000; stroke-linecap:butt; stroke-linejoin:round; stroke-width:4; stroke-opacity:1; fill:none\" points=\"\n",
       "  18494.1,1384.24 18494.1,1384.24 18547.9,1384.24 18494.1,1384.24 \n",
       "  \"/>\n",
       "<path clip-path=\"url(#clip142)\" d=\"\n",
       "M18547.9 1384.24 L18547.9 1384.24 L18601.7 1384.24 L18601.7 1384.24 L18547.9 1384.24 L18547.9 1384.24  Z\n",
       "  \" fill=\"#009af9\" fill-rule=\"evenodd\" fill-opacity=\"1\"/>\n",
       "<polyline clip-path=\"url(#clip142)\" style=\"stroke:#000000; stroke-linecap:butt; stroke-linejoin:round; stroke-width:4; stroke-opacity:1; fill:none\" points=\"\n",
       "  18547.9,1384.24 18547.9,1384.24 18601.7,1384.24 18547.9,1384.24 \n",
       "  \"/>\n",
       "<path clip-path=\"url(#clip142)\" d=\"\n",
       "M18601.7 1384.24 L18601.7 1384.24 L18655.5 1384.24 L18655.5 1384.24 L18601.7 1384.24 L18601.7 1384.24  Z\n",
       "  \" fill=\"#009af9\" fill-rule=\"evenodd\" fill-opacity=\"1\"/>\n",
       "<polyline clip-path=\"url(#clip142)\" style=\"stroke:#000000; stroke-linecap:butt; stroke-linejoin:round; stroke-width:4; stroke-opacity:1; fill:none\" points=\"\n",
       "  18601.7,1384.24 18601.7,1384.24 18655.5,1384.24 18601.7,1384.24 \n",
       "  \"/>\n",
       "<path clip-path=\"url(#clip142)\" d=\"\n",
       "M18655.5 1384.24 L18655.5 1384.24 L18709.3 1384.24 L18709.3 1384.24 L18655.5 1384.24 L18655.5 1384.24  Z\n",
       "  \" fill=\"#009af9\" fill-rule=\"evenodd\" fill-opacity=\"1\"/>\n",
       "<polyline clip-path=\"url(#clip142)\" style=\"stroke:#000000; stroke-linecap:butt; stroke-linejoin:round; stroke-width:4; stroke-opacity:1; fill:none\" points=\"\n",
       "  18655.5,1384.24 18655.5,1384.24 18709.3,1384.24 18655.5,1384.24 \n",
       "  \"/>\n",
       "<path clip-path=\"url(#clip142)\" d=\"\n",
       "M18709.3 1384.24 L18709.3 1384.24 L18763.1 1384.24 L18763.1 1384.24 L18709.3 1384.24 L18709.3 1384.24  Z\n",
       "  \" fill=\"#009af9\" fill-rule=\"evenodd\" fill-opacity=\"1\"/>\n",
       "<polyline clip-path=\"url(#clip142)\" style=\"stroke:#000000; stroke-linecap:butt; stroke-linejoin:round; stroke-width:4; stroke-opacity:1; fill:none\" points=\"\n",
       "  18709.3,1384.24 18709.3,1384.24 18763.1,1384.24 18709.3,1384.24 \n",
       "  \"/>\n",
       "<path clip-path=\"url(#clip142)\" d=\"\n",
       "M18763.1 1384.24 L18763.1 1384.24 L18816.9 1384.24 L18816.9 1384.24 L18763.1 1384.24 L18763.1 1384.24  Z\n",
       "  \" fill=\"#009af9\" fill-rule=\"evenodd\" fill-opacity=\"1\"/>\n",
       "<polyline clip-path=\"url(#clip142)\" style=\"stroke:#000000; stroke-linecap:butt; stroke-linejoin:round; stroke-width:4; stroke-opacity:1; fill:none\" points=\"\n",
       "  18763.1,1384.24 18763.1,1384.24 18816.9,1384.24 18763.1,1384.24 \n",
       "  \"/>\n",
       "<path clip-path=\"url(#clip142)\" d=\"\n",
       "M18816.9 1384.24 L18816.9 1384.24 L18870.7 1384.24 L18870.7 1384.24 L18816.9 1384.24 L18816.9 1384.24  Z\n",
       "  \" fill=\"#009af9\" fill-rule=\"evenodd\" fill-opacity=\"1\"/>\n",
       "<polyline clip-path=\"url(#clip142)\" style=\"stroke:#000000; stroke-linecap:butt; stroke-linejoin:round; stroke-width:4; stroke-opacity:1; fill:none\" points=\"\n",
       "  18816.9,1384.24 18816.9,1384.24 18870.7,1384.24 18816.9,1384.24 \n",
       "  \"/>\n",
       "<path clip-path=\"url(#clip142)\" d=\"\n",
       "M18870.7 1384.24 L18870.7 1384.24 L18924.5 1384.24 L18924.5 1384.24 L18870.7 1384.24 L18870.7 1384.24  Z\n",
       "  \" fill=\"#009af9\" fill-rule=\"evenodd\" fill-opacity=\"1\"/>\n",
       "<polyline clip-path=\"url(#clip142)\" style=\"stroke:#000000; stroke-linecap:butt; stroke-linejoin:round; stroke-width:4; stroke-opacity:1; fill:none\" points=\"\n",
       "  18870.7,1384.24 18870.7,1384.24 18924.5,1384.24 18870.7,1384.24 \n",
       "  \"/>\n",
       "<path clip-path=\"url(#clip142)\" d=\"\n",
       "M18924.5 1384.24 L18924.5 1384.24 L18978.2 1384.24 L18978.2 1384.24 L18924.5 1384.24 L18924.5 1384.24  Z\n",
       "  \" fill=\"#009af9\" fill-rule=\"evenodd\" fill-opacity=\"1\"/>\n",
       "<polyline clip-path=\"url(#clip142)\" style=\"stroke:#000000; stroke-linecap:butt; stroke-linejoin:round; stroke-width:4; stroke-opacity:1; fill:none\" points=\"\n",
       "  18924.5,1384.24 18924.5,1384.24 18978.2,1384.24 18924.5,1384.24 \n",
       "  \"/>\n",
       "<path clip-path=\"url(#clip142)\" d=\"\n",
       "M18978.2 1384.24 L18978.2 1384.24 L19032 1384.24 L19032 1384.24 L18978.2 1384.24 L18978.2 1384.24  Z\n",
       "  \" fill=\"#009af9\" fill-rule=\"evenodd\" fill-opacity=\"1\"/>\n",
       "<polyline clip-path=\"url(#clip142)\" style=\"stroke:#000000; stroke-linecap:butt; stroke-linejoin:round; stroke-width:4; stroke-opacity:1; fill:none\" points=\"\n",
       "  18978.2,1384.24 18978.2,1384.24 19032,1384.24 18978.2,1384.24 \n",
       "  \"/>\n",
       "<path clip-path=\"url(#clip142)\" d=\"\n",
       "M19032 1384.24 L19032 1384.24 L19085.8 1384.24 L19085.8 1384.24 L19032 1384.24 L19032 1384.24  Z\n",
       "  \" fill=\"#009af9\" fill-rule=\"evenodd\" fill-opacity=\"1\"/>\n",
       "<polyline clip-path=\"url(#clip142)\" style=\"stroke:#000000; stroke-linecap:butt; stroke-linejoin:round; stroke-width:4; stroke-opacity:1; fill:none\" points=\"\n",
       "  19032,1384.24 19032,1384.24 19085.8,1384.24 19032,1384.24 \n",
       "  \"/>\n",
       "<path clip-path=\"url(#clip142)\" d=\"\n",
       "M19085.8 1384.24 L19085.8 1384.24 L19139.6 1384.24 L19139.6 1384.24 L19085.8 1384.24 L19085.8 1384.24  Z\n",
       "  \" fill=\"#009af9\" fill-rule=\"evenodd\" fill-opacity=\"1\"/>\n",
       "<polyline clip-path=\"url(#clip142)\" style=\"stroke:#000000; stroke-linecap:butt; stroke-linejoin:round; stroke-width:4; stroke-opacity:1; fill:none\" points=\"\n",
       "  19085.8,1384.24 19085.8,1384.24 19139.6,1384.24 19085.8,1384.24 \n",
       "  \"/>\n",
       "<path clip-path=\"url(#clip142)\" d=\"\n",
       "M19139.6 1384.24 L19139.6 1384.24 L19193.4 1384.24 L19193.4 1384.24 L19139.6 1384.24 L19139.6 1384.24  Z\n",
       "  \" fill=\"#009af9\" fill-rule=\"evenodd\" fill-opacity=\"1\"/>\n",
       "<polyline clip-path=\"url(#clip142)\" style=\"stroke:#000000; stroke-linecap:butt; stroke-linejoin:round; stroke-width:4; stroke-opacity:1; fill:none\" points=\"\n",
       "  19139.6,1384.24 19139.6,1384.24 19193.4,1384.24 19139.6,1384.24 \n",
       "  \"/>\n",
       "<path clip-path=\"url(#clip142)\" d=\"\n",
       "M19193.4 1384.24 L19193.4 1384.24 L19247.2 1384.24 L19247.2 1384.24 L19193.4 1384.24 L19193.4 1384.24  Z\n",
       "  \" fill=\"#009af9\" fill-rule=\"evenodd\" fill-opacity=\"1\"/>\n",
       "<polyline clip-path=\"url(#clip142)\" style=\"stroke:#000000; stroke-linecap:butt; stroke-linejoin:round; stroke-width:4; stroke-opacity:1; fill:none\" points=\"\n",
       "  19193.4,1384.24 19193.4,1384.24 19247.2,1384.24 19193.4,1384.24 \n",
       "  \"/>\n",
       "<path clip-path=\"url(#clip142)\" d=\"\n",
       "M19247.2 1384.24 L19247.2 1384.24 L19301 1384.24 L19301 1384.24 L19247.2 1384.24 L19247.2 1384.24  Z\n",
       "  \" fill=\"#009af9\" fill-rule=\"evenodd\" fill-opacity=\"1\"/>\n",
       "<polyline clip-path=\"url(#clip142)\" style=\"stroke:#000000; stroke-linecap:butt; stroke-linejoin:round; stroke-width:4; stroke-opacity:1; fill:none\" points=\"\n",
       "  19247.2,1384.24 19247.2,1384.24 19301,1384.24 19247.2,1384.24 \n",
       "  \"/>\n",
       "<path clip-path=\"url(#clip142)\" d=\"\n",
       "M19301 1384.24 L19301 1384.24 L19354.8 1384.24 L19354.8 1384.24 L19301 1384.24 L19301 1384.24  Z\n",
       "  \" fill=\"#009af9\" fill-rule=\"evenodd\" fill-opacity=\"1\"/>\n",
       "<polyline clip-path=\"url(#clip142)\" style=\"stroke:#000000; stroke-linecap:butt; stroke-linejoin:round; stroke-width:4; stroke-opacity:1; fill:none\" points=\"\n",
       "  19301,1384.24 19301,1384.24 19354.8,1384.24 19301,1384.24 \n",
       "  \"/>\n",
       "<path clip-path=\"url(#clip142)\" d=\"\n",
       "M19354.8 1384.24 L19354.8 1384.24 L19408.6 1384.24 L19408.6 1384.24 L19354.8 1384.24 L19354.8 1384.24  Z\n",
       "  \" fill=\"#009af9\" fill-rule=\"evenodd\" fill-opacity=\"1\"/>\n",
       "<polyline clip-path=\"url(#clip142)\" style=\"stroke:#000000; stroke-linecap:butt; stroke-linejoin:round; stroke-width:4; stroke-opacity:1; fill:none\" points=\"\n",
       "  19354.8,1384.24 19354.8,1384.24 19408.6,1384.24 19354.8,1384.24 \n",
       "  \"/>\n",
       "<path clip-path=\"url(#clip142)\" d=\"\n",
       "M19408.6 1384.24 L19408.6 1384.24 L19462.4 1384.24 L19462.4 1384.24 L19408.6 1384.24 L19408.6 1384.24  Z\n",
       "  \" fill=\"#009af9\" fill-rule=\"evenodd\" fill-opacity=\"1\"/>\n",
       "<polyline clip-path=\"url(#clip142)\" style=\"stroke:#000000; stroke-linecap:butt; stroke-linejoin:round; stroke-width:4; stroke-opacity:1; fill:none\" points=\"\n",
       "  19408.6,1384.24 19408.6,1384.24 19462.4,1384.24 19408.6,1384.24 \n",
       "  \"/>\n",
       "<path clip-path=\"url(#clip142)\" d=\"\n",
       "M19462.4 1384.24 L19462.4 1384.24 L19516.2 1384.24 L19516.2 1384.24 L19462.4 1384.24 L19462.4 1384.24  Z\n",
       "  \" fill=\"#009af9\" fill-rule=\"evenodd\" fill-opacity=\"1\"/>\n",
       "<polyline clip-path=\"url(#clip142)\" style=\"stroke:#000000; stroke-linecap:butt; stroke-linejoin:round; stroke-width:4; stroke-opacity:1; fill:none\" points=\"\n",
       "  19462.4,1384.24 19462.4,1384.24 19516.2,1384.24 19462.4,1384.24 \n",
       "  \"/>\n",
       "<path clip-path=\"url(#clip142)\" d=\"\n",
       "M19516.2 1384.24 L19516.2 1384.24 L19570 1384.24 L19570 1384.24 L19516.2 1384.24 L19516.2 1384.24  Z\n",
       "  \" fill=\"#009af9\" fill-rule=\"evenodd\" fill-opacity=\"1\"/>\n",
       "<polyline clip-path=\"url(#clip142)\" style=\"stroke:#000000; stroke-linecap:butt; stroke-linejoin:round; stroke-width:4; stroke-opacity:1; fill:none\" points=\"\n",
       "  19516.2,1384.24 19516.2,1384.24 19570,1384.24 19516.2,1384.24 \n",
       "  \"/>\n",
       "<path clip-path=\"url(#clip142)\" d=\"\n",
       "M19570 1384.24 L19570 1384.24 L19623.8 1384.24 L19623.8 1384.24 L19570 1384.24 L19570 1384.24  Z\n",
       "  \" fill=\"#009af9\" fill-rule=\"evenodd\" fill-opacity=\"1\"/>\n",
       "<polyline clip-path=\"url(#clip142)\" style=\"stroke:#000000; stroke-linecap:butt; stroke-linejoin:round; stroke-width:4; stroke-opacity:1; fill:none\" points=\"\n",
       "  19570,1384.24 19570,1384.24 19623.8,1384.24 19570,1384.24 \n",
       "  \"/>\n",
       "<path clip-path=\"url(#clip142)\" d=\"\n",
       "M19623.8 1384.24 L19623.8 1384.24 L19677.5 1384.24 L19677.5 1384.24 L19623.8 1384.24 L19623.8 1384.24  Z\n",
       "  \" fill=\"#009af9\" fill-rule=\"evenodd\" fill-opacity=\"1\"/>\n",
       "<polyline clip-path=\"url(#clip142)\" style=\"stroke:#000000; stroke-linecap:butt; stroke-linejoin:round; stroke-width:4; stroke-opacity:1; fill:none\" points=\"\n",
       "  19623.8,1384.24 19623.8,1384.24 19677.5,1384.24 19623.8,1384.24 \n",
       "  \"/>\n",
       "<path clip-path=\"url(#clip142)\" d=\"\n",
       "M19677.5 1384.24 L19677.5 1384.24 L19731.3 1384.24 L19731.3 1384.24 L19677.5 1384.24 L19677.5 1384.24  Z\n",
       "  \" fill=\"#009af9\" fill-rule=\"evenodd\" fill-opacity=\"1\"/>\n",
       "<polyline clip-path=\"url(#clip142)\" style=\"stroke:#000000; stroke-linecap:butt; stroke-linejoin:round; stroke-width:4; stroke-opacity:1; fill:none\" points=\"\n",
       "  19677.5,1384.24 19677.5,1384.24 19731.3,1384.24 19677.5,1384.24 \n",
       "  \"/>\n",
       "<path clip-path=\"url(#clip142)\" d=\"\n",
       "M19731.3 1384.24 L19731.3 1384.24 L19785.1 1384.24 L19785.1 1384.24 L19731.3 1384.24 L19731.3 1384.24  Z\n",
       "  \" fill=\"#009af9\" fill-rule=\"evenodd\" fill-opacity=\"1\"/>\n",
       "<polyline clip-path=\"url(#clip142)\" style=\"stroke:#000000; stroke-linecap:butt; stroke-linejoin:round; stroke-width:4; stroke-opacity:1; fill:none\" points=\"\n",
       "  19731.3,1384.24 19731.3,1384.24 19785.1,1384.24 19731.3,1384.24 \n",
       "  \"/>\n",
       "<path clip-path=\"url(#clip142)\" d=\"\n",
       "M19785.1 1384.24 L19785.1 1384.24 L19838.9 1384.24 L19838.9 1384.24 L19785.1 1384.24 L19785.1 1384.24  Z\n",
       "  \" fill=\"#009af9\" fill-rule=\"evenodd\" fill-opacity=\"1\"/>\n",
       "<polyline clip-path=\"url(#clip142)\" style=\"stroke:#000000; stroke-linecap:butt; stroke-linejoin:round; stroke-width:4; stroke-opacity:1; fill:none\" points=\"\n",
       "  19785.1,1384.24 19785.1,1384.24 19838.9,1384.24 19785.1,1384.24 \n",
       "  \"/>\n",
       "<path clip-path=\"url(#clip142)\" d=\"\n",
       "M19838.9 1384.24 L19838.9 1384.24 L19892.7 1384.24 L19892.7 1384.24 L19838.9 1384.24 L19838.9 1384.24  Z\n",
       "  \" fill=\"#009af9\" fill-rule=\"evenodd\" fill-opacity=\"1\"/>\n",
       "<polyline clip-path=\"url(#clip142)\" style=\"stroke:#000000; stroke-linecap:butt; stroke-linejoin:round; stroke-width:4; stroke-opacity:1; fill:none\" points=\"\n",
       "  19838.9,1384.24 19838.9,1384.24 19892.7,1384.24 19838.9,1384.24 \n",
       "  \"/>\n",
       "<path clip-path=\"url(#clip142)\" d=\"\n",
       "M19892.7 1384.24 L19892.7 1384.24 L19946.5 1384.24 L19946.5 1384.24 L19892.7 1384.24 L19892.7 1384.24  Z\n",
       "  \" fill=\"#009af9\" fill-rule=\"evenodd\" fill-opacity=\"1\"/>\n",
       "<polyline clip-path=\"url(#clip142)\" style=\"stroke:#000000; stroke-linecap:butt; stroke-linejoin:round; stroke-width:4; stroke-opacity:1; fill:none\" points=\"\n",
       "  19892.7,1384.24 19892.7,1384.24 19946.5,1384.24 19892.7,1384.24 \n",
       "  \"/>\n",
       "<path clip-path=\"url(#clip142)\" d=\"\n",
       "M19946.5 1384.24 L19946.5 1384.24 L20000.3 1384.24 L20000.3 1384.24 L19946.5 1384.24 L19946.5 1384.24  Z\n",
       "  \" fill=\"#009af9\" fill-rule=\"evenodd\" fill-opacity=\"1\"/>\n",
       "<polyline clip-path=\"url(#clip142)\" style=\"stroke:#000000; stroke-linecap:butt; stroke-linejoin:round; stroke-width:4; stroke-opacity:1; fill:none\" points=\"\n",
       "  19946.5,1384.24 19946.5,1384.24 20000.3,1384.24 19946.5,1384.24 \n",
       "  \"/>\n",
       "<path clip-path=\"url(#clip142)\" d=\"\n",
       "M20000.3 1384.24 L20000.3 1384.24 L20054.1 1384.24 L20054.1 1384.24 L20000.3 1384.24 L20000.3 1384.24  Z\n",
       "  \" fill=\"#009af9\" fill-rule=\"evenodd\" fill-opacity=\"1\"/>\n",
       "<polyline clip-path=\"url(#clip142)\" style=\"stroke:#000000; stroke-linecap:butt; stroke-linejoin:round; stroke-width:4; stroke-opacity:1; fill:none\" points=\"\n",
       "  20000.3,1384.24 20000.3,1384.24 20054.1,1384.24 20000.3,1384.24 \n",
       "  \"/>\n",
       "<path clip-path=\"url(#clip142)\" d=\"\n",
       "M20054.1 1384.24 L20054.1 1384.24 L20107.9 1384.24 L20107.9 1384.24 L20054.1 1384.24 L20054.1 1384.24  Z\n",
       "  \" fill=\"#009af9\" fill-rule=\"evenodd\" fill-opacity=\"1\"/>\n",
       "<polyline clip-path=\"url(#clip142)\" style=\"stroke:#000000; stroke-linecap:butt; stroke-linejoin:round; stroke-width:4; stroke-opacity:1; fill:none\" points=\"\n",
       "  20054.1,1384.24 20054.1,1384.24 20107.9,1384.24 20054.1,1384.24 \n",
       "  \"/>\n",
       "<path clip-path=\"url(#clip142)\" d=\"\n",
       "M20107.9 1384.24 L20107.9 1384.24 L20161.7 1384.24 L20161.7 1384.24 L20107.9 1384.24 L20107.9 1384.24  Z\n",
       "  \" fill=\"#009af9\" fill-rule=\"evenodd\" fill-opacity=\"1\"/>\n",
       "<polyline clip-path=\"url(#clip142)\" style=\"stroke:#000000; stroke-linecap:butt; stroke-linejoin:round; stroke-width:4; stroke-opacity:1; fill:none\" points=\"\n",
       "  20107.9,1384.24 20107.9,1384.24 20161.7,1384.24 20107.9,1384.24 \n",
       "  \"/>\n",
       "<path clip-path=\"url(#clip142)\" d=\"\n",
       "M20161.7 1384.24 L20161.7 1384.24 L20215.5 1384.24 L20215.5 1384.24 L20161.7 1384.24 L20161.7 1384.24  Z\n",
       "  \" fill=\"#009af9\" fill-rule=\"evenodd\" fill-opacity=\"1\"/>\n",
       "<polyline clip-path=\"url(#clip142)\" style=\"stroke:#000000; stroke-linecap:butt; stroke-linejoin:round; stroke-width:4; stroke-opacity:1; fill:none\" points=\"\n",
       "  20161.7,1384.24 20161.7,1384.24 20215.5,1384.24 20161.7,1384.24 \n",
       "  \"/>\n",
       "<path clip-path=\"url(#clip142)\" d=\"\n",
       "M20215.5 1384.24 L20215.5 1384.24 L20269.3 1384.24 L20269.3 1384.24 L20215.5 1384.24 L20215.5 1384.24  Z\n",
       "  \" fill=\"#009af9\" fill-rule=\"evenodd\" fill-opacity=\"1\"/>\n",
       "<polyline clip-path=\"url(#clip142)\" style=\"stroke:#000000; stroke-linecap:butt; stroke-linejoin:round; stroke-width:4; stroke-opacity:1; fill:none\" points=\"\n",
       "  20215.5,1384.24 20215.5,1384.24 20269.3,1384.24 20215.5,1384.24 \n",
       "  \"/>\n",
       "<path clip-path=\"url(#clip142)\" d=\"\n",
       "M20269.3 1384.24 L20269.3 1384.24 L20323 1384.24 L20323 1384.24 L20269.3 1384.24 L20269.3 1384.24  Z\n",
       "  \" fill=\"#009af9\" fill-rule=\"evenodd\" fill-opacity=\"1\"/>\n",
       "<polyline clip-path=\"url(#clip142)\" style=\"stroke:#000000; stroke-linecap:butt; stroke-linejoin:round; stroke-width:4; stroke-opacity:1; fill:none\" points=\"\n",
       "  20269.3,1384.24 20269.3,1384.24 20323,1384.24 20269.3,1384.24 \n",
       "  \"/>\n",
       "<path clip-path=\"url(#clip142)\" d=\"\n",
       "M20323 1384.24 L20323 1384.24 L20376.8 1384.24 L20376.8 1384.24 L20323 1384.24 L20323 1384.24  Z\n",
       "  \" fill=\"#009af9\" fill-rule=\"evenodd\" fill-opacity=\"1\"/>\n",
       "<polyline clip-path=\"url(#clip142)\" style=\"stroke:#000000; stroke-linecap:butt; stroke-linejoin:round; stroke-width:4; stroke-opacity:1; fill:none\" points=\"\n",
       "  20323,1384.24 20323,1384.24 20376.8,1384.24 20323,1384.24 \n",
       "  \"/>\n",
       "<path clip-path=\"url(#clip142)\" d=\"\n",
       "M20376.8 1384.24 L20376.8 1384.24 L20430.6 1384.24 L20430.6 1384.24 L20376.8 1384.24 L20376.8 1384.24  Z\n",
       "  \" fill=\"#009af9\" fill-rule=\"evenodd\" fill-opacity=\"1\"/>\n",
       "<polyline clip-path=\"url(#clip142)\" style=\"stroke:#000000; stroke-linecap:butt; stroke-linejoin:round; stroke-width:4; stroke-opacity:1; fill:none\" points=\"\n",
       "  20376.8,1384.24 20376.8,1384.24 20430.6,1384.24 20376.8,1384.24 \n",
       "  \"/>\n",
       "<path clip-path=\"url(#clip142)\" d=\"\n",
       "M20430.6 1384.24 L20430.6 1384.24 L20484.4 1384.24 L20484.4 1384.24 L20430.6 1384.24 L20430.6 1384.24  Z\n",
       "  \" fill=\"#009af9\" fill-rule=\"evenodd\" fill-opacity=\"1\"/>\n",
       "<polyline clip-path=\"url(#clip142)\" style=\"stroke:#000000; stroke-linecap:butt; stroke-linejoin:round; stroke-width:4; stroke-opacity:1; fill:none\" points=\"\n",
       "  20430.6,1384.24 20430.6,1384.24 20484.4,1384.24 20430.6,1384.24 \n",
       "  \"/>\n",
       "<path clip-path=\"url(#clip142)\" d=\"\n",
       "M20484.4 1384.24 L20484.4 1384.24 L20538.2 1384.24 L20538.2 1384.24 L20484.4 1384.24 L20484.4 1384.24  Z\n",
       "  \" fill=\"#009af9\" fill-rule=\"evenodd\" fill-opacity=\"1\"/>\n",
       "<polyline clip-path=\"url(#clip142)\" style=\"stroke:#000000; stroke-linecap:butt; stroke-linejoin:round; stroke-width:4; stroke-opacity:1; fill:none\" points=\"\n",
       "  20484.4,1384.24 20484.4,1384.24 20538.2,1384.24 20484.4,1384.24 \n",
       "  \"/>\n",
       "<path clip-path=\"url(#clip142)\" d=\"\n",
       "M20538.2 1363.96 L20538.2 1384.24 L20592 1384.24 L20592 1363.96 L20538.2 1363.96 L20538.2 1363.96  Z\n",
       "  \" fill=\"#009af9\" fill-rule=\"evenodd\" fill-opacity=\"1\"/>\n",
       "<polyline clip-path=\"url(#clip142)\" style=\"stroke:#000000; stroke-linecap:butt; stroke-linejoin:round; stroke-width:4; stroke-opacity:1; fill:none\" points=\"\n",
       "  20538.2,1363.96 20538.2,1384.24 20592,1384.24 20592,1363.96 20538.2,1363.96 \n",
       "  \"/>\n",
       "<circle clip-path=\"url(#clip142)\" style=\"fill:#009af9; stroke:none; fill-opacity:0\" cx=\"231.807\" cy=\"1343.67\" r=\"2\"/>\n",
       "<circle clip-path=\"url(#clip142)\" style=\"fill:#009af9; stroke:none; fill-opacity:0\" cx=\"285.599\" cy=\"228.16\" r=\"2\"/>\n",
       "<circle clip-path=\"url(#clip142)\" style=\"fill:#009af9; stroke:none; fill-opacity:0\" cx=\"339.391\" cy=\"86.1857\" r=\"2\"/>\n",
       "<circle clip-path=\"url(#clip142)\" style=\"fill:#009af9; stroke:none; fill-opacity:0\" cx=\"393.182\" cy=\"694.648\" r=\"2\"/>\n",
       "<circle clip-path=\"url(#clip142)\" style=\"fill:#009af9; stroke:none; fill-opacity:0\" cx=\"446.974\" cy=\"1080.01\" r=\"2\"/>\n",
       "<circle clip-path=\"url(#clip142)\" style=\"fill:#009af9; stroke:none; fill-opacity:0\" cx=\"500.766\" cy=\"1080.01\" r=\"2\"/>\n",
       "<circle clip-path=\"url(#clip142)\" style=\"fill:#009af9; stroke:none; fill-opacity:0\" cx=\"554.558\" cy=\"1140.85\" r=\"2\"/>\n",
       "<circle clip-path=\"url(#clip142)\" style=\"fill:#009af9; stroke:none; fill-opacity:0\" cx=\"608.35\" cy=\"1140.85\" r=\"2\"/>\n",
       "<circle clip-path=\"url(#clip142)\" style=\"fill:#009af9; stroke:none; fill-opacity:0\" cx=\"662.141\" cy=\"1303.11\" r=\"2\"/>\n",
       "<circle clip-path=\"url(#clip142)\" style=\"fill:#009af9; stroke:none; fill-opacity:0\" cx=\"715.933\" cy=\"1262.55\" r=\"2\"/>\n",
       "<circle clip-path=\"url(#clip142)\" style=\"fill:#009af9; stroke:none; fill-opacity:0\" cx=\"769.725\" cy=\"1282.83\" r=\"2\"/>\n",
       "<circle clip-path=\"url(#clip142)\" style=\"fill:#009af9; stroke:none; fill-opacity:0\" cx=\"823.517\" cy=\"1363.96\" r=\"2\"/>\n",
       "<circle clip-path=\"url(#clip142)\" style=\"fill:#009af9; stroke:none; fill-opacity:0\" cx=\"877.309\" cy=\"1282.83\" r=\"2\"/>\n",
       "<circle clip-path=\"url(#clip142)\" style=\"fill:#009af9; stroke:none; fill-opacity:0\" cx=\"931.1\" cy=\"1343.67\" r=\"2\"/>\n",
       "<circle clip-path=\"url(#clip142)\" style=\"fill:#009af9; stroke:none; fill-opacity:0\" cx=\"984.892\" cy=\"1363.96\" r=\"2\"/>\n",
       "<circle clip-path=\"url(#clip142)\" style=\"fill:#009af9; stroke:none; fill-opacity:0\" cx=\"1038.68\" cy=\"1343.67\" r=\"2\"/>\n",
       "<circle clip-path=\"url(#clip142)\" style=\"fill:#009af9; stroke:none; fill-opacity:0\" cx=\"1092.48\" cy=\"1363.96\" r=\"2\"/>\n",
       "<circle clip-path=\"url(#clip142)\" style=\"fill:#009af9; stroke:none; fill-opacity:0\" cx=\"1146.27\" cy=\"1282.83\" r=\"2\"/>\n",
       "<circle clip-path=\"url(#clip142)\" style=\"fill:#009af9; stroke:none; fill-opacity:0\" cx=\"1200.06\" cy=\"1242.26\" r=\"2\"/>\n",
       "<circle clip-path=\"url(#clip142)\" style=\"fill:#009af9; stroke:none; fill-opacity:0\" cx=\"1253.85\" cy=\"1323.39\" r=\"2\"/>\n",
       "<circle clip-path=\"url(#clip142)\" style=\"fill:#009af9; stroke:none; fill-opacity:0\" cx=\"1307.64\" cy=\"1343.67\" r=\"2\"/>\n",
       "<circle clip-path=\"url(#clip142)\" style=\"fill:#009af9; stroke:none; fill-opacity:0\" cx=\"1361.43\" cy=\"1363.96\" r=\"2\"/>\n",
       "<circle clip-path=\"url(#clip142)\" style=\"fill:#009af9; stroke:none; fill-opacity:0\" cx=\"1415.23\" cy=\"1323.39\" r=\"2\"/>\n",
       "<circle clip-path=\"url(#clip142)\" style=\"fill:#009af9; stroke:none; fill-opacity:0\" cx=\"1469.02\" cy=\"1323.39\" r=\"2\"/>\n",
       "<circle clip-path=\"url(#clip142)\" style=\"fill:#009af9; stroke:none; fill-opacity:0\" cx=\"1522.81\" cy=\"1384.24\" r=\"2\"/>\n",
       "<circle clip-path=\"url(#clip142)\" style=\"fill:#009af9; stroke:none; fill-opacity:0\" cx=\"1576.6\" cy=\"1323.39\" r=\"2\"/>\n",
       "<circle clip-path=\"url(#clip142)\" style=\"fill:#009af9; stroke:none; fill-opacity:0\" cx=\"1630.39\" cy=\"1343.67\" r=\"2\"/>\n",
       "<circle clip-path=\"url(#clip142)\" style=\"fill:#009af9; stroke:none; fill-opacity:0\" cx=\"1684.19\" cy=\"1363.96\" r=\"2\"/>\n",
       "<circle clip-path=\"url(#clip142)\" style=\"fill:#009af9; stroke:none; fill-opacity:0\" cx=\"1737.98\" cy=\"1363.96\" r=\"2\"/>\n",
       "<circle clip-path=\"url(#clip142)\" style=\"fill:#009af9; stroke:none; fill-opacity:0\" cx=\"1791.77\" cy=\"1343.67\" r=\"2\"/>\n",
       "<circle clip-path=\"url(#clip142)\" style=\"fill:#009af9; stroke:none; fill-opacity:0\" cx=\"1845.56\" cy=\"1384.24\" r=\"2\"/>\n",
       "<circle clip-path=\"url(#clip142)\" style=\"fill:#009af9; stroke:none; fill-opacity:0\" cx=\"1899.35\" cy=\"1343.67\" r=\"2\"/>\n",
       "<circle clip-path=\"url(#clip142)\" style=\"fill:#009af9; stroke:none; fill-opacity:0\" cx=\"1953.14\" cy=\"1384.24\" r=\"2\"/>\n",
       "<circle clip-path=\"url(#clip142)\" style=\"fill:#009af9; stroke:none; fill-opacity:0\" cx=\"2006.94\" cy=\"1363.96\" r=\"2\"/>\n",
       "<circle clip-path=\"url(#clip142)\" style=\"fill:#009af9; stroke:none; fill-opacity:0\" cx=\"2060.73\" cy=\"1363.96\" r=\"2\"/>\n",
       "<circle clip-path=\"url(#clip142)\" style=\"fill:#009af9; stroke:none; fill-opacity:0\" cx=\"2114.52\" cy=\"1343.67\" r=\"2\"/>\n",
       "<circle clip-path=\"url(#clip142)\" style=\"fill:#009af9; stroke:none; fill-opacity:0\" cx=\"2168.31\" cy=\"1262.55\" r=\"2\"/>\n",
       "<circle clip-path=\"url(#clip142)\" style=\"fill:#009af9; stroke:none; fill-opacity:0\" cx=\"2222.1\" cy=\"1384.24\" r=\"2\"/>\n",
       "<circle clip-path=\"url(#clip142)\" style=\"fill:#009af9; stroke:none; fill-opacity:0\" cx=\"2275.9\" cy=\"1323.39\" r=\"2\"/>\n",
       "<circle clip-path=\"url(#clip142)\" style=\"fill:#009af9; stroke:none; fill-opacity:0\" cx=\"2329.69\" cy=\"1363.96\" r=\"2\"/>\n",
       "</svg>\n"
      ]
     },
     "execution_count": 18,
     "metadata": {},
     "output_type": "execute_result"
    }
   ],
   "source": [
    "using Statistics # bring in statistical support for standard deviations\n",
    "t = c_bench.times / 1e6 # times in milliseconds\n",
    "m, σ = minimum(t), std(t)\n",
    "\n",
    "histogram(t, bins=500,\n",
    "    xlim=(m - 0.01, m + σ),\n",
    "    xlabel=\"milliseconds\", ylabel=\"count\", label=\"\")"
   ]
  },
  {
   "cell_type": "markdown",
   "metadata": {},
   "source": [
    "# 2. C with -ffast-math\n",
    "\n",
    "If we allow C to re-arrange the floating point operations, then it'll vectorize with SIMD (single instruction, multiple data) instructions."
   ]
  },
  {
   "cell_type": "code",
   "execution_count": 19,
   "metadata": {},
   "outputs": [
    {
     "data": {
      "text/plain": [
       "c_sum_fastmath (generic function with 1 method)"
      ]
     },
     "execution_count": 19,
     "metadata": {},
     "output_type": "execute_result"
    }
   ],
   "source": [
    "const Clib_fastmath = tempname()   # make a temporary file\n",
    "\n",
    "# The same as above but with a -ffast-math flag added\n",
    "open(`gcc -fPIC -O3 -msse3 -xc -shared -ffast-math -o $(Clib_fastmath * \".\" * Libdl.dlext) -`, \"w\") do f\n",
    "    print(f, C_code) \n",
    "end\n",
    "\n",
    "# define a Julia function that calls the C function:\n",
    "c_sum_fastmath(X::Array{Float64}) = ccall((\"c_sum\", Clib_fastmath), Float64, (Csize_t, Ptr{Float64}), length(X), X)"
   ]
  },
  {
   "cell_type": "code",
   "execution_count": 20,
   "metadata": {},
   "outputs": [
    {
     "data": {
      "text/plain": [
       "BenchmarkTools.Trial: 851 samples with 1 evaluation.\n",
       " Range \u001b[90m(\u001b[39m\u001b[36m\u001b[1mmin\u001b[22m\u001b[39m … \u001b[35mmax\u001b[39m\u001b[90m):  \u001b[39m\u001b[36m\u001b[1m4.377 ms\u001b[22m\u001b[39m … \u001b[35m31.716 ms\u001b[39m  \u001b[90m┊\u001b[39m GC \u001b[90m(\u001b[39mmin … max\u001b[90m): \u001b[39m0.00% … 0.00%\n",
       " Time  \u001b[90m(\u001b[39m\u001b[34m\u001b[1mmedian\u001b[22m\u001b[39m\u001b[90m):     \u001b[39m\u001b[34m\u001b[1m5.033 ms              \u001b[22m\u001b[39m\u001b[90m┊\u001b[39m GC \u001b[90m(\u001b[39mmedian\u001b[90m):    \u001b[39m0.00%\n",
       " Time  \u001b[90m(\u001b[39m\u001b[32m\u001b[1mmean\u001b[22m\u001b[39m ± \u001b[32mσ\u001b[39m\u001b[90m):   \u001b[39m\u001b[32m\u001b[1m5.852 ms\u001b[22m\u001b[39m ± \u001b[32m 1.969 ms\u001b[39m  \u001b[90m┊\u001b[39m GC \u001b[90m(\u001b[39mmean ± σ\u001b[90m):  \u001b[39m0.00% ± 0.00%\n",
       "\n",
       "  \u001b[34m█\u001b[39m\u001b[39m \u001b[39m \u001b[39m \u001b[39m \u001b[39m \u001b[39m \u001b[39m \u001b[39m \u001b[39m \u001b[39m \u001b[39m \u001b[39m \u001b[39m \u001b[39m \u001b[39m \u001b[39m \u001b[39m \u001b[39m \u001b[39m \u001b[39m \u001b[39m \u001b[39m \u001b[39m \u001b[39m \u001b[39m \u001b[39m \u001b[39m \u001b[39m \u001b[39m \u001b[39m \u001b[39m \u001b[39m \u001b[39m \u001b[39m \u001b[39m \u001b[39m \u001b[39m \u001b[39m \u001b[39m \u001b[39m \u001b[39m \u001b[39m \u001b[39m \u001b[39m \u001b[39m \u001b[39m \u001b[39m \u001b[39m \u001b[39m \u001b[39m \u001b[39m \u001b[39m \u001b[39m \u001b[39m \u001b[39m \u001b[39m \u001b[39m \u001b[39m \u001b[39m \n",
       "  \u001b[34m█\u001b[39m\u001b[39m▁\u001b[39m▁\u001b[39m▁\u001b[39m▁\u001b[39m▁\u001b[39m▁\u001b[39m▁\u001b[39m▁\u001b[39m▁\u001b[39m▁\u001b[39m▁\u001b[39m▁\u001b[39m▁\u001b[39m▁\u001b[39m▁\u001b[39m▁\u001b[39m▁\u001b[39m▁\u001b[39m▁\u001b[39m▁\u001b[39m▁\u001b[39m▁\u001b[39m▁\u001b[39m▁\u001b[39m▁\u001b[39m▁\u001b[39m▁\u001b[39m▁\u001b[39m▁\u001b[39m▁\u001b[39m▁\u001b[39m▁\u001b[39m▁\u001b[39m \u001b[39m▁\u001b[39m▁\u001b[39m▁\u001b[39m▁\u001b[39m▁\u001b[39m▁\u001b[39m▁\u001b[39m▁\u001b[39m▁\u001b[39m▁\u001b[39m▁\u001b[39m▁\u001b[39m \u001b[39m▁\u001b[39m▁\u001b[39m▁\u001b[39m▁\u001b[39m▁\u001b[39m▁\u001b[39m▁\u001b[39m▁\u001b[39m▁\u001b[39m▁\u001b[39m \u001b[39m▁\n",
       "  5.11 ms\u001b[90m        Histogram: frequency by time\u001b[39m        4.65 ms \u001b[0m\u001b[1m<\u001b[22m\n",
       "\n",
       " Memory estimate\u001b[90m: \u001b[39m\u001b[33m0 bytes\u001b[39m, allocs estimate\u001b[90m: \u001b[39m\u001b[33m0\u001b[39m."
      ]
     },
     "execution_count": 20,
     "metadata": {},
     "output_type": "execute_result"
    }
   ],
   "source": [
    "c_fastmath_bench = @benchmark $c_sum_fastmath($a)"
   ]
  },
  {
   "cell_type": "code",
   "execution_count": 21,
   "metadata": {},
   "outputs": [
    {
     "data": {
      "text/plain": [
       "4.377002"
      ]
     },
     "execution_count": 21,
     "metadata": {},
     "output_type": "execute_result"
    }
   ],
   "source": [
    "d[\"C -ffast-math\"] = minimum(c_fastmath_bench.times) / 1e6  # in milliseconds"
   ]
  },
  {
   "cell_type": "markdown",
   "metadata": {},
   "source": [
    "# 3. Python's built in `sum` "
   ]
  },
  {
   "cell_type": "markdown",
   "metadata": {},
   "source": [
    "The `PyCall` package provides a Julia interface to Python:"
   ]
  },
  {
   "cell_type": "code",
   "execution_count": null,
   "metadata": {
    "scrolled": true
   },
   "outputs": [],
   "source": [
    "using Pkg; Pkg.add(\"PyCall\")\n",
    "using PyCall"
   ]
  },
  {
   "cell_type": "code",
   "execution_count": 23,
   "metadata": {},
   "outputs": [
    {
     "data": {
      "text/plain": [
       "PyObject <built-in function sum>"
      ]
     },
     "execution_count": 23,
     "metadata": {},
     "output_type": "execute_result"
    }
   ],
   "source": [
    "# get the Python built-in \"sum\" function:\n",
    "pysum = pybuiltin(\"sum\")"
   ]
  },
  {
   "cell_type": "code",
   "execution_count": 24,
   "metadata": {},
   "outputs": [
    {
     "data": {
      "text/plain": [
       "5.001596529905427e6"
      ]
     },
     "execution_count": 24,
     "metadata": {},
     "output_type": "execute_result"
    }
   ],
   "source": [
    "pysum(a)"
   ]
  },
  {
   "cell_type": "code",
   "execution_count": 25,
   "metadata": {},
   "outputs": [
    {
     "data": {
      "text/plain": [
       "true"
      ]
     },
     "execution_count": 25,
     "metadata": {},
     "output_type": "execute_result"
    }
   ],
   "source": [
    "pysum(a) ≈ sum(a)"
   ]
  },
  {
   "cell_type": "code",
   "execution_count": 26,
   "metadata": {},
   "outputs": [
    {
     "data": {
      "text/plain": [
       "BenchmarkTools.Trial: 7 samples with 1 evaluation.\n",
       " Range \u001b[90m(\u001b[39m\u001b[36m\u001b[1mmin\u001b[22m\u001b[39m … \u001b[35mmax\u001b[39m\u001b[90m):  \u001b[39m\u001b[36m\u001b[1m724.151 ms\u001b[22m\u001b[39m … \u001b[35m900.215 ms\u001b[39m  \u001b[90m┊\u001b[39m GC \u001b[90m(\u001b[39mmin … max\u001b[90m): \u001b[39m0.00% … 0.00%\n",
       " Time  \u001b[90m(\u001b[39m\u001b[34m\u001b[1mmedian\u001b[22m\u001b[39m\u001b[90m):     \u001b[39m\u001b[34m\u001b[1m808.521 ms               \u001b[22m\u001b[39m\u001b[90m┊\u001b[39m GC \u001b[90m(\u001b[39mmedian\u001b[90m):    \u001b[39m0.00%\n",
       " Time  \u001b[90m(\u001b[39m\u001b[32m\u001b[1mmean\u001b[22m\u001b[39m ± \u001b[32mσ\u001b[39m\u001b[90m):   \u001b[39m\u001b[32m\u001b[1m801.504 ms\u001b[22m\u001b[39m ± \u001b[32m 75.186 ms\u001b[39m  \u001b[90m┊\u001b[39m GC \u001b[90m(\u001b[39mmean ± σ\u001b[90m):  \u001b[39m0.00% ± 0.00%\n",
       "\n",
       "  \u001b[39m█\u001b[39m \u001b[39m \u001b[39m \u001b[39m \u001b[39m \u001b[39m \u001b[39m \u001b[39m \u001b[39m█\u001b[39m \u001b[39m \u001b[39m \u001b[39m \u001b[39m \u001b[39m \u001b[39m \u001b[39m \u001b[39m \u001b[39m \u001b[39m \u001b[39m \u001b[39m \u001b[39m \u001b[39m \u001b[39m \u001b[39m \u001b[39m \u001b[39m \u001b[39m \u001b[39m \u001b[39m \u001b[39m \u001b[39m \u001b[39m \u001b[39m \u001b[39m \u001b[39m \u001b[39m \u001b[39m \u001b[39m \u001b[39m \u001b[39m \u001b[39m \u001b[39m \u001b[39m \u001b[39m \u001b[39m \u001b[39m \u001b[39m \u001b[39m \u001b[39m \u001b[39m \u001b[39m \u001b[39m \u001b[39m \u001b[39m \u001b[39m \u001b[39m \u001b[39m \u001b[39m \u001b[39m \u001b[39m \n",
       "  \u001b[39m█\u001b[39m▁\u001b[39m▁\u001b[39m▁\u001b[39m▁\u001b[39m▁\u001b[39m▁\u001b[39m▁\u001b[39m▁\u001b[39m█\u001b[39m▁\u001b[39m▁\u001b[39m▁\u001b[39m▁\u001b[39m▁\u001b[39m▁\u001b[39m▁\u001b[39m▁\u001b[39m▁\u001b[39m▁\u001b[39m▁\u001b[39m▁\u001b[39m▁\u001b[39m▁\u001b[39m▁\u001b[39m▁\u001b[39m▁\u001b[39m▁\u001b[39m▁\u001b[39m▁\u001b[39m▁\u001b[39m▁\u001b[39m▁\u001b[39m▁\u001b[39m▁\u001b[39m▁\u001b[39m▁\u001b[39m▁\u001b[39m▁\u001b[39m▁\u001b[39m▁\u001b[39m▁\u001b[39m▁\u001b[39m▁\u001b[39m▁\u001b[39m▁\u001b[39m▁\u001b[39m▁\u001b[39m▁\u001b[39m▁\u001b[39m▁\u001b[39m▁\u001b[39m▁\u001b[39m▁\u001b[39m▁\u001b[39m▁\u001b[39m▁\u001b[39m▁\u001b[39m▁\u001b[39m▁\u001b[39m▁\u001b[39m \u001b[39m▁\n",
       "  724 ms\u001b[90m           Histogram: frequency by time\u001b[39m          731 ms \u001b[0m\u001b[1m<\u001b[22m\n",
       "\n",
       " Memory estimate\u001b[90m: \u001b[39m\u001b[33m336 bytes\u001b[39m, allocs estimate\u001b[90m: \u001b[39m\u001b[33m6\u001b[39m."
      ]
     },
     "execution_count": 26,
     "metadata": {},
     "output_type": "execute_result"
    }
   ],
   "source": [
    "py_list_bench = @benchmark $pysum($a)"
   ]
  },
  {
   "cell_type": "code",
   "execution_count": 27,
   "metadata": {},
   "outputs": [
    {
     "data": {
      "text/plain": [
       "Dict{Any, Any} with 3 entries:\n",
       "  \"C\"               => 11.6102\n",
       "  \"Python built-in\" => 724.151\n",
       "  \"C -ffast-math\"   => 4.377"
      ]
     },
     "execution_count": 27,
     "metadata": {},
     "output_type": "execute_result"
    }
   ],
   "source": [
    "d[\"Python built-in\"] = minimum(py_list_bench.times) / 1e6\n",
    "d"
   ]
  },
  {
   "cell_type": "markdown",
   "metadata": {},
   "source": [
    "# 4. Python: `numpy` \n",
    "\n",
    "## Takes advantage of hardware \"SIMD\", but only works when it works.\n",
    "\n",
    "`numpy` is an optimized C library, callable from Python.\n",
    "It may be installed within Julia as follows:"
   ]
  },
  {
   "cell_type": "code",
   "execution_count": null,
   "metadata": {},
   "outputs": [],
   "source": [
    "using Pkg; Pkg.add(\"Conda\")\n",
    "using Conda"
   ]
  },
  {
   "cell_type": "code",
   "execution_count": null,
   "metadata": {},
   "outputs": [],
   "source": [
    "Conda.add(\"numpy\")"
   ]
  },
  {
   "cell_type": "code",
   "execution_count": 30,
   "metadata": {},
   "outputs": [
    {
     "data": {
      "text/plain": [
       "BenchmarkTools.Trial: 1017 samples with 1 evaluation.\n",
       " Range \u001b[90m(\u001b[39m\u001b[36m\u001b[1mmin\u001b[22m\u001b[39m … \u001b[35mmax\u001b[39m\u001b[90m):  \u001b[39m\u001b[36m\u001b[1m4.204 ms\u001b[22m\u001b[39m … \u001b[35m32.455 ms\u001b[39m  \u001b[90m┊\u001b[39m GC \u001b[90m(\u001b[39mmin … max\u001b[90m): \u001b[39m0.00% … 0.00%\n",
       " Time  \u001b[90m(\u001b[39m\u001b[34m\u001b[1mmedian\u001b[22m\u001b[39m\u001b[90m):     \u001b[39m\u001b[34m\u001b[1m4.622 ms              \u001b[22m\u001b[39m\u001b[90m┊\u001b[39m GC \u001b[90m(\u001b[39mmedian\u001b[90m):    \u001b[39m0.00%\n",
       " Time  \u001b[90m(\u001b[39m\u001b[32m\u001b[1mmean\u001b[22m\u001b[39m ± \u001b[32mσ\u001b[39m\u001b[90m):   \u001b[39m\u001b[32m\u001b[1m4.903 ms\u001b[22m\u001b[39m ± \u001b[32m 1.281 ms\u001b[39m  \u001b[90m┊\u001b[39m GC \u001b[90m(\u001b[39mmean ± σ\u001b[90m):  \u001b[39m0.00% ± 0.00%\n",
       "\n",
       "  \u001b[34m█\u001b[39m\u001b[39m \u001b[39m \u001b[39m \u001b[39m \u001b[39m \u001b[39m \u001b[39m \u001b[39m \u001b[39m \u001b[39m \u001b[39m \u001b[39m \u001b[39m \u001b[39m \u001b[39m \u001b[39m \u001b[39m \u001b[39m \u001b[39m \u001b[39m \u001b[39m \u001b[39m \u001b[39m \u001b[39m \u001b[39m \u001b[39m \u001b[39m \u001b[39m \u001b[39m \u001b[39m \u001b[39m \u001b[39m \u001b[39m \u001b[39m \u001b[39m \u001b[39m \u001b[39m \u001b[39m \u001b[39m \u001b[39m \u001b[39m \u001b[39m \u001b[39m \u001b[39m \u001b[39m \u001b[39m \u001b[39m \u001b[39m \u001b[39m \u001b[39m \u001b[39m \u001b[39m \u001b[39m \u001b[39m \u001b[39m \u001b[39m \u001b[39m \u001b[39m \u001b[39m \n",
       "  \u001b[34m█\u001b[39m\u001b[39m▁\u001b[39m▁\u001b[39m▁\u001b[39m▁\u001b[39m▁\u001b[39m▁\u001b[39m▁\u001b[39m▁\u001b[39m▁\u001b[39m▁\u001b[39m▁\u001b[39m▁\u001b[39m▁\u001b[39m▁\u001b[39m▁\u001b[39m▁\u001b[39m▁\u001b[39m▁\u001b[39m▁\u001b[39m▁\u001b[39m▁\u001b[39m▁\u001b[39m▁\u001b[39m▁\u001b[39m▁\u001b[39m▁\u001b[39m▁\u001b[39m▁\u001b[39m▁\u001b[39m▁\u001b[39m▁\u001b[39m▁\u001b[39m▁\u001b[39m▁\u001b[39m▁\u001b[39m▁\u001b[39m▁\u001b[39m▁\u001b[39m▁\u001b[39m▁\u001b[39m▁\u001b[39m▁\u001b[39m▁\u001b[39m▁\u001b[39m▁\u001b[39m▁\u001b[39m▁\u001b[39m \u001b[39m▁\u001b[39m▁\u001b[39m▁\u001b[39m▁\u001b[39m▁\u001b[39m▁\u001b[39m \u001b[39m▁\u001b[39m▁\u001b[39m \u001b[39m▁\n",
       "  5.35 ms\u001b[90m        Histogram: frequency by time\u001b[39m        4.55 ms \u001b[0m\u001b[1m<\u001b[22m\n",
       "\n",
       " Memory estimate\u001b[90m: \u001b[39m\u001b[33m336 bytes\u001b[39m, allocs estimate\u001b[90m: \u001b[39m\u001b[33m6\u001b[39m."
      ]
     },
     "execution_count": 30,
     "metadata": {},
     "output_type": "execute_result"
    }
   ],
   "source": [
    "numpy_sum = pyimport(\"numpy\")[\"sum\"]\n",
    "\n",
    "py_numpy_bench = @benchmark $numpy_sum($a)"
   ]
  },
  {
   "cell_type": "code",
   "execution_count": 31,
   "metadata": {},
   "outputs": [
    {
     "data": {
      "text/plain": [
       "5.001596529905329e6"
      ]
     },
     "execution_count": 31,
     "metadata": {},
     "output_type": "execute_result"
    }
   ],
   "source": [
    "numpy_sum(a)"
   ]
  },
  {
   "cell_type": "code",
   "execution_count": 32,
   "metadata": {},
   "outputs": [
    {
     "data": {
      "text/plain": [
       "true"
      ]
     },
     "execution_count": 32,
     "metadata": {},
     "output_type": "execute_result"
    }
   ],
   "source": [
    "numpy_sum(a) ≈ sum(a)"
   ]
  },
  {
   "cell_type": "code",
   "execution_count": 33,
   "metadata": {
    "scrolled": true
   },
   "outputs": [
    {
     "data": {
      "text/plain": [
       "Dict{Any, Any} with 4 entries:\n",
       "  \"C\"               => 11.6102\n",
       "  \"Python numpy\"    => 4.20387\n",
       "  \"Python built-in\" => 724.151\n",
       "  \"C -ffast-math\"   => 4.377"
      ]
     },
     "execution_count": 33,
     "metadata": {},
     "output_type": "execute_result"
    }
   ],
   "source": [
    "d[\"Python numpy\"] = minimum(py_numpy_bench.times) / 1e6\n",
    "d"
   ]
  },
  {
   "cell_type": "markdown",
   "metadata": {},
   "source": [
    "# 5. Python, hand-written "
   ]
  },
  {
   "cell_type": "code",
   "execution_count": 34,
   "metadata": {},
   "outputs": [
    {
     "data": {
      "text/plain": [
       "PyObject <function py_sum at 0x7fd4872084c0>"
      ]
     },
     "execution_count": 34,
     "metadata": {},
     "output_type": "execute_result"
    }
   ],
   "source": [
    "py\"\"\"\n",
    "def py_sum(A):\n",
    "    s = 0.0\n",
    "    for a in A:\n",
    "        s += a\n",
    "    return s\n",
    "\"\"\"\n",
    "\n",
    "sum_py = py\"py_sum\""
   ]
  },
  {
   "cell_type": "code",
   "execution_count": 35,
   "metadata": {},
   "outputs": [
    {
     "data": {
      "text/plain": [
       "BenchmarkTools.Trial: 6 samples with 1 evaluation.\n",
       " Range \u001b[90m(\u001b[39m\u001b[36m\u001b[1mmin\u001b[22m\u001b[39m … \u001b[35mmax\u001b[39m\u001b[90m):  \u001b[39m\u001b[36m\u001b[1m941.357 ms\u001b[22m\u001b[39m … \u001b[35m995.683 ms\u001b[39m  \u001b[90m┊\u001b[39m GC \u001b[90m(\u001b[39mmin … max\u001b[90m): \u001b[39m0.00% … 0.00%\n",
       " Time  \u001b[90m(\u001b[39m\u001b[34m\u001b[1mmedian\u001b[22m\u001b[39m\u001b[90m):     \u001b[39m\u001b[34m\u001b[1m969.960 ms               \u001b[22m\u001b[39m\u001b[90m┊\u001b[39m GC \u001b[90m(\u001b[39mmedian\u001b[90m):    \u001b[39m0.00%\n",
       " Time  \u001b[90m(\u001b[39m\u001b[32m\u001b[1mmean\u001b[22m\u001b[39m ± \u001b[32mσ\u001b[39m\u001b[90m):   \u001b[39m\u001b[32m\u001b[1m968.470 ms\u001b[22m\u001b[39m ± \u001b[32m 23.532 ms\u001b[39m  \u001b[90m┊\u001b[39m GC \u001b[90m(\u001b[39mmean ± σ\u001b[90m):  \u001b[39m0.00% ± 0.00%\n",
       "\n",
       "  \u001b[34m \u001b[39m\u001b[39m \u001b[39m \u001b[39m \u001b[39m \u001b[39m \u001b[39m \u001b[39m \u001b[39m \u001b[39m \u001b[39m \u001b[39m \u001b[39m \u001b[39m \u001b[39m \u001b[39m \u001b[39m \u001b[39m \u001b[39m \u001b[39m \u001b[39m \u001b[39m \u001b[39m \u001b[39m \u001b[39m \u001b[39m \u001b[39m \u001b[39m \u001b[39m \u001b[39m \u001b[39m \u001b[39m \u001b[39m \u001b[39m \u001b[39m \u001b[39m \u001b[39m \u001b[39m \u001b[39m \u001b[39m \u001b[39m \u001b[39m \u001b[39m \u001b[39m \u001b[39m \u001b[39m \u001b[39m \u001b[39m \u001b[39m \u001b[39m \u001b[39m \u001b[39m \u001b[39m \u001b[39m \u001b[39m \u001b[39m \u001b[39m \u001b[39m \u001b[39m \u001b[39m \u001b[39m \u001b[39m \u001b[39m \n",
       "  \u001b[34m▁\u001b[39m\u001b[39m▁\u001b[39m▁\u001b[39m▁\u001b[39m▁\u001b[39m▁\u001b[39m▁\u001b[39m▁\u001b[39m▁\u001b[39m▁\u001b[39m▁\u001b[39m▁\u001b[39m▁\u001b[39m▁\u001b[39m▁\u001b[39m▁\u001b[39m▁\u001b[39m▁\u001b[39m▁\u001b[39m▁\u001b[39m▁\u001b[39m▁\u001b[39m▁\u001b[39m▁\u001b[39m▁\u001b[39m▁\u001b[39m▁\u001b[39m▁\u001b[39m▁\u001b[39m▁\u001b[39m▁\u001b[39m▁\u001b[39m▁\u001b[39m▁\u001b[39m▁\u001b[39m▁\u001b[39m▁\u001b[39m▁\u001b[39m▁\u001b[39m▁\u001b[39m▁\u001b[39m▁\u001b[39m▁\u001b[39m▁\u001b[39m▁\u001b[39m▁\u001b[39m▁\u001b[39m▁\u001b[39m▁\u001b[39m▁\u001b[39m▁\u001b[39m▁\u001b[39m▁\u001b[39m▁\u001b[39m▁\u001b[39m▁\u001b[39m▁\u001b[39m▁\u001b[39m▁\u001b[39m▁\u001b[39m▁\u001b[39m \u001b[39m▁\n",
       "  992 ms\u001b[90m           Histogram: frequency by time\u001b[39m          965 ms \u001b[0m\u001b[1m<\u001b[22m\n",
       "\n",
       " Memory estimate\u001b[90m: \u001b[39m\u001b[33m336 bytes\u001b[39m, allocs estimate\u001b[90m: \u001b[39m\u001b[33m6\u001b[39m."
      ]
     },
     "execution_count": 35,
     "metadata": {},
     "output_type": "execute_result"
    }
   ],
   "source": [
    "py_hand = @benchmark $sum_py($a)"
   ]
  },
  {
   "cell_type": "code",
   "execution_count": 36,
   "metadata": {},
   "outputs": [
    {
     "data": {
      "text/plain": [
       "5.001596529905427e6"
      ]
     },
     "execution_count": 36,
     "metadata": {},
     "output_type": "execute_result"
    }
   ],
   "source": [
    "sum_py(a)"
   ]
  },
  {
   "cell_type": "code",
   "execution_count": 37,
   "metadata": {},
   "outputs": [
    {
     "data": {
      "text/plain": [
       "true"
      ]
     },
     "execution_count": 37,
     "metadata": {},
     "output_type": "execute_result"
    }
   ],
   "source": [
    "sum_py(a) ≈ sum(a)"
   ]
  },
  {
   "cell_type": "code",
   "execution_count": 38,
   "metadata": {
    "scrolled": true
   },
   "outputs": [
    {
     "data": {
      "text/plain": [
       "Dict{Any, Any} with 5 entries:\n",
       "  \"C\"                   => 11.6102\n",
       "  \"Python numpy\"        => 4.20387\n",
       "  \"Python hand-written\" => 941.357\n",
       "  \"Python built-in\"     => 724.151\n",
       "  \"C -ffast-math\"       => 4.377"
      ]
     },
     "execution_count": 38,
     "metadata": {},
     "output_type": "execute_result"
    }
   ],
   "source": [
    "d[\"Python hand-written\"] = minimum(py_hand.times) / 1e6\n",
    "d"
   ]
  },
  {
   "cell_type": "markdown",
   "metadata": {},
   "source": [
    "# 6. Julia (built-in) \n",
    "\n",
    "## Written directly in Julia, not in C!"
   ]
  },
  {
   "cell_type": "code",
   "execution_count": 39,
   "metadata": {},
   "outputs": [
    {
     "data": {
      "text/html": [
       "sum(a::<b>AbstractArray</b>; <i>dims, kw...</i>) in Base at <a href=\"https://github.com/JuliaLang/julia/tree/1b93d53fc4bb59350ada898038ed4de2994cce33/base/reducedim.jl#L873\" target=\"_blank\">reducedim.jl:873</a>"
      ],
      "text/plain": [
       "sum(a::AbstractArray; dims, kw...) in Base at reducedim.jl:873"
      ]
     },
     "execution_count": 39,
     "metadata": {},
     "output_type": "execute_result"
    }
   ],
   "source": [
    "@which sum(a)"
   ]
  },
  {
   "cell_type": "code",
   "execution_count": 40,
   "metadata": {},
   "outputs": [
    {
     "data": {
      "text/plain": [
       "BenchmarkTools.Trial: 1048 samples with 1 evaluation.\n",
       " Range \u001b[90m(\u001b[39m\u001b[36m\u001b[1mmin\u001b[22m\u001b[39m … \u001b[35mmax\u001b[39m\u001b[90m):  \u001b[39m\u001b[36m\u001b[1m4.170 ms\u001b[22m\u001b[39m … \u001b[35m  9.967 ms\u001b[39m  \u001b[90m┊\u001b[39m GC \u001b[90m(\u001b[39mmin … max\u001b[90m): \u001b[39m0.00% … 0.00%\n",
       " Time  \u001b[90m(\u001b[39m\u001b[34m\u001b[1mmedian\u001b[22m\u001b[39m\u001b[90m):     \u001b[39m\u001b[34m\u001b[1m4.419 ms               \u001b[22m\u001b[39m\u001b[90m┊\u001b[39m GC \u001b[90m(\u001b[39mmedian\u001b[90m):    \u001b[39m0.00%\n",
       " Time  \u001b[90m(\u001b[39m\u001b[32m\u001b[1mmean\u001b[22m\u001b[39m ± \u001b[32mσ\u001b[39m\u001b[90m):   \u001b[39m\u001b[32m\u001b[1m4.752 ms\u001b[22m\u001b[39m ± \u001b[32m900.697 μs\u001b[39m  \u001b[90m┊\u001b[39m GC \u001b[90m(\u001b[39mmean ± σ\u001b[90m):  \u001b[39m0.00% ± 0.00%\n",
       "\n",
       "  \u001b[34m█\u001b[39m\u001b[39m \u001b[39m \u001b[39m \u001b[39m \u001b[39m \u001b[39m \u001b[39m \u001b[39m \u001b[39m \u001b[39m \u001b[39m \u001b[39m \u001b[39m \u001b[39m \u001b[39m \u001b[39m \u001b[39m \u001b[39m \u001b[39m \u001b[39m \u001b[39m \u001b[39m \u001b[39m \u001b[39m \u001b[39m \u001b[39m \u001b[39m \u001b[39m \u001b[39m \u001b[39m \u001b[39m \u001b[39m \u001b[39m \u001b[39m \u001b[39m \u001b[39m \u001b[39m \u001b[39m \u001b[39m \u001b[39m \u001b[39m \u001b[39m \u001b[39m \u001b[39m \u001b[39m \u001b[39m \u001b[39m \u001b[39m \u001b[39m \u001b[39m \u001b[39m \u001b[39m \u001b[39m \u001b[39m \u001b[39m \u001b[39m \u001b[39m \u001b[39m \u001b[39m \u001b[39m \n",
       "  \u001b[34m█\u001b[39m\u001b[39m▁\u001b[39m▁\u001b[39m▁\u001b[39m▁\u001b[39m▁\u001b[39m▁\u001b[39m▁\u001b[39m▁\u001b[39m▁\u001b[39m▁\u001b[39m▁\u001b[39m▁\u001b[39m▁\u001b[39m▁\u001b[39m▁\u001b[39m▁\u001b[39m▁\u001b[39m▁\u001b[39m▁\u001b[39m▁\u001b[39m▁\u001b[39m▁\u001b[39m▁\u001b[39m▁\u001b[39m▁\u001b[39m▁\u001b[39m▁\u001b[39m▁\u001b[39m▁\u001b[39m▁\u001b[39m▁\u001b[39m▁\u001b[39m▁\u001b[39m▁\u001b[39m▁\u001b[39m▁\u001b[39m▁\u001b[39m▁\u001b[39m▁\u001b[39m▁\u001b[39m▁\u001b[39m▁\u001b[39m▁\u001b[39m▁\u001b[39m▁\u001b[39m▁\u001b[39m▁\u001b[39m▁\u001b[39m▁\u001b[39m▁\u001b[39m▁\u001b[39m▁\u001b[39m▁\u001b[39m▁\u001b[39m▁\u001b[39m▁\u001b[39m▁\u001b[39m▁\u001b[39m \u001b[39m▁\n",
       "  5 ms\u001b[90m            Histogram: frequency by time\u001b[39m         4.4 ms \u001b[0m\u001b[1m<\u001b[22m\n",
       "\n",
       " Memory estimate\u001b[90m: \u001b[39m\u001b[33m0 bytes\u001b[39m, allocs estimate\u001b[90m: \u001b[39m\u001b[33m0\u001b[39m."
      ]
     },
     "execution_count": 40,
     "metadata": {},
     "output_type": "execute_result"
    }
   ],
   "source": [
    "j_bench = @benchmark sum($a)"
   ]
  },
  {
   "cell_type": "code",
   "execution_count": 41,
   "metadata": {
    "scrolled": true
   },
   "outputs": [
    {
     "data": {
      "text/plain": [
       "Dict{Any, Any} with 6 entries:\n",
       "  \"C\"                   => 11.6102\n",
       "  \"Python numpy\"        => 4.20387\n",
       "  \"Python hand-written\" => 941.357\n",
       "  \"Python built-in\"     => 724.151\n",
       "  \"Julia built-in\"      => 4.17017\n",
       "  \"C -ffast-math\"       => 4.377"
      ]
     },
     "execution_count": 41,
     "metadata": {},
     "output_type": "execute_result"
    }
   ],
   "source": [
    "d[\"Julia built-in\"] = minimum(j_bench.times) / 1e6\n",
    "d"
   ]
  },
  {
   "cell_type": "markdown",
   "metadata": {},
   "source": [
    "# 7. Julia (hand-written) "
   ]
  },
  {
   "cell_type": "code",
   "execution_count": 42,
   "metadata": {
    "scrolled": true
   },
   "outputs": [
    {
     "data": {
      "text/plain": [
       "mysum (generic function with 1 method)"
      ]
     },
     "execution_count": 42,
     "metadata": {},
     "output_type": "execute_result"
    }
   ],
   "source": [
    "function mysum(A)   \n",
    "    s = 0.0 # s = zero(eltype(a))\n",
    "    for a in A\n",
    "        s += a\n",
    "    end\n",
    "    s\n",
    "end"
   ]
  },
  {
   "cell_type": "code",
   "execution_count": null,
   "metadata": {},
   "outputs": [],
   "source": [
    "j_bench_hand = @benchmark mysum($a)"
   ]
  },
  {
   "cell_type": "code",
   "execution_count": 44,
   "metadata": {
    "scrolled": true
   },
   "outputs": [
    {
     "data": {
      "text/plain": [
       "Dict{Any, Any} with 7 entries:\n",
       "  \"C\"                   => 11.6102\n",
       "  \"Python numpy\"        => 4.20387\n",
       "  \"Julia hand-written\"  => 11.8939\n",
       "  \"Python hand-written\" => 941.357\n",
       "  \"Python built-in\"     => 724.151\n",
       "  \"Julia built-in\"      => 4.17017\n",
       "  \"C -ffast-math\"       => 4.377"
      ]
     },
     "execution_count": 44,
     "metadata": {},
     "output_type": "execute_result"
    }
   ],
   "source": [
    "d[\"Julia hand-written\"] = minimum(j_bench_hand.times) / 1e6\n",
    "d"
   ]
  },
  {
   "cell_type": "markdown",
   "metadata": {},
   "source": [
    "# 8. Julia (hand-written w. simd) "
   ]
  },
  {
   "cell_type": "code",
   "execution_count": 53,
   "metadata": {},
   "outputs": [
    {
     "data": {
      "text/plain": [
       "mysum_simd (generic function with 1 method)"
      ]
     },
     "execution_count": 53,
     "metadata": {},
     "output_type": "execute_result"
    }
   ],
   "source": [
    "function mysum_simd(A)   \n",
    "    s = 0.0 # s = zero(eltype(A))\n",
    "    @simd for a in A\n",
    "        @inbounds s += a\n",
    "    end\n",
    "    s\n",
    "end"
   ]
  },
  {
   "cell_type": "code",
   "execution_count": 54,
   "metadata": {},
   "outputs": [
    {
     "data": {
      "text/plain": [
       "BenchmarkTools.Trial: 1047 samples with 1 evaluation.\n",
       " Range \u001b[90m(\u001b[39m\u001b[36m\u001b[1mmin\u001b[22m\u001b[39m … \u001b[35mmax\u001b[39m\u001b[90m):  \u001b[39m\u001b[36m\u001b[1m4.086 ms\u001b[22m\u001b[39m … \u001b[35m  9.585 ms\u001b[39m  \u001b[90m┊\u001b[39m GC \u001b[90m(\u001b[39mmin … max\u001b[90m): \u001b[39m0.00% … 0.00%\n",
       " Time  \u001b[90m(\u001b[39m\u001b[34m\u001b[1mmedian\u001b[22m\u001b[39m\u001b[90m):     \u001b[39m\u001b[34m\u001b[1m4.594 ms               \u001b[22m\u001b[39m\u001b[90m┊\u001b[39m GC \u001b[90m(\u001b[39mmedian\u001b[90m):    \u001b[39m0.00%\n",
       " Time  \u001b[90m(\u001b[39m\u001b[32m\u001b[1mmean\u001b[22m\u001b[39m ± \u001b[32mσ\u001b[39m\u001b[90m):   \u001b[39m\u001b[32m\u001b[1m4.757 ms\u001b[22m\u001b[39m ± \u001b[32m613.184 μs\u001b[39m  \u001b[90m┊\u001b[39m GC \u001b[90m(\u001b[39mmean ± σ\u001b[90m):  \u001b[39m0.00% ± 0.00%\n",
       "\n",
       "  \u001b[34m█\u001b[39m\u001b[39m \u001b[39m \u001b[39m \u001b[39m \u001b[39m \u001b[39m \u001b[39m \u001b[39m \u001b[39m \u001b[39m \u001b[39m \u001b[39m \u001b[39m \u001b[39m \u001b[39m \u001b[39m \u001b[39m \u001b[39m \u001b[39m \u001b[39m \u001b[39m \u001b[39m \u001b[39m \u001b[39m \u001b[39m \u001b[39m \u001b[39m \u001b[39m \u001b[39m \u001b[39m \u001b[39m \u001b[39m \u001b[39m \u001b[39m \u001b[39m \u001b[39m \u001b[39m \u001b[39m \u001b[39m \u001b[39m \u001b[39m \u001b[39m \u001b[39m \u001b[39m \u001b[39m \u001b[39m \u001b[39m \u001b[39m \u001b[39m \u001b[39m \u001b[39m \u001b[39m \u001b[39m \u001b[39m \u001b[39m \u001b[39m \u001b[39m \u001b[39m \u001b[39m \u001b[39m \n",
       "  \u001b[34m█\u001b[39m\u001b[39m▁\u001b[39m▁\u001b[39m▁\u001b[39m▁\u001b[39m▁\u001b[39m▁\u001b[39m▁\u001b[39m▁\u001b[39m▁\u001b[39m▁\u001b[39m▁\u001b[39m▁\u001b[39m▁\u001b[39m▁\u001b[39m▁\u001b[39m▁\u001b[39m▁\u001b[39m▁\u001b[39m▁\u001b[39m▁\u001b[39m▁\u001b[39m▁\u001b[39m▁\u001b[39m▁\u001b[39m▁\u001b[39m▁\u001b[39m▁\u001b[39m▁\u001b[39m▁\u001b[39m▁\u001b[39m▁\u001b[39m▁\u001b[39m▁\u001b[39m▁\u001b[39m▁\u001b[39m▁\u001b[39m▁\u001b[39m▁\u001b[39m▁\u001b[39m▁\u001b[39m▁\u001b[39m▁\u001b[39m▁\u001b[39m▁\u001b[39m▁\u001b[39m▁\u001b[39m▁\u001b[39m▁\u001b[39m▁\u001b[39m▁\u001b[39m▁\u001b[39m▁\u001b[39m▁\u001b[39m▁\u001b[39m▁\u001b[39m▁\u001b[39m▁\u001b[39m▁\u001b[39m \u001b[39m▂\n",
       "  4.96 ms\u001b[90m         Histogram: frequency by time\u001b[39m        4.93 ms \u001b[0m\u001b[1m<\u001b[22m\n",
       "\n",
       " Memory estimate\u001b[90m: \u001b[39m\u001b[33m0 bytes\u001b[39m, allocs estimate\u001b[90m: \u001b[39m\u001b[33m0\u001b[39m."
      ]
     },
     "execution_count": 54,
     "metadata": {},
     "output_type": "execute_result"
    }
   ],
   "source": [
    "j_bench_hand_simd = @benchmark mysum_simd($a)"
   ]
  },
  {
   "cell_type": "code",
   "execution_count": 47,
   "metadata": {},
   "outputs": [
    {
     "data": {
      "text/plain": [
       "5.0015965299053285e6"
      ]
     },
     "execution_count": 47,
     "metadata": {},
     "output_type": "execute_result"
    }
   ],
   "source": [
    "mysum_simd(a)"
   ]
  },
  {
   "cell_type": "code",
   "execution_count": 55,
   "metadata": {
    "scrolled": true
   },
   "outputs": [
    {
     "data": {
      "text/plain": [
       "Dict{Any, Any} with 8 entries:\n",
       "  \"Julia hand-written simd\" => 4.08637\n",
       "  \"C\"                       => 11.6102\n",
       "  \"Python numpy\"            => 4.20387\n",
       "  \"Julia hand-written\"      => 11.8939\n",
       "  \"Python hand-written\"     => 941.357\n",
       "  \"Python built-in\"         => 724.151\n",
       "  \"Julia built-in\"          => 4.17017\n",
       "  \"C -ffast-math\"           => 4.377"
      ]
     },
     "execution_count": 55,
     "metadata": {},
     "output_type": "execute_result"
    }
   ],
   "source": [
    "d[\"Julia hand-written simd\"] = minimum(j_bench_hand_simd.times) / 1e6\n",
    "d"
   ]
  },
  {
   "cell_type": "markdown",
   "metadata": {},
   "source": [
    "# Summary"
   ]
  },
  {
   "cell_type": "code",
   "execution_count": 49,
   "metadata": {
    "scrolled": true
   },
   "outputs": [
    {
     "name": "stdout",
     "output_type": "stream",
     "text": [
      "Julia hand-written simd.......4.076\n",
      "Julia built-in...............4.1702\n",
      "Python numpy.................4.2039\n",
      "C -ffast-math.................4.377\n",
      "C...........................11.6102\n",
      "Julia hand-written..........11.8939\n",
      "Python built-in............724.1514\n",
      "Python hand-written........941.3575\n"
     ]
    }
   ],
   "source": [
    "for (key, value) in sort(collect(d), by=last)\n",
    "    println(rpad(key, 25, \".\"), lpad(round(value; digits=4), 10, \".\"))\n",
    "end"
   ]
  },
  {
   "cell_type": "code",
   "execution_count": 57,
   "metadata": {},
   "outputs": [
    {
     "data": {
      "text/plain": [
       "6"
      ]
     },
     "execution_count": 57,
     "metadata": {},
     "output_type": "execute_result"
    }
   ],
   "source": [
    "α = 3\n",
    "∇f(u) = α*u; ∇f(2)"
   ]
  },
  {
   "cell_type": "code",
   "execution_count": 58,
   "metadata": {},
   "outputs": [
    {
     "name": "stdout",
     "output_type": "stream",
     "text": [
      "\u001b[90m;  @ int.jl:88 within `*'\u001b[39m\n",
      "\u001b[95mdefine\u001b[39m \u001b[36mi64\u001b[39m \u001b[93m@\"julia_\u001b[39m\u001b[0m*\u001b[0m_7137\"\u001b[33m(\u001b[39m\u001b[36mi64\u001b[39m \u001b[95msignext\u001b[39m \u001b[0m%0\u001b[0m, \u001b[36mi64\u001b[39m \u001b[95msignext\u001b[39m \u001b[0m%1\u001b[33m)\u001b[39m \u001b[33m{\u001b[39m\n",
      "\u001b[91mtop:\u001b[39m\n",
      "  \u001b[0m%2 \u001b[0m= \u001b[96m\u001b[1mmul\u001b[22m\u001b[39m \u001b[36mi64\u001b[39m \u001b[0m%1\u001b[0m, \u001b[0m%0\n",
      "  \u001b[96m\u001b[1mret\u001b[22m\u001b[39m \u001b[36mi64\u001b[39m \u001b[0m%2\n",
      "\u001b[33m}\u001b[39m\n"
     ]
    }
   ],
   "source": [
    "@code_llvm 2*5\n"
   ]
  },
  {
   "cell_type": "code",
   "execution_count": 59,
   "metadata": {},
   "outputs": [
    {
     "data": {
      "text/plain": [
       "0.03125"
      ]
     },
     "execution_count": 59,
     "metadata": {},
     "output_type": "execute_result"
    }
   ],
   "source": [
    "2^-5"
   ]
  },
  {
   "cell_type": "code",
   "execution_count": 60,
   "metadata": {},
   "outputs": [
    {
     "data": {
      "text/plain": [
       "32"
      ]
     },
     "execution_count": 60,
     "metadata": {},
     "output_type": "execute_result"
    }
   ],
   "source": [
    "2^5\n"
   ]
  },
  {
   "cell_type": "code",
   "execution_count": 61,
   "metadata": {},
   "outputs": [
    {
     "data": {
      "text/plain": [
       "0.03125"
      ]
     },
     "execution_count": 61,
     "metadata": {},
     "output_type": "execute_result"
    }
   ],
   "source": [
    "2^-5"
   ]
  },
  {
   "cell_type": "code",
   "execution_count": 63,
   "metadata": {},
   "outputs": [
    {
     "data": {
      "text/html": [
       "^(x::<b>T</b>, p::<b>T</b>)<i> where T<:Integer</i> in Base at <a href=\"https://github.com/JuliaLang/julia/tree/1b93d53fc4bb59350ada898038ed4de2994cce33/base/intfuncs.jl#L290\" target=\"_blank\">intfuncs.jl:290</a>"
      ],
      "text/plain": [
       "^(x::T, p::T) where T<:Integer in Base at intfuncs.jl:290"
      ]
     },
     "execution_count": 63,
     "metadata": {},
     "output_type": "execute_result"
    }
   ],
   "source": [
    "@which 2^-5"
   ]
  },
  {
   "cell_type": "code",
   "execution_count": 64,
   "metadata": {},
   "outputs": [
    {
     "data": {
      "text/plain": [
       "sumofsins1 (generic function with 1 method)"
      ]
     },
     "execution_count": 64,
     "metadata": {},
     "output_type": "execute_result"
    }
   ],
   "source": [
    "function sumofsins1(n::Integer)\n",
    "    r = 0\n",
    "    for i in 1:n\n",
    "        r += sin(3.4)\n",
    "    end\n",
    "    return r\n",
    "end"
   ]
  },
  {
   "cell_type": "code",
   "execution_count": 65,
   "metadata": {},
   "outputs": [
    {
     "data": {
      "text/plain": [
       "10000"
      ]
     },
     "execution_count": 65,
     "metadata": {},
     "output_type": "execute_result"
    }
   ],
   "source": [
    "100_00"
   ]
  },
  {
   "cell_type": "code",
   "execution_count": 66,
   "metadata": {},
   "outputs": [
    {
     "data": {
      "text/plain": [
       "-25554.110202663698"
      ]
     },
     "execution_count": 66,
     "metadata": {},
     "output_type": "execute_result"
    }
   ],
   "source": [
    "sumofsins1(100_000)  \n"
   ]
  },
  {
   "cell_type": "code",
   "execution_count": 67,
   "metadata": {},
   "outputs": [
    {
     "data": {
      "text/plain": [
       "sumofsins2 (generic function with 1 method)"
      ]
     },
     "execution_count": 67,
     "metadata": {},
     "output_type": "execute_result"
    }
   ],
   "source": [
    "function sumofsins2(n::Integer)\n",
    "    r = 0.0\n",
    "    for i in 1:n\n",
    "        r += sin(3.4)\n",
    "    end\n",
    "    return r\n",
    "end"
   ]
  },
  {
   "cell_type": "code",
   "execution_count": 68,
   "metadata": {},
   "outputs": [
    {
     "data": {
      "text/plain": [
       "-25554.110202663698"
      ]
     },
     "execution_count": 68,
     "metadata": {},
     "output_type": "execute_result"
    }
   ],
   "source": [
    "sumofsins2(100_000)  \n"
   ]
  },
  {
   "cell_type": "code",
   "execution_count": 69,
   "metadata": {},
   "outputs": [
    {
     "name": "stdout",
     "output_type": "stream",
     "text": [
      "  0.402020 seconds (114.72 k allocations: 7.148 MiB, 67.37% gc time, 93.23% compilation time)\n"
     ]
    }
   ],
   "source": [
    "@time [sumofsins1(100_000) for i in 1:100];  \n"
   ]
  },
  {
   "cell_type": "code",
   "execution_count": 70,
   "metadata": {},
   "outputs": [
    {
     "name": "stdout",
     "output_type": "stream",
     "text": [
      "  0.107550 seconds (110.03 k allocations: 6.921 MiB, 74.05% compilation time)\n"
     ]
    }
   ],
   "source": [
    "@time [sumofsins2(100_000) for i in 1:100];  \n"
   ]
  },
  {
   "cell_type": "code",
   "execution_count": 71,
   "metadata": {},
   "outputs": [
    {
     "name": "stdout",
     "output_type": "stream",
     "text": [
      "  0.077988 seconds (110.03 k allocations: 6.921 MiB, 83.72% compilation time)\n"
     ]
    }
   ],
   "source": [
    "@time [sumofsins2(100_000) for i in 1:100];  \n"
   ]
  },
  {
   "cell_type": "code",
   "execution_count": 72,
   "metadata": {},
   "outputs": [
    {
     "name": "stdout",
     "output_type": "stream",
     "text": [
      "  0.075641 seconds (110.03 k allocations: 6.921 MiB, 83.47% compilation time)\n"
     ]
    }
   ],
   "source": [
    "@time [sumofsins2(100_000) for i in 1:100];  \n"
   ]
  },
  {
   "cell_type": "code",
   "execution_count": 73,
   "metadata": {},
   "outputs": [
    {
     "name": "stdout",
     "output_type": "stream",
     "text": [
      "  0.075624 seconds (110.03 k allocations: 6.921 MiB, 83.07% compilation time)\n"
     ]
    }
   ],
   "source": [
    "@time [sumofsins2(100_000) for i in 1:100];  \n"
   ]
  },
  {
   "cell_type": "code",
   "execution_count": 74,
   "metadata": {},
   "outputs": [
    {
     "name": "stdout",
     "output_type": "stream",
     "text": [
      "  0.085725 seconds (114.69 k allocations: 7.146 MiB, 70.72% compilation time)\n"
     ]
    }
   ],
   "source": [
    "@time [sumofsins1(100_000) for i in 1:100];  \n"
   ]
  },
  {
   "cell_type": "code",
   "execution_count": 75,
   "metadata": {},
   "outputs": [
    {
     "name": "stdout",
     "output_type": "stream",
     "text": [
      "  0.084017 seconds (114.69 k allocations: 7.146 MiB, 70.01% compilation time)\n"
     ]
    }
   ],
   "source": [
    "@time [sumofsins1(100_000) for i in 1:100];  \n"
   ]
  },
  {
   "cell_type": "code",
   "execution_count": 80,
   "metadata": {},
   "outputs": [
    {
     "name": "stdout",
     "output_type": "stream",
     "text": [
      "\u001b[90m;  @ In[64]:1 within `sumofsins1'\u001b[39m\n",
      "\u001b[95mdefine\u001b[39m \u001b[33m{\u001b[39m \u001b[33m{\u001b[39m\u001b[33m}\u001b[39m\u001b[0m*\u001b[0m, \u001b[36mi8\u001b[39m \u001b[33m}\u001b[39m \u001b[93m@julia_sumofsins1_7314\u001b[39m\u001b[33m(\u001b[39m\u001b[33m[\u001b[39m\u001b[33m8\u001b[39m \u001b[0mx \u001b[36mi8\u001b[39m\u001b[33m]\u001b[39m\u001b[0m* \u001b[95mnoalias\u001b[39m \u001b[95mnocapture\u001b[39m \u001b[95malign\u001b[39m \u001b[33m8\u001b[39m \u001b[95mdereferenceable\u001b[39m\u001b[33m(\u001b[39m\u001b[33m8\u001b[39m\u001b[33m)\u001b[39m \u001b[0m%0\u001b[0m, \u001b[36mi64\u001b[39m \u001b[95msignext\u001b[39m \u001b[0m%1\u001b[33m)\u001b[39m \u001b[33m{\u001b[39m\n",
      "\u001b[91mtop:\u001b[39m\n",
      "\u001b[90m;  @ In[64]:3 within `sumofsins1'\u001b[39m\n",
      "\u001b[90m; ┌ @ range.jl:5 within `Colon'\u001b[39m\n",
      "\u001b[90m; │┌ @ range.jl:287 within `UnitRange'\u001b[39m\n",
      "\u001b[90m; ││┌ @ range.jl:292 within `unitrange_last'\u001b[39m\n",
      "     \u001b[0m%.inv \u001b[0m= \u001b[96m\u001b[1micmp\u001b[22m\u001b[39m \u001b[96m\u001b[1msgt\u001b[22m\u001b[39m \u001b[36mi64\u001b[39m \u001b[0m%1\u001b[0m, \u001b[33m0\u001b[39m\n",
      "     \u001b[0m%2 \u001b[0m= \u001b[96m\u001b[1mselect\u001b[22m\u001b[39m \u001b[36mi1\u001b[39m \u001b[0m%.inv\u001b[0m, \u001b[36mi64\u001b[39m \u001b[0m%1\u001b[0m, \u001b[36mi64\u001b[39m \u001b[33m0\u001b[39m\n",
      "\u001b[90m; └└└\u001b[39m\n",
      "  \u001b[96m\u001b[1mbr\u001b[22m\u001b[39m \u001b[36mi1\u001b[39m \u001b[0m%.inv\u001b[0m, \u001b[36mlabel\u001b[39m \u001b[91m%L11\u001b[39m\u001b[0m, \u001b[36mlabel\u001b[39m \u001b[91m%union_move8\u001b[39m\n",
      "\n",
      "\u001b[91mL11:\u001b[39m                                              \u001b[90m; preds = %L49, %top\u001b[39m\n",
      "\u001b[90m; ┌ @ range.jl:670 within `iterate'\u001b[39m\n",
      "   \u001b[0m%.sroa.014.0 \u001b[0m= \u001b[96m\u001b[1mphi\u001b[22m\u001b[39m \u001b[36mi64\u001b[39m \u001b[33m[\u001b[39m \u001b[0m%8\u001b[0m, \u001b[91m%L49\u001b[39m \u001b[33m]\u001b[39m\u001b[0m, \u001b[33m[\u001b[39m \u001b[33m0\u001b[39m\u001b[0m, \u001b[91m%top\u001b[39m \u001b[33m]\u001b[39m\n",
      "   \u001b[0m%value_phi2 \u001b[0m= \u001b[96m\u001b[1mphi\u001b[22m\u001b[39m \u001b[36mi64\u001b[39m \u001b[33m[\u001b[39m \u001b[0m%7\u001b[0m, \u001b[91m%L49\u001b[39m \u001b[33m]\u001b[39m\u001b[0m, \u001b[33m[\u001b[39m \u001b[33m1\u001b[39m\u001b[0m, \u001b[91m%top\u001b[39m \u001b[33m]\u001b[39m\n",
      "   \u001b[0m%3 \u001b[0m= \u001b[96m\u001b[1mphi\u001b[22m\u001b[39m \u001b[36mi1\u001b[39m \u001b[33m[\u001b[39m \u001b[95mfalse\u001b[39m\u001b[0m, \u001b[91m%L49\u001b[39m \u001b[33m]\u001b[39m\u001b[0m, \u001b[33m[\u001b[39m \u001b[95mtrue\u001b[39m\u001b[0m, \u001b[91m%top\u001b[39m \u001b[33m]\u001b[39m\n",
      "   \u001b[0m%4 \u001b[0m= \u001b[96m\u001b[1mphi\u001b[22m\u001b[39m \u001b[36mi1\u001b[39m \u001b[33m[\u001b[39m \u001b[95mtrue\u001b[39m\u001b[0m, \u001b[91m%L49\u001b[39m \u001b[33m]\u001b[39m\u001b[0m, \u001b[33m[\u001b[39m \u001b[95mfalse\u001b[39m\u001b[0m, \u001b[91m%top\u001b[39m \u001b[33m]\u001b[39m\n",
      "\u001b[90m; └\u001b[39m\n",
      "\u001b[90m;  @ In[64]:4 within `sumofsins1'\u001b[39m\n",
      "  \u001b[96m\u001b[1mbr\u001b[22m\u001b[39m \u001b[36mi1\u001b[39m \u001b[0m%3\u001b[0m, \u001b[36mlabel\u001b[39m \u001b[91m%L31\u001b[39m\u001b[0m, \u001b[36mlabel\u001b[39m \u001b[91m%L28\u001b[39m\n",
      "\n",
      "\u001b[91mL28:\u001b[39m                                              \u001b[90m; preds = %L11\u001b[39m\n",
      "\u001b[90m; ┌ @ float.jl:326 within `+'\u001b[39m\n",
      "   \u001b[0m%5 \u001b[0m= \u001b[96m\u001b[1mbitcast\u001b[22m\u001b[39m \u001b[36mi64\u001b[39m \u001b[0m%.sroa.014.0 \u001b[95mto\u001b[39m \u001b[36mdouble\u001b[39m\n",
      "\u001b[90m; └\u001b[39m\n",
      "\u001b[90m;  @ In[64]:3 within `sumofsins1'\u001b[39m\n",
      "\u001b[90m; ┌ @ range.jl:670 within `iterate'\u001b[39m\n",
      "   \u001b[96m\u001b[1mbr\u001b[22m\u001b[39m \u001b[36mlabel\u001b[39m \u001b[91m%L39\u001b[39m\n",
      "\n",
      "\u001b[91mL31:\u001b[39m                                              \u001b[90m; preds = %L11\u001b[39m\n",
      "\u001b[90m; └\u001b[39m\n",
      "\u001b[90m;  @ In[64]:4 within `sumofsins1'\u001b[39m\n",
      "  \u001b[96m\u001b[1mbr\u001b[22m\u001b[39m \u001b[36mi1\u001b[39m \u001b[0m%4\u001b[0m, \u001b[36mlabel\u001b[39m \u001b[91m%L37\u001b[39m\u001b[0m, \u001b[36mlabel\u001b[39m \u001b[91m%L33\u001b[39m\n",
      "\n",
      "\u001b[91mL33:\u001b[39m                                              \u001b[90m; preds = %L31\u001b[39m\n",
      "\u001b[90m; ┌ @ promotion.jl:321 within `+'\u001b[39m\n",
      "\u001b[90m; │┌ @ promotion.jl:292 within `promote'\u001b[39m\n",
      "\u001b[90m; ││┌ @ promotion.jl:269 within `_promote'\u001b[39m\n",
      "\u001b[90m; │││┌ @ number.jl:7 within `convert'\u001b[39m\n",
      "\u001b[90m; ││││┌ @ float.jl:94 within `Float64'\u001b[39m\n",
      "       \u001b[0m%6 \u001b[0m= \u001b[96m\u001b[1msitofp\u001b[22m\u001b[39m \u001b[36mi64\u001b[39m \u001b[0m%.sroa.014.0 \u001b[95mto\u001b[39m \u001b[36mdouble\u001b[39m\n",
      "\u001b[90m; └└└└└\u001b[39m\n",
      "\u001b[90m;  @ In[64]:3 within `sumofsins1'\u001b[39m\n",
      "\u001b[90m; ┌ @ range.jl:670 within `iterate'\u001b[39m\n",
      "   \u001b[96m\u001b[1mbr\u001b[22m\u001b[39m \u001b[36mlabel\u001b[39m \u001b[91m%L39\u001b[39m\n",
      "\n",
      "\u001b[91mL37:\u001b[39m                                              \u001b[90m; preds = %L31\u001b[39m\n",
      "\u001b[90m; └\u001b[39m\n",
      "\u001b[90m;  @ In[64]:4 within `sumofsins1'\u001b[39m\n",
      "  \u001b[96m\u001b[1mcall\u001b[22m\u001b[39m \u001b[36mvoid\u001b[39m \u001b[93m@jl_throw\u001b[39m\u001b[33m(\u001b[39m\u001b[33m{\u001b[39m\u001b[33m}\u001b[39m\u001b[0m* \u001b[95minttoptr\u001b[39m \u001b[33m(\u001b[39m\u001b[36mi64\u001b[39m \u001b[33m4515526624\u001b[39m \u001b[95mto\u001b[39m \u001b[33m{\u001b[39m\u001b[33m}\u001b[39m\u001b[0m*\u001b[33m)\u001b[39m\u001b[33m)\u001b[39m\n",
      "  \u001b[96m\u001b[1munreachable\u001b[22m\u001b[39m\n",
      "\n",
      "\u001b[91mL39:\u001b[39m                                              \u001b[90m; preds = %L33, %L28\u001b[39m\n",
      "  \u001b[0m%value_phi3.in \u001b[0m= \u001b[96m\u001b[1mphi\u001b[22m\u001b[39m \u001b[36mdouble\u001b[39m \u001b[33m[\u001b[39m \u001b[0m%5\u001b[0m, \u001b[91m%L28\u001b[39m \u001b[33m]\u001b[39m\u001b[0m, \u001b[33m[\u001b[39m \u001b[0m%6\u001b[0m, \u001b[91m%L33\u001b[39m \u001b[33m]\u001b[39m\n",
      "\u001b[90m;  @ In[64] within `sumofsins1'\u001b[39m\n",
      "  \u001b[0m%value_phi3 \u001b[0m= \u001b[96m\u001b[1mfadd\u001b[22m\u001b[39m \u001b[36mdouble\u001b[39m \u001b[0m%value_phi3.in\u001b[0m, \u001b[33m0xBFD05AC910FF4C6C\u001b[39m\n",
      "\u001b[90m;  @ In[64]:4 within `sumofsins1'\u001b[39m\n",
      "\u001b[90m; ┌ @ range.jl:674 within `iterate'\u001b[39m\n",
      "\u001b[90m; │┌ @ promotion.jl:410 within `=='\u001b[39m\n",
      "    \u001b[0m%.not.not \u001b[0m= \u001b[96m\u001b[1micmp\u001b[22m\u001b[39m \u001b[96m\u001b[1meq\u001b[22m\u001b[39m \u001b[36mi64\u001b[39m \u001b[0m%value_phi2\u001b[0m, \u001b[0m%2\n",
      "\u001b[90m; └└\u001b[39m\n",
      "  \u001b[96m\u001b[1mbr\u001b[22m\u001b[39m \u001b[36mi1\u001b[39m \u001b[0m%.not.not\u001b[0m, \u001b[36mlabel\u001b[39m \u001b[91m%union_move\u001b[39m\u001b[0m, \u001b[36mlabel\u001b[39m \u001b[91m%L49\u001b[39m\n",
      "\n",
      "\u001b[91mL49:\u001b[39m                                              \u001b[90m; preds = %L39\u001b[39m\n",
      "\u001b[90m; ┌ @ range.jl:674 within `iterate'\u001b[39m\n",
      "   \u001b[0m%7 \u001b[0m= \u001b[96m\u001b[1madd\u001b[22m\u001b[39m \u001b[95mnuw\u001b[39m \u001b[36mi64\u001b[39m \u001b[0m%value_phi2\u001b[0m, \u001b[33m1\u001b[39m\n",
      "\u001b[90m; └\u001b[39m\n",
      "\u001b[90m;  @ In[64]:3 within `sumofsins1'\u001b[39m\n",
      "\u001b[90m; ┌ @ range.jl:670 within `iterate'\u001b[39m\n",
      "   \u001b[0m%8 \u001b[0m= \u001b[96m\u001b[1mbitcast\u001b[22m\u001b[39m \u001b[36mdouble\u001b[39m \u001b[0m%value_phi3 \u001b[95mto\u001b[39m \u001b[36mi64\u001b[39m\n",
      "   \u001b[96m\u001b[1mbr\u001b[22m\u001b[39m \u001b[36mlabel\u001b[39m \u001b[91m%L11\u001b[39m\n",
      "\n",
      "\u001b[91mpost_union_move:\u001b[39m                                  \u001b[90m; preds = %union_move8, %union_move\u001b[39m\n",
      "   \u001b[0m%tindex_phi622 \u001b[0m= \u001b[96m\u001b[1mphi\u001b[22m\u001b[39m \u001b[36mi8\u001b[39m \u001b[33m[\u001b[39m \u001b[33m2\u001b[39m\u001b[0m, \u001b[91m%union_move8\u001b[39m \u001b[33m]\u001b[39m\u001b[0m, \u001b[33m[\u001b[39m \u001b[33m1\u001b[39m\u001b[0m, \u001b[91m%union_move\u001b[39m \u001b[33m]\u001b[39m\n",
      "\u001b[90m; └\u001b[39m\n",
      "\u001b[90m;  @ In[64]:6 within `sumofsins1'\u001b[39m\n",
      "  \u001b[0m%9 \u001b[0m= \u001b[96m\u001b[1minsertvalue\u001b[22m\u001b[39m \u001b[33m{\u001b[39m \u001b[33m{\u001b[39m\u001b[33m}\u001b[39m\u001b[0m*\u001b[0m, \u001b[36mi8\u001b[39m \u001b[33m}\u001b[39m \u001b[33m{\u001b[39m \u001b[33m{\u001b[39m\u001b[33m}\u001b[39m\u001b[0m* \u001b[95mnull\u001b[39m\u001b[0m, \u001b[36mi8\u001b[39m \u001b[95mundef\u001b[39m \u001b[33m}\u001b[39m\u001b[0m, \u001b[36mi8\u001b[39m \u001b[0m%tindex_phi622\u001b[0m, \u001b[33m1\u001b[39m\n",
      "  \u001b[96m\u001b[1mret\u001b[22m\u001b[39m \u001b[33m{\u001b[39m \u001b[33m{\u001b[39m\u001b[33m}\u001b[39m\u001b[0m*\u001b[0m, \u001b[36mi8\u001b[39m \u001b[33m}\u001b[39m \u001b[0m%9\n",
      "\n",
      "\u001b[91munion_move:\u001b[39m                                       \u001b[90m; preds = %L39\u001b[39m\n",
      "  \u001b[0m%10 \u001b[0m= \u001b[96m\u001b[1mbitcast\u001b[22m\u001b[39m \u001b[33m[\u001b[39m\u001b[33m8\u001b[39m \u001b[0mx \u001b[36mi8\u001b[39m\u001b[33m]\u001b[39m\u001b[0m* \u001b[0m%0 \u001b[95mto\u001b[39m \u001b[36mdouble\u001b[39m\u001b[0m*\n",
      "  \u001b[96m\u001b[1mstore\u001b[22m\u001b[39m \u001b[36mdouble\u001b[39m \u001b[0m%value_phi3\u001b[0m, \u001b[36mdouble\u001b[39m\u001b[0m* \u001b[0m%10\u001b[0m, \u001b[95malign\u001b[39m \u001b[33m8\u001b[39m\n",
      "  \u001b[96m\u001b[1mbr\u001b[22m\u001b[39m \u001b[36mlabel\u001b[39m \u001b[91m%post_union_move\u001b[39m\n",
      "\n",
      "\u001b[91munion_move8:\u001b[39m                                      \u001b[90m; preds = %top\u001b[39m\n",
      "  \u001b[0m%11 \u001b[0m= \u001b[96m\u001b[1mbitcast\u001b[22m\u001b[39m \u001b[33m[\u001b[39m\u001b[33m8\u001b[39m \u001b[0mx \u001b[36mi8\u001b[39m\u001b[33m]\u001b[39m\u001b[0m* \u001b[0m%0 \u001b[95mto\u001b[39m \u001b[36mi64\u001b[39m\u001b[0m*\n",
      "  \u001b[96m\u001b[1mstore\u001b[22m\u001b[39m \u001b[36mi64\u001b[39m \u001b[33m0\u001b[39m\u001b[0m, \u001b[36mi64\u001b[39m\u001b[0m* \u001b[0m%11\u001b[0m, \u001b[95malign\u001b[39m \u001b[33m8\u001b[39m\n",
      "  \u001b[96m\u001b[1mbr\u001b[22m\u001b[39m \u001b[36mlabel\u001b[39m \u001b[91m%post_union_move\u001b[39m\n",
      "\u001b[33m}\u001b[39m\n"
     ]
    }
   ],
   "source": [
    "@code_llvm(sumofsins1(100))\n"
   ]
  },
  {
   "cell_type": "code",
   "execution_count": 81,
   "metadata": {},
   "outputs": [
    {
     "name": "stdout",
     "output_type": "stream",
     "text": [
      "\u001b[90m;  @ In[67]:1 within `sumofsins2'\u001b[39m\n",
      "\u001b[95mdefine\u001b[39m \u001b[36mdouble\u001b[39m \u001b[93m@julia_sumofsins2_7316\u001b[39m\u001b[33m(\u001b[39m\u001b[36mi64\u001b[39m \u001b[95msignext\u001b[39m \u001b[0m%0\u001b[33m)\u001b[39m \u001b[33m{\u001b[39m\n",
      "\u001b[91mtop:\u001b[39m\n",
      "\u001b[90m;  @ In[67]:3 within `sumofsins2'\u001b[39m\n",
      "\u001b[90m; ┌ @ range.jl:5 within `Colon'\u001b[39m\n",
      "\u001b[90m; │┌ @ range.jl:287 within `UnitRange'\u001b[39m\n",
      "\u001b[90m; ││┌ @ range.jl:292 within `unitrange_last'\u001b[39m\n",
      "     \u001b[0m%.inv \u001b[0m= \u001b[96m\u001b[1micmp\u001b[22m\u001b[39m \u001b[96m\u001b[1msgt\u001b[22m\u001b[39m \u001b[36mi64\u001b[39m \u001b[0m%0\u001b[0m, \u001b[33m0\u001b[39m\n",
      "     \u001b[0m%1 \u001b[0m= \u001b[96m\u001b[1mselect\u001b[22m\u001b[39m \u001b[36mi1\u001b[39m \u001b[0m%.inv\u001b[0m, \u001b[36mi64\u001b[39m \u001b[0m%0\u001b[0m, \u001b[36mi64\u001b[39m \u001b[33m0\u001b[39m\n",
      "\u001b[90m; └└└\u001b[39m\n",
      "  \u001b[96m\u001b[1mbr\u001b[22m\u001b[39m \u001b[36mi1\u001b[39m \u001b[0m%.inv\u001b[0m, \u001b[36mlabel\u001b[39m \u001b[91m%L11\u001b[39m\u001b[0m, \u001b[36mlabel\u001b[39m \u001b[91m%L37\u001b[39m\n",
      "\n",
      "\u001b[91mL11:\u001b[39m                                              \u001b[90m; preds = %L11, %top\u001b[39m\n",
      "  \u001b[0m%value_phi2 \u001b[0m= \u001b[96m\u001b[1mphi\u001b[22m\u001b[39m \u001b[36mi64\u001b[39m \u001b[33m[\u001b[39m \u001b[0m%3\u001b[0m, \u001b[91m%L11\u001b[39m \u001b[33m]\u001b[39m\u001b[0m, \u001b[33m[\u001b[39m \u001b[33m1\u001b[39m\u001b[0m, \u001b[91m%top\u001b[39m \u001b[33m]\u001b[39m\n",
      "  \u001b[0m%value_phi3 \u001b[0m= \u001b[96m\u001b[1mphi\u001b[22m\u001b[39m \u001b[36mdouble\u001b[39m \u001b[33m[\u001b[39m \u001b[0m%2\u001b[0m, \u001b[91m%L11\u001b[39m \u001b[33m]\u001b[39m\u001b[0m, \u001b[33m[\u001b[39m \u001b[33m0.000000e+00\u001b[39m\u001b[0m, \u001b[91m%top\u001b[39m \u001b[33m]\u001b[39m\n",
      "\u001b[90m;  @ In[67]:4 within `sumofsins2'\u001b[39m\n",
      "\u001b[90m; ┌ @ float.jl:326 within `+'\u001b[39m\n",
      "   \u001b[0m%2 \u001b[0m= \u001b[96m\u001b[1mfadd\u001b[22m\u001b[39m \u001b[36mdouble\u001b[39m \u001b[0m%value_phi3\u001b[0m, \u001b[33m0xBFD05AC910FF4C6C\u001b[39m\n",
      "\u001b[90m; └\u001b[39m\n",
      "\u001b[90m; ┌ @ range.jl:674 within `iterate'\u001b[39m\n",
      "\u001b[90m; │┌ @ promotion.jl:410 within `=='\u001b[39m\n",
      "    \u001b[0m%.not.not \u001b[0m= \u001b[96m\u001b[1micmp\u001b[22m\u001b[39m \u001b[96m\u001b[1meq\u001b[22m\u001b[39m \u001b[36mi64\u001b[39m \u001b[0m%value_phi2\u001b[0m, \u001b[0m%1\n",
      "\u001b[90m; │└\u001b[39m\n",
      "   \u001b[0m%3 \u001b[0m= \u001b[96m\u001b[1madd\u001b[22m\u001b[39m \u001b[95mnuw\u001b[39m \u001b[36mi64\u001b[39m \u001b[0m%value_phi2\u001b[0m, \u001b[33m1\u001b[39m\n",
      "\u001b[90m; └\u001b[39m\n",
      "  \u001b[96m\u001b[1mbr\u001b[22m\u001b[39m \u001b[36mi1\u001b[39m \u001b[0m%.not.not\u001b[0m, \u001b[36mlabel\u001b[39m \u001b[91m%L37\u001b[39m\u001b[0m, \u001b[36mlabel\u001b[39m \u001b[91m%L11\u001b[39m\n",
      "\n",
      "\u001b[91mL37:\u001b[39m                                              \u001b[90m; preds = %L11, %top\u001b[39m\n",
      "  \u001b[0m%value_phi6 \u001b[0m= \u001b[96m\u001b[1mphi\u001b[22m\u001b[39m \u001b[36mdouble\u001b[39m \u001b[33m[\u001b[39m \u001b[33m0.000000e+00\u001b[39m\u001b[0m, \u001b[91m%top\u001b[39m \u001b[33m]\u001b[39m\u001b[0m, \u001b[33m[\u001b[39m \u001b[0m%2\u001b[0m, \u001b[91m%L11\u001b[39m \u001b[33m]\u001b[39m\n",
      "\u001b[90m;  @ In[67]:6 within `sumofsins2'\u001b[39m\n",
      "  \u001b[96m\u001b[1mret\u001b[22m\u001b[39m \u001b[36mdouble\u001b[39m \u001b[0m%value_phi6\n",
      "\u001b[33m}\u001b[39m\n"
     ]
    }
   ],
   "source": [
    "@code_llvm(sumofsins2(100))\n"
   ]
  },
  {
   "cell_type": "code",
   "execution_count": null,
   "metadata": {},
   "outputs": [],
   "source": []
  }
 ],
 "metadata": {
  "anaconda-cloud": {},
  "kernelspec": {
   "display_name": "Julia 1.6.2",
   "language": "julia",
   "name": "julia-1.6"
  },
  "language_info": {
   "file_extension": ".jl",
   "mimetype": "application/julia",
   "name": "julia",
   "version": "1.6.2"
  },
  "toc": {
   "colors": {
    "hover_highlight": "#DAA520",
    "running_highlight": "#FF0000",
    "selected_highlight": "#FFD700"
   },
   "moveMenuLeft": true,
   "nav_menu": {
    "height": "212px",
    "width": "252px"
   },
   "navigate_menu": true,
   "number_sections": true,
   "sideBar": true,
   "threshold": "2",
   "toc_cell": false,
   "toc_section_display": "block",
   "toc_window_display": false
  }
 },
 "nbformat": 4,
 "nbformat_minor": 4
}
